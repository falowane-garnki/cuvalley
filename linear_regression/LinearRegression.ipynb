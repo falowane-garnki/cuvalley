{
 "cells": [
  {
   "cell_type": "code",
   "execution_count": null,
   "id": "32287049",
   "metadata": {},
   "outputs": [],
   "source": [
    "from pathlib import Path\n",
    "import os\n",
    "\n",
    "import pandas as pd\n",
    "import numpy as np\n",
    "from ..data_processing.data_processing import *\n",
    "\n",
    "from sklearn import preprocessing\n",
    "from sklearn import linear_model\n",
    "from sklearn import metrics\n",
    "from sklearn.pipeline import Pipeline\n"
   ]
  },
  {
   "cell_type": "code",
   "execution_count": null,
   "id": "cc11cc0d",
   "metadata": {},
   "outputs": [],
   "source": [
    "MAIN_PATH = Path(os.getcwd()).parent"
   ]
  },
  {
   "cell_type": "markdown",
   "id": "5ecbc753",
   "metadata": {},
   "source": [
    "## Load data"
   ]
  },
  {
   "cell_type": "code",
   "execution_count": null,
   "id": "a37513b8",
   "metadata": {
    "pycharm": {
     "name": "#%%\n"
    }
   },
   "outputs": [],
   "source": [
    "org_df = pd.read_csv(os.path.join(MAIN_PATH, \"data\", \"data.csv\"))\n",
    "org_df = load(org_df)\n",
    "org_df"
   ]
  },
  {
   "cell_type": "code",
   "execution_count": null,
   "id": "ee9788ab",
   "metadata": {
    "pycharm": {
     "name": "#%%\n"
    }
   },
   "outputs": [],
   "source": [
    "df = pd.DataFrame(index=org_df.index)"
   ]
  },
  {
   "cell_type": "markdown",
   "id": "c6717171",
   "metadata": {
    "pycharm": {
     "name": "#%% md\n"
    }
   },
   "source": [
    "## Simple features based on correlation"
   ]
  },
  {
   "cell_type": "code",
   "execution_count": null,
   "id": "6168e369",
   "metadata": {
    "pycharm": {
     "name": "#%%\n"
    }
   },
   "outputs": [],
   "source": [
    "# srednia po 'TEMP POD 2 WARSTWĄ WYMURÓWKI [°C]'\n",
    "TIX1 = org_df.columns[org_df.columns.str.contains('001tix')].values\n",
    "df['TIX1'] = org_df[TIX1].mean(axis='columns')"
   ]
  },
  {
   "cell_type": "code",
   "execution_count": null,
   "id": "731e6fc1",
   "metadata": {
    "pycharm": {
     "name": "#%%\n"
    }
   },
   "outputs": [],
   "source": [
    "# srednia po 'WODY POWROTNE KOLEKTORÓW [°C]'\n",
    "TIR = org_df.columns[org_df.columns.str.contains('tir')].values\n",
    "df['TIR'] = org_df[TIR].mean(axis='columns')"
   ]
  },
  {
   "cell_type": "code",
   "execution_count": null,
   "id": "d534d857",
   "metadata": {
    "pycharm": {
     "name": "#%%\n"
    }
   },
   "outputs": [],
   "source": [
    "# dodanie reg nadawy koncentratu\n",
    "FCX = org_df.columns[org_df.columns.str.contains('fcx')].values\n",
    "df[FCX] = org_df[FCX]"
   ]
  },
  {
   "cell_type": "code",
   "execution_count": null,
   "id": "c9a5e272",
   "metadata": {
    "pycharm": {
     "name": "#%%\n"
    }
   },
   "outputs": [],
   "source": [
    "# sumaryczna moc cieplna\n",
    "NIR = org_df.columns[org_df.columns.str.contains('nir')].values\n",
    "df[NIR] = org_df[NIR]"
   ]
  },
  {
   "cell_type": "code",
   "execution_count": null,
   "id": "ed514330",
   "metadata": {
    "pycharm": {
     "name": "#%%\n"
    }
   },
   "outputs": [],
   "source": [
    "# dodanie temp żużla\n",
    "df[\"TEMP_ZUZ\"] = org_df[\"temp_zuz\"]"
   ]
  },
  {
   "cell_type": "code",
   "execution_count": null,
   "id": "37ce2abf",
   "metadata": {
    "pycharm": {
     "name": "#%%\n"
    }
   },
   "outputs": [],
   "source": [
    "df = df.dropna(axis=0)\n",
    "df.shape"
   ]
  },
  {
   "cell_type": "code",
   "execution_count": null,
   "id": "5475769b",
   "metadata": {
    "pycharm": {
     "name": "#%%\n"
    }
   },
   "outputs": [],
   "source": [
    "df"
   ]
  },
  {
   "cell_type": "markdown",
   "id": "f67d4488",
   "metadata": {
    "pycharm": {
     "name": "#%% md\n"
    }
   },
   "source": [
    "## Split data"
   ]
  },
  {
   "cell_type": "code",
   "execution_count": null,
   "id": "2b50b6d7",
   "metadata": {
    "pycharm": {
     "name": "#%%\n"
    }
   },
   "outputs": [],
   "source": [
    "train, val, test = split(df)"
   ]
  },
  {
   "cell_type": "code",
   "execution_count": null,
   "id": "f83d97b3",
   "metadata": {
    "pycharm": {
     "name": "#%%\n"
    }
   },
   "outputs": [],
   "source": [
    "X_train, X_val, X_test = train.drop([\"TEMP_ZUZ\"], axis=1), val.drop([\"TEMP_ZUZ\"], axis=1), test.drop([\"TEMP_ZUZ\"], axis=1)\n",
    "y_train, y_val, y_test = train[\"TEMP_ZUZ\"], val[\"TEMP_ZUZ\"], test[\"TEMP_ZUZ\"]"
   ]
  },
  {
   "cell_type": "markdown",
   "id": "369343d9",
   "metadata": {
    "pycharm": {
     "name": "#%% md\n"
    }
   },
   "source": [
    "## Ridge Regression"
   ]
  },
  {
   "cell_type": "code",
   "execution_count": null,
   "id": "0ee8022d",
   "metadata": {
    "pycharm": {
     "name": "#%%\n"
    }
   },
   "outputs": [],
   "source": [
    "model = linear_model.Ridge(alpha=.8)\n",
    "model.fit(X_train, y_train)"
   ]
  },
  {
   "cell_type": "code",
   "execution_count": null,
   "id": "e1e2103e",
   "metadata": {
    "pycharm": {
     "name": "#%%\n"
    }
   },
   "outputs": [],
   "source": [
    "metrics.mean_squared_error(y_val, model.predict(X_val))"
   ]
  },
  {
   "cell_type": "markdown",
   "id": "bebead23",
   "metadata": {
    "pycharm": {
     "name": "#%% md\n"
    }
   },
   "source": [
    "## Polynomial Regression"
   ]
  },
  {
   "cell_type": "code",
   "execution_count": null,
   "id": "812c7001",
   "metadata": {
    "pycharm": {
     "name": "#%%\n"
    }
   },
   "outputs": [],
   "source": [
    "poly_model = Pipeline([('poly', preprocessing.PolynomialFeatures(degree=2)),\n",
    "                      ('linear', linear_model.LinearRegression(fit_intercept=False))])"
   ]
  },
  {
   "cell_type": "code",
   "execution_count": null,
   "id": "e05df479",
   "metadata": {
    "pycharm": {
     "name": "#%%\n"
    }
   },
   "outputs": [],
   "source": [
    "poly_model = poly_model.fit(X_train, y_train)"
   ]
  },
  {
   "cell_type": "code",
   "execution_count": null,
   "id": "ab63f19e",
   "metadata": {
    "pycharm": {
     "name": "#%%\n"
    }
   },
   "outputs": [],
   "source": [
    "metrics.mean_squared_error(y_val, poly_model.predict(X_val))"
   ]
  },
  {
   "cell_type": "code",
   "execution_count": null,
   "id": "f23d8950",
   "metadata": {
    "pycharm": {
     "name": "#%%\n"
    }
   },
   "outputs": [],
   "source": []
  }
 ],
 "metadata": {
  "kernelspec": {
   "display_name": "Python 3 (ipykernel)",
   "language": "python",
   "name": "python3"
  },
  "language_info": {
   "codemirror_mode": {
    "name": "ipython",
    "version": 3
   },
   "file_extension": ".py",
   "mimetype": "text/x-python",
   "name": "python",
   "nbconvert_exporter": "python",
   "pygments_lexer": "ipython3",
   "version": "3.8.10"
  }
 },
 "nbformat": 4,
 "nbformat_minor": 5
}