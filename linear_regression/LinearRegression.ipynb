{
 "cells": [
  {
   "cell_type": "code",
   "execution_count": 96,
   "id": "32287049",
   "metadata": {},
   "outputs": [],
   "source": [
    "from pathlib import Path\n",
    "import os\n",
    "\n",
    "import pandas as pd\n",
    "import numpy as np\n",
    "from data_processing import *\n",
    "\n",
    "from sklearn import preprocessing\n",
    "from sklearn import linear_model\n",
    "from sklearn import metrics\n",
    "from sklearn.pipeline import Pipeline"
   ]
  },
  {
   "cell_type": "code",
   "execution_count": 2,
   "id": "cc11cc0d",
   "metadata": {},
   "outputs": [],
   "source": [
    "MAIN_PATH = Path(os.getcwd()).parent"
   ]
  },
  {
   "cell_type": "markdown",
   "source": [
    "## Load data"
   ],
   "metadata": {
    "collapsed": false
   }
  },
  {
   "cell_type": "code",
   "execution_count": 15,
   "outputs": [
    {
     "data": {
      "text/plain": "                           001fcx00211.pv  001fcx00221.pv  001fcx00231.pv  \\\n2020-09-30 22:00:00+00:00       56.729077       54.724422       11.966905   \n2020-09-30 22:01:00+00:00       54.771942       54.734675       12.026410   \n2020-09-30 22:02:00+00:00       54.695816       54.774163       11.953671   \n2020-09-30 22:03:00+00:00       54.154394       54.985713       12.052065   \n2020-09-30 22:04:00+00:00       54.693184       54.490742       12.027310   \n...                                   ...             ...             ...   \n2022-01-31 22:55:00+00:00       57.882366       58.080133       10.056829   \n2022-01-31 22:56:00+00:00       57.953225       57.931008        9.935828   \n2022-01-31 22:57:00+00:00       58.186232       57.291012       10.014864   \n2022-01-31 22:58:00+00:00       59.016838       58.014325       10.048125   \n2022-01-31 22:59:00+00:00       57.503406       57.757832        9.909967   \n\n                           001fcx00241.pv  001fir01307.daca.pv  \\\n2020-09-30 22:00:00+00:00       22.493207           108.702362   \n2020-09-30 22:01:00+00:00       22.593412           108.846612   \n2020-09-30 22:02:00+00:00       22.428933           108.827640   \n2020-09-30 22:03:00+00:00       22.335388           108.623473   \n2020-09-30 22:04:00+00:00       22.412620           108.746784   \n...                                   ...                  ...   \n2022-01-31 22:55:00+00:00       30.486496           101.111263   \n2022-01-31 22:56:00+00:00       29.830075           101.034501   \n2022-01-31 22:57:00+00:00       29.350514           101.251020   \n2022-01-31 22:58:00+00:00       29.496899           101.073264   \n2022-01-31 22:59:00+00:00       29.537882           101.171321   \n\n                           001fir01308.daca.pv  001fir01309.daca.pv  \\\n2020-09-30 22:00:00+00:00           112.280388           110.013796   \n2020-09-30 22:01:00+00:00           112.334600           109.906645   \n2020-09-30 22:02:00+00:00           112.362508           109.970932   \n2020-09-30 22:03:00+00:00           112.386061           109.836948   \n2020-09-30 22:04:00+00:00           112.396792           109.966910   \n...                                        ...                  ...   \n2022-01-31 22:55:00+00:00            98.338021           102.332506   \n2022-01-31 22:56:00+00:00            98.362465           102.332450   \n2022-01-31 22:57:00+00:00            98.353221           102.312023   \n2022-01-31 22:58:00+00:00            98.354741           102.336123   \n2022-01-31 22:59:00+00:00            98.336003           102.331086   \n\n                           001fir01310.daca.pv  001fir01311.daca.pv  \\\n2020-09-30 22:00:00+00:00           108.761583           110.604901   \n2020-09-30 22:01:00+00:00           108.879083           110.644046   \n2020-09-30 22:02:00+00:00           108.844765           110.621665   \n2020-09-30 22:03:00+00:00           108.717994           110.464245   \n2020-09-30 22:04:00+00:00           108.978605           110.603660   \n...                                        ...                  ...   \n2022-01-31 22:55:00+00:00           101.967828           100.651891   \n2022-01-31 22:56:00+00:00           101.981035           100.575884   \n2022-01-31 22:57:00+00:00           102.017297           100.621084   \n2022-01-31 22:58:00+00:00           101.967655           100.596174   \n2022-01-31 22:59:00+00:00           101.969703           100.690806   \n\n                           001fir01312.daca.pv  ...  001uxm0rf02.daca.pv  \\\n2020-09-30 22:00:00+00:00           104.500427  ...            92.024078   \n2020-09-30 22:01:00+00:00           104.371977  ...            92.024206   \n2020-09-30 22:02:00+00:00           104.387912  ...            92.024334   \n2020-09-30 22:03:00+00:00           104.418573  ...            92.024462   \n2020-09-30 22:04:00+00:00           104.464328  ...            92.024590   \n...                                        ...  ...                  ...   \n2022-01-31 22:55:00+00:00            97.071359  ...            98.121880   \n2022-01-31 22:56:00+00:00            97.066000  ...            98.121319   \n2022-01-31 22:57:00+00:00            97.223686  ...            98.120757   \n2022-01-31 22:58:00+00:00            97.050953  ...            98.120196   \n2022-01-31 22:59:00+00:00            97.067359  ...            98.119783   \n\n                           001uxm0rf03.daca.pv  037tix00254.daca.pv  \\\n2020-09-30 22:00:00+00:00            92.405281            24.665309   \n2020-09-30 22:01:00+00:00            92.405239            24.663982   \n2020-09-30 22:02:00+00:00            92.405196            24.662656   \n2020-09-30 22:03:00+00:00            92.405153            24.661329   \n2020-09-30 22:04:00+00:00            92.405110            24.660003   \n...                                        ...                  ...   \n2022-01-31 22:55:00+00:00            98.225985            24.460338   \n2022-01-31 22:56:00+00:00            98.226027            24.464324   \n2022-01-31 22:57:00+00:00            98.226070            24.468310   \n2022-01-31 22:58:00+00:00            98.226113            24.472296   \n2022-01-31 22:59:00+00:00            98.226155            24.476282   \n\n                           037tix00264.daca.pv  prazonka_fe  prazonka_s  \\\n2020-09-30 22:00:00+00:00            24.526161         4.48        8.98   \n2020-09-30 22:01:00+00:00            24.526161         4.48        8.98   \n2020-09-30 22:02:00+00:00            24.526161         4.48        8.98   \n2020-09-30 22:03:00+00:00            24.526161         4.48        8.98   \n2020-09-30 22:04:00+00:00            24.525475         4.48        8.98   \n...                                        ...          ...         ...   \n2022-01-31 22:55:00+00:00            24.320295         6.18        8.89   \n2022-01-31 22:56:00+00:00            24.322539         6.18        8.89   \n2022-01-31 22:57:00+00:00            24.324782         6.18        8.89   \n2022-01-31 22:58:00+00:00            24.327025         6.18        8.89   \n2022-01-31 22:59:00+00:00            24.329269         6.18        8.89   \n\n                           prob_corg  prob_fe  prob_s  temp_zuz  \n2020-09-30 22:00:00+00:00        8.6     4.55    9.87    1297.0  \n2020-09-30 22:01:00+00:00        8.6     4.55    9.87       NaN  \n2020-09-30 22:02:00+00:00        8.6     4.55    9.87       NaN  \n2020-09-30 22:03:00+00:00        8.6     4.55    9.87       NaN  \n2020-09-30 22:04:00+00:00        8.6     4.55    9.87       NaN  \n...                              ...      ...     ...       ...  \n2022-01-31 22:55:00+00:00        7.8     6.65   12.47       NaN  \n2022-01-31 22:56:00+00:00        7.8     6.65   12.47       NaN  \n2022-01-31 22:57:00+00:00        7.8     6.65   12.47       NaN  \n2022-01-31 22:58:00+00:00        7.8     6.65   12.47       NaN  \n2022-01-31 22:59:00+00:00        7.8     6.65   12.47       NaN  \n\n[702780 rows x 58 columns]",
      "text/html": "<div>\n<style scoped>\n    .dataframe tbody tr th:only-of-type {\n        vertical-align: middle;\n    }\n\n    .dataframe tbody tr th {\n        vertical-align: top;\n    }\n\n    .dataframe thead th {\n        text-align: right;\n    }\n</style>\n<table border=\"1\" class=\"dataframe\">\n  <thead>\n    <tr style=\"text-align: right;\">\n      <th></th>\n      <th>001fcx00211.pv</th>\n      <th>001fcx00221.pv</th>\n      <th>001fcx00231.pv</th>\n      <th>001fcx00241.pv</th>\n      <th>001fir01307.daca.pv</th>\n      <th>001fir01308.daca.pv</th>\n      <th>001fir01309.daca.pv</th>\n      <th>001fir01310.daca.pv</th>\n      <th>001fir01311.daca.pv</th>\n      <th>001fir01312.daca.pv</th>\n      <th>...</th>\n      <th>001uxm0rf02.daca.pv</th>\n      <th>001uxm0rf03.daca.pv</th>\n      <th>037tix00254.daca.pv</th>\n      <th>037tix00264.daca.pv</th>\n      <th>prazonka_fe</th>\n      <th>prazonka_s</th>\n      <th>prob_corg</th>\n      <th>prob_fe</th>\n      <th>prob_s</th>\n      <th>temp_zuz</th>\n    </tr>\n  </thead>\n  <tbody>\n    <tr>\n      <th>2020-09-30 22:00:00+00:00</th>\n      <td>56.729077</td>\n      <td>54.724422</td>\n      <td>11.966905</td>\n      <td>22.493207</td>\n      <td>108.702362</td>\n      <td>112.280388</td>\n      <td>110.013796</td>\n      <td>108.761583</td>\n      <td>110.604901</td>\n      <td>104.500427</td>\n      <td>...</td>\n      <td>92.024078</td>\n      <td>92.405281</td>\n      <td>24.665309</td>\n      <td>24.526161</td>\n      <td>4.48</td>\n      <td>8.98</td>\n      <td>8.6</td>\n      <td>4.55</td>\n      <td>9.87</td>\n      <td>1297.0</td>\n    </tr>\n    <tr>\n      <th>2020-09-30 22:01:00+00:00</th>\n      <td>54.771942</td>\n      <td>54.734675</td>\n      <td>12.026410</td>\n      <td>22.593412</td>\n      <td>108.846612</td>\n      <td>112.334600</td>\n      <td>109.906645</td>\n      <td>108.879083</td>\n      <td>110.644046</td>\n      <td>104.371977</td>\n      <td>...</td>\n      <td>92.024206</td>\n      <td>92.405239</td>\n      <td>24.663982</td>\n      <td>24.526161</td>\n      <td>4.48</td>\n      <td>8.98</td>\n      <td>8.6</td>\n      <td>4.55</td>\n      <td>9.87</td>\n      <td>NaN</td>\n    </tr>\n    <tr>\n      <th>2020-09-30 22:02:00+00:00</th>\n      <td>54.695816</td>\n      <td>54.774163</td>\n      <td>11.953671</td>\n      <td>22.428933</td>\n      <td>108.827640</td>\n      <td>112.362508</td>\n      <td>109.970932</td>\n      <td>108.844765</td>\n      <td>110.621665</td>\n      <td>104.387912</td>\n      <td>...</td>\n      <td>92.024334</td>\n      <td>92.405196</td>\n      <td>24.662656</td>\n      <td>24.526161</td>\n      <td>4.48</td>\n      <td>8.98</td>\n      <td>8.6</td>\n      <td>4.55</td>\n      <td>9.87</td>\n      <td>NaN</td>\n    </tr>\n    <tr>\n      <th>2020-09-30 22:03:00+00:00</th>\n      <td>54.154394</td>\n      <td>54.985713</td>\n      <td>12.052065</td>\n      <td>22.335388</td>\n      <td>108.623473</td>\n      <td>112.386061</td>\n      <td>109.836948</td>\n      <td>108.717994</td>\n      <td>110.464245</td>\n      <td>104.418573</td>\n      <td>...</td>\n      <td>92.024462</td>\n      <td>92.405153</td>\n      <td>24.661329</td>\n      <td>24.526161</td>\n      <td>4.48</td>\n      <td>8.98</td>\n      <td>8.6</td>\n      <td>4.55</td>\n      <td>9.87</td>\n      <td>NaN</td>\n    </tr>\n    <tr>\n      <th>2020-09-30 22:04:00+00:00</th>\n      <td>54.693184</td>\n      <td>54.490742</td>\n      <td>12.027310</td>\n      <td>22.412620</td>\n      <td>108.746784</td>\n      <td>112.396792</td>\n      <td>109.966910</td>\n      <td>108.978605</td>\n      <td>110.603660</td>\n      <td>104.464328</td>\n      <td>...</td>\n      <td>92.024590</td>\n      <td>92.405110</td>\n      <td>24.660003</td>\n      <td>24.525475</td>\n      <td>4.48</td>\n      <td>8.98</td>\n      <td>8.6</td>\n      <td>4.55</td>\n      <td>9.87</td>\n      <td>NaN</td>\n    </tr>\n    <tr>\n      <th>...</th>\n      <td>...</td>\n      <td>...</td>\n      <td>...</td>\n      <td>...</td>\n      <td>...</td>\n      <td>...</td>\n      <td>...</td>\n      <td>...</td>\n      <td>...</td>\n      <td>...</td>\n      <td>...</td>\n      <td>...</td>\n      <td>...</td>\n      <td>...</td>\n      <td>...</td>\n      <td>...</td>\n      <td>...</td>\n      <td>...</td>\n      <td>...</td>\n      <td>...</td>\n      <td>...</td>\n    </tr>\n    <tr>\n      <th>2022-01-31 22:55:00+00:00</th>\n      <td>57.882366</td>\n      <td>58.080133</td>\n      <td>10.056829</td>\n      <td>30.486496</td>\n      <td>101.111263</td>\n      <td>98.338021</td>\n      <td>102.332506</td>\n      <td>101.967828</td>\n      <td>100.651891</td>\n      <td>97.071359</td>\n      <td>...</td>\n      <td>98.121880</td>\n      <td>98.225985</td>\n      <td>24.460338</td>\n      <td>24.320295</td>\n      <td>6.18</td>\n      <td>8.89</td>\n      <td>7.8</td>\n      <td>6.65</td>\n      <td>12.47</td>\n      <td>NaN</td>\n    </tr>\n    <tr>\n      <th>2022-01-31 22:56:00+00:00</th>\n      <td>57.953225</td>\n      <td>57.931008</td>\n      <td>9.935828</td>\n      <td>29.830075</td>\n      <td>101.034501</td>\n      <td>98.362465</td>\n      <td>102.332450</td>\n      <td>101.981035</td>\n      <td>100.575884</td>\n      <td>97.066000</td>\n      <td>...</td>\n      <td>98.121319</td>\n      <td>98.226027</td>\n      <td>24.464324</td>\n      <td>24.322539</td>\n      <td>6.18</td>\n      <td>8.89</td>\n      <td>7.8</td>\n      <td>6.65</td>\n      <td>12.47</td>\n      <td>NaN</td>\n    </tr>\n    <tr>\n      <th>2022-01-31 22:57:00+00:00</th>\n      <td>58.186232</td>\n      <td>57.291012</td>\n      <td>10.014864</td>\n      <td>29.350514</td>\n      <td>101.251020</td>\n      <td>98.353221</td>\n      <td>102.312023</td>\n      <td>102.017297</td>\n      <td>100.621084</td>\n      <td>97.223686</td>\n      <td>...</td>\n      <td>98.120757</td>\n      <td>98.226070</td>\n      <td>24.468310</td>\n      <td>24.324782</td>\n      <td>6.18</td>\n      <td>8.89</td>\n      <td>7.8</td>\n      <td>6.65</td>\n      <td>12.47</td>\n      <td>NaN</td>\n    </tr>\n    <tr>\n      <th>2022-01-31 22:58:00+00:00</th>\n      <td>59.016838</td>\n      <td>58.014325</td>\n      <td>10.048125</td>\n      <td>29.496899</td>\n      <td>101.073264</td>\n      <td>98.354741</td>\n      <td>102.336123</td>\n      <td>101.967655</td>\n      <td>100.596174</td>\n      <td>97.050953</td>\n      <td>...</td>\n      <td>98.120196</td>\n      <td>98.226113</td>\n      <td>24.472296</td>\n      <td>24.327025</td>\n      <td>6.18</td>\n      <td>8.89</td>\n      <td>7.8</td>\n      <td>6.65</td>\n      <td>12.47</td>\n      <td>NaN</td>\n    </tr>\n    <tr>\n      <th>2022-01-31 22:59:00+00:00</th>\n      <td>57.503406</td>\n      <td>57.757832</td>\n      <td>9.909967</td>\n      <td>29.537882</td>\n      <td>101.171321</td>\n      <td>98.336003</td>\n      <td>102.331086</td>\n      <td>101.969703</td>\n      <td>100.690806</td>\n      <td>97.067359</td>\n      <td>...</td>\n      <td>98.119783</td>\n      <td>98.226155</td>\n      <td>24.476282</td>\n      <td>24.329269</td>\n      <td>6.18</td>\n      <td>8.89</td>\n      <td>7.8</td>\n      <td>6.65</td>\n      <td>12.47</td>\n      <td>NaN</td>\n    </tr>\n  </tbody>\n</table>\n<p>702780 rows × 58 columns</p>\n</div>"
     },
     "execution_count": 15,
     "metadata": {},
     "output_type": "execute_result"
    }
   ],
   "source": [
    "org_df = pd.read_csv(os.path.join(MAIN_PATH, \"data\", \"data.csv\"))\n",
    "org_df = load(org_df)\n",
    "org_df"
   ],
   "metadata": {
    "collapsed": false,
    "pycharm": {
     "name": "#%%\n"
    }
   }
  },
  {
   "cell_type": "code",
   "execution_count": 61,
   "outputs": [],
   "source": [
    "df = pd.DataFrame(index=org_df.index)"
   ],
   "metadata": {
    "collapsed": false,
    "pycharm": {
     "name": "#%%\n"
    }
   }
  },
  {
   "cell_type": "markdown",
   "source": [
    "## Simple features based on correlation"
   ],
   "metadata": {
    "collapsed": false,
    "pycharm": {
     "name": "#%% md\n"
    }
   }
  },
  {
   "cell_type": "code",
   "execution_count": 62,
   "outputs": [],
   "source": [
    "# srednia po 'TEMP POD 2 WARSTWĄ WYMURÓWKI [°C]'\n",
    "TIX1 = org_df.columns[org_df.columns.str.contains('001tix')].values\n",
    "df['TIX1'] = org_df[TIX1].mean(axis='columns')"
   ],
   "metadata": {
    "collapsed": false,
    "pycharm": {
     "name": "#%%\n"
    }
   }
  },
  {
   "cell_type": "code",
   "execution_count": 63,
   "outputs": [],
   "source": [
    "# srednia po 'WODY POWROTNE KOLEKTORÓW [°C]'\n",
    "TIR = org_df.columns[org_df.columns.str.contains('tir')].values\n",
    "df['TIR'] = org_df[TIR].mean(axis='columns')"
   ],
   "metadata": {
    "collapsed": false,
    "pycharm": {
     "name": "#%%\n"
    }
   }
  },
  {
   "cell_type": "code",
   "execution_count": 64,
   "outputs": [],
   "source": [
    "# dodanie reg nadawy koncentratu\n",
    "FCX = org_df.columns[org_df.columns.str.contains('fcx')].values\n",
    "df[FCX] = org_df[FCX]"
   ],
   "metadata": {
    "collapsed": false,
    "pycharm": {
     "name": "#%%\n"
    }
   }
  },
  {
   "cell_type": "code",
   "execution_count": 65,
   "outputs": [],
   "source": [
    "# sumaryczna moc cieplna\n",
    "NIR = org_df.columns[org_df.columns.str.contains('nir')].values\n",
    "df[NIR] = org_df[NIR]"
   ],
   "metadata": {
    "collapsed": false,
    "pycharm": {
     "name": "#%%\n"
    }
   }
  },
  {
   "cell_type": "code",
   "execution_count": 66,
   "outputs": [],
   "source": [
    "# dodanie temp żużla\n",
    "df[\"TEMP_ZUZ\"] = org_df[\"temp_zuz\"]"
   ],
   "metadata": {
    "collapsed": false,
    "pycharm": {
     "name": "#%%\n"
    }
   }
  },
  {
   "cell_type": "code",
   "execution_count": 67,
   "outputs": [
    {
     "data": {
      "text/plain": "(11377, 8)"
     },
     "execution_count": 67,
     "metadata": {},
     "output_type": "execute_result"
    }
   ],
   "source": [
    "df = df.dropna(axis=0)\n",
    "df.shape"
   ],
   "metadata": {
    "collapsed": false,
    "pycharm": {
     "name": "#%%\n"
    }
   }
  },
  {
   "cell_type": "code",
   "execution_count": 68,
   "outputs": [
    {
     "data": {
      "text/plain": "                                 TIX1        TIR  001fcx00211.pv  \\\n2020-09-30 22:00:00+00:00  418.990965  29.086390       56.729077   \n2020-09-30 23:00:00+00:00  418.911544  29.000256       55.309363   \n2020-10-01 00:00:00+00:00  418.820059  29.021386       54.703949   \n2020-10-01 00:30:00+00:00  418.777284  29.064571       55.000000   \n2020-10-01 01:00:00+00:00  418.735368  29.092727       55.886746   \n...                               ...        ...             ...   \n2022-01-31 18:00:00+00:00  418.284737  27.694067       59.180029   \n2022-01-31 19:00:00+00:00  418.138199  27.760225       58.895968   \n2022-01-31 20:00:00+00:00  418.012402  27.761558       59.073501   \n2022-01-31 21:00:00+00:00  417.939267  27.704117       57.774647   \n2022-01-31 22:00:00+00:00  417.865419  27.812696       57.771875   \n\n                           001fcx00221.pv  001fcx00231.pv  001fcx00241.pv  \\\n2020-09-30 22:00:00+00:00       54.724422       11.966905       22.493207   \n2020-09-30 23:00:00+00:00       55.327746       11.544775       22.702118   \n2020-10-01 00:00:00+00:00       54.957514       11.053689       20.013150   \n2020-10-01 00:30:00+00:00       55.224717       10.980221       19.902115   \n2020-10-01 01:00:00+00:00       54.869892       11.057164       21.069357   \n...                                   ...             ...             ...   \n2022-01-31 18:00:00+00:00       58.900365       10.019018       32.147630   \n2022-01-31 19:00:00+00:00       58.911688       10.013093       31.719701   \n2022-01-31 20:00:00+00:00       59.593765       10.064700       30.158128   \n2022-01-31 21:00:00+00:00       58.738514        9.989189       28.000376   \n2022-01-31 22:00:00+00:00       57.757476       10.145746       27.917341   \n\n                           001nir0szr0.daca.pv  TEMP_ZUZ  \n2020-09-30 22:00:00+00:00            14.362428    1297.0  \n2020-09-30 23:00:00+00:00            14.978720    1295.0  \n2020-10-01 00:00:00+00:00            15.199544    1303.0  \n2020-10-01 00:30:00+00:00            14.815123    1302.0  \n2020-10-01 01:00:00+00:00            14.617263    1303.0  \n...                                        ...       ...  \n2022-01-31 18:00:00+00:00            15.607105    1300.0  \n2022-01-31 19:00:00+00:00            14.846545    1305.0  \n2022-01-31 20:00:00+00:00            15.967954    1304.0  \n2022-01-31 21:00:00+00:00            16.147269    1308.0  \n2022-01-31 22:00:00+00:00            16.379607    1309.0  \n\n[11377 rows x 8 columns]",
      "text/html": "<div>\n<style scoped>\n    .dataframe tbody tr th:only-of-type {\n        vertical-align: middle;\n    }\n\n    .dataframe tbody tr th {\n        vertical-align: top;\n    }\n\n    .dataframe thead th {\n        text-align: right;\n    }\n</style>\n<table border=\"1\" class=\"dataframe\">\n  <thead>\n    <tr style=\"text-align: right;\">\n      <th></th>\n      <th>TIX1</th>\n      <th>TIR</th>\n      <th>001fcx00211.pv</th>\n      <th>001fcx00221.pv</th>\n      <th>001fcx00231.pv</th>\n      <th>001fcx00241.pv</th>\n      <th>001nir0szr0.daca.pv</th>\n      <th>TEMP_ZUZ</th>\n    </tr>\n  </thead>\n  <tbody>\n    <tr>\n      <th>2020-09-30 22:00:00+00:00</th>\n      <td>418.990965</td>\n      <td>29.086390</td>\n      <td>56.729077</td>\n      <td>54.724422</td>\n      <td>11.966905</td>\n      <td>22.493207</td>\n      <td>14.362428</td>\n      <td>1297.0</td>\n    </tr>\n    <tr>\n      <th>2020-09-30 23:00:00+00:00</th>\n      <td>418.911544</td>\n      <td>29.000256</td>\n      <td>55.309363</td>\n      <td>55.327746</td>\n      <td>11.544775</td>\n      <td>22.702118</td>\n      <td>14.978720</td>\n      <td>1295.0</td>\n    </tr>\n    <tr>\n      <th>2020-10-01 00:00:00+00:00</th>\n      <td>418.820059</td>\n      <td>29.021386</td>\n      <td>54.703949</td>\n      <td>54.957514</td>\n      <td>11.053689</td>\n      <td>20.013150</td>\n      <td>15.199544</td>\n      <td>1303.0</td>\n    </tr>\n    <tr>\n      <th>2020-10-01 00:30:00+00:00</th>\n      <td>418.777284</td>\n      <td>29.064571</td>\n      <td>55.000000</td>\n      <td>55.224717</td>\n      <td>10.980221</td>\n      <td>19.902115</td>\n      <td>14.815123</td>\n      <td>1302.0</td>\n    </tr>\n    <tr>\n      <th>2020-10-01 01:00:00+00:00</th>\n      <td>418.735368</td>\n      <td>29.092727</td>\n      <td>55.886746</td>\n      <td>54.869892</td>\n      <td>11.057164</td>\n      <td>21.069357</td>\n      <td>14.617263</td>\n      <td>1303.0</td>\n    </tr>\n    <tr>\n      <th>...</th>\n      <td>...</td>\n      <td>...</td>\n      <td>...</td>\n      <td>...</td>\n      <td>...</td>\n      <td>...</td>\n      <td>...</td>\n      <td>...</td>\n    </tr>\n    <tr>\n      <th>2022-01-31 18:00:00+00:00</th>\n      <td>418.284737</td>\n      <td>27.694067</td>\n      <td>59.180029</td>\n      <td>58.900365</td>\n      <td>10.019018</td>\n      <td>32.147630</td>\n      <td>15.607105</td>\n      <td>1300.0</td>\n    </tr>\n    <tr>\n      <th>2022-01-31 19:00:00+00:00</th>\n      <td>418.138199</td>\n      <td>27.760225</td>\n      <td>58.895968</td>\n      <td>58.911688</td>\n      <td>10.013093</td>\n      <td>31.719701</td>\n      <td>14.846545</td>\n      <td>1305.0</td>\n    </tr>\n    <tr>\n      <th>2022-01-31 20:00:00+00:00</th>\n      <td>418.012402</td>\n      <td>27.761558</td>\n      <td>59.073501</td>\n      <td>59.593765</td>\n      <td>10.064700</td>\n      <td>30.158128</td>\n      <td>15.967954</td>\n      <td>1304.0</td>\n    </tr>\n    <tr>\n      <th>2022-01-31 21:00:00+00:00</th>\n      <td>417.939267</td>\n      <td>27.704117</td>\n      <td>57.774647</td>\n      <td>58.738514</td>\n      <td>9.989189</td>\n      <td>28.000376</td>\n      <td>16.147269</td>\n      <td>1308.0</td>\n    </tr>\n    <tr>\n      <th>2022-01-31 22:00:00+00:00</th>\n      <td>417.865419</td>\n      <td>27.812696</td>\n      <td>57.771875</td>\n      <td>57.757476</td>\n      <td>10.145746</td>\n      <td>27.917341</td>\n      <td>16.379607</td>\n      <td>1309.0</td>\n    </tr>\n  </tbody>\n</table>\n<p>11377 rows × 8 columns</p>\n</div>"
     },
     "execution_count": 68,
     "metadata": {},
     "output_type": "execute_result"
    }
   ],
   "source": [
    "df"
   ],
   "metadata": {
    "collapsed": false,
    "pycharm": {
     "name": "#%%\n"
    }
   }
  },
  {
   "cell_type": "markdown",
   "source": [
    "## Split data"
   ],
   "metadata": {
    "collapsed": false,
    "pycharm": {
     "name": "#%% md\n"
    }
   }
  },
  {
   "cell_type": "code",
   "execution_count": 80,
   "outputs": [],
   "source": [
    "train, val, test = split(df)"
   ],
   "metadata": {
    "collapsed": false,
    "pycharm": {
     "name": "#%%\n"
    }
   }
  },
  {
   "cell_type": "code",
   "execution_count": 81,
   "outputs": [],
   "source": [
    "X_train, X_val, X_test = train.drop([\"TEMP_ZUZ\"], axis=1), val.drop([\"TEMP_ZUZ\"], axis=1), test.drop([\"TEMP_ZUZ\"], axis=1)\n",
    "y_train, y_val, y_test = train[\"TEMP_ZUZ\"], val[\"TEMP_ZUZ\"], test[\"TEMP_ZUZ\"]"
   ],
   "metadata": {
    "collapsed": false,
    "pycharm": {
     "name": "#%%\n"
    }
   }
  },
  {
   "cell_type": "markdown",
   "source": [
    "## Ridge Regression"
   ],
   "metadata": {
    "collapsed": false,
    "pycharm": {
     "name": "#%% md\n"
    }
   }
  },
  {
   "cell_type": "code",
   "execution_count": 93,
   "outputs": [
    {
     "data": {
      "text/plain": "Ridge(alpha=0.8)"
     },
     "execution_count": 93,
     "metadata": {},
     "output_type": "execute_result"
    }
   ],
   "source": [
    "model = linear_model.Ridge(alpha=.8)\n",
    "model.fit(X_train, y_train)"
   ],
   "metadata": {
    "collapsed": false,
    "pycharm": {
     "name": "#%%\n"
    }
   }
  },
  {
   "cell_type": "code",
   "execution_count": 94,
   "outputs": [
    {
     "data": {
      "text/plain": "74.98678234974481"
     },
     "execution_count": 94,
     "metadata": {},
     "output_type": "execute_result"
    }
   ],
   "source": [
    "metrics.mean_squared_error(y_val, model.predict(X_val))"
   ],
   "metadata": {
    "collapsed": false,
    "pycharm": {
     "name": "#%%\n"
    }
   }
  },
  {
   "cell_type": "markdown",
   "source": [
    "## Polynomial Regression"
   ],
   "metadata": {
    "collapsed": false,
    "pycharm": {
     "name": "#%% md\n"
    }
   }
  },
  {
   "cell_type": "code",
   "execution_count": 119,
   "outputs": [],
   "source": [
    "poly_model = Pipeline([('poly', preprocessing.PolynomialFeatures(degree=2)),\n",
    "                      ('linear', linear_model.LinearRegression(fit_intercept=False))])"
   ],
   "metadata": {
    "collapsed": false,
    "pycharm": {
     "name": "#%%\n"
    }
   }
  },
  {
   "cell_type": "code",
   "execution_count": 120,
   "outputs": [],
   "source": [
    "poly_model = poly_model.fit(X_train, y_train)"
   ],
   "metadata": {
    "collapsed": false,
    "pycharm": {
     "name": "#%%\n"
    }
   }
  },
  {
   "cell_type": "code",
   "execution_count": 121,
   "outputs": [
    {
     "data": {
      "text/plain": "68.24177515684886"
     },
     "execution_count": 121,
     "metadata": {},
     "output_type": "execute_result"
    }
   ],
   "source": [
    "metrics.mean_squared_error(y_val, poly_model.predict(X_val))"
   ],
   "metadata": {
    "collapsed": false,
    "pycharm": {
     "name": "#%%\n"
    }
   }
  },
  {
   "cell_type": "code",
   "execution_count": null,
   "outputs": [],
   "source": [],
   "metadata": {
    "collapsed": false,
    "pycharm": {
     "name": "#%%\n"
    }
   }
  }
 ],
 "metadata": {
  "kernelspec": {
   "display_name": "Python 3 (ipykernel)",
   "language": "python",
   "name": "python3"
  },
  "language_info": {
   "codemirror_mode": {
    "name": "ipython",
    "version": 3
   },
   "file_extension": ".py",
   "mimetype": "text/x-python",
   "name": "python",
   "nbconvert_exporter": "python",
   "pygments_lexer": "ipython3",
   "version": "3.9.7"
  }
 },
 "nbformat": 4,
 "nbformat_minor": 5
}