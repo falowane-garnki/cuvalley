{
 "cells": [
  {
   "cell_type": "code",
   "execution_count": 5,
   "id": "32287049",
   "metadata": {},
   "outputs": [],
   "source": [
    "from pathlib import Path\n",
    "import os\n",
    "\n",
    "import pandas as pd\n",
    "import numpy as np\n",
    "from data_processing.data_processing import *\n",
    "\n",
    "from sklearn import preprocessing\n",
    "from sklearn import linear_model\n",
    "from sklearn import metrics\n",
    "from sklearn.pipeline import Pipeline"
   ]
  },
  {
   "cell_type": "code",
   "execution_count": 6,
   "id": "cc11cc0d",
   "metadata": {},
   "outputs": [],
   "source": [
    "MAIN_PATH = Path(os.getcwd()).parent"
   ]
  },
  {
   "cell_type": "markdown",
   "source": [
    "## Load data"
   ],
   "metadata": {
    "collapsed": false
   }
  },
  {
   "cell_type": "code",
   "execution_count": 168,
   "outputs": [
    {
     "data": {
      "text/plain": "                           001fcx00211.pv  001fcx00221.pv  001fcx00231.pv  \\\n2020-09-30 22:00:00+00:00       56.729077       54.724422       11.966905   \n2020-09-30 22:01:00+00:00       54.771942       54.734675       12.026410   \n2020-09-30 22:02:00+00:00       54.695816       54.774163       11.953671   \n2020-09-30 22:03:00+00:00       54.154394       54.985713       12.052065   \n2020-09-30 22:04:00+00:00       54.693184       54.490742       12.027310   \n...                                   ...             ...             ...   \n2022-01-31 22:55:00+00:00       57.882366       58.080133       10.056829   \n2022-01-31 22:56:00+00:00       57.953225       57.931008        9.935828   \n2022-01-31 22:57:00+00:00       58.186232       57.291012       10.014864   \n2022-01-31 22:58:00+00:00       59.016838       58.014325       10.048125   \n2022-01-31 22:59:00+00:00       57.503406       57.757832        9.909967   \n\n                           001fcx00241.pv  001fir01307.daca.pv  \\\n2020-09-30 22:00:00+00:00       22.493207           108.702362   \n2020-09-30 22:01:00+00:00       22.593412           108.846612   \n2020-09-30 22:02:00+00:00       22.428933           108.827640   \n2020-09-30 22:03:00+00:00       22.335388           108.623473   \n2020-09-30 22:04:00+00:00       22.412620           108.746784   \n...                                   ...                  ...   \n2022-01-31 22:55:00+00:00       30.486496           101.111263   \n2022-01-31 22:56:00+00:00       29.830075           101.034501   \n2022-01-31 22:57:00+00:00       29.350514           101.251020   \n2022-01-31 22:58:00+00:00       29.496899           101.073264   \n2022-01-31 22:59:00+00:00       29.537882           101.171321   \n\n                           001fir01308.daca.pv  001fir01309.daca.pv  \\\n2020-09-30 22:00:00+00:00           112.280388           110.013796   \n2020-09-30 22:01:00+00:00           112.334600           109.906645   \n2020-09-30 22:02:00+00:00           112.362508           109.970932   \n2020-09-30 22:03:00+00:00           112.386061           109.836948   \n2020-09-30 22:04:00+00:00           112.396792           109.966910   \n...                                        ...                  ...   \n2022-01-31 22:55:00+00:00            98.338021           102.332506   \n2022-01-31 22:56:00+00:00            98.362465           102.332450   \n2022-01-31 22:57:00+00:00            98.353221           102.312023   \n2022-01-31 22:58:00+00:00            98.354741           102.336123   \n2022-01-31 22:59:00+00:00            98.336003           102.331086   \n\n                           001fir01310.daca.pv  001fir01311.daca.pv  \\\n2020-09-30 22:00:00+00:00           108.761583           110.604901   \n2020-09-30 22:01:00+00:00           108.879083           110.644046   \n2020-09-30 22:02:00+00:00           108.844765           110.621665   \n2020-09-30 22:03:00+00:00           108.717994           110.464245   \n2020-09-30 22:04:00+00:00           108.978605           110.603660   \n...                                        ...                  ...   \n2022-01-31 22:55:00+00:00           101.967828           100.651891   \n2022-01-31 22:56:00+00:00           101.981035           100.575884   \n2022-01-31 22:57:00+00:00           102.017297           100.621084   \n2022-01-31 22:58:00+00:00           101.967655           100.596174   \n2022-01-31 22:59:00+00:00           101.969703           100.690806   \n\n                           001fir01312.daca.pv  ...  001uxm0rf02.daca.pv  \\\n2020-09-30 22:00:00+00:00           104.500427  ...            92.024078   \n2020-09-30 22:01:00+00:00           104.371977  ...            92.024206   \n2020-09-30 22:02:00+00:00           104.387912  ...            92.024334   \n2020-09-30 22:03:00+00:00           104.418573  ...            92.024462   \n2020-09-30 22:04:00+00:00           104.464328  ...            92.024590   \n...                                        ...  ...                  ...   \n2022-01-31 22:55:00+00:00            97.071359  ...            98.121880   \n2022-01-31 22:56:00+00:00            97.066000  ...            98.121319   \n2022-01-31 22:57:00+00:00            97.223686  ...            98.120757   \n2022-01-31 22:58:00+00:00            97.050953  ...            98.120196   \n2022-01-31 22:59:00+00:00            97.067359  ...            98.119783   \n\n                           001uxm0rf03.daca.pv  037tix00254.daca.pv  \\\n2020-09-30 22:00:00+00:00            92.405281            24.665309   \n2020-09-30 22:01:00+00:00            92.405239            24.663982   \n2020-09-30 22:02:00+00:00            92.405196            24.662656   \n2020-09-30 22:03:00+00:00            92.405153            24.661329   \n2020-09-30 22:04:00+00:00            92.405110            24.660003   \n...                                        ...                  ...   \n2022-01-31 22:55:00+00:00            98.225985            24.460338   \n2022-01-31 22:56:00+00:00            98.226027            24.464324   \n2022-01-31 22:57:00+00:00            98.226070            24.468310   \n2022-01-31 22:58:00+00:00            98.226113            24.472296   \n2022-01-31 22:59:00+00:00            98.226155            24.476282   \n\n                           037tix00264.daca.pv  prazonka_fe  prazonka_s  \\\n2020-09-30 22:00:00+00:00            24.526161         4.48        8.98   \n2020-09-30 22:01:00+00:00            24.526161         4.48        8.98   \n2020-09-30 22:02:00+00:00            24.526161         4.48        8.98   \n2020-09-30 22:03:00+00:00            24.526161         4.48        8.98   \n2020-09-30 22:04:00+00:00            24.525475         4.48        8.98   \n...                                        ...          ...         ...   \n2022-01-31 22:55:00+00:00            24.320295         6.18        8.89   \n2022-01-31 22:56:00+00:00            24.322539         6.18        8.89   \n2022-01-31 22:57:00+00:00            24.324782         6.18        8.89   \n2022-01-31 22:58:00+00:00            24.327025         6.18        8.89   \n2022-01-31 22:59:00+00:00            24.329269         6.18        8.89   \n\n                           prob_corg  prob_fe  prob_s  temp_zuz  \n2020-09-30 22:00:00+00:00        8.6     4.55    9.87    1297.0  \n2020-09-30 22:01:00+00:00        8.6     4.55    9.87       NaN  \n2020-09-30 22:02:00+00:00        8.6     4.55    9.87       NaN  \n2020-09-30 22:03:00+00:00        8.6     4.55    9.87       NaN  \n2020-09-30 22:04:00+00:00        8.6     4.55    9.87       NaN  \n...                              ...      ...     ...       ...  \n2022-01-31 22:55:00+00:00        7.8     6.65   12.47       NaN  \n2022-01-31 22:56:00+00:00        7.8     6.65   12.47       NaN  \n2022-01-31 22:57:00+00:00        7.8     6.65   12.47       NaN  \n2022-01-31 22:58:00+00:00        7.8     6.65   12.47       NaN  \n2022-01-31 22:59:00+00:00        7.8     6.65   12.47       NaN  \n\n[702780 rows x 58 columns]",
      "text/html": "<div>\n<style scoped>\n    .dataframe tbody tr th:only-of-type {\n        vertical-align: middle;\n    }\n\n    .dataframe tbody tr th {\n        vertical-align: top;\n    }\n\n    .dataframe thead th {\n        text-align: right;\n    }\n</style>\n<table border=\"1\" class=\"dataframe\">\n  <thead>\n    <tr style=\"text-align: right;\">\n      <th></th>\n      <th>001fcx00211.pv</th>\n      <th>001fcx00221.pv</th>\n      <th>001fcx00231.pv</th>\n      <th>001fcx00241.pv</th>\n      <th>001fir01307.daca.pv</th>\n      <th>001fir01308.daca.pv</th>\n      <th>001fir01309.daca.pv</th>\n      <th>001fir01310.daca.pv</th>\n      <th>001fir01311.daca.pv</th>\n      <th>001fir01312.daca.pv</th>\n      <th>...</th>\n      <th>001uxm0rf02.daca.pv</th>\n      <th>001uxm0rf03.daca.pv</th>\n      <th>037tix00254.daca.pv</th>\n      <th>037tix00264.daca.pv</th>\n      <th>prazonka_fe</th>\n      <th>prazonka_s</th>\n      <th>prob_corg</th>\n      <th>prob_fe</th>\n      <th>prob_s</th>\n      <th>temp_zuz</th>\n    </tr>\n  </thead>\n  <tbody>\n    <tr>\n      <th>2020-09-30 22:00:00+00:00</th>\n      <td>56.729077</td>\n      <td>54.724422</td>\n      <td>11.966905</td>\n      <td>22.493207</td>\n      <td>108.702362</td>\n      <td>112.280388</td>\n      <td>110.013796</td>\n      <td>108.761583</td>\n      <td>110.604901</td>\n      <td>104.500427</td>\n      <td>...</td>\n      <td>92.024078</td>\n      <td>92.405281</td>\n      <td>24.665309</td>\n      <td>24.526161</td>\n      <td>4.48</td>\n      <td>8.98</td>\n      <td>8.6</td>\n      <td>4.55</td>\n      <td>9.87</td>\n      <td>1297.0</td>\n    </tr>\n    <tr>\n      <th>2020-09-30 22:01:00+00:00</th>\n      <td>54.771942</td>\n      <td>54.734675</td>\n      <td>12.026410</td>\n      <td>22.593412</td>\n      <td>108.846612</td>\n      <td>112.334600</td>\n      <td>109.906645</td>\n      <td>108.879083</td>\n      <td>110.644046</td>\n      <td>104.371977</td>\n      <td>...</td>\n      <td>92.024206</td>\n      <td>92.405239</td>\n      <td>24.663982</td>\n      <td>24.526161</td>\n      <td>4.48</td>\n      <td>8.98</td>\n      <td>8.6</td>\n      <td>4.55</td>\n      <td>9.87</td>\n      <td>NaN</td>\n    </tr>\n    <tr>\n      <th>2020-09-30 22:02:00+00:00</th>\n      <td>54.695816</td>\n      <td>54.774163</td>\n      <td>11.953671</td>\n      <td>22.428933</td>\n      <td>108.827640</td>\n      <td>112.362508</td>\n      <td>109.970932</td>\n      <td>108.844765</td>\n      <td>110.621665</td>\n      <td>104.387912</td>\n      <td>...</td>\n      <td>92.024334</td>\n      <td>92.405196</td>\n      <td>24.662656</td>\n      <td>24.526161</td>\n      <td>4.48</td>\n      <td>8.98</td>\n      <td>8.6</td>\n      <td>4.55</td>\n      <td>9.87</td>\n      <td>NaN</td>\n    </tr>\n    <tr>\n      <th>2020-09-30 22:03:00+00:00</th>\n      <td>54.154394</td>\n      <td>54.985713</td>\n      <td>12.052065</td>\n      <td>22.335388</td>\n      <td>108.623473</td>\n      <td>112.386061</td>\n      <td>109.836948</td>\n      <td>108.717994</td>\n      <td>110.464245</td>\n      <td>104.418573</td>\n      <td>...</td>\n      <td>92.024462</td>\n      <td>92.405153</td>\n      <td>24.661329</td>\n      <td>24.526161</td>\n      <td>4.48</td>\n      <td>8.98</td>\n      <td>8.6</td>\n      <td>4.55</td>\n      <td>9.87</td>\n      <td>NaN</td>\n    </tr>\n    <tr>\n      <th>2020-09-30 22:04:00+00:00</th>\n      <td>54.693184</td>\n      <td>54.490742</td>\n      <td>12.027310</td>\n      <td>22.412620</td>\n      <td>108.746784</td>\n      <td>112.396792</td>\n      <td>109.966910</td>\n      <td>108.978605</td>\n      <td>110.603660</td>\n      <td>104.464328</td>\n      <td>...</td>\n      <td>92.024590</td>\n      <td>92.405110</td>\n      <td>24.660003</td>\n      <td>24.525475</td>\n      <td>4.48</td>\n      <td>8.98</td>\n      <td>8.6</td>\n      <td>4.55</td>\n      <td>9.87</td>\n      <td>NaN</td>\n    </tr>\n    <tr>\n      <th>...</th>\n      <td>...</td>\n      <td>...</td>\n      <td>...</td>\n      <td>...</td>\n      <td>...</td>\n      <td>...</td>\n      <td>...</td>\n      <td>...</td>\n      <td>...</td>\n      <td>...</td>\n      <td>...</td>\n      <td>...</td>\n      <td>...</td>\n      <td>...</td>\n      <td>...</td>\n      <td>...</td>\n      <td>...</td>\n      <td>...</td>\n      <td>...</td>\n      <td>...</td>\n      <td>...</td>\n    </tr>\n    <tr>\n      <th>2022-01-31 22:55:00+00:00</th>\n      <td>57.882366</td>\n      <td>58.080133</td>\n      <td>10.056829</td>\n      <td>30.486496</td>\n      <td>101.111263</td>\n      <td>98.338021</td>\n      <td>102.332506</td>\n      <td>101.967828</td>\n      <td>100.651891</td>\n      <td>97.071359</td>\n      <td>...</td>\n      <td>98.121880</td>\n      <td>98.225985</td>\n      <td>24.460338</td>\n      <td>24.320295</td>\n      <td>6.18</td>\n      <td>8.89</td>\n      <td>7.8</td>\n      <td>6.65</td>\n      <td>12.47</td>\n      <td>NaN</td>\n    </tr>\n    <tr>\n      <th>2022-01-31 22:56:00+00:00</th>\n      <td>57.953225</td>\n      <td>57.931008</td>\n      <td>9.935828</td>\n      <td>29.830075</td>\n      <td>101.034501</td>\n      <td>98.362465</td>\n      <td>102.332450</td>\n      <td>101.981035</td>\n      <td>100.575884</td>\n      <td>97.066000</td>\n      <td>...</td>\n      <td>98.121319</td>\n      <td>98.226027</td>\n      <td>24.464324</td>\n      <td>24.322539</td>\n      <td>6.18</td>\n      <td>8.89</td>\n      <td>7.8</td>\n      <td>6.65</td>\n      <td>12.47</td>\n      <td>NaN</td>\n    </tr>\n    <tr>\n      <th>2022-01-31 22:57:00+00:00</th>\n      <td>58.186232</td>\n      <td>57.291012</td>\n      <td>10.014864</td>\n      <td>29.350514</td>\n      <td>101.251020</td>\n      <td>98.353221</td>\n      <td>102.312023</td>\n      <td>102.017297</td>\n      <td>100.621084</td>\n      <td>97.223686</td>\n      <td>...</td>\n      <td>98.120757</td>\n      <td>98.226070</td>\n      <td>24.468310</td>\n      <td>24.324782</td>\n      <td>6.18</td>\n      <td>8.89</td>\n      <td>7.8</td>\n      <td>6.65</td>\n      <td>12.47</td>\n      <td>NaN</td>\n    </tr>\n    <tr>\n      <th>2022-01-31 22:58:00+00:00</th>\n      <td>59.016838</td>\n      <td>58.014325</td>\n      <td>10.048125</td>\n      <td>29.496899</td>\n      <td>101.073264</td>\n      <td>98.354741</td>\n      <td>102.336123</td>\n      <td>101.967655</td>\n      <td>100.596174</td>\n      <td>97.050953</td>\n      <td>...</td>\n      <td>98.120196</td>\n      <td>98.226113</td>\n      <td>24.472296</td>\n      <td>24.327025</td>\n      <td>6.18</td>\n      <td>8.89</td>\n      <td>7.8</td>\n      <td>6.65</td>\n      <td>12.47</td>\n      <td>NaN</td>\n    </tr>\n    <tr>\n      <th>2022-01-31 22:59:00+00:00</th>\n      <td>57.503406</td>\n      <td>57.757832</td>\n      <td>9.909967</td>\n      <td>29.537882</td>\n      <td>101.171321</td>\n      <td>98.336003</td>\n      <td>102.331086</td>\n      <td>101.969703</td>\n      <td>100.690806</td>\n      <td>97.067359</td>\n      <td>...</td>\n      <td>98.119783</td>\n      <td>98.226155</td>\n      <td>24.476282</td>\n      <td>24.329269</td>\n      <td>6.18</td>\n      <td>8.89</td>\n      <td>7.8</td>\n      <td>6.65</td>\n      <td>12.47</td>\n      <td>NaN</td>\n    </tr>\n  </tbody>\n</table>\n<p>702780 rows × 58 columns</p>\n</div>"
     },
     "execution_count": 168,
     "metadata": {},
     "output_type": "execute_result"
    }
   ],
   "source": [
    "org_df = pd.read_csv(os.path.join(MAIN_PATH, \"data\", \"data.csv\"))\n",
    "org_df = load(org_df)\n",
    "org_df"
   ],
   "metadata": {
    "collapsed": false,
    "pycharm": {
     "name": "#%%\n"
    }
   }
  },
  {
   "cell_type": "code",
   "execution_count": 169,
   "outputs": [],
   "source": [
    "df = pd.DataFrame(index=org_df.index)"
   ],
   "metadata": {
    "collapsed": false,
    "pycharm": {
     "name": "#%%\n"
    }
   }
  },
  {
   "cell_type": "markdown",
   "source": [
    "## Simple features based on correlation"
   ],
   "metadata": {
    "collapsed": false,
    "pycharm": {
     "name": "#%% md\n"
    }
   }
  },
  {
   "cell_type": "code",
   "execution_count": 170,
   "outputs": [],
   "source": [
    "# srednia po 'TEMP POD 2 WARSTWĄ WYMURÓWKI [°C]'\n",
    "TIX1 = org_df.columns[org_df.columns.str.contains('001tix')].values\n",
    "df['TIX1'] = org_df[TIX1].mean(axis='columns')"
   ],
   "metadata": {
    "collapsed": false,
    "pycharm": {
     "name": "#%%\n"
    }
   }
  },
  {
   "cell_type": "code",
   "execution_count": 171,
   "outputs": [],
   "source": [
    "# srednia po 'WODY POWROTNE KOLEKTORÓW [°C]'\n",
    "TIR = org_df.columns[org_df.columns.str.contains('tir')].values\n",
    "df['TIR'] = org_df[TIR].mean(axis='columns')"
   ],
   "metadata": {
    "collapsed": false,
    "pycharm": {
     "name": "#%%\n"
    }
   }
  },
  {
   "cell_type": "code",
   "execution_count": 172,
   "outputs": [],
   "source": [
    "# dodanie reg nadawy koncentratu\n",
    "FCX = org_df.columns[org_df.columns.str.contains('fcx')].values\n",
    "df[FCX] = org_df[FCX]"
   ],
   "metadata": {
    "collapsed": false,
    "pycharm": {
     "name": "#%%\n"
    }
   }
  },
  {
   "cell_type": "code",
   "execution_count": 173,
   "outputs": [],
   "source": [
    "# sumaryczna moc cieplna\n",
    "NIR = org_df.columns[org_df.columns.str.contains('nir')].values\n",
    "df[NIR] = org_df[NIR]"
   ],
   "metadata": {
    "collapsed": false,
    "pycharm": {
     "name": "#%%\n"
    }
   }
  },
  {
   "cell_type": "code",
   "execution_count": 174,
   "outputs": [],
   "source": [
    "# dodanie temp żużla\n",
    "df[\"TEMP_ZUZ\"] = org_df[\"temp_zuz\"]"
   ],
   "metadata": {
    "collapsed": false,
    "pycharm": {
     "name": "#%%\n"
    }
   }
  },
  {
   "cell_type": "code",
   "execution_count": 175,
   "outputs": [
    {
     "data": {
      "text/plain": "(11377, 8)"
     },
     "execution_count": 175,
     "metadata": {},
     "output_type": "execute_result"
    }
   ],
   "source": [
    "pr_df = df.copy()\n",
    "prw_df = df.copy()\n",
    "df = df.dropna(axis=0)\n",
    "df.shape"
   ],
   "metadata": {
    "collapsed": false,
    "pycharm": {
     "name": "#%%\n"
    }
   }
  },
  {
   "cell_type": "code",
   "execution_count": 176,
   "outputs": [
    {
     "data": {
      "text/plain": "                                 TIX1        TIR  001fcx00211.pv  \\\n2020-09-30 22:00:00+00:00  418.990965  29.086390       56.729077   \n2020-09-30 23:00:00+00:00  418.911544  29.000256       55.309363   \n2020-10-01 00:00:00+00:00  418.820059  29.021386       54.703949   \n2020-10-01 00:30:00+00:00  418.777284  29.064571       55.000000   \n2020-10-01 01:00:00+00:00  418.735368  29.092727       55.886746   \n...                               ...        ...             ...   \n2022-01-31 18:00:00+00:00  418.284737  27.694067       59.180029   \n2022-01-31 19:00:00+00:00  418.138199  27.760225       58.895968   \n2022-01-31 20:00:00+00:00  418.012402  27.761558       59.073501   \n2022-01-31 21:00:00+00:00  417.939267  27.704117       57.774647   \n2022-01-31 22:00:00+00:00  417.865419  27.812696       57.771875   \n\n                           001fcx00221.pv  001fcx00231.pv  001fcx00241.pv  \\\n2020-09-30 22:00:00+00:00       54.724422       11.966905       22.493207   \n2020-09-30 23:00:00+00:00       55.327746       11.544775       22.702118   \n2020-10-01 00:00:00+00:00       54.957514       11.053689       20.013150   \n2020-10-01 00:30:00+00:00       55.224717       10.980221       19.902115   \n2020-10-01 01:00:00+00:00       54.869892       11.057164       21.069357   \n...                                   ...             ...             ...   \n2022-01-31 18:00:00+00:00       58.900365       10.019018       32.147630   \n2022-01-31 19:00:00+00:00       58.911688       10.013093       31.719701   \n2022-01-31 20:00:00+00:00       59.593765       10.064700       30.158128   \n2022-01-31 21:00:00+00:00       58.738514        9.989189       28.000376   \n2022-01-31 22:00:00+00:00       57.757476       10.145746       27.917341   \n\n                           001nir0szr0.daca.pv  TEMP_ZUZ  \n2020-09-30 22:00:00+00:00            14.362428    1297.0  \n2020-09-30 23:00:00+00:00            14.978720    1295.0  \n2020-10-01 00:00:00+00:00            15.199544    1303.0  \n2020-10-01 00:30:00+00:00            14.815123    1302.0  \n2020-10-01 01:00:00+00:00            14.617263    1303.0  \n...                                        ...       ...  \n2022-01-31 18:00:00+00:00            15.607105    1300.0  \n2022-01-31 19:00:00+00:00            14.846545    1305.0  \n2022-01-31 20:00:00+00:00            15.967954    1304.0  \n2022-01-31 21:00:00+00:00            16.147269    1308.0  \n2022-01-31 22:00:00+00:00            16.379607    1309.0  \n\n[11377 rows x 8 columns]",
      "text/html": "<div>\n<style scoped>\n    .dataframe tbody tr th:only-of-type {\n        vertical-align: middle;\n    }\n\n    .dataframe tbody tr th {\n        vertical-align: top;\n    }\n\n    .dataframe thead th {\n        text-align: right;\n    }\n</style>\n<table border=\"1\" class=\"dataframe\">\n  <thead>\n    <tr style=\"text-align: right;\">\n      <th></th>\n      <th>TIX1</th>\n      <th>TIR</th>\n      <th>001fcx00211.pv</th>\n      <th>001fcx00221.pv</th>\n      <th>001fcx00231.pv</th>\n      <th>001fcx00241.pv</th>\n      <th>001nir0szr0.daca.pv</th>\n      <th>TEMP_ZUZ</th>\n    </tr>\n  </thead>\n  <tbody>\n    <tr>\n      <th>2020-09-30 22:00:00+00:00</th>\n      <td>418.990965</td>\n      <td>29.086390</td>\n      <td>56.729077</td>\n      <td>54.724422</td>\n      <td>11.966905</td>\n      <td>22.493207</td>\n      <td>14.362428</td>\n      <td>1297.0</td>\n    </tr>\n    <tr>\n      <th>2020-09-30 23:00:00+00:00</th>\n      <td>418.911544</td>\n      <td>29.000256</td>\n      <td>55.309363</td>\n      <td>55.327746</td>\n      <td>11.544775</td>\n      <td>22.702118</td>\n      <td>14.978720</td>\n      <td>1295.0</td>\n    </tr>\n    <tr>\n      <th>2020-10-01 00:00:00+00:00</th>\n      <td>418.820059</td>\n      <td>29.021386</td>\n      <td>54.703949</td>\n      <td>54.957514</td>\n      <td>11.053689</td>\n      <td>20.013150</td>\n      <td>15.199544</td>\n      <td>1303.0</td>\n    </tr>\n    <tr>\n      <th>2020-10-01 00:30:00+00:00</th>\n      <td>418.777284</td>\n      <td>29.064571</td>\n      <td>55.000000</td>\n      <td>55.224717</td>\n      <td>10.980221</td>\n      <td>19.902115</td>\n      <td>14.815123</td>\n      <td>1302.0</td>\n    </tr>\n    <tr>\n      <th>2020-10-01 01:00:00+00:00</th>\n      <td>418.735368</td>\n      <td>29.092727</td>\n      <td>55.886746</td>\n      <td>54.869892</td>\n      <td>11.057164</td>\n      <td>21.069357</td>\n      <td>14.617263</td>\n      <td>1303.0</td>\n    </tr>\n    <tr>\n      <th>...</th>\n      <td>...</td>\n      <td>...</td>\n      <td>...</td>\n      <td>...</td>\n      <td>...</td>\n      <td>...</td>\n      <td>...</td>\n      <td>...</td>\n    </tr>\n    <tr>\n      <th>2022-01-31 18:00:00+00:00</th>\n      <td>418.284737</td>\n      <td>27.694067</td>\n      <td>59.180029</td>\n      <td>58.900365</td>\n      <td>10.019018</td>\n      <td>32.147630</td>\n      <td>15.607105</td>\n      <td>1300.0</td>\n    </tr>\n    <tr>\n      <th>2022-01-31 19:00:00+00:00</th>\n      <td>418.138199</td>\n      <td>27.760225</td>\n      <td>58.895968</td>\n      <td>58.911688</td>\n      <td>10.013093</td>\n      <td>31.719701</td>\n      <td>14.846545</td>\n      <td>1305.0</td>\n    </tr>\n    <tr>\n      <th>2022-01-31 20:00:00+00:00</th>\n      <td>418.012402</td>\n      <td>27.761558</td>\n      <td>59.073501</td>\n      <td>59.593765</td>\n      <td>10.064700</td>\n      <td>30.158128</td>\n      <td>15.967954</td>\n      <td>1304.0</td>\n    </tr>\n    <tr>\n      <th>2022-01-31 21:00:00+00:00</th>\n      <td>417.939267</td>\n      <td>27.704117</td>\n      <td>57.774647</td>\n      <td>58.738514</td>\n      <td>9.989189</td>\n      <td>28.000376</td>\n      <td>16.147269</td>\n      <td>1308.0</td>\n    </tr>\n    <tr>\n      <th>2022-01-31 22:00:00+00:00</th>\n      <td>417.865419</td>\n      <td>27.812696</td>\n      <td>57.771875</td>\n      <td>57.757476</td>\n      <td>10.145746</td>\n      <td>27.917341</td>\n      <td>16.379607</td>\n      <td>1309.0</td>\n    </tr>\n  </tbody>\n</table>\n<p>11377 rows × 8 columns</p>\n</div>"
     },
     "execution_count": 176,
     "metadata": {},
     "output_type": "execute_result"
    }
   ],
   "source": [
    "df"
   ],
   "metadata": {
    "collapsed": false,
    "pycharm": {
     "name": "#%%\n"
    }
   }
  },
  {
   "cell_type": "markdown",
   "source": [
    "## Split data"
   ],
   "metadata": {
    "collapsed": false,
    "pycharm": {
     "name": "#%% md\n"
    }
   }
  },
  {
   "cell_type": "code",
   "execution_count": 107,
   "outputs": [],
   "source": [
    "train, val, test = split(df)"
   ],
   "metadata": {
    "collapsed": false,
    "pycharm": {
     "name": "#%%\n"
    }
   }
  },
  {
   "cell_type": "code",
   "execution_count": 108,
   "outputs": [],
   "source": [
    "X_train, X_val, X_test = train.drop([\"TEMP_ZUZ\"], axis=1), val.drop([\"TEMP_ZUZ\"], axis=1), test.drop([\"TEMP_ZUZ\"], axis=1)\n",
    "y_train, y_val, y_test = train[\"TEMP_ZUZ\"], val[\"TEMP_ZUZ\"], test[\"TEMP_ZUZ\"]"
   ],
   "metadata": {
    "collapsed": false,
    "pycharm": {
     "name": "#%%\n"
    }
   }
  },
  {
   "cell_type": "markdown",
   "source": [
    "## Ridge Regression"
   ],
   "metadata": {
    "collapsed": false,
    "pycharm": {
     "name": "#%% md\n"
    }
   }
  },
  {
   "cell_type": "code",
   "execution_count": 143,
   "outputs": [
    {
     "data": {
      "text/plain": "74.98678833682321"
     },
     "execution_count": 143,
     "metadata": {},
     "output_type": "execute_result"
    }
   ],
   "source": [
    "ridge_model = Pipeline([('normalization', preprocessing.StandardScaler()),\n",
    "                        ('ridge', linear_model.Ridge(alpha=1, solver='cholesky'))])\n",
    "ridge_model.fit(X_train, y_train)\n",
    "metrics.mean_squared_error(y_val, ridge_model.predict(X_val))"
   ],
   "metadata": {
    "collapsed": false,
    "pycharm": {
     "name": "#%%\n"
    }
   }
  },
  {
   "cell_type": "markdown",
   "source": [
    "## Polynomial Regression"
   ],
   "metadata": {
    "collapsed": false,
    "pycharm": {
     "name": "#%% md\n"
    }
   }
  },
  {
   "cell_type": "code",
   "execution_count": 111,
   "outputs": [
    {
     "data": {
      "text/plain": "68.24177515684886"
     },
     "execution_count": 111,
     "metadata": {},
     "output_type": "execute_result"
    }
   ],
   "source": [
    "poly_model = Pipeline([('poly', preprocessing.PolynomialFeatures(degree=2)),\n",
    "                      ('linear', linear_model.LinearRegression(fit_intercept=False))])\n",
    "poly_model = poly_model.fit(X_train, y_train)\n",
    "metrics.mean_squared_error(y_val, poly_model.predict(X_val))"
   ],
   "metadata": {
    "collapsed": false,
    "pycharm": {
     "name": "#%%\n"
    }
   }
  },
  {
   "cell_type": "code",
   "execution_count": 112,
   "outputs": [
    {
     "data": {
      "text/plain": "70.73612696044367"
     },
     "execution_count": 112,
     "metadata": {},
     "output_type": "execute_result"
    }
   ],
   "source": [
    "poly_model2 = Pipeline([('poly', preprocessing.PolynomialFeatures(degree=3)),\n",
    "                      ('linear', linear_model.LinearRegression(fit_intercept=False))])\n",
    "poly_model2 = poly_model2.fit(X_train, y_train)\n",
    "metrics.mean_squared_error(y_val, poly_model2.predict(X_val))"
   ],
   "metadata": {
    "collapsed": false,
    "pycharm": {
     "name": "#%%\n"
    }
   }
  },
  {
   "cell_type": "code",
   "execution_count": 114,
   "outputs": [
    {
     "data": {
      "text/plain": "1697403.2739010963"
     },
     "execution_count": 114,
     "metadata": {},
     "output_type": "execute_result"
    }
   ],
   "source": [
    "poly_model3 = Pipeline([('poly', preprocessing.PolynomialFeatures(degree=3)),\n",
    "                        ('normalization', preprocessing.StandardScaler()),\n",
    "                        ('linear', linear_model.LinearRegression(fit_intercept=False))])\n",
    "poly_model3 = poly_model3.fit(X_train, y_train)\n",
    "metrics.mean_squared_error(y_val, poly_model3.predict(X_val))"
   ],
   "metadata": {
    "collapsed": false,
    "pycharm": {
     "name": "#%%\n"
    }
   }
  },
  {
   "cell_type": "markdown",
   "source": [
    "## SGD Regressor"
   ],
   "metadata": {
    "collapsed": false,
    "pycharm": {
     "name": "#%% md\n"
    }
   }
  },
  {
   "cell_type": "code",
   "execution_count": 69,
   "outputs": [],
   "source": [
    "sgd_model1 = Pipeline([('normalization', preprocessing.StandardScaler()),\n",
    "                      ('sgd', linear_model.SGDRegressor(max_iter=100000, tol=1e-3, penalty='l2', learning_rate='adaptive'))])"
   ],
   "metadata": {
    "collapsed": false,
    "pycharm": {
     "name": "#%%\n"
    }
   }
  },
  {
   "cell_type": "code",
   "execution_count": 70,
   "outputs": [],
   "source": [
    "sgd_model1 = sgd_model1.fit(X_train, y_train)"
   ],
   "metadata": {
    "collapsed": false,
    "pycharm": {
     "name": "#%%\n"
    }
   }
  },
  {
   "cell_type": "code",
   "source": [
    "metrics.mean_squared_error(y_val, sgd_model1.predict(X_val))"
   ],
   "metadata": {
    "collapsed": false,
    "pycharm": {
     "name": "#%%\n"
    }
   },
   "execution_count": 71,
   "outputs": [
    {
     "data": {
      "text/plain": "74.99823953028356"
     },
     "execution_count": 71,
     "metadata": {},
     "output_type": "execute_result"
    }
   ]
  },
  {
   "cell_type": "code",
   "execution_count": 72,
   "outputs": [
    {
     "data": {
      "text/plain": "74.95110580046402"
     },
     "execution_count": 72,
     "metadata": {},
     "output_type": "execute_result"
    }
   ],
   "source": [
    "sgd_model2 = Pipeline([('normalization', preprocessing.StandardScaler()),\n",
    "                      ('sgd', linear_model.SGDRegressor(max_iter=100000, tol=1e-3, penalty='l1', learning_rate='adaptive'))])\n",
    "sgd_model2 = sgd_model2.fit(X_train, y_train)\n",
    "metrics.mean_squared_error(y_val, sgd_model2.predict(X_val))"
   ],
   "metadata": {
    "collapsed": false,
    "pycharm": {
     "name": "#%%\n"
    }
   }
  },
  {
   "cell_type": "code",
   "execution_count": 73,
   "outputs": [
    {
     "data": {
      "text/plain": "7.702792273803667e+16"
     },
     "execution_count": 73,
     "metadata": {},
     "output_type": "execute_result"
    }
   ],
   "source": [
    "sgd_model3 = Pipeline([('sgd', linear_model.SGDRegressor(max_iter=100000, tol=1e-3, penalty='l1', learning_rate='adaptive'))])\n",
    "sgd_model3 = sgd_model3.fit(X_train, y_train)\n",
    "metrics.mean_squared_error(y_val, sgd_model3.predict(X_val))"
   ],
   "metadata": {
    "collapsed": false,
    "pycharm": {
     "name": "#%%\n"
    }
   }
  },
  {
   "cell_type": "markdown",
   "source": [
    "## SGD + Poly Regression"
   ],
   "metadata": {
    "collapsed": false,
    "pycharm": {
     "name": "#%% md\n"
    }
   }
  },
  {
   "cell_type": "code",
   "execution_count": 74,
   "outputs": [
    {
     "data": {
      "text/plain": "67.59070040812387"
     },
     "execution_count": 74,
     "metadata": {},
     "output_type": "execute_result"
    }
   ],
   "source": [
    "sgd_poly_model1 = Pipeline([('poly', preprocessing.PolynomialFeatures(degree=2)),\n",
    "                            ('normalization', preprocessing.StandardScaler()),\n",
    "                            ('sgd', linear_model.SGDRegressor(max_iter=100000, tol=1e-3, penalty='l2', learning_rate='adaptive'))])\n",
    "sgd_poly_model1 = sgd_poly_model1.fit(X_train, y_train)\n",
    "metrics.mean_squared_error(y_val, sgd_poly_model1.predict(X_val))"
   ],
   "metadata": {
    "collapsed": false,
    "pycharm": {
     "name": "#%%\n"
    }
   }
  },
  {
   "cell_type": "code",
   "execution_count": 75,
   "outputs": [
    {
     "data": {
      "text/plain": "70.15790790973689"
     },
     "execution_count": 75,
     "metadata": {},
     "output_type": "execute_result"
    }
   ],
   "source": [
    "sgd_poly_model2 = Pipeline([('poly', preprocessing.PolynomialFeatures(degree=3)),\n",
    "                            ('normalization', preprocessing.StandardScaler()),\n",
    "                            ('sgd', linear_model.SGDRegressor(max_iter=100000, tol=1e-3, penalty='l2', learning_rate='adaptive'))])\n",
    "sgd_poly_model2 = sgd_poly_model1.fit(X_train, y_train)\n",
    "metrics.mean_squared_error(y_val, sgd_poly_model1.predict(X_val))"
   ],
   "metadata": {
    "collapsed": false,
    "pycharm": {
     "name": "#%%\n"
    }
   }
  },
  {
   "cell_type": "code",
   "execution_count": 76,
   "outputs": [
    {
     "data": {
      "text/plain": "69.1222819715861"
     },
     "execution_count": 76,
     "metadata": {},
     "output_type": "execute_result"
    }
   ],
   "source": [
    "sgd_poly_model2 = Pipeline([('poly', preprocessing.PolynomialFeatures(degree=4)),\n",
    "                            ('normalization', preprocessing.StandardScaler()),\n",
    "                            ('sgd', linear_model.SGDRegressor(max_iter=100000, tol=1e-3, penalty='l2', learning_rate='adaptive'))])\n",
    "sgd_poly_model2 = sgd_poly_model1.fit(X_train, y_train)\n",
    "metrics.mean_squared_error(y_val, sgd_poly_model1.predict(X_val))"
   ],
   "metadata": {
    "collapsed": false,
    "pycharm": {
     "name": "#%%\n"
    }
   }
  },
  {
   "cell_type": "markdown",
   "source": [
    "## Poly + Ridge Regression"
   ],
   "metadata": {
    "collapsed": false,
    "pycharm": {
     "name": "#%% md\n"
    }
   }
  },
  {
   "cell_type": "code",
   "execution_count": 122,
   "outputs": [
    {
     "data": {
      "text/plain": "63.81028513099203"
     },
     "execution_count": 122,
     "metadata": {},
     "output_type": "execute_result"
    }
   ],
   "source": [
    "ridge_poly_model1 = Pipeline([('poly', preprocessing.PolynomialFeatures(degree=3)),\n",
    "                            ('normalization', preprocessing.StandardScaler()),\n",
    "                            ('ridge', linear_model.Ridge(alpha=.5, solver='cholesky'))])\n",
    "ridge_poly_model1 = ridge_poly_model1.fit(X_train, y_train)\n",
    "metrics.mean_squared_error(y_val, ridge_poly_model1.predict(X_val))"
   ],
   "metadata": {
    "collapsed": false,
    "pycharm": {
     "name": "#%%\n"
    }
   }
  },
  {
   "cell_type": "code",
   "execution_count": 159,
   "outputs": [
    {
     "data": {
      "text/plain": "array([  0.        ,   2.05630841,  -3.07491127,  -5.27460674,\n       -11.01781215,   1.69838657,   8.12500049,   7.66617289,\n        -2.85566669,   2.99128159,   0.4373027 ,   1.85818547,\n        -6.69476602,   1.1046304 ,   5.11141966,  -2.19087638,\n        -3.93591315,  -7.20307755,   0.93748825,   2.26718124,\n         4.90754517,  -5.28920633,  -1.38081289,  16.3833378 ,\n         9.30270583,   1.21474811,  -5.69970881,  11.70779359,\n        11.48920987,  -3.75548009,   7.30526562,   1.51733866,\n        -1.2869995 ,   3.04514545,  -4.66722942,  -5.0443614 ,\n        -8.39873166,   2.81038931,   7.18143668,  15.89236583,\n       -13.3560872 ,  -4.90641582,   1.70823611,   2.43312497,\n         5.35236304,   8.43174561,  -6.99898215,  -3.89352348,\n         3.40809991, -12.08042451,   3.89533945,   6.00033915,\n        -4.97989552,   2.64715968,  -4.56524318,   1.15978057,\n         4.65436461,   0.50481481,  -1.17942426,   0.13209437,\n         0.03301875,  -8.55528031,  -9.39068892,  -9.66426846,\n         0.33103789,  -2.69467861,  -2.49066417,   2.4707597 ,\n        -0.30494776,   1.75701466,  -1.05659155, -16.75608133,\n        14.20698391,   6.95880252,  -0.3804416 ,   4.65686306,\n        10.67876048,   2.1185051 ,   0.24417436,  -0.97886418,\n        -6.4507507 ,  -5.31551257,   0.79716479,  -9.31113237,\n        -4.11790718,   9.50671803,  -9.46038841,  11.93766815,\n        -2.05581496,   1.41609071,  10.42588375,   9.72937595,\n        -3.38130724,   2.42851951,  -9.39326776,  -9.22957481,\n       -21.09540408,   7.5813157 ,   3.38206761,   9.73604241,\n         2.30197862,   4.83679281,  -4.80982622,  -2.27108809,\n        -7.68839841, -20.7900863 , -15.20796182,  -3.60171443,\n        -1.17174483,   4.75897794,   1.12494105,   2.819144  ,\n         0.67225055,  -1.59900119,  20.07343105,   4.70154995,\n        -1.91153875,   2.85131292,   0.76311988,  -4.23890687])"
     },
     "execution_count": 159,
     "metadata": {},
     "output_type": "execute_result"
    }
   ],
   "source": [
    "ridge_poly_model1.named_steps[\"ridge\"].coef_"
   ],
   "metadata": {
    "collapsed": false,
    "pycharm": {
     "name": "#%%\n"
    }
   }
  },
  {
   "cell_type": "code",
   "execution_count": 117,
   "outputs": [
    {
     "data": {
      "text/plain": "67.30556340464635"
     },
     "execution_count": 117,
     "metadata": {},
     "output_type": "execute_result"
    }
   ],
   "source": [
    "ridge_poly_model2 = Pipeline([('poly', preprocessing.PolynomialFeatures(degree=3)),\n",
    "                            ('normalization', preprocessing.StandardScaler()),\n",
    "                            ('ridge', linear_model.Ridge(alpha=.5, solver='saga'))])\n",
    "ridge_poly_model2 = ridge_poly_model2.fit(X_train, y_train)\n",
    "metrics.mean_squared_error(y_val, ridge_poly_model2.predict(X_val))"
   ],
   "metadata": {
    "collapsed": false,
    "pycharm": {
     "name": "#%%\n"
    }
   }
  },
  {
   "cell_type": "code",
   "execution_count": 118,
   "outputs": [
    {
     "data": {
      "text/plain": "65.55260735524168"
     },
     "execution_count": 118,
     "metadata": {},
     "output_type": "execute_result"
    }
   ],
   "source": [
    "ridge_poly_model3 = Pipeline([('poly', preprocessing.PolynomialFeatures(degree=4)),\n",
    "                            ('normalization', preprocessing.StandardScaler()),\n",
    "                            ('ridge', linear_model.Ridge(alpha=.5, solver='saga'))])\n",
    "ridge_poly_model3 = ridge_poly_model3.fit(X_train, y_train)\n",
    "metrics.mean_squared_error(y_val, ridge_poly_model3.predict(X_val))"
   ],
   "metadata": {
    "collapsed": false,
    "pycharm": {
     "name": "#%%\n"
    }
   }
  },
  {
   "cell_type": "code",
   "execution_count": 120,
   "outputs": [
    {
     "data": {
      "text/plain": "64.95187841501655"
     },
     "execution_count": 120,
     "metadata": {},
     "output_type": "execute_result"
    }
   ],
   "source": [
    "ridge_poly_model4 = Pipeline([('poly', preprocessing.PolynomialFeatures(degree=5)),\n",
    "                            ('normalization', preprocessing.StandardScaler()),\n",
    "                            ('ridge', linear_model.Ridge(alpha=1, solver='saga'))])\n",
    "ridge_poly_model4 = ridge_poly_model4.fit(X_train, y_train)\n",
    "metrics.mean_squared_error(y_val, ridge_poly_model4.predict(X_val))"
   ],
   "metadata": {
    "collapsed": false,
    "pycharm": {
     "name": "#%%\n"
    }
   }
  },
  {
   "cell_type": "markdown",
   "source": [
    "## Spline + Ridge Regression"
   ],
   "metadata": {
    "collapsed": false,
    "pycharm": {
     "name": "#%% md\n"
    }
   }
  },
  {
   "cell_type": "code",
   "execution_count": 134,
   "outputs": [
    {
     "data": {
      "text/plain": "63.66222365050161"
     },
     "execution_count": 134,
     "metadata": {},
     "output_type": "execute_result"
    }
   ],
   "source": [
    "ridge_spline_model1 = Pipeline([('spline', preprocessing.SplineTransformer(n_knots=3)),\n",
    "                            ('normalization', preprocessing.StandardScaler()),\n",
    "                            ('ridge', linear_model.Ridge(alpha=.5, solver='svd'))])\n",
    "ridge_spline_model1 = ridge_spline_model1.fit(X_train, y_train)\n",
    "metrics.mean_squared_error(y_val, ridge_spline_model1.predict(X_val))"
   ],
   "metadata": {
    "collapsed": false,
    "pycharm": {
     "name": "#%%\n"
    }
   }
  },
  {
   "cell_type": "code",
   "execution_count": 142,
   "outputs": [
    {
     "data": {
      "text/plain": "65.23108527165992"
     },
     "execution_count": 142,
     "metadata": {},
     "output_type": "execute_result"
    }
   ],
   "source": [
    "ridge_spline_model2 = Pipeline([('spline', preprocessing.SplineTransformer(n_knots=3, knots='quantile')),\n",
    "                            ('normalization', preprocessing.StandardScaler()),\n",
    "                            ('ridge', linear_model.Ridge(alpha=.5, solver='svd'))])\n",
    "ridge_spline_model2 = ridge_spline_model2.fit(X_train, y_train)\n",
    "metrics.mean_squared_error(y_val, ridge_spline_model2.predict(X_val))"
   ],
   "metadata": {
    "collapsed": false,
    "pycharm": {
     "name": "#%%\n"
    }
   }
  },
  {
   "cell_type": "markdown",
   "source": [
    "## ElasticNet Regression"
   ],
   "metadata": {
    "collapsed": false,
    "pycharm": {
     "name": "#%% md\n"
    }
   }
  },
  {
   "cell_type": "code",
   "execution_count": 124,
   "outputs": [
    {
     "data": {
      "text/plain": "79.05195742848755"
     },
     "execution_count": 124,
     "metadata": {},
     "output_type": "execute_result"
    }
   ],
   "source": [
    "elastic_model1 = Pipeline([('normalization', preprocessing.StandardScaler()),\n",
    "                           ('elasitc', linear_model.ElasticNet(max_iter=10000))])\n",
    "elastic_model1 = elastic_model1.fit(X_train, y_train)\n",
    "metrics.mean_squared_error(y_val, elastic_model1.predict(X_val))"
   ],
   "metadata": {
    "collapsed": false,
    "pycharm": {
     "name": "#%%\n"
    }
   }
  },
  {
   "cell_type": "code",
   "execution_count": 129,
   "outputs": [
    {
     "data": {
      "text/plain": "77.32094660157615"
     },
     "execution_count": 129,
     "metadata": {},
     "output_type": "execute_result"
    }
   ],
   "source": [
    "elastic_model2 = Pipeline([('poly', preprocessing.PolynomialFeatures(degree=4)),\n",
    "                           ('normalization', preprocessing.StandardScaler()),\n",
    "                           ('elasitc', linear_model.ElasticNet(max_iter=10000))])\n",
    "elastic_model2 = elastic_model2.fit(X_train, y_train)\n",
    "metrics.mean_squared_error(y_val, elastic_model2.predict(X_val))"
   ],
   "metadata": {
    "collapsed": false,
    "pycharm": {
     "name": "#%%\n"
    }
   }
  },
  {
   "cell_type": "markdown",
   "source": [
    "## Bayessian Regression"
   ],
   "metadata": {
    "collapsed": false,
    "pycharm": {
     "name": "#%% md\n"
    }
   }
  },
  {
   "cell_type": "code",
   "execution_count": 145,
   "outputs": [
    {
     "data": {
      "text/plain": "74.98947741123759"
     },
     "execution_count": 145,
     "metadata": {},
     "output_type": "execute_result"
    }
   ],
   "source": [
    "bay_model = Pipeline([('normalization', preprocessing.StandardScaler()),\n",
    "                        ('bayessian', linear_model.BayesianRidge(n_iter=1000))])\n",
    "bay_model = bay_model.fit(X_train, y_train)\n",
    "metrics.mean_squared_error(y_val, bay_model.predict(X_val))"
   ],
   "metadata": {
    "collapsed": false,
    "pycharm": {
     "name": "#%%\n"
    }
   }
  },
  {
   "cell_type": "code",
   "execution_count": 152,
   "outputs": [
    {
     "name": "stdout",
     "output_type": "stream",
     "text": [
      "Convergence after  83  iterations\n"
     ]
    },
    {
     "data": {
      "text/plain": "63.19306084127666"
     },
     "execution_count": 152,
     "metadata": {},
     "output_type": "execute_result"
    }
   ],
   "source": [
    "bay_poly_model = Pipeline([('poly', preprocessing.PolynomialFeatures(degree=3, interaction_only=True)),\n",
    "                           ('normalization', preprocessing.StandardScaler()),\n",
    "                            ('bayessian', linear_model.BayesianRidge(n_iter=1000, verbose=True, tol=1e-5))])\n",
    "bay_poly_model = bay_poly_model.fit(X_train, y_train)\n",
    "metrics.mean_squared_error(y_val, bay_poly_model.predict(X_val))"
   ],
   "metadata": {
    "collapsed": false,
    "pycharm": {
     "name": "#%%\n"
    }
   }
  },
  {
   "cell_type": "code",
   "execution_count": 158,
   "outputs": [
    {
     "data": {
      "text/plain": "array([ 4.80566373e-12, -1.27737842e+01, -3.66216690e+00,  1.99264333e+01,\n       -2.96602016e+01,  4.58976625e+01,  1.02613197e+01,  3.76230780e+01,\n        1.35429929e+01, -2.26877368e+01,  2.68332785e+01, -9.14027722e+01,\n        5.60965667e+01,  1.75459064e+01, -3.86496152e+01, -7.69194078e+01,\n        7.60224658e+01, -4.90230804e+01, -1.43473519e+01,  1.10271331e+01,\n        5.15474491e+01,  4.11272544e+01,  1.90069365e+01,  7.12665600e+01,\n        3.40646700e+01,  3.21812416e+01, -4.36377720e+01, -1.22902331e+02,\n       -6.71744660e+01,  4.22756714e+01,  8.72615837e+01, -6.11779361e+01,\n       -1.81737837e+01, -3.43348264e+01,  4.48304164e+01, -6.46353752e+01,\n       -8.78267772e+01, -3.87895318e+01, -7.65060962e+01, -5.13692001e+01,\n       -8.05718714e+01,  8.66941491e+01,  1.67057365e+02,  5.67537368e+01,\n       -9.82888641e+01,  8.54527274e+01,  4.24270177e+01,  2.32884724e+01,\n        7.55045309e+00,  4.73293769e+01,  3.32206428e+01, -6.33819104e+01,\n       -2.57307564e+01,  5.39937008e+00,  2.72661982e+01,  8.74666735e+00,\n        3.08197046e+01, -5.79063478e+00, -7.79293242e+01,  2.92221935e+00,\n       -3.64042263e+01,  6.12617674e+00, -2.59289253e+01,  4.59394960e+01])"
     },
     "execution_count": 158,
     "metadata": {},
     "output_type": "execute_result"
    }
   ],
   "source": [
    "bay_poly_model.named_steps[\"bayessian\"].coef_"
   ],
   "metadata": {
    "collapsed": false,
    "pycharm": {
     "name": "#%%\n"
    }
   }
  },
  {
   "cell_type": "markdown",
   "source": [
    "# Using all features, without average"
   ],
   "metadata": {
    "collapsed": false,
    "pycharm": {
     "name": "#%% md\n"
    }
   }
  },
  {
   "cell_type": "markdown",
   "source": [
    "### Split data"
   ],
   "metadata": {
    "collapsed": false,
    "pycharm": {
     "name": "#%% md\n"
    }
   }
  },
  {
   "cell_type": "code",
   "execution_count": 90,
   "outputs": [
    {
     "data": {
      "text/plain": "                           001fcx00211.pv  001fcx00221.pv  001fcx00231.pv  \\\n2020-09-30 22:00:00+00:00       56.729077       54.724422       11.966905   \n2020-09-30 23:00:00+00:00       55.309363       55.327746       11.544775   \n2020-10-01 00:00:00+00:00       54.703949       54.957514       11.053689   \n2020-10-01 00:30:00+00:00       55.000000       55.224717       10.980221   \n2020-10-01 01:00:00+00:00       55.886746       54.869892       11.057164   \n...                                   ...             ...             ...   \n2022-01-31 18:00:00+00:00       59.180029       58.900365       10.019018   \n2022-01-31 19:00:00+00:00       58.895968       58.911688       10.013093   \n2022-01-31 20:00:00+00:00       59.073501       59.593765       10.064700   \n2022-01-31 21:00:00+00:00       57.774647       58.738514        9.989189   \n2022-01-31 22:00:00+00:00       57.771875       57.757476       10.145746   \n\n                           001fcx00241.pv  001fir01307.daca.pv  \\\n2020-09-30 22:00:00+00:00       22.493207           108.702362   \n2020-09-30 23:00:00+00:00       22.702118           108.378922   \n2020-10-01 00:00:00+00:00       20.013150           109.861116   \n2020-10-01 00:30:00+00:00       19.902115           109.585113   \n2020-10-01 01:00:00+00:00       21.069357           109.757104   \n...                                   ...                  ...   \n2022-01-31 18:00:00+00:00       32.147630           103.049852   \n2022-01-31 19:00:00+00:00       31.719701           102.570421   \n2022-01-31 20:00:00+00:00       30.158128           102.197750   \n2022-01-31 21:00:00+00:00       28.000376           102.266821   \n2022-01-31 22:00:00+00:00       27.917341           101.391429   \n\n                           001fir01308.daca.pv  001fir01309.daca.pv  \\\n2020-09-30 22:00:00+00:00           112.280388           110.013796   \n2020-09-30 23:00:00+00:00           112.237887           109.862477   \n2020-10-01 00:00:00+00:00           112.517942           110.237388   \n2020-10-01 00:30:00+00:00           112.805842           110.151395   \n2020-10-01 01:00:00+00:00           112.602264           110.165194   \n...                                        ...                  ...   \n2022-01-31 18:00:00+00:00            98.548160           102.593229   \n2022-01-31 19:00:00+00:00            98.549435           102.571353   \n2022-01-31 20:00:00+00:00            98.577139           102.375469   \n2022-01-31 21:00:00+00:00            98.477571           102.374577   \n2022-01-31 22:00:00+00:00            98.412132           102.289610   \n\n                           001fir01310.daca.pv  001fir01311.daca.pv  \\\n2020-09-30 22:00:00+00:00           108.761583           110.604901   \n2020-09-30 23:00:00+00:00           109.128895           110.520359   \n2020-10-01 00:00:00+00:00           109.214988           110.434876   \n2020-10-01 00:30:00+00:00           108.958777           110.694621   \n2020-10-01 01:00:00+00:00           109.178997           110.596014   \n...                                        ...                  ...   \n2022-01-31 18:00:00+00:00           102.306346           100.762990   \n2022-01-31 19:00:00+00:00           102.108130           100.757045   \n2022-01-31 20:00:00+00:00           102.194845           100.746604   \n2022-01-31 21:00:00+00:00           102.107050           100.649014   \n2022-01-31 22:00:00+00:00           101.947733           100.557962   \n\n                           001fir01312.daca.pv  ...  001uxm0rf02.daca.pv  \\\n2020-09-30 22:00:00+00:00           104.500427  ...            92.024078   \n2020-09-30 23:00:00+00:00           104.410075  ...            92.033540   \n2020-10-01 00:00:00+00:00           104.657074  ...            92.056562   \n2020-10-01 00:30:00+00:00           104.680675  ...            92.068073   \n2020-10-01 01:00:00+00:00           104.695973  ...            92.076607   \n...                                        ...  ...                  ...   \n2022-01-31 18:00:00+00:00            97.234765  ...            98.130381   \n2022-01-31 19:00:00+00:00            97.183075  ...            98.131138   \n2022-01-31 20:00:00+00:00            97.138241  ...            98.130569   \n2022-01-31 21:00:00+00:00            97.129910  ...            98.130687   \n2022-01-31 22:00:00+00:00            97.115218  ...            98.125026   \n\n                           001uxm0rf03.daca.pv  037tix00254.daca.pv  \\\n2020-09-30 22:00:00+00:00            92.405281            24.665309   \n2020-09-30 23:00:00+00:00            92.402722            24.585718   \n2020-10-01 00:00:00+00:00            92.400504            24.564115   \n2020-10-01 00:30:00+00:00            92.403063            24.610243   \n2020-10-01 01:00:00+00:00            92.405623            24.605002   \n...                                        ...                  ...   \n2022-01-31 18:00:00+00:00            98.257987            24.401280   \n2022-01-31 19:00:00+00:00            98.234942            24.301374   \n2022-01-31 20:00:00+00:00            98.218519            24.326187   \n2022-01-31 21:00:00+00:00            98.221079            24.290438   \n2022-01-31 22:00:00+00:00            98.223638            24.343936   \n\n                           037tix00264.daca.pv  prazonka_fe  prazonka_s  \\\n2020-09-30 22:00:00+00:00            24.526161         4.48        8.98   \n2020-09-30 23:00:00+00:00            24.448561         4.48        8.98   \n2020-10-01 00:00:00+00:00            24.484372         4.48        8.98   \n2020-10-01 00:30:00+00:00            24.517869         4.48        8.98   \n2020-10-01 01:00:00+00:00            24.488603         4.30        7.84   \n...                                        ...          ...         ...   \n2022-01-31 18:00:00+00:00            24.226479         6.38        9.12   \n2022-01-31 19:00:00+00:00            24.145683         6.38        9.12   \n2022-01-31 20:00:00+00:00            24.222134         6.38        9.12   \n2022-01-31 21:00:00+00:00            24.144540         6.38        9.12   \n2022-01-31 22:00:00+00:00            24.183542         6.18        8.89   \n\n                           prob_corg  prob_fe  prob_s  temp_zuz  \n2020-09-30 22:00:00+00:00       8.60     4.55    9.87    1297.0  \n2020-09-30 23:00:00+00:00       8.60     4.55    9.87    1295.0  \n2020-10-01 00:00:00+00:00       8.60     4.55    9.87    1303.0  \n2020-10-01 00:30:00+00:00       8.60     4.55    9.87    1302.0  \n2020-10-01 01:00:00+00:00       8.61     4.58    9.74    1303.0  \n...                              ...      ...     ...       ...  \n2022-01-31 18:00:00+00:00       7.74     6.06   11.26    1300.0  \n2022-01-31 19:00:00+00:00       7.74     6.06   11.26    1305.0  \n2022-01-31 20:00:00+00:00       7.74     6.06   11.26    1304.0  \n2022-01-31 21:00:00+00:00       7.74     6.06   11.26    1308.0  \n2022-01-31 22:00:00+00:00       7.80     6.65   12.47    1309.0  \n\n[11377 rows x 58 columns]",
      "text/html": "<div>\n<style scoped>\n    .dataframe tbody tr th:only-of-type {\n        vertical-align: middle;\n    }\n\n    .dataframe tbody tr th {\n        vertical-align: top;\n    }\n\n    .dataframe thead th {\n        text-align: right;\n    }\n</style>\n<table border=\"1\" class=\"dataframe\">\n  <thead>\n    <tr style=\"text-align: right;\">\n      <th></th>\n      <th>001fcx00211.pv</th>\n      <th>001fcx00221.pv</th>\n      <th>001fcx00231.pv</th>\n      <th>001fcx00241.pv</th>\n      <th>001fir01307.daca.pv</th>\n      <th>001fir01308.daca.pv</th>\n      <th>001fir01309.daca.pv</th>\n      <th>001fir01310.daca.pv</th>\n      <th>001fir01311.daca.pv</th>\n      <th>001fir01312.daca.pv</th>\n      <th>...</th>\n      <th>001uxm0rf02.daca.pv</th>\n      <th>001uxm0rf03.daca.pv</th>\n      <th>037tix00254.daca.pv</th>\n      <th>037tix00264.daca.pv</th>\n      <th>prazonka_fe</th>\n      <th>prazonka_s</th>\n      <th>prob_corg</th>\n      <th>prob_fe</th>\n      <th>prob_s</th>\n      <th>temp_zuz</th>\n    </tr>\n  </thead>\n  <tbody>\n    <tr>\n      <th>2020-09-30 22:00:00+00:00</th>\n      <td>56.729077</td>\n      <td>54.724422</td>\n      <td>11.966905</td>\n      <td>22.493207</td>\n      <td>108.702362</td>\n      <td>112.280388</td>\n      <td>110.013796</td>\n      <td>108.761583</td>\n      <td>110.604901</td>\n      <td>104.500427</td>\n      <td>...</td>\n      <td>92.024078</td>\n      <td>92.405281</td>\n      <td>24.665309</td>\n      <td>24.526161</td>\n      <td>4.48</td>\n      <td>8.98</td>\n      <td>8.60</td>\n      <td>4.55</td>\n      <td>9.87</td>\n      <td>1297.0</td>\n    </tr>\n    <tr>\n      <th>2020-09-30 23:00:00+00:00</th>\n      <td>55.309363</td>\n      <td>55.327746</td>\n      <td>11.544775</td>\n      <td>22.702118</td>\n      <td>108.378922</td>\n      <td>112.237887</td>\n      <td>109.862477</td>\n      <td>109.128895</td>\n      <td>110.520359</td>\n      <td>104.410075</td>\n      <td>...</td>\n      <td>92.033540</td>\n      <td>92.402722</td>\n      <td>24.585718</td>\n      <td>24.448561</td>\n      <td>4.48</td>\n      <td>8.98</td>\n      <td>8.60</td>\n      <td>4.55</td>\n      <td>9.87</td>\n      <td>1295.0</td>\n    </tr>\n    <tr>\n      <th>2020-10-01 00:00:00+00:00</th>\n      <td>54.703949</td>\n      <td>54.957514</td>\n      <td>11.053689</td>\n      <td>20.013150</td>\n      <td>109.861116</td>\n      <td>112.517942</td>\n      <td>110.237388</td>\n      <td>109.214988</td>\n      <td>110.434876</td>\n      <td>104.657074</td>\n      <td>...</td>\n      <td>92.056562</td>\n      <td>92.400504</td>\n      <td>24.564115</td>\n      <td>24.484372</td>\n      <td>4.48</td>\n      <td>8.98</td>\n      <td>8.60</td>\n      <td>4.55</td>\n      <td>9.87</td>\n      <td>1303.0</td>\n    </tr>\n    <tr>\n      <th>2020-10-01 00:30:00+00:00</th>\n      <td>55.000000</td>\n      <td>55.224717</td>\n      <td>10.980221</td>\n      <td>19.902115</td>\n      <td>109.585113</td>\n      <td>112.805842</td>\n      <td>110.151395</td>\n      <td>108.958777</td>\n      <td>110.694621</td>\n      <td>104.680675</td>\n      <td>...</td>\n      <td>92.068073</td>\n      <td>92.403063</td>\n      <td>24.610243</td>\n      <td>24.517869</td>\n      <td>4.48</td>\n      <td>8.98</td>\n      <td>8.60</td>\n      <td>4.55</td>\n      <td>9.87</td>\n      <td>1302.0</td>\n    </tr>\n    <tr>\n      <th>2020-10-01 01:00:00+00:00</th>\n      <td>55.886746</td>\n      <td>54.869892</td>\n      <td>11.057164</td>\n      <td>21.069357</td>\n      <td>109.757104</td>\n      <td>112.602264</td>\n      <td>110.165194</td>\n      <td>109.178997</td>\n      <td>110.596014</td>\n      <td>104.695973</td>\n      <td>...</td>\n      <td>92.076607</td>\n      <td>92.405623</td>\n      <td>24.605002</td>\n      <td>24.488603</td>\n      <td>4.30</td>\n      <td>7.84</td>\n      <td>8.61</td>\n      <td>4.58</td>\n      <td>9.74</td>\n      <td>1303.0</td>\n    </tr>\n    <tr>\n      <th>...</th>\n      <td>...</td>\n      <td>...</td>\n      <td>...</td>\n      <td>...</td>\n      <td>...</td>\n      <td>...</td>\n      <td>...</td>\n      <td>...</td>\n      <td>...</td>\n      <td>...</td>\n      <td>...</td>\n      <td>...</td>\n      <td>...</td>\n      <td>...</td>\n      <td>...</td>\n      <td>...</td>\n      <td>...</td>\n      <td>...</td>\n      <td>...</td>\n      <td>...</td>\n      <td>...</td>\n    </tr>\n    <tr>\n      <th>2022-01-31 18:00:00+00:00</th>\n      <td>59.180029</td>\n      <td>58.900365</td>\n      <td>10.019018</td>\n      <td>32.147630</td>\n      <td>103.049852</td>\n      <td>98.548160</td>\n      <td>102.593229</td>\n      <td>102.306346</td>\n      <td>100.762990</td>\n      <td>97.234765</td>\n      <td>...</td>\n      <td>98.130381</td>\n      <td>98.257987</td>\n      <td>24.401280</td>\n      <td>24.226479</td>\n      <td>6.38</td>\n      <td>9.12</td>\n      <td>7.74</td>\n      <td>6.06</td>\n      <td>11.26</td>\n      <td>1300.0</td>\n    </tr>\n    <tr>\n      <th>2022-01-31 19:00:00+00:00</th>\n      <td>58.895968</td>\n      <td>58.911688</td>\n      <td>10.013093</td>\n      <td>31.719701</td>\n      <td>102.570421</td>\n      <td>98.549435</td>\n      <td>102.571353</td>\n      <td>102.108130</td>\n      <td>100.757045</td>\n      <td>97.183075</td>\n      <td>...</td>\n      <td>98.131138</td>\n      <td>98.234942</td>\n      <td>24.301374</td>\n      <td>24.145683</td>\n      <td>6.38</td>\n      <td>9.12</td>\n      <td>7.74</td>\n      <td>6.06</td>\n      <td>11.26</td>\n      <td>1305.0</td>\n    </tr>\n    <tr>\n      <th>2022-01-31 20:00:00+00:00</th>\n      <td>59.073501</td>\n      <td>59.593765</td>\n      <td>10.064700</td>\n      <td>30.158128</td>\n      <td>102.197750</td>\n      <td>98.577139</td>\n      <td>102.375469</td>\n      <td>102.194845</td>\n      <td>100.746604</td>\n      <td>97.138241</td>\n      <td>...</td>\n      <td>98.130569</td>\n      <td>98.218519</td>\n      <td>24.326187</td>\n      <td>24.222134</td>\n      <td>6.38</td>\n      <td>9.12</td>\n      <td>7.74</td>\n      <td>6.06</td>\n      <td>11.26</td>\n      <td>1304.0</td>\n    </tr>\n    <tr>\n      <th>2022-01-31 21:00:00+00:00</th>\n      <td>57.774647</td>\n      <td>58.738514</td>\n      <td>9.989189</td>\n      <td>28.000376</td>\n      <td>102.266821</td>\n      <td>98.477571</td>\n      <td>102.374577</td>\n      <td>102.107050</td>\n      <td>100.649014</td>\n      <td>97.129910</td>\n      <td>...</td>\n      <td>98.130687</td>\n      <td>98.221079</td>\n      <td>24.290438</td>\n      <td>24.144540</td>\n      <td>6.38</td>\n      <td>9.12</td>\n      <td>7.74</td>\n      <td>6.06</td>\n      <td>11.26</td>\n      <td>1308.0</td>\n    </tr>\n    <tr>\n      <th>2022-01-31 22:00:00+00:00</th>\n      <td>57.771875</td>\n      <td>57.757476</td>\n      <td>10.145746</td>\n      <td>27.917341</td>\n      <td>101.391429</td>\n      <td>98.412132</td>\n      <td>102.289610</td>\n      <td>101.947733</td>\n      <td>100.557962</td>\n      <td>97.115218</td>\n      <td>...</td>\n      <td>98.125026</td>\n      <td>98.223638</td>\n      <td>24.343936</td>\n      <td>24.183542</td>\n      <td>6.18</td>\n      <td>8.89</td>\n      <td>7.80</td>\n      <td>6.65</td>\n      <td>12.47</td>\n      <td>1309.0</td>\n    </tr>\n  </tbody>\n</table>\n<p>11377 rows × 58 columns</p>\n</div>"
     },
     "execution_count": 90,
     "metadata": {},
     "output_type": "execute_result"
    }
   ],
   "source": [
    "all_df = org_df.dropna()\n",
    "all_df"
   ],
   "metadata": {
    "collapsed": false,
    "pycharm": {
     "name": "#%%\n"
    }
   }
  },
  {
   "cell_type": "code",
   "execution_count": 91,
   "outputs": [],
   "source": [
    "train_a, val_a, test_a = split(all_df)"
   ],
   "metadata": {
    "collapsed": false,
    "pycharm": {
     "name": "#%%\n"
    }
   }
  },
  {
   "cell_type": "code",
   "execution_count": 92,
   "outputs": [],
   "source": [
    "X_train_a, X_val_a, X_test_a = train_a.drop([\"temp_zuz\"], axis=1), val_a.drop([\"temp_zuz\"], axis=1), test_a.drop([\"temp_zuz\"], axis=1)\n",
    "y_train_a, y_val_a, y_test_a = train_a[\"temp_zuz\"], val_a[\"temp_zuz\"], test_a[\"temp_zuz\"]"
   ],
   "metadata": {
    "collapsed": false,
    "pycharm": {
     "name": "#%%\n"
    }
   }
  },
  {
   "cell_type": "markdown",
   "source": [
    "### Polynomial Regression"
   ],
   "metadata": {
    "collapsed": false,
    "pycharm": {
     "name": "#%% md\n"
    }
   }
  },
  {
   "cell_type": "code",
   "execution_count": 93,
   "outputs": [
    {
     "data": {
      "text/plain": "3668115.416767741"
     },
     "execution_count": 93,
     "metadata": {},
     "output_type": "execute_result"
    }
   ],
   "source": [
    "poly_model_all = Pipeline([('poly', preprocessing.PolynomialFeatures(degree=2)),\n",
    "                          ('linear', linear_model.LinearRegression(fit_intercept=False))])\n",
    "poly_model_all = poly_model_all.fit(X_train_a, y_train_a)\n",
    "metrics.mean_squared_error(y_val_a, poly_model_all.predict(X_val_a))"
   ],
   "metadata": {
    "collapsed": false,
    "pycharm": {
     "name": "#%%\n"
    }
   }
  },
  {
   "cell_type": "markdown",
   "source": [
    "### Poly + SGD Regression"
   ],
   "metadata": {
    "collapsed": false,
    "pycharm": {
     "name": "#%% md\n"
    }
   }
  },
  {
   "cell_type": "code",
   "execution_count": 94,
   "outputs": [
    {
     "data": {
      "text/plain": "6.053012405180626e+21"
     },
     "execution_count": 94,
     "metadata": {},
     "output_type": "execute_result"
    }
   ],
   "source": [
    "sgd_poly_model_all = Pipeline([('poly', preprocessing.PolynomialFeatures(degree=2)),\n",
    "                            ('normalization', preprocessing.StandardScaler()),\n",
    "                            ('sgd', linear_model.SGDRegressor(max_iter=100000, tol=1e-3, penalty='elasticnet', learning_rate='adaptive'))])\n",
    "sgd_poly_model_all = sgd_poly_model_all.fit(X_train_a, y_train_a)\n",
    "metrics.mean_squared_error(y_val_a, sgd_poly_model_all.predict(X_val_a))"
   ],
   "metadata": {
    "collapsed": false,
    "pycharm": {
     "name": "#%%\n"
    }
   }
  },
  {
   "cell_type": "markdown",
   "source": [
    "Wniosek: zdecydowanie nie chcemy brać wszystkich feauterów"
   ],
   "metadata": {
    "collapsed": false,
    "pycharm": {
     "name": "#%% md\n"
    }
   }
  },
  {
   "cell_type": "markdown",
   "source": [
    "# Adding PR to features"
   ],
   "metadata": {
    "collapsed": false,
    "pycharm": {
     "name": "#%% md\n"
    }
   }
  },
  {
   "cell_type": "code",
   "execution_count": 160,
   "outputs": [],
   "source": [
    "# wrzucam o prażonkach i prob\n",
    "PR = org_df.columns[org_df.columns.str.contains('pr')].values\n",
    "pr_df[PR] = org_df[PR]"
   ],
   "metadata": {
    "collapsed": false,
    "pycharm": {
     "name": "#%%\n"
    }
   }
  },
  {
   "cell_type": "code",
   "execution_count": 161,
   "outputs": [],
   "source": [
    "# split data\n",
    "pr_df = pr_df.dropna(axis=0)\n",
    "train, val, test = split(pr_df)\n",
    "X_train, X_val, X_test = train.drop([\"TEMP_ZUZ\"], axis=1), val.drop([\"TEMP_ZUZ\"], axis=1), test.drop([\"TEMP_ZUZ\"], axis=1)\n",
    "y_train, y_val, y_test = train[\"TEMP_ZUZ\"], val[\"TEMP_ZUZ\"], test[\"TEMP_ZUZ\"]"
   ],
   "metadata": {
    "collapsed": false,
    "pycharm": {
     "name": "#%%\n"
    }
   }
  },
  {
   "cell_type": "markdown",
   "source": [
    "X_train"
   ],
   "metadata": {
    "collapsed": false,
    "pycharm": {
     "name": "#%% md\n"
    }
   }
  },
  {
   "cell_type": "code",
   "execution_count": 163,
   "outputs": [
    {
     "data": {
      "text/plain": "2020-09-30 22:00:00+00:00    1297.0\n2020-09-30 23:00:00+00:00    1295.0\n2020-10-01 00:00:00+00:00    1303.0\n2020-10-01 00:30:00+00:00    1302.0\n2020-10-01 01:00:00+00:00    1303.0\n                              ...  \n2021-09-05 20:00:00+00:00    1306.0\n2021-09-05 21:00:00+00:00    1303.0\n2021-09-05 22:00:00+00:00    1301.0\n2021-09-05 23:00:00+00:00    1304.0\n2021-09-06 00:00:00+00:00    1306.0\nName: TEMP_ZUZ, Length: 7963, dtype: float64"
     },
     "execution_count": 163,
     "metadata": {},
     "output_type": "execute_result"
    }
   ],
   "source": [
    "y_train"
   ],
   "metadata": {
    "collapsed": false,
    "pycharm": {
     "name": "#%%\n"
    }
   }
  },
  {
   "cell_type": "markdown",
   "source": [
    "### Poly + SGD Regression"
   ],
   "metadata": {
    "collapsed": false,
    "pycharm": {
     "name": "#%% md\n"
    }
   }
  },
  {
   "cell_type": "code",
   "execution_count": 84,
   "outputs": [
    {
     "data": {
      "text/plain": "566402038.8214126"
     },
     "execution_count": 84,
     "metadata": {},
     "output_type": "execute_result"
    }
   ],
   "source": [
    "sgd_poly_model_pr = Pipeline([('poly', preprocessing.PolynomialFeatures(degree=2)),\n",
    "                            ('normalization', preprocessing.StandardScaler()),\n",
    "                            ('sgd', linear_model.SGDRegressor(max_iter=100000, tol=1e-3, penalty='l2', learning_rate='adaptive'))])\n",
    "sgd_poly_model_pr = sgd_poly_model_pr.fit(X_train, y_train)\n",
    "metrics.mean_squared_error(y_val, sgd_poly_model_pr.predict(X_val))"
   ],
   "metadata": {
    "collapsed": false,
    "pycharm": {
     "name": "#%%\n"
    }
   }
  },
  {
   "cell_type": "code",
   "execution_count": 164,
   "outputs": [
    {
     "data": {
      "text/plain": "array([ 0.00000000e+00, -5.80654818e+03,  3.07434180e+03,  9.86322418e+03,\n       -2.16307564e+04, -7.01697444e+01, -1.58365893e+04, -8.15712936e+03,\n       -7.98387634e+03, -7.65621816e+02,  1.69223360e+04, -1.83406217e+04,\n        3.73863818e+03,  9.36372092e+02,  9.11560303e+03, -1.09026289e+02,\n       -7.75076973e+03, -1.57565450e+03, -6.37547856e+03,  7.42347560e+03,\n       -9.49543760e+03,  3.06919304e+03,  5.66262907e+03, -1.10226481e+04,\n        4.05522179e+03, -7.09109463e+03,  6.40737195e+04, -5.78050497e+04,\n        4.21629472e+03,  4.80280565e+04, -3.20081667e+04, -3.10269830e+03,\n        1.24121283e+04, -3.80249956e+03, -5.53390875e+03, -8.76080897e+03,\n       -3.35753139e+04, -3.16496657e+04, -1.62432005e+04, -9.81468484e+03,\n        6.18371470e+04,  4.26234624e+04, -5.97521842e+04, -3.97976734e+04,\n        2.69002394e+04, -2.08418262e+04, -2.79548228e+04,  7.89189178e+04,\n        1.16925918e+04,  4.08677570e+04,  3.82114850e+04,  3.79329408e+04,\n       -2.16947814e+03,  5.19262541e+04,  1.23027748e+04,  7.87652569e+03,\n        2.68786125e+04, -3.05443634e+04, -8.49753934e+03,  1.57730744e+04,\n       -1.63707617e+04, -3.09643080e+04, -2.36554065e+04,  5.02272690e+04,\n        2.04492275e+04, -3.32336189e+04,  8.92323805e+03, -5.32770557e+04,\n        5.54942848e+03, -4.08925620e+04, -6.75422546e+04, -2.33229016e+04,\n        2.41538778e+04, -1.03880478e+04,  1.79787664e+04,  1.47168734e+04,\n        3.28792663e+03,  2.29833220e+03,  1.58201435e+04, -2.59121853e+04,\n        1.00338128e+04,  2.36316955e+04, -8.52569029e+03, -2.21817872e+04,\n       -2.24927144e+04,  2.43285345e+04, -3.81734977e+04, -1.35537104e+04,\n        2.17599647e+04,  1.29921820e+04,  2.01327433e+04])"
     },
     "execution_count": 164,
     "metadata": {},
     "output_type": "execute_result"
    }
   ],
   "source": [
    "sgd_poly_model_pr.named_steps[\"sgd\"].coef_"
   ],
   "metadata": {
    "collapsed": false,
    "pycharm": {
     "name": "#%%\n"
    }
   }
  },
  {
   "cell_type": "markdown",
   "source": [
    "### SGD Regression"
   ],
   "metadata": {
    "collapsed": false,
    "pycharm": {
     "name": "#%% md\n"
    }
   }
  },
  {
   "cell_type": "code",
   "execution_count": 165,
   "outputs": [
    {
     "data": {
      "text/plain": "78.12499659869678"
     },
     "execution_count": 165,
     "metadata": {},
     "output_type": "execute_result"
    }
   ],
   "source": [
    "sgd_model_pr = Pipeline([('normalization', preprocessing.StandardScaler()),\n",
    "                       ('sgd', linear_model.SGDRegressor(max_iter=100000, tol=1e-3, penalty='l2', learning_rate='adaptive'))])\n",
    "sgd_model_pr = sgd_model_pr.fit(X_train, y_train)\n",
    "metrics.mean_squared_error(y_val, sgd_model_pr.predict(X_val))"
   ],
   "metadata": {
    "collapsed": false,
    "pycharm": {
     "name": "#%%\n"
    }
   }
  },
  {
   "cell_type": "code",
   "execution_count": 166,
   "outputs": [
    {
     "data": {
      "text/plain": "array([ 1.07951294,  0.37283907, -0.79076949,  1.68263232,  0.24696015,\n        0.68066671,  0.60738379,  0.08032435, -0.06346587,  0.30691705,\n        0.07899788,  0.52351158])"
     },
     "execution_count": 166,
     "metadata": {},
     "output_type": "execute_result"
    }
   ],
   "source": [
    "sgd_model_pr.named_steps[\"sgd\"].coef_"
   ],
   "metadata": {
    "collapsed": false,
    "pycharm": {
     "name": "#%%\n"
    }
   }
  },
  {
   "cell_type": "markdown",
   "source": [
    "### Poly + Ridge Regression"
   ],
   "metadata": {
    "collapsed": false,
    "pycharm": {
     "name": "#%% md\n"
    }
   }
  },
  {
   "cell_type": "code",
   "execution_count": 99,
   "outputs": [
    {
     "data": {
      "text/plain": "79.53811201031888"
     },
     "execution_count": 99,
     "metadata": {},
     "output_type": "execute_result"
    }
   ],
   "source": [
    "ridge_poly_model_pr = Pipeline([('poly', preprocessing.PolynomialFeatures(degree=3)),\n",
    "                            ('normalization', preprocessing.StandardScaler()),\n",
    "                            ('ridge', linear_model.Ridge(alpha=.5, solver='sag'))])\n",
    "ridge_poly_model_pr = ridge_poly_model_pr.fit(X_train, y_train)\n",
    "metrics.mean_squared_error(y_val, ridge_poly_model_pr.predict(X_val))"
   ],
   "metadata": {
    "collapsed": false,
    "pycharm": {
     "name": "#%%\n"
    }
   }
  },
  {
   "cell_type": "code",
   "execution_count": 100,
   "outputs": [
    {
     "data": {
      "text/plain": "77.6476214726276"
     },
     "execution_count": 100,
     "metadata": {},
     "output_type": "execute_result"
    }
   ],
   "source": [
    "ridge_poly_model_pr1 = Pipeline([('poly', preprocessing.PolynomialFeatures(degree=3)),\n",
    "                            ('normalization', preprocessing.StandardScaler()),\n",
    "                            ('ridge', linear_model.Ridge(alpha=.5, solver='svd'))])\n",
    "ridge_poly_model_pr1 = ridge_poly_model_pr1.fit(X_train, y_train)\n",
    "metrics.mean_squared_error(y_val, ridge_poly_model_pr1.predict(X_val))"
   ],
   "metadata": {
    "collapsed": false,
    "pycharm": {
     "name": "#%%\n"
    }
   }
  },
  {
   "cell_type": "code",
   "execution_count": 103,
   "outputs": [
    {
     "data": {
      "text/plain": "79.4660965356888"
     },
     "execution_count": 103,
     "metadata": {},
     "output_type": "execute_result"
    }
   ],
   "source": [
    "ridge_poly_model_pr2 = Pipeline([('poly', preprocessing.PolynomialFeatures(degree=3)),\n",
    "                            ('normalization', preprocessing.StandardScaler()),\n",
    "                            ('ridge', linear_model.Ridge(alpha=.5, solver='saga'))])\n",
    "ridge_poly_model_pr2 = ridge_poly_model_pr2.fit(X_train, y_train)\n",
    "metrics.mean_squared_error(y_val, ridge_poly_model_pr2.predict(X_val))"
   ],
   "metadata": {
    "collapsed": false,
    "pycharm": {
     "name": "#%%\n"
    }
   }
  },
  {
   "cell_type": "markdown",
   "source": [
    "### Ridge Regression"
   ],
   "metadata": {
    "collapsed": false,
    "pycharm": {
     "name": "#%% md\n"
    }
   }
  },
  {
   "cell_type": "code",
   "execution_count": 104,
   "outputs": [
    {
     "data": {
      "text/plain": "78.15592482417102"
     },
     "execution_count": 104,
     "metadata": {},
     "output_type": "execute_result"
    }
   ],
   "source": [
    "ridge_model_pr1 = Pipeline([('normalization', preprocessing.StandardScaler()),\n",
    "                            ('ridge', linear_model.Ridge(alpha=1, solver='cholesky'))])\n",
    "ridge_model_pr1 = ridge_model_pr1.fit(X_train, y_train)\n",
    "metrics.mean_squared_error(y_val, ridge_model_pr1.predict(X_val))"
   ],
   "metadata": {
    "collapsed": false,
    "pycharm": {
     "name": "#%%\n"
    }
   }
  },
  {
   "cell_type": "code",
   "execution_count": 167,
   "outputs": [
    {
     "data": {
      "text/plain": "array([ 1.08209998,  0.3691561 , -0.7964524 ,  1.66777108,  0.25955482,\n        0.68953828,  0.60649385,  0.07767323, -0.0602534 ,  0.30672109,\n        0.08191634,  0.52413647])"
     },
     "execution_count": 167,
     "metadata": {},
     "output_type": "execute_result"
    }
   ],
   "source": [
    "ridge_model_pr1.named_steps[\"ridge\"].coef_"
   ],
   "metadata": {
    "collapsed": false,
    "pycharm": {
     "name": "#%%\n"
    }
   }
  },
  {
   "cell_type": "code",
   "execution_count": 105,
   "outputs": [
    {
     "data": {
      "text/plain": "78.15381925985238"
     },
     "execution_count": 105,
     "metadata": {},
     "output_type": "execute_result"
    }
   ],
   "source": [
    "ridge_model_pr2 = Pipeline([('normalization', preprocessing.StandardScaler()),\n",
    "                            ('ridge', linear_model.Ridge(alpha=1, solver='sag'))])\n",
    "ridge_model_pr2 = ridge_model_pr2.fit(X_train, y_train)\n",
    "metrics.mean_squared_error(y_val, ridge_model_pr2.predict(X_val))"
   ],
   "metadata": {
    "collapsed": false,
    "pycharm": {
     "name": "#%%\n"
    }
   }
  },
  {
   "cell_type": "code",
   "execution_count": 106,
   "outputs": [
    {
     "data": {
      "text/plain": "78.15592482417102"
     },
     "execution_count": 106,
     "metadata": {},
     "output_type": "execute_result"
    }
   ],
   "source": [
    "ridge_model_pr3 = Pipeline([('normalization', preprocessing.StandardScaler()),\n",
    "                            ('ridge', linear_model.Ridge(alpha=1, solver='svd'))])\n",
    "ridge_model_pr3 = ridge_model_pr3.fit(X_train, y_train)\n",
    "metrics.mean_squared_error(y_val, ridge_model_pr3.predict(X_val))"
   ],
   "metadata": {
    "collapsed": false,
    "pycharm": {
     "name": "#%%\n"
    }
   }
  },
  {
   "cell_type": "markdown",
   "source": [
    "# Add pr, wentylatory i moc cieplną"
   ],
   "metadata": {
    "collapsed": false,
    "pycharm": {
     "name": "#%% md\n"
    }
   }
  },
  {
   "cell_type": "code",
   "execution_count": 192,
   "outputs": [],
   "source": [
    "# wrzucam o prażonkach i prob\n",
    "PR = org_df.columns[org_df.columns.str.contains('pr')].values\n",
    "prw_df[PR] = org_df[PR]"
   ],
   "metadata": {
    "collapsed": false,
    "pycharm": {
     "name": "#%%\n"
    }
   }
  },
  {
   "cell_type": "code",
   "execution_count": 193,
   "outputs": [],
   "source": [
    "# wentylatory\n",
    "UXM = org_df.columns[org_df.columns.str.contains('uxm')].values\n",
    "prw_df[UXM] = org_df[UXM]"
   ],
   "metadata": {
    "collapsed": false,
    "pycharm": {
     "name": "#%%\n"
    }
   }
  },
  {
   "cell_type": "code",
   "execution_count": 194,
   "outputs": [],
   "source": [
    "# dodać moc cieplną\n",
    "NIR = org_df.columns[org_df.columns.str.contains('nir')].values\n",
    "prw_df[NIR] = org_df[NIR]"
   ],
   "metadata": {
    "collapsed": false,
    "pycharm": {
     "name": "#%%\n"
    }
   }
  },
  {
   "cell_type": "code",
   "execution_count": 195,
   "outputs": [],
   "source": [
    "# dodać temp na kol\n",
    "TXI = org_df.columns[org_df.columns.str.contains('txi')].values\n",
    "prw_df[TXI] = org_df[TXI]"
   ],
   "metadata": {
    "collapsed": false,
    "pycharm": {
     "name": "#%%\n"
    }
   }
  },
  {
   "cell_type": "code",
   "execution_count": 196,
   "outputs": [
    {
     "data": {
      "text/plain": "                                 TIX1        TIR  001fcx00211.pv  \\\n2020-09-30 22:00:00+00:00  418.990965  29.086390       56.729077   \n2020-09-30 23:00:00+00:00  418.911544  29.000256       55.309363   \n2020-10-01 00:00:00+00:00  418.820059  29.021386       54.703949   \n2020-10-01 00:30:00+00:00  418.777284  29.064571       55.000000   \n2020-10-01 01:00:00+00:00  418.735368  29.092727       55.886746   \n...                               ...        ...             ...   \n2022-01-31 18:00:00+00:00  418.284737  27.694067       59.180029   \n2022-01-31 19:00:00+00:00  418.138199  27.760225       58.895968   \n2022-01-31 20:00:00+00:00  418.012402  27.761558       59.073501   \n2022-01-31 21:00:00+00:00  417.939267  27.704117       57.774647   \n2022-01-31 22:00:00+00:00  417.865419  27.812696       57.771875   \n\n                           001fcx00221.pv  001fcx00231.pv  001fcx00241.pv  \\\n2020-09-30 22:00:00+00:00       54.724422       11.966905       22.493207   \n2020-09-30 23:00:00+00:00       55.327746       11.544775       22.702118   \n2020-10-01 00:00:00+00:00       54.957514       11.053689       20.013150   \n2020-10-01 00:30:00+00:00       55.224717       10.980221       19.902115   \n2020-10-01 01:00:00+00:00       54.869892       11.057164       21.069357   \n...                                   ...             ...             ...   \n2022-01-31 18:00:00+00:00       58.900365       10.019018       32.147630   \n2022-01-31 19:00:00+00:00       58.911688       10.013093       31.719701   \n2022-01-31 20:00:00+00:00       59.593765       10.064700       30.158128   \n2022-01-31 21:00:00+00:00       58.738514        9.989189       28.000376   \n2022-01-31 22:00:00+00:00       57.757476       10.145746       27.917341   \n\n                           001nir0szr0.daca.pv  TEMP_ZUZ  prazonka_fe  \\\n2020-09-30 22:00:00+00:00            14.362428    1297.0         4.48   \n2020-09-30 23:00:00+00:00            14.978720    1295.0         4.48   \n2020-10-01 00:00:00+00:00            15.199544    1303.0         4.48   \n2020-10-01 00:30:00+00:00            14.815123    1302.0         4.48   \n2020-10-01 01:00:00+00:00            14.617263    1303.0         4.30   \n...                                        ...       ...          ...   \n2022-01-31 18:00:00+00:00            15.607105    1300.0         6.38   \n2022-01-31 19:00:00+00:00            14.846545    1305.0         6.38   \n2022-01-31 20:00:00+00:00            15.967954    1304.0         6.38   \n2022-01-31 21:00:00+00:00            16.147269    1308.0         6.38   \n2022-01-31 22:00:00+00:00            16.379607    1309.0         6.18   \n\n                           prazonka_s  prob_corg  prob_fe  prob_s  \\\n2020-09-30 22:00:00+00:00        8.98       8.60     4.55    9.87   \n2020-09-30 23:00:00+00:00        8.98       8.60     4.55    9.87   \n2020-10-01 00:00:00+00:00        8.98       8.60     4.55    9.87   \n2020-10-01 00:30:00+00:00        8.98       8.60     4.55    9.87   \n2020-10-01 01:00:00+00:00        7.84       8.61     4.58    9.74   \n...                               ...        ...      ...     ...   \n2022-01-31 18:00:00+00:00        9.12       7.74     6.06   11.26   \n2022-01-31 19:00:00+00:00        9.12       7.74     6.06   11.26   \n2022-01-31 20:00:00+00:00        9.12       7.74     6.06   11.26   \n2022-01-31 21:00:00+00:00        9.12       7.74     6.06   11.26   \n2022-01-31 22:00:00+00:00        8.89       7.80     6.65   12.47   \n\n                           001uxm0rf01.daca.pv  001uxm0rf02.daca.pv  \\\n2020-09-30 22:00:00+00:00            92.090454            92.024078   \n2020-09-30 23:00:00+00:00            92.129309            92.033540   \n2020-10-01 00:00:00+00:00            92.104858            92.056562   \n2020-10-01 00:30:00+00:00            92.114715            92.068073   \n2020-10-01 01:00:00+00:00            92.091896            92.076607   \n...                                        ...                  ...   \n2022-01-31 18:00:00+00:00            98.037160            98.130381   \n2022-01-31 19:00:00+00:00            98.057871            98.131138   \n2022-01-31 20:00:00+00:00            98.065827            98.130569   \n2022-01-31 21:00:00+00:00            98.016144            98.130687   \n2022-01-31 22:00:00+00:00            98.016144            98.125026   \n\n                           001uxm0rf03.daca.pv  001txi01153.daca.pv  \\\n2020-09-30 22:00:00+00:00            92.405281            19.126427   \n2020-09-30 23:00:00+00:00            92.402722            18.885216   \n2020-10-01 00:00:00+00:00            92.400504            18.612499   \n2020-10-01 00:30:00+00:00            92.403063            18.455667   \n2020-10-01 01:00:00+00:00            92.405623            18.075895   \n...                                        ...                  ...   \n2022-01-31 18:00:00+00:00            98.257987             9.714017   \n2022-01-31 19:00:00+00:00            98.234942             9.762848   \n2022-01-31 20:00:00+00:00            98.218519             9.548869   \n2022-01-31 21:00:00+00:00            98.221079             9.311281   \n2022-01-31 22:00:00+00:00            98.223638             9.257357   \n\n                           001txi01154.daca.pv  \n2020-09-30 22:00:00+00:00            19.929581  \n2020-09-30 23:00:00+00:00            19.536727  \n2020-10-01 00:00:00+00:00            19.254154  \n2020-10-01 00:30:00+00:00            19.196964  \n2020-10-01 01:00:00+00:00            18.785391  \n...                                        ...  \n2022-01-31 18:00:00+00:00            10.275810  \n2022-01-31 19:00:00+00:00            10.447076  \n2022-01-31 20:00:00+00:00            10.267305  \n2022-01-31 21:00:00+00:00             9.778013  \n2022-01-31 22:00:00+00:00             9.673571  \n\n[11377 rows x 18 columns]",
      "text/html": "<div>\n<style scoped>\n    .dataframe tbody tr th:only-of-type {\n        vertical-align: middle;\n    }\n\n    .dataframe tbody tr th {\n        vertical-align: top;\n    }\n\n    .dataframe thead th {\n        text-align: right;\n    }\n</style>\n<table border=\"1\" class=\"dataframe\">\n  <thead>\n    <tr style=\"text-align: right;\">\n      <th></th>\n      <th>TIX1</th>\n      <th>TIR</th>\n      <th>001fcx00211.pv</th>\n      <th>001fcx00221.pv</th>\n      <th>001fcx00231.pv</th>\n      <th>001fcx00241.pv</th>\n      <th>001nir0szr0.daca.pv</th>\n      <th>TEMP_ZUZ</th>\n      <th>prazonka_fe</th>\n      <th>prazonka_s</th>\n      <th>prob_corg</th>\n      <th>prob_fe</th>\n      <th>prob_s</th>\n      <th>001uxm0rf01.daca.pv</th>\n      <th>001uxm0rf02.daca.pv</th>\n      <th>001uxm0rf03.daca.pv</th>\n      <th>001txi01153.daca.pv</th>\n      <th>001txi01154.daca.pv</th>\n    </tr>\n  </thead>\n  <tbody>\n    <tr>\n      <th>2020-09-30 22:00:00+00:00</th>\n      <td>418.990965</td>\n      <td>29.086390</td>\n      <td>56.729077</td>\n      <td>54.724422</td>\n      <td>11.966905</td>\n      <td>22.493207</td>\n      <td>14.362428</td>\n      <td>1297.0</td>\n      <td>4.48</td>\n      <td>8.98</td>\n      <td>8.60</td>\n      <td>4.55</td>\n      <td>9.87</td>\n      <td>92.090454</td>\n      <td>92.024078</td>\n      <td>92.405281</td>\n      <td>19.126427</td>\n      <td>19.929581</td>\n    </tr>\n    <tr>\n      <th>2020-09-30 23:00:00+00:00</th>\n      <td>418.911544</td>\n      <td>29.000256</td>\n      <td>55.309363</td>\n      <td>55.327746</td>\n      <td>11.544775</td>\n      <td>22.702118</td>\n      <td>14.978720</td>\n      <td>1295.0</td>\n      <td>4.48</td>\n      <td>8.98</td>\n      <td>8.60</td>\n      <td>4.55</td>\n      <td>9.87</td>\n      <td>92.129309</td>\n      <td>92.033540</td>\n      <td>92.402722</td>\n      <td>18.885216</td>\n      <td>19.536727</td>\n    </tr>\n    <tr>\n      <th>2020-10-01 00:00:00+00:00</th>\n      <td>418.820059</td>\n      <td>29.021386</td>\n      <td>54.703949</td>\n      <td>54.957514</td>\n      <td>11.053689</td>\n      <td>20.013150</td>\n      <td>15.199544</td>\n      <td>1303.0</td>\n      <td>4.48</td>\n      <td>8.98</td>\n      <td>8.60</td>\n      <td>4.55</td>\n      <td>9.87</td>\n      <td>92.104858</td>\n      <td>92.056562</td>\n      <td>92.400504</td>\n      <td>18.612499</td>\n      <td>19.254154</td>\n    </tr>\n    <tr>\n      <th>2020-10-01 00:30:00+00:00</th>\n      <td>418.777284</td>\n      <td>29.064571</td>\n      <td>55.000000</td>\n      <td>55.224717</td>\n      <td>10.980221</td>\n      <td>19.902115</td>\n      <td>14.815123</td>\n      <td>1302.0</td>\n      <td>4.48</td>\n      <td>8.98</td>\n      <td>8.60</td>\n      <td>4.55</td>\n      <td>9.87</td>\n      <td>92.114715</td>\n      <td>92.068073</td>\n      <td>92.403063</td>\n      <td>18.455667</td>\n      <td>19.196964</td>\n    </tr>\n    <tr>\n      <th>2020-10-01 01:00:00+00:00</th>\n      <td>418.735368</td>\n      <td>29.092727</td>\n      <td>55.886746</td>\n      <td>54.869892</td>\n      <td>11.057164</td>\n      <td>21.069357</td>\n      <td>14.617263</td>\n      <td>1303.0</td>\n      <td>4.30</td>\n      <td>7.84</td>\n      <td>8.61</td>\n      <td>4.58</td>\n      <td>9.74</td>\n      <td>92.091896</td>\n      <td>92.076607</td>\n      <td>92.405623</td>\n      <td>18.075895</td>\n      <td>18.785391</td>\n    </tr>\n    <tr>\n      <th>...</th>\n      <td>...</td>\n      <td>...</td>\n      <td>...</td>\n      <td>...</td>\n      <td>...</td>\n      <td>...</td>\n      <td>...</td>\n      <td>...</td>\n      <td>...</td>\n      <td>...</td>\n      <td>...</td>\n      <td>...</td>\n      <td>...</td>\n      <td>...</td>\n      <td>...</td>\n      <td>...</td>\n      <td>...</td>\n      <td>...</td>\n    </tr>\n    <tr>\n      <th>2022-01-31 18:00:00+00:00</th>\n      <td>418.284737</td>\n      <td>27.694067</td>\n      <td>59.180029</td>\n      <td>58.900365</td>\n      <td>10.019018</td>\n      <td>32.147630</td>\n      <td>15.607105</td>\n      <td>1300.0</td>\n      <td>6.38</td>\n      <td>9.12</td>\n      <td>7.74</td>\n      <td>6.06</td>\n      <td>11.26</td>\n      <td>98.037160</td>\n      <td>98.130381</td>\n      <td>98.257987</td>\n      <td>9.714017</td>\n      <td>10.275810</td>\n    </tr>\n    <tr>\n      <th>2022-01-31 19:00:00+00:00</th>\n      <td>418.138199</td>\n      <td>27.760225</td>\n      <td>58.895968</td>\n      <td>58.911688</td>\n      <td>10.013093</td>\n      <td>31.719701</td>\n      <td>14.846545</td>\n      <td>1305.0</td>\n      <td>6.38</td>\n      <td>9.12</td>\n      <td>7.74</td>\n      <td>6.06</td>\n      <td>11.26</td>\n      <td>98.057871</td>\n      <td>98.131138</td>\n      <td>98.234942</td>\n      <td>9.762848</td>\n      <td>10.447076</td>\n    </tr>\n    <tr>\n      <th>2022-01-31 20:00:00+00:00</th>\n      <td>418.012402</td>\n      <td>27.761558</td>\n      <td>59.073501</td>\n      <td>59.593765</td>\n      <td>10.064700</td>\n      <td>30.158128</td>\n      <td>15.967954</td>\n      <td>1304.0</td>\n      <td>6.38</td>\n      <td>9.12</td>\n      <td>7.74</td>\n      <td>6.06</td>\n      <td>11.26</td>\n      <td>98.065827</td>\n      <td>98.130569</td>\n      <td>98.218519</td>\n      <td>9.548869</td>\n      <td>10.267305</td>\n    </tr>\n    <tr>\n      <th>2022-01-31 21:00:00+00:00</th>\n      <td>417.939267</td>\n      <td>27.704117</td>\n      <td>57.774647</td>\n      <td>58.738514</td>\n      <td>9.989189</td>\n      <td>28.000376</td>\n      <td>16.147269</td>\n      <td>1308.0</td>\n      <td>6.38</td>\n      <td>9.12</td>\n      <td>7.74</td>\n      <td>6.06</td>\n      <td>11.26</td>\n      <td>98.016144</td>\n      <td>98.130687</td>\n      <td>98.221079</td>\n      <td>9.311281</td>\n      <td>9.778013</td>\n    </tr>\n    <tr>\n      <th>2022-01-31 22:00:00+00:00</th>\n      <td>417.865419</td>\n      <td>27.812696</td>\n      <td>57.771875</td>\n      <td>57.757476</td>\n      <td>10.145746</td>\n      <td>27.917341</td>\n      <td>16.379607</td>\n      <td>1309.0</td>\n      <td>6.18</td>\n      <td>8.89</td>\n      <td>7.80</td>\n      <td>6.65</td>\n      <td>12.47</td>\n      <td>98.016144</td>\n      <td>98.125026</td>\n      <td>98.223638</td>\n      <td>9.257357</td>\n      <td>9.673571</td>\n    </tr>\n  </tbody>\n</table>\n<p>11377 rows × 18 columns</p>\n</div>"
     },
     "execution_count": 196,
     "metadata": {},
     "output_type": "execute_result"
    }
   ],
   "source": [
    "prw_df"
   ],
   "metadata": {
    "collapsed": false,
    "pycharm": {
     "name": "#%%\n"
    }
   }
  },
  {
   "cell_type": "code",
   "execution_count": 197,
   "outputs": [
    {
     "name": "stdout",
     "output_type": "stream",
     "text": [
      "(7963, 18)\n"
     ]
    }
   ],
   "source": [
    "# split data\n",
    "prw_df = prw_df.dropna(axis=0)\n",
    "train, val, test = split(prw_df)\n",
    "print(train.shape)\n",
    "X_train, X_val, X_test = train.drop([\"TEMP_ZUZ\"], axis=1), val.drop([\"TEMP_ZUZ\"], axis=1), test.drop([\"TEMP_ZUZ\"], axis=1)\n",
    "y_train, y_val, y_test = train[\"TEMP_ZUZ\"], val[\"TEMP_ZUZ\"], test[\"TEMP_ZUZ\"]"
   ],
   "metadata": {
    "collapsed": false,
    "pycharm": {
     "name": "#%%\n"
    }
   }
  },
  {
   "cell_type": "code",
   "execution_count": 199,
   "outputs": [
    {
     "data": {
      "text/plain": "                                 TIX1        TIR  001fcx00211.pv  \\\n2020-09-30 22:00:00+00:00  418.990965  29.086390       56.729077   \n2020-09-30 23:00:00+00:00  418.911544  29.000256       55.309363   \n2020-10-01 00:00:00+00:00  418.820059  29.021386       54.703949   \n2020-10-01 00:30:00+00:00  418.777284  29.064571       55.000000   \n2020-10-01 01:00:00+00:00  418.735368  29.092727       55.886746   \n...                               ...        ...             ...   \n2021-09-05 20:00:00+00:00  427.223464  27.474773       54.130574   \n2021-09-05 21:00:00+00:00  426.885975  27.742631       55.248131   \n2021-09-05 22:00:00+00:00  426.514867  27.705729       55.808769   \n2021-09-05 23:00:00+00:00  426.142533  27.594741       57.056538   \n2021-09-06 00:00:00+00:00  425.765029  27.379872       57.669944   \n\n                           001fcx00221.pv  001fcx00231.pv  001fcx00241.pv  \\\n2020-09-30 22:00:00+00:00       54.724422       11.966905       22.493207   \n2020-09-30 23:00:00+00:00       55.327746       11.544775       22.702118   \n2020-10-01 00:00:00+00:00       54.957514       11.053689       20.013150   \n2020-10-01 00:30:00+00:00       55.224717       10.980221       19.902115   \n2020-10-01 01:00:00+00:00       54.869892       11.057164       21.069357   \n...                                   ...             ...             ...   \n2021-09-05 20:00:00+00:00       54.970550        4.938091       24.345593   \n2021-09-05 21:00:00+00:00       54.544512        4.930626       26.030218   \n2021-09-05 22:00:00+00:00       55.667976        4.994519       25.914533   \n2021-09-05 23:00:00+00:00       56.859436        4.999296       24.831633   \n2021-09-06 00:00:00+00:00       57.692701        4.923448       24.850467   \n\n                           001nir0szr0.daca.pv  prazonka_fe  prazonka_s  \\\n2020-09-30 22:00:00+00:00            14.362428         4.48        8.98   \n2020-09-30 23:00:00+00:00            14.978720         4.48        8.98   \n2020-10-01 00:00:00+00:00            15.199544         4.48        8.98   \n2020-10-01 00:30:00+00:00            14.815123         4.48        8.98   \n2020-10-01 01:00:00+00:00            14.617263         4.30        7.84   \n...                                        ...          ...         ...   \n2021-09-05 20:00:00+00:00            22.548988         4.11        4.74   \n2021-09-05 21:00:00+00:00            23.326609         4.72        7.72   \n2021-09-05 22:00:00+00:00            21.962930         4.72        7.72   \n2021-09-05 23:00:00+00:00            21.440236         4.72        7.72   \n2021-09-06 00:00:00+00:00            24.665253         4.72        7.72   \n\n                           prob_corg  prob_fe  prob_s  001uxm0rf01.daca.pv  \\\n2020-09-30 22:00:00+00:00       8.60     4.55    9.87            92.090454   \n2020-09-30 23:00:00+00:00       8.60     4.55    9.87            92.129309   \n2020-10-01 00:00:00+00:00       8.60     4.55    9.87            92.104858   \n2020-10-01 00:30:00+00:00       8.60     4.55    9.87            92.114715   \n2020-10-01 01:00:00+00:00       8.61     4.58    9.74            92.091896   \n...                              ...      ...     ...                  ...   \n2021-09-05 20:00:00+00:00       8.48     5.54   11.24            97.187363   \n2021-09-05 21:00:00+00:00       8.64     5.58   11.40            97.175505   \n2021-09-05 22:00:00+00:00       8.64     5.58   11.40            97.171569   \n2021-09-05 23:00:00+00:00       8.64     5.58   11.40            97.175270   \n2021-09-06 00:00:00+00:00       8.64     5.58   11.40            97.172599   \n\n                           001uxm0rf02.daca.pv  001uxm0rf03.daca.pv  \\\n2020-09-30 22:00:00+00:00            92.024078            92.405281   \n2020-09-30 23:00:00+00:00            92.033540            92.402722   \n2020-10-01 00:00:00+00:00            92.056562            92.400504   \n2020-10-01 00:30:00+00:00            92.068073            92.403063   \n2020-10-01 01:00:00+00:00            92.076607            92.405623   \n...                                        ...                  ...   \n2021-09-05 20:00:00+00:00            97.117664            97.511354   \n2021-09-05 21:00:00+00:00            97.125689            97.531042   \n2021-09-05 22:00:00+00:00            97.112901            97.528480   \n2021-09-05 23:00:00+00:00            97.101088            97.522388   \n2021-09-06 00:00:00+00:00            97.098529            97.504466   \n\n                           001txi01153.daca.pv  001txi01154.daca.pv  \n2020-09-30 22:00:00+00:00            19.126427            19.929581  \n2020-09-30 23:00:00+00:00            18.885216            19.536727  \n2020-10-01 00:00:00+00:00            18.612499            19.254154  \n2020-10-01 00:30:00+00:00            18.455667            19.196964  \n2020-10-01 01:00:00+00:00            18.075895            18.785391  \n...                                        ...                  ...  \n2021-09-05 20:00:00+00:00            20.054366            20.598770  \n2021-09-05 21:00:00+00:00            19.182281            19.653056  \n2021-09-05 22:00:00+00:00            18.364518            18.825136  \n2021-09-05 23:00:00+00:00            17.437377            17.925498  \n2021-09-06 00:00:00+00:00            16.561949            17.055188  \n\n[7963 rows x 17 columns]",
      "text/html": "<div>\n<style scoped>\n    .dataframe tbody tr th:only-of-type {\n        vertical-align: middle;\n    }\n\n    .dataframe tbody tr th {\n        vertical-align: top;\n    }\n\n    .dataframe thead th {\n        text-align: right;\n    }\n</style>\n<table border=\"1\" class=\"dataframe\">\n  <thead>\n    <tr style=\"text-align: right;\">\n      <th></th>\n      <th>TIX1</th>\n      <th>TIR</th>\n      <th>001fcx00211.pv</th>\n      <th>001fcx00221.pv</th>\n      <th>001fcx00231.pv</th>\n      <th>001fcx00241.pv</th>\n      <th>001nir0szr0.daca.pv</th>\n      <th>prazonka_fe</th>\n      <th>prazonka_s</th>\n      <th>prob_corg</th>\n      <th>prob_fe</th>\n      <th>prob_s</th>\n      <th>001uxm0rf01.daca.pv</th>\n      <th>001uxm0rf02.daca.pv</th>\n      <th>001uxm0rf03.daca.pv</th>\n      <th>001txi01153.daca.pv</th>\n      <th>001txi01154.daca.pv</th>\n    </tr>\n  </thead>\n  <tbody>\n    <tr>\n      <th>2020-09-30 22:00:00+00:00</th>\n      <td>418.990965</td>\n      <td>29.086390</td>\n      <td>56.729077</td>\n      <td>54.724422</td>\n      <td>11.966905</td>\n      <td>22.493207</td>\n      <td>14.362428</td>\n      <td>4.48</td>\n      <td>8.98</td>\n      <td>8.60</td>\n      <td>4.55</td>\n      <td>9.87</td>\n      <td>92.090454</td>\n      <td>92.024078</td>\n      <td>92.405281</td>\n      <td>19.126427</td>\n      <td>19.929581</td>\n    </tr>\n    <tr>\n      <th>2020-09-30 23:00:00+00:00</th>\n      <td>418.911544</td>\n      <td>29.000256</td>\n      <td>55.309363</td>\n      <td>55.327746</td>\n      <td>11.544775</td>\n      <td>22.702118</td>\n      <td>14.978720</td>\n      <td>4.48</td>\n      <td>8.98</td>\n      <td>8.60</td>\n      <td>4.55</td>\n      <td>9.87</td>\n      <td>92.129309</td>\n      <td>92.033540</td>\n      <td>92.402722</td>\n      <td>18.885216</td>\n      <td>19.536727</td>\n    </tr>\n    <tr>\n      <th>2020-10-01 00:00:00+00:00</th>\n      <td>418.820059</td>\n      <td>29.021386</td>\n      <td>54.703949</td>\n      <td>54.957514</td>\n      <td>11.053689</td>\n      <td>20.013150</td>\n      <td>15.199544</td>\n      <td>4.48</td>\n      <td>8.98</td>\n      <td>8.60</td>\n      <td>4.55</td>\n      <td>9.87</td>\n      <td>92.104858</td>\n      <td>92.056562</td>\n      <td>92.400504</td>\n      <td>18.612499</td>\n      <td>19.254154</td>\n    </tr>\n    <tr>\n      <th>2020-10-01 00:30:00+00:00</th>\n      <td>418.777284</td>\n      <td>29.064571</td>\n      <td>55.000000</td>\n      <td>55.224717</td>\n      <td>10.980221</td>\n      <td>19.902115</td>\n      <td>14.815123</td>\n      <td>4.48</td>\n      <td>8.98</td>\n      <td>8.60</td>\n      <td>4.55</td>\n      <td>9.87</td>\n      <td>92.114715</td>\n      <td>92.068073</td>\n      <td>92.403063</td>\n      <td>18.455667</td>\n      <td>19.196964</td>\n    </tr>\n    <tr>\n      <th>2020-10-01 01:00:00+00:00</th>\n      <td>418.735368</td>\n      <td>29.092727</td>\n      <td>55.886746</td>\n      <td>54.869892</td>\n      <td>11.057164</td>\n      <td>21.069357</td>\n      <td>14.617263</td>\n      <td>4.30</td>\n      <td>7.84</td>\n      <td>8.61</td>\n      <td>4.58</td>\n      <td>9.74</td>\n      <td>92.091896</td>\n      <td>92.076607</td>\n      <td>92.405623</td>\n      <td>18.075895</td>\n      <td>18.785391</td>\n    </tr>\n    <tr>\n      <th>...</th>\n      <td>...</td>\n      <td>...</td>\n      <td>...</td>\n      <td>...</td>\n      <td>...</td>\n      <td>...</td>\n      <td>...</td>\n      <td>...</td>\n      <td>...</td>\n      <td>...</td>\n      <td>...</td>\n      <td>...</td>\n      <td>...</td>\n      <td>...</td>\n      <td>...</td>\n      <td>...</td>\n      <td>...</td>\n    </tr>\n    <tr>\n      <th>2021-09-05 20:00:00+00:00</th>\n      <td>427.223464</td>\n      <td>27.474773</td>\n      <td>54.130574</td>\n      <td>54.970550</td>\n      <td>4.938091</td>\n      <td>24.345593</td>\n      <td>22.548988</td>\n      <td>4.11</td>\n      <td>4.74</td>\n      <td>8.48</td>\n      <td>5.54</td>\n      <td>11.24</td>\n      <td>97.187363</td>\n      <td>97.117664</td>\n      <td>97.511354</td>\n      <td>20.054366</td>\n      <td>20.598770</td>\n    </tr>\n    <tr>\n      <th>2021-09-05 21:00:00+00:00</th>\n      <td>426.885975</td>\n      <td>27.742631</td>\n      <td>55.248131</td>\n      <td>54.544512</td>\n      <td>4.930626</td>\n      <td>26.030218</td>\n      <td>23.326609</td>\n      <td>4.72</td>\n      <td>7.72</td>\n      <td>8.64</td>\n      <td>5.58</td>\n      <td>11.40</td>\n      <td>97.175505</td>\n      <td>97.125689</td>\n      <td>97.531042</td>\n      <td>19.182281</td>\n      <td>19.653056</td>\n    </tr>\n    <tr>\n      <th>2021-09-05 22:00:00+00:00</th>\n      <td>426.514867</td>\n      <td>27.705729</td>\n      <td>55.808769</td>\n      <td>55.667976</td>\n      <td>4.994519</td>\n      <td>25.914533</td>\n      <td>21.962930</td>\n      <td>4.72</td>\n      <td>7.72</td>\n      <td>8.64</td>\n      <td>5.58</td>\n      <td>11.40</td>\n      <td>97.171569</td>\n      <td>97.112901</td>\n      <td>97.528480</td>\n      <td>18.364518</td>\n      <td>18.825136</td>\n    </tr>\n    <tr>\n      <th>2021-09-05 23:00:00+00:00</th>\n      <td>426.142533</td>\n      <td>27.594741</td>\n      <td>57.056538</td>\n      <td>56.859436</td>\n      <td>4.999296</td>\n      <td>24.831633</td>\n      <td>21.440236</td>\n      <td>4.72</td>\n      <td>7.72</td>\n      <td>8.64</td>\n      <td>5.58</td>\n      <td>11.40</td>\n      <td>97.175270</td>\n      <td>97.101088</td>\n      <td>97.522388</td>\n      <td>17.437377</td>\n      <td>17.925498</td>\n    </tr>\n    <tr>\n      <th>2021-09-06 00:00:00+00:00</th>\n      <td>425.765029</td>\n      <td>27.379872</td>\n      <td>57.669944</td>\n      <td>57.692701</td>\n      <td>4.923448</td>\n      <td>24.850467</td>\n      <td>24.665253</td>\n      <td>4.72</td>\n      <td>7.72</td>\n      <td>8.64</td>\n      <td>5.58</td>\n      <td>11.40</td>\n      <td>97.172599</td>\n      <td>97.098529</td>\n      <td>97.504466</td>\n      <td>16.561949</td>\n      <td>17.055188</td>\n    </tr>\n  </tbody>\n</table>\n<p>7963 rows × 17 columns</p>\n</div>"
     },
     "execution_count": 199,
     "metadata": {},
     "output_type": "execute_result"
    }
   ],
   "source": [
    "X_train"
   ],
   "metadata": {
    "collapsed": false,
    "pycharm": {
     "name": "#%%\n"
    }
   }
  },
  {
   "cell_type": "code",
   "execution_count": 200,
   "outputs": [
    {
     "data": {
      "text/plain": "72.64209302789492"
     },
     "execution_count": 200,
     "metadata": {},
     "output_type": "execute_result"
    }
   ],
   "source": [
    "ridge_model_prw1 = Pipeline([('normalization', preprocessing.StandardScaler()),\n",
    "                            ('ridge', linear_model.Ridge(alpha=1, solver='cholesky'))])\n",
    "ridge_model_prw1 = ridge_model_prw1.fit(X_train, y_train)\n",
    "metrics.mean_squared_error(y_val, ridge_model_prw1.predict(X_val))"
   ],
   "metadata": {
    "collapsed": false,
    "pycharm": {
     "name": "#%%\n"
    }
   }
  },
  {
   "cell_type": "code",
   "execution_count": 201,
   "outputs": [
    {
     "data": {
      "text/plain": "array([-0.02124518,  0.64242082, -0.4945489 ,  1.92445126, -0.8135563 ,\n        0.46787638,  0.32627174,  0.01486902, -0.23157003,  0.56478471,\n        0.33195436,  0.31314978,  1.19699367,  0.23224349,  0.44038654,\n       -2.93386004,  2.67356196])"
     },
     "execution_count": 201,
     "metadata": {},
     "output_type": "execute_result"
    }
   ],
   "source": [
    "ridge_model_prw1.named_steps[\"ridge\"].coef_"
   ],
   "metadata": {
    "collapsed": false,
    "pycharm": {
     "name": "#%%\n"
    }
   }
  },
  {
   "cell_type": "code",
   "execution_count": 202,
   "outputs": [
    {
     "data": {
      "text/plain": "103.035787769448"
     },
     "execution_count": 202,
     "metadata": {},
     "output_type": "execute_result"
    }
   ],
   "source": [
    "ridge_poly_model_prw1 = Pipeline([('poly', preprocessing.PolynomialFeatures(degree=3)),\n",
    "                            ('normalization', preprocessing.StandardScaler()),\n",
    "                            ('ridge', linear_model.Ridge(alpha=.5, solver='svd'))])\n",
    "ridge_poly_model_prw1 = ridge_poly_model_prw1.fit(X_train, y_train)\n",
    "metrics.mean_squared_error(y_val, ridge_poly_model_prw1.predict(X_val))"
   ],
   "metadata": {
    "collapsed": false,
    "pycharm": {
     "name": "#%%\n"
    }
   }
  },
  {
   "cell_type": "code",
   "execution_count": 203,
   "outputs": [
    {
     "data": {
      "text/plain": "array([-1.06893022e-12, -1.02296523e+01,  6.16181857e+00, ...,\n        5.44102976e-01,  9.37271321e-01,  8.11542667e-01])"
     },
     "execution_count": 203,
     "metadata": {},
     "output_type": "execute_result"
    }
   ],
   "source": [
    "ridge_poly_model_prw1.named_steps[\"ridge\"].coef_"
   ],
   "metadata": {
    "collapsed": false,
    "pycharm": {
     "name": "#%%\n"
    }
   }
  },
  {
   "cell_type": "code",
   "execution_count": null,
   "outputs": [],
   "source": [],
   "metadata": {
    "collapsed": false,
    "pycharm": {
     "name": "#%%\n"
    }
   }
  }
 ],
 "metadata": {
  "kernelspec": {
   "display_name": "Python 3 (ipykernel)",
   "language": "python",
   "name": "python3"
  },
  "language_info": {
   "codemirror_mode": {
    "name": "ipython",
    "version": 3
   },
   "file_extension": ".py",
   "mimetype": "text/x-python",
   "name": "python",
   "nbconvert_exporter": "python",
   "pygments_lexer": "ipython3",
   "version": "3.9.7"
  }
 },
 "nbformat": 4,
 "nbformat_minor": 5
}