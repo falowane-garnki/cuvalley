{
 "cells": [
  {
   "cell_type": "code",
   "execution_count": 54,
   "id": "32287049",
   "metadata": {},
   "outputs": [],
   "source": [
    "from pathlib import Path\n",
    "import os\n",
    "\n",
    "import pandas as pd\n",
    "import numpy as np\n",
    "from data_processing import *\n",
    "# hacky shit\n",
    "# from data_processing.data_processing import *\n",
    "\n",
    "from sklearn import preprocessing\n",
    "from sklearn import linear_model\n",
    "from sklearn import metrics\n",
    "from sklearn.pipeline import Pipeline"
   ]
  },
  {
   "cell_type": "code",
   "execution_count": 55,
   "id": "cc11cc0d",
   "metadata": {},
   "outputs": [],
   "source": [
    "MAIN_PATH = Path(os.getcwd()).parent"
   ]
  },
  {
   "cell_type": "markdown",
   "id": "4458a1d7",
   "metadata": {},
   "source": [
    "## Load data"
   ]
  },
  {
   "cell_type": "code",
   "execution_count": 56,
   "id": "45770297",
   "metadata": {
    "pycharm": {
     "name": "#%%\n"
    },
    "scrolled": true
   },
   "outputs": [
    {
     "data": {
      "text/html": [
       "<div>\n",
       "<style scoped>\n",
       "    .dataframe tbody tr th:only-of-type {\n",
       "        vertical-align: middle;\n",
       "    }\n",
       "\n",
       "    .dataframe tbody tr th {\n",
       "        vertical-align: top;\n",
       "    }\n",
       "\n",
       "    .dataframe thead th {\n",
       "        text-align: right;\n",
       "    }\n",
       "</style>\n",
       "<table border=\"1\" class=\"dataframe\">\n",
       "  <thead>\n",
       "    <tr style=\"text-align: right;\">\n",
       "      <th></th>\n",
       "      <th>001fcx00211.pv</th>\n",
       "      <th>001fcx00221.pv</th>\n",
       "      <th>001fcx00231.pv</th>\n",
       "      <th>001fcx00241.pv</th>\n",
       "      <th>001fir01307.daca.pv</th>\n",
       "      <th>001fir01308.daca.pv</th>\n",
       "      <th>001fir01309.daca.pv</th>\n",
       "      <th>001fir01310.daca.pv</th>\n",
       "      <th>001fir01311.daca.pv</th>\n",
       "      <th>001fir01312.daca.pv</th>\n",
       "      <th>...</th>\n",
       "      <th>001uxm0rf01.daca.pv</th>\n",
       "      <th>001uxm0rf02.daca.pv</th>\n",
       "      <th>001uxm0rf03.daca.pv</th>\n",
       "      <th>037tix00254.daca.pv</th>\n",
       "      <th>037tix00264.daca.pv</th>\n",
       "      <th>prazonka_fe</th>\n",
       "      <th>prazonka_s</th>\n",
       "      <th>prob_corg</th>\n",
       "      <th>prob_fe</th>\n",
       "      <th>prob_s</th>\n",
       "    </tr>\n",
       "    <tr>\n",
       "      <th>czas</th>\n",
       "      <th></th>\n",
       "      <th></th>\n",
       "      <th></th>\n",
       "      <th></th>\n",
       "      <th></th>\n",
       "      <th></th>\n",
       "      <th></th>\n",
       "      <th></th>\n",
       "      <th></th>\n",
       "      <th></th>\n",
       "      <th></th>\n",
       "      <th></th>\n",
       "      <th></th>\n",
       "      <th></th>\n",
       "      <th></th>\n",
       "      <th></th>\n",
       "      <th></th>\n",
       "      <th></th>\n",
       "      <th></th>\n",
       "      <th></th>\n",
       "      <th></th>\n",
       "    </tr>\n",
       "  </thead>\n",
       "  <tbody>\n",
       "    <tr>\n",
       "      <th>2020-09-30 22:00:00+00:00</th>\n",
       "      <td>56.729077</td>\n",
       "      <td>54.724422</td>\n",
       "      <td>11.966905</td>\n",
       "      <td>22.493207</td>\n",
       "      <td>108.702362</td>\n",
       "      <td>112.280388</td>\n",
       "      <td>110.013796</td>\n",
       "      <td>108.761583</td>\n",
       "      <td>110.604901</td>\n",
       "      <td>104.500427</td>\n",
       "      <td>...</td>\n",
       "      <td>92.090454</td>\n",
       "      <td>92.024078</td>\n",
       "      <td>92.405281</td>\n",
       "      <td>24.665309</td>\n",
       "      <td>24.526161</td>\n",
       "      <td>4.48</td>\n",
       "      <td>8.98</td>\n",
       "      <td>8.6</td>\n",
       "      <td>4.55</td>\n",
       "      <td>9.87</td>\n",
       "    </tr>\n",
       "    <tr>\n",
       "      <th>2020-09-30 22:01:00+00:00</th>\n",
       "      <td>54.771942</td>\n",
       "      <td>54.734675</td>\n",
       "      <td>12.026410</td>\n",
       "      <td>22.593412</td>\n",
       "      <td>108.846612</td>\n",
       "      <td>112.334600</td>\n",
       "      <td>109.906645</td>\n",
       "      <td>108.879083</td>\n",
       "      <td>110.644046</td>\n",
       "      <td>104.371977</td>\n",
       "      <td>...</td>\n",
       "      <td>92.090534</td>\n",
       "      <td>92.024206</td>\n",
       "      <td>92.405239</td>\n",
       "      <td>24.663982</td>\n",
       "      <td>24.526161</td>\n",
       "      <td>4.48</td>\n",
       "      <td>8.98</td>\n",
       "      <td>8.6</td>\n",
       "      <td>4.55</td>\n",
       "      <td>9.87</td>\n",
       "    </tr>\n",
       "    <tr>\n",
       "      <th>2020-09-30 22:02:00+00:00</th>\n",
       "      <td>54.695816</td>\n",
       "      <td>54.774163</td>\n",
       "      <td>11.953671</td>\n",
       "      <td>22.428933</td>\n",
       "      <td>108.827640</td>\n",
       "      <td>112.362508</td>\n",
       "      <td>109.970932</td>\n",
       "      <td>108.844765</td>\n",
       "      <td>110.621665</td>\n",
       "      <td>104.387912</td>\n",
       "      <td>...</td>\n",
       "      <td>92.090613</td>\n",
       "      <td>92.024334</td>\n",
       "      <td>92.405196</td>\n",
       "      <td>24.662656</td>\n",
       "      <td>24.526161</td>\n",
       "      <td>4.48</td>\n",
       "      <td>8.98</td>\n",
       "      <td>8.6</td>\n",
       "      <td>4.55</td>\n",
       "      <td>9.87</td>\n",
       "    </tr>\n",
       "  </tbody>\n",
       "</table>\n",
       "<p>3 rows × 57 columns</p>\n",
       "</div>"
      ],
      "text/plain": [
       "                           001fcx00211.pv  001fcx00221.pv  001fcx00231.pv  \\\n",
       "czas                                                                        \n",
       "2020-09-30 22:00:00+00:00       56.729077       54.724422       11.966905   \n",
       "2020-09-30 22:01:00+00:00       54.771942       54.734675       12.026410   \n",
       "2020-09-30 22:02:00+00:00       54.695816       54.774163       11.953671   \n",
       "\n",
       "                           001fcx00241.pv  001fir01307.daca.pv  \\\n",
       "czas                                                             \n",
       "2020-09-30 22:00:00+00:00       22.493207           108.702362   \n",
       "2020-09-30 22:01:00+00:00       22.593412           108.846612   \n",
       "2020-09-30 22:02:00+00:00       22.428933           108.827640   \n",
       "\n",
       "                           001fir01308.daca.pv  001fir01309.daca.pv  \\\n",
       "czas                                                                  \n",
       "2020-09-30 22:00:00+00:00           112.280388           110.013796   \n",
       "2020-09-30 22:01:00+00:00           112.334600           109.906645   \n",
       "2020-09-30 22:02:00+00:00           112.362508           109.970932   \n",
       "\n",
       "                           001fir01310.daca.pv  001fir01311.daca.pv  \\\n",
       "czas                                                                  \n",
       "2020-09-30 22:00:00+00:00           108.761583           110.604901   \n",
       "2020-09-30 22:01:00+00:00           108.879083           110.644046   \n",
       "2020-09-30 22:02:00+00:00           108.844765           110.621665   \n",
       "\n",
       "                           001fir01312.daca.pv  ...  001uxm0rf01.daca.pv  \\\n",
       "czas                                            ...                        \n",
       "2020-09-30 22:00:00+00:00           104.500427  ...            92.090454   \n",
       "2020-09-30 22:01:00+00:00           104.371977  ...            92.090534   \n",
       "2020-09-30 22:02:00+00:00           104.387912  ...            92.090613   \n",
       "\n",
       "                           001uxm0rf02.daca.pv  001uxm0rf03.daca.pv  \\\n",
       "czas                                                                  \n",
       "2020-09-30 22:00:00+00:00            92.024078            92.405281   \n",
       "2020-09-30 22:01:00+00:00            92.024206            92.405239   \n",
       "2020-09-30 22:02:00+00:00            92.024334            92.405196   \n",
       "\n",
       "                           037tix00254.daca.pv  037tix00264.daca.pv  \\\n",
       "czas                                                                  \n",
       "2020-09-30 22:00:00+00:00            24.665309            24.526161   \n",
       "2020-09-30 22:01:00+00:00            24.663982            24.526161   \n",
       "2020-09-30 22:02:00+00:00            24.662656            24.526161   \n",
       "\n",
       "                           prazonka_fe  prazonka_s  prob_corg  prob_fe  prob_s  \n",
       "czas                                                                            \n",
       "2020-09-30 22:00:00+00:00         4.48        8.98        8.6     4.55    9.87  \n",
       "2020-09-30 22:01:00+00:00         4.48        8.98        8.6     4.55    9.87  \n",
       "2020-09-30 22:02:00+00:00         4.48        8.98        8.6     4.55    9.87  \n",
       "\n",
       "[3 rows x 57 columns]"
      ]
     },
     "execution_count": 56,
     "metadata": {},
     "output_type": "execute_result"
    }
   ],
   "source": [
    "org_df = pd.read_csv(os.path.join(MAIN_PATH, \"data\", \"data.csv\"))\n",
    "\n",
    "# copied from load() function but modified to aggregate data and not drop it\n",
    "\n",
    "org_df['czas'] = pd.to_datetime(org_df['czas'], utc=True)\n",
    "org_df.set_index('czas', inplace=True)\n",
    "\n",
    "\n",
    "temp_zuz = pd.read_csv(os.path.join(MAIN_PATH, \"data\", \"temp_zuz_fixed.csv\"))\n",
    "\n",
    "\n",
    "temp_zuz['Czas'] = pd.to_datetime(temp_zuz['Czas'], utc=True)\n",
    "temp_zuz.set_index('Czas', inplace=True)\n",
    "temp_zuz = temp_zuz.rename(columns={'Czas': 'czas'})\n",
    "\n",
    "org_df.head(3)"
   ]
  },
  {
   "cell_type": "markdown",
   "id": "be13c485",
   "metadata": {
    "pycharm": {
     "name": "#%% md\n"
    }
   },
   "source": [
    "## Simple features based on correlation"
   ]
  },
  {
   "cell_type": "code",
   "execution_count": 57,
   "id": "bf629804",
   "metadata": {},
   "outputs": [],
   "source": [
    "df = pd.DataFrame(index=org_df.index)"
   ]
  },
  {
   "cell_type": "code",
   "execution_count": 58,
   "id": "e220eace",
   "metadata": {
    "pycharm": {
     "name": "#%%\n"
    }
   },
   "outputs": [],
   "source": [
    "# srednia po 'TEMP POD 2 WARSTWĄ WYMURÓWKI [°C]'\n",
    "TIX1 = org_df.columns[org_df.columns.str.contains('001tix')].values\n",
    "df['TIX1'] = org_df[TIX1].mean(axis='columns')"
   ]
  },
  {
   "cell_type": "code",
   "execution_count": 59,
   "id": "057b9808",
   "metadata": {
    "pycharm": {
     "name": "#%%\n"
    }
   },
   "outputs": [],
   "source": [
    "# srednia po 'WODY df KOLEKTORÓW [°C]'\n",
    "TIR = org_df.columns[org_df.columns.str.contains('tir')].values\n",
    "df['TIR'] = org_df[TIR].mean(axis='columns')"
   ]
  },
  {
   "cell_type": "code",
   "execution_count": 60,
   "id": "63bb5b0b",
   "metadata": {},
   "outputs": [],
   "source": [
    "# dodanie reg nadawy koncentratu\n",
    "FCX = org_df.columns[org_df.columns.str.contains('fcx')].values\n",
    "df[FCX] = org_df[FCX]"
   ]
  },
  {
   "cell_type": "code",
   "execution_count": 61,
   "id": "d81ffddf",
   "metadata": {},
   "outputs": [],
   "source": [
    "# sumaryczna moc cieplna\n",
    "NIR = org_df.columns[org_df.columns.str.contains('nir')].values\n",
    "df[NIR] = org_df[NIR]"
   ]
  },
  {
   "cell_type": "code",
   "execution_count": 62,
   "id": "30d6497b",
   "metadata": {},
   "outputs": [
    {
     "data": {
      "text/plain": [
       "(540492, 7)"
      ]
     },
     "execution_count": 62,
     "metadata": {},
     "output_type": "execute_result"
    }
   ],
   "source": [
    "df.shape"
   ]
  },
  {
   "cell_type": "markdown",
   "id": "bc6f52b3",
   "metadata": {},
   "source": [
    "### Aggregation and lagging"
   ]
  },
  {
   "cell_type": "code",
   "execution_count": 63,
   "id": "899b2e03",
   "metadata": {},
   "outputs": [],
   "source": [
    "# Renaming columns\n",
    "\n",
    "feature_desc_df = pd.read_csv(os.path.join(MAIN_PATH, \"data_processing\", \"feature_desc.csv\"), index_col='name')\n",
    "\n",
    "def feature_desc(name):\n",
    "        try:\n",
    "            if type(name)==str:\n",
    "                return feature_desc_df.loc[name]['desc']\n",
    "            else:\n",
    "                return feature_desc_df.loc[name]['desc'].values\n",
    "        except:\n",
    "            return name\n",
    "\n",
    "\n",
    "col_names = list(df.columns.values)\n",
    "\n",
    "for col_name in col_names:\n",
    "    df = df.rename(columns={col_name: feature_desc(col_name)})"
   ]
  },
  {
   "cell_type": "code",
   "execution_count": 64,
   "id": "92ec6d25",
   "metadata": {},
   "outputs": [
    {
     "data": {
      "text/plain": [
       "Index(['TIX1', 'TIR', 'REG NADAWY KONCENTRATU LIW1 [Mg/h]',\n",
       "       'REG NADAWY KONCENTRATU LIW2 [Mg/h]',\n",
       "       'REG KONCENTRAT PRAZONY LIW3 [Mg/h]', 'REG PYL ZWROT LIW4 [Mg/h]',\n",
       "       'SUMARYCZNA MOC CIEPLNA ODEBRANA - CAŁKOWITA [MW]'],\n",
       "      dtype='object')"
      ]
     },
     "execution_count": 64,
     "metadata": {},
     "output_type": "execute_result"
    }
   ],
   "source": [
    "df.columns"
   ]
  },
  {
   "cell_type": "code",
   "execution_count": 89,
   "id": "68ce99ce",
   "metadata": {},
   "outputs": [
    {
     "name": "stderr",
     "output_type": "stream",
     "text": [
      "/home/przemek/projects/hackathons/cuvalley/linear_regression/data_processing.py:127: FutureWarning: The pandas.datetime class is deprecated and will be removed from pandas in a future version. Import from datetime module instead.\n",
      "  if not type(agg_df['czas']) is pd.datetime:\n"
     ]
    },
    {
     "data": {
      "text/html": [
       "<div>\n",
       "<style scoped>\n",
       "    .dataframe tbody tr th:only-of-type {\n",
       "        vertical-align: middle;\n",
       "    }\n",
       "\n",
       "    .dataframe tbody tr th {\n",
       "        vertical-align: top;\n",
       "    }\n",
       "\n",
       "    .dataframe thead th {\n",
       "        text-align: right;\n",
       "    }\n",
       "</style>\n",
       "<table border=\"1\" class=\"dataframe\">\n",
       "  <thead>\n",
       "    <tr style=\"text-align: right;\">\n",
       "      <th></th>\n",
       "      <th>TIX1</th>\n",
       "      <th>TIR</th>\n",
       "      <th>REG NADAWY KONCENTRATU LIW1 [Mg/h]</th>\n",
       "      <th>REG NADAWY KONCENTRATU LIW2 [Mg/h]</th>\n",
       "      <th>REG KONCENTRAT PRAZONY LIW3 [Mg/h]</th>\n",
       "      <th>REG PYL ZWROT LIW4 [Mg/h]</th>\n",
       "      <th>SUMARYCZNA MOC CIEPLNA ODEBRANA - CAŁKOWITA [MW]</th>\n",
       "      <th>1th_agg_TIX1</th>\n",
       "      <th>1th_agg_TIR</th>\n",
       "      <th>1th_agg_REG NADAWY KONCENTRATU LIW1 [Mg/h]</th>\n",
       "      <th>...</th>\n",
       "      <th>29th_agg_REG PYL ZWROT LIW4 [Mg/h]</th>\n",
       "      <th>29th_agg_SUMARYCZNA MOC CIEPLNA ODEBRANA - CAŁKOWITA [MW]</th>\n",
       "      <th>30th_agg_TIX1</th>\n",
       "      <th>30th_agg_TIR</th>\n",
       "      <th>30th_agg_REG NADAWY KONCENTRATU LIW1 [Mg/h]</th>\n",
       "      <th>30th_agg_REG NADAWY KONCENTRATU LIW2 [Mg/h]</th>\n",
       "      <th>30th_agg_REG KONCENTRAT PRAZONY LIW3 [Mg/h]</th>\n",
       "      <th>30th_agg_REG PYL ZWROT LIW4 [Mg/h]</th>\n",
       "      <th>30th_agg_SUMARYCZNA MOC CIEPLNA ODEBRANA - CAŁKOWITA [MW]</th>\n",
       "      <th>TEMP_ZUZ</th>\n",
       "    </tr>\n",
       "    <tr>\n",
       "      <th>czas</th>\n",
       "      <th></th>\n",
       "      <th></th>\n",
       "      <th></th>\n",
       "      <th></th>\n",
       "      <th></th>\n",
       "      <th></th>\n",
       "      <th></th>\n",
       "      <th></th>\n",
       "      <th></th>\n",
       "      <th></th>\n",
       "      <th></th>\n",
       "      <th></th>\n",
       "      <th></th>\n",
       "      <th></th>\n",
       "      <th></th>\n",
       "      <th></th>\n",
       "      <th></th>\n",
       "      <th></th>\n",
       "      <th></th>\n",
       "      <th></th>\n",
       "      <th></th>\n",
       "    </tr>\n",
       "  </thead>\n",
       "  <tbody>\n",
       "    <tr>\n",
       "      <th>2020-09-30 23:00:00+00:00</th>\n",
       "      <td>418.911544</td>\n",
       "      <td>29.003188</td>\n",
       "      <td>55.366181</td>\n",
       "      <td>55.099881</td>\n",
       "      <td>11.553369</td>\n",
       "      <td>22.559934</td>\n",
       "      <td>14.981148</td>\n",
       "      <td>418.914656</td>\n",
       "      <td>28.965363</td>\n",
       "      <td>55.317309</td>\n",
       "      <td>...</td>\n",
       "      <td>22.428933</td>\n",
       "      <td>14.359413</td>\n",
       "      <td>418.990512</td>\n",
       "      <td>29.087193</td>\n",
       "      <td>55.750510</td>\n",
       "      <td>54.729549</td>\n",
       "      <td>11.996658</td>\n",
       "      <td>22.543309</td>\n",
       "      <td>14.372126</td>\n",
       "      <td>1295.0</td>\n",
       "    </tr>\n",
       "    <tr>\n",
       "      <th>2020-10-01 00:00:00+00:00</th>\n",
       "      <td>418.820059</td>\n",
       "      <td>29.024466</td>\n",
       "      <td>54.831780</td>\n",
       "      <td>55.003218</td>\n",
       "      <td>10.996928</td>\n",
       "      <td>20.068758</td>\n",
       "      <td>15.194276</td>\n",
       "      <td>418.823029</td>\n",
       "      <td>29.001255</td>\n",
       "      <td>54.505739</td>\n",
       "      <td>...</td>\n",
       "      <td>22.641611</td>\n",
       "      <td>15.020728</td>\n",
       "      <td>418.911544</td>\n",
       "      <td>29.003188</td>\n",
       "      <td>55.366181</td>\n",
       "      <td>55.099881</td>\n",
       "      <td>11.553369</td>\n",
       "      <td>22.559934</td>\n",
       "      <td>14.981148</td>\n",
       "      <td>1303.0</td>\n",
       "    </tr>\n",
       "    <tr>\n",
       "      <th>2020-10-01 00:30:00+00:00</th>\n",
       "      <td>418.777284</td>\n",
       "      <td>29.064571</td>\n",
       "      <td>55.000000</td>\n",
       "      <td>55.224717</td>\n",
       "      <td>10.980221</td>\n",
       "      <td>19.902115</td>\n",
       "      <td>14.815123</td>\n",
       "      <td>418.780041</td>\n",
       "      <td>29.062259</td>\n",
       "      <td>55.039421</td>\n",
       "      <td>...</td>\n",
       "      <td>22.494455</td>\n",
       "      <td>15.075474</td>\n",
       "      <td>418.864860</td>\n",
       "      <td>28.950773</td>\n",
       "      <td>54.391634</td>\n",
       "      <td>54.912948</td>\n",
       "      <td>11.069167</td>\n",
       "      <td>22.592863</td>\n",
       "      <td>15.057486</td>\n",
       "      <td>1302.0</td>\n",
       "    </tr>\n",
       "  </tbody>\n",
       "</table>\n",
       "<p>3 rows × 218 columns</p>\n",
       "</div>"
      ],
      "text/plain": [
       "                                 TIX1        TIR  \\\n",
       "czas                                               \n",
       "2020-09-30 23:00:00+00:00  418.911544  29.003188   \n",
       "2020-10-01 00:00:00+00:00  418.820059  29.024466   \n",
       "2020-10-01 00:30:00+00:00  418.777284  29.064571   \n",
       "\n",
       "                           REG NADAWY KONCENTRATU LIW1 [Mg/h]  \\\n",
       "czas                                                            \n",
       "2020-09-30 23:00:00+00:00                           55.366181   \n",
       "2020-10-01 00:00:00+00:00                           54.831780   \n",
       "2020-10-01 00:30:00+00:00                           55.000000   \n",
       "\n",
       "                           REG NADAWY KONCENTRATU LIW2 [Mg/h]  \\\n",
       "czas                                                            \n",
       "2020-09-30 23:00:00+00:00                           55.099881   \n",
       "2020-10-01 00:00:00+00:00                           55.003218   \n",
       "2020-10-01 00:30:00+00:00                           55.224717   \n",
       "\n",
       "                           REG KONCENTRAT PRAZONY LIW3 [Mg/h]  \\\n",
       "czas                                                            \n",
       "2020-09-30 23:00:00+00:00                           11.553369   \n",
       "2020-10-01 00:00:00+00:00                           10.996928   \n",
       "2020-10-01 00:30:00+00:00                           10.980221   \n",
       "\n",
       "                           REG PYL ZWROT LIW4 [Mg/h]  \\\n",
       "czas                                                   \n",
       "2020-09-30 23:00:00+00:00                  22.559934   \n",
       "2020-10-01 00:00:00+00:00                  20.068758   \n",
       "2020-10-01 00:30:00+00:00                  19.902115   \n",
       "\n",
       "                           SUMARYCZNA MOC CIEPLNA ODEBRANA - CAŁKOWITA [MW]  \\\n",
       "czas                                                                          \n",
       "2020-09-30 23:00:00+00:00                                         14.981148   \n",
       "2020-10-01 00:00:00+00:00                                         15.194276   \n",
       "2020-10-01 00:30:00+00:00                                         14.815123   \n",
       "\n",
       "                           1th_agg_TIX1  1th_agg_TIR  \\\n",
       "czas                                                   \n",
       "2020-09-30 23:00:00+00:00    418.914656    28.965363   \n",
       "2020-10-01 00:00:00+00:00    418.823029    29.001255   \n",
       "2020-10-01 00:30:00+00:00    418.780041    29.062259   \n",
       "\n",
       "                           1th_agg_REG NADAWY KONCENTRATU LIW1 [Mg/h]  ...  \\\n",
       "czas                                                                   ...   \n",
       "2020-09-30 23:00:00+00:00                                   55.317309  ...   \n",
       "2020-10-01 00:00:00+00:00                                   54.505739  ...   \n",
       "2020-10-01 00:30:00+00:00                                   55.039421  ...   \n",
       "\n",
       "                           29th_agg_REG PYL ZWROT LIW4 [Mg/h]  \\\n",
       "czas                                                            \n",
       "2020-09-30 23:00:00+00:00                           22.428933   \n",
       "2020-10-01 00:00:00+00:00                           22.641611   \n",
       "2020-10-01 00:30:00+00:00                           22.494455   \n",
       "\n",
       "                           29th_agg_SUMARYCZNA MOC CIEPLNA ODEBRANA - CAŁKOWITA [MW]  \\\n",
       "czas                                                                                   \n",
       "2020-09-30 23:00:00+00:00                                          14.359413           \n",
       "2020-10-01 00:00:00+00:00                                          15.020728           \n",
       "2020-10-01 00:30:00+00:00                                          15.075474           \n",
       "\n",
       "                           30th_agg_TIX1  30th_agg_TIR  \\\n",
       "czas                                                     \n",
       "2020-09-30 23:00:00+00:00     418.990512     29.087193   \n",
       "2020-10-01 00:00:00+00:00     418.911544     29.003188   \n",
       "2020-10-01 00:30:00+00:00     418.864860     28.950773   \n",
       "\n",
       "                           30th_agg_REG NADAWY KONCENTRATU LIW1 [Mg/h]  \\\n",
       "czas                                                                     \n",
       "2020-09-30 23:00:00+00:00                                    55.750510   \n",
       "2020-10-01 00:00:00+00:00                                    55.366181   \n",
       "2020-10-01 00:30:00+00:00                                    54.391634   \n",
       "\n",
       "                           30th_agg_REG NADAWY KONCENTRATU LIW2 [Mg/h]  \\\n",
       "czas                                                                     \n",
       "2020-09-30 23:00:00+00:00                                    54.729549   \n",
       "2020-10-01 00:00:00+00:00                                    55.099881   \n",
       "2020-10-01 00:30:00+00:00                                    54.912948   \n",
       "\n",
       "                           30th_agg_REG KONCENTRAT PRAZONY LIW3 [Mg/h]  \\\n",
       "czas                                                                     \n",
       "2020-09-30 23:00:00+00:00                                    11.996658   \n",
       "2020-10-01 00:00:00+00:00                                    11.553369   \n",
       "2020-10-01 00:30:00+00:00                                    11.069167   \n",
       "\n",
       "                           30th_agg_REG PYL ZWROT LIW4 [Mg/h]  \\\n",
       "czas                                                            \n",
       "2020-09-30 23:00:00+00:00                           22.543309   \n",
       "2020-10-01 00:00:00+00:00                           22.559934   \n",
       "2020-10-01 00:30:00+00:00                           22.592863   \n",
       "\n",
       "                           30th_agg_SUMARYCZNA MOC CIEPLNA ODEBRANA - CAŁKOWITA [MW]  \\\n",
       "czas                                                                                   \n",
       "2020-09-30 23:00:00+00:00                                          14.372126           \n",
       "2020-10-01 00:00:00+00:00                                          14.981148           \n",
       "2020-10-01 00:30:00+00:00                                          15.057486           \n",
       "\n",
       "                           TEMP_ZUZ  \n",
       "czas                                 \n",
       "2020-09-30 23:00:00+00:00    1295.0  \n",
       "2020-10-01 00:00:00+00:00    1303.0  \n",
       "2020-10-01 00:30:00+00:00    1302.0  \n",
       "\n",
       "[3 rows x 218 columns]"
      ]
     },
     "execution_count": 89,
     "metadata": {},
     "output_type": "execute_result"
    }
   ],
   "source": [
    "# Aggregating\n",
    "AGGREGATE_INTERVAL = 15\n",
    "\n",
    "agg_df = aggregate(df, AGGREGATE_INTERVAL)\n",
    "agg_df.head(3)"
   ]
  },
  {
   "cell_type": "code",
   "execution_count": 90,
   "id": "4f67417f",
   "metadata": {},
   "outputs": [
    {
     "data": {
      "text/plain": [
       "(8701, 218)"
      ]
     },
     "execution_count": 90,
     "metadata": {},
     "output_type": "execute_result"
    }
   ],
   "source": [
    "agg_df.shape"
   ]
  },
  {
   "cell_type": "code",
   "execution_count": 91,
   "id": "f78caa0a",
   "metadata": {},
   "outputs": [
    {
     "data": {
      "text/html": [
       "<div>\n",
       "<style scoped>\n",
       "    .dataframe tbody tr th:only-of-type {\n",
       "        vertical-align: middle;\n",
       "    }\n",
       "\n",
       "    .dataframe tbody tr th {\n",
       "        vertical-align: top;\n",
       "    }\n",
       "\n",
       "    .dataframe thead th {\n",
       "        text-align: right;\n",
       "    }\n",
       "</style>\n",
       "<table border=\"1\" class=\"dataframe\">\n",
       "  <thead>\n",
       "    <tr style=\"text-align: right;\">\n",
       "      <th></th>\n",
       "      <th>TIX1</th>\n",
       "      <th>TIR</th>\n",
       "      <th>REG NADAWY KONCENTRATU LIW1 [Mg/h]</th>\n",
       "      <th>REG NADAWY KONCENTRATU LIW2 [Mg/h]</th>\n",
       "      <th>REG KONCENTRAT PRAZONY LIW3 [Mg/h]</th>\n",
       "      <th>REG PYL ZWROT LIW4 [Mg/h]</th>\n",
       "      <th>SUMARYCZNA MOC CIEPLNA ODEBRANA - CAŁKOWITA [MW]</th>\n",
       "      <th>1th_agg_TIX1</th>\n",
       "      <th>1th_agg_TIR</th>\n",
       "      <th>1th_agg_REG NADAWY KONCENTRATU LIW1 [Mg/h]</th>\n",
       "      <th>...</th>\n",
       "      <th>4th_agg_29th_agg_REG PYL ZWROT LIW4 [Mg/h]</th>\n",
       "      <th>4th_agg_29th_agg_SUMARYCZNA MOC CIEPLNA ODEBRANA - CAŁKOWITA [MW]</th>\n",
       "      <th>4th_agg_30th_agg_TIX1</th>\n",
       "      <th>4th_agg_30th_agg_TIR</th>\n",
       "      <th>4th_agg_30th_agg_REG NADAWY KONCENTRATU LIW1 [Mg/h]</th>\n",
       "      <th>4th_agg_30th_agg_REG NADAWY KONCENTRATU LIW2 [Mg/h]</th>\n",
       "      <th>4th_agg_30th_agg_REG KONCENTRAT PRAZONY LIW3 [Mg/h]</th>\n",
       "      <th>4th_agg_30th_agg_REG PYL ZWROT LIW4 [Mg/h]</th>\n",
       "      <th>4th_agg_30th_agg_SUMARYCZNA MOC CIEPLNA ODEBRANA - CAŁKOWITA [MW]</th>\n",
       "      <th>4th_agg_TEMP_ZUZ</th>\n",
       "    </tr>\n",
       "    <tr>\n",
       "      <th>czas</th>\n",
       "      <th></th>\n",
       "      <th></th>\n",
       "      <th></th>\n",
       "      <th></th>\n",
       "      <th></th>\n",
       "      <th></th>\n",
       "      <th></th>\n",
       "      <th></th>\n",
       "      <th></th>\n",
       "      <th></th>\n",
       "      <th></th>\n",
       "      <th></th>\n",
       "      <th></th>\n",
       "      <th></th>\n",
       "      <th></th>\n",
       "      <th></th>\n",
       "      <th></th>\n",
       "      <th></th>\n",
       "      <th></th>\n",
       "      <th></th>\n",
       "      <th></th>\n",
       "    </tr>\n",
       "  </thead>\n",
       "  <tbody>\n",
       "    <tr>\n",
       "      <th>2020-10-01 02:00:00+00:00</th>\n",
       "      <td>418.649147</td>\n",
       "      <td>29.096685</td>\n",
       "      <td>55.128463</td>\n",
       "      <td>54.859789</td>\n",
       "      <td>12.977070</td>\n",
       "      <td>20.988711</td>\n",
       "      <td>14.234579</td>\n",
       "      <td>418.652168</td>\n",
       "      <td>29.080250</td>\n",
       "      <td>54.657057</td>\n",
       "      <td>...</td>\n",
       "      <td>22.428933</td>\n",
       "      <td>14.359413</td>\n",
       "      <td>418.990512</td>\n",
       "      <td>29.087193</td>\n",
       "      <td>55.750510</td>\n",
       "      <td>54.729549</td>\n",
       "      <td>11.996658</td>\n",
       "      <td>22.543309</td>\n",
       "      <td>14.372126</td>\n",
       "      <td>1295.0</td>\n",
       "    </tr>\n",
       "    <tr>\n",
       "      <th>2020-10-01 03:00:00+00:00</th>\n",
       "      <td>418.568565</td>\n",
       "      <td>28.946375</td>\n",
       "      <td>54.579503</td>\n",
       "      <td>55.063420</td>\n",
       "      <td>12.976022</td>\n",
       "      <td>23.037937</td>\n",
       "      <td>13.733975</td>\n",
       "      <td>418.571018</td>\n",
       "      <td>28.948675</td>\n",
       "      <td>54.549533</td>\n",
       "      <td>...</td>\n",
       "      <td>22.641611</td>\n",
       "      <td>15.020728</td>\n",
       "      <td>418.911544</td>\n",
       "      <td>29.003188</td>\n",
       "      <td>55.366181</td>\n",
       "      <td>55.099881</td>\n",
       "      <td>11.553369</td>\n",
       "      <td>22.559934</td>\n",
       "      <td>14.981148</td>\n",
       "      <td>1303.0</td>\n",
       "    </tr>\n",
       "    <tr>\n",
       "      <th>2020-10-01 04:00:00+00:00</th>\n",
       "      <td>418.496678</td>\n",
       "      <td>28.886103</td>\n",
       "      <td>55.402461</td>\n",
       "      <td>54.960071</td>\n",
       "      <td>12.992828</td>\n",
       "      <td>22.935354</td>\n",
       "      <td>13.821118</td>\n",
       "      <td>418.498917</td>\n",
       "      <td>28.883079</td>\n",
       "      <td>54.975963</td>\n",
       "      <td>...</td>\n",
       "      <td>22.494455</td>\n",
       "      <td>15.075474</td>\n",
       "      <td>418.864860</td>\n",
       "      <td>28.950773</td>\n",
       "      <td>54.391634</td>\n",
       "      <td>54.912948</td>\n",
       "      <td>11.069167</td>\n",
       "      <td>22.592863</td>\n",
       "      <td>15.057486</td>\n",
       "      <td>1302.0</td>\n",
       "    </tr>\n",
       "  </tbody>\n",
       "</table>\n",
       "<p>3 rows × 1090 columns</p>\n",
       "</div>"
      ],
      "text/plain": [
       "                                 TIX1        TIR  \\\n",
       "czas                                               \n",
       "2020-10-01 02:00:00+00:00  418.649147  29.096685   \n",
       "2020-10-01 03:00:00+00:00  418.568565  28.946375   \n",
       "2020-10-01 04:00:00+00:00  418.496678  28.886103   \n",
       "\n",
       "                           REG NADAWY KONCENTRATU LIW1 [Mg/h]  \\\n",
       "czas                                                            \n",
       "2020-10-01 02:00:00+00:00                           55.128463   \n",
       "2020-10-01 03:00:00+00:00                           54.579503   \n",
       "2020-10-01 04:00:00+00:00                           55.402461   \n",
       "\n",
       "                           REG NADAWY KONCENTRATU LIW2 [Mg/h]  \\\n",
       "czas                                                            \n",
       "2020-10-01 02:00:00+00:00                           54.859789   \n",
       "2020-10-01 03:00:00+00:00                           55.063420   \n",
       "2020-10-01 04:00:00+00:00                           54.960071   \n",
       "\n",
       "                           REG KONCENTRAT PRAZONY LIW3 [Mg/h]  \\\n",
       "czas                                                            \n",
       "2020-10-01 02:00:00+00:00                           12.977070   \n",
       "2020-10-01 03:00:00+00:00                           12.976022   \n",
       "2020-10-01 04:00:00+00:00                           12.992828   \n",
       "\n",
       "                           REG PYL ZWROT LIW4 [Mg/h]  \\\n",
       "czas                                                   \n",
       "2020-10-01 02:00:00+00:00                  20.988711   \n",
       "2020-10-01 03:00:00+00:00                  23.037937   \n",
       "2020-10-01 04:00:00+00:00                  22.935354   \n",
       "\n",
       "                           SUMARYCZNA MOC CIEPLNA ODEBRANA - CAŁKOWITA [MW]  \\\n",
       "czas                                                                          \n",
       "2020-10-01 02:00:00+00:00                                         14.234579   \n",
       "2020-10-01 03:00:00+00:00                                         13.733975   \n",
       "2020-10-01 04:00:00+00:00                                         13.821118   \n",
       "\n",
       "                           1th_agg_TIX1  1th_agg_TIR  \\\n",
       "czas                                                   \n",
       "2020-10-01 02:00:00+00:00    418.652168    29.080250   \n",
       "2020-10-01 03:00:00+00:00    418.571018    28.948675   \n",
       "2020-10-01 04:00:00+00:00    418.498917    28.883079   \n",
       "\n",
       "                           1th_agg_REG NADAWY KONCENTRATU LIW1 [Mg/h]  ...  \\\n",
       "czas                                                                   ...   \n",
       "2020-10-01 02:00:00+00:00                                   54.657057  ...   \n",
       "2020-10-01 03:00:00+00:00                                   54.549533  ...   \n",
       "2020-10-01 04:00:00+00:00                                   54.975963  ...   \n",
       "\n",
       "                           4th_agg_29th_agg_REG PYL ZWROT LIW4 [Mg/h]  \\\n",
       "czas                                                                    \n",
       "2020-10-01 02:00:00+00:00                                   22.428933   \n",
       "2020-10-01 03:00:00+00:00                                   22.641611   \n",
       "2020-10-01 04:00:00+00:00                                   22.494455   \n",
       "\n",
       "                           4th_agg_29th_agg_SUMARYCZNA MOC CIEPLNA ODEBRANA - CAŁKOWITA [MW]  \\\n",
       "czas                                                                                           \n",
       "2020-10-01 02:00:00+00:00                                          14.359413                   \n",
       "2020-10-01 03:00:00+00:00                                          15.020728                   \n",
       "2020-10-01 04:00:00+00:00                                          15.075474                   \n",
       "\n",
       "                           4th_agg_30th_agg_TIX1  4th_agg_30th_agg_TIR  \\\n",
       "czas                                                                     \n",
       "2020-10-01 02:00:00+00:00             418.990512             29.087193   \n",
       "2020-10-01 03:00:00+00:00             418.911544             29.003188   \n",
       "2020-10-01 04:00:00+00:00             418.864860             28.950773   \n",
       "\n",
       "                           4th_agg_30th_agg_REG NADAWY KONCENTRATU LIW1 [Mg/h]  \\\n",
       "czas                                                                             \n",
       "2020-10-01 02:00:00+00:00                                          55.750510     \n",
       "2020-10-01 03:00:00+00:00                                          55.366181     \n",
       "2020-10-01 04:00:00+00:00                                          54.391634     \n",
       "\n",
       "                           4th_agg_30th_agg_REG NADAWY KONCENTRATU LIW2 [Mg/h]  \\\n",
       "czas                                                                             \n",
       "2020-10-01 02:00:00+00:00                                          54.729549     \n",
       "2020-10-01 03:00:00+00:00                                          55.099881     \n",
       "2020-10-01 04:00:00+00:00                                          54.912948     \n",
       "\n",
       "                           4th_agg_30th_agg_REG KONCENTRAT PRAZONY LIW3 [Mg/h]  \\\n",
       "czas                                                                             \n",
       "2020-10-01 02:00:00+00:00                                          11.996658     \n",
       "2020-10-01 03:00:00+00:00                                          11.553369     \n",
       "2020-10-01 04:00:00+00:00                                          11.069167     \n",
       "\n",
       "                           4th_agg_30th_agg_REG PYL ZWROT LIW4 [Mg/h]  \\\n",
       "czas                                                                    \n",
       "2020-10-01 02:00:00+00:00                                   22.543309   \n",
       "2020-10-01 03:00:00+00:00                                   22.559934   \n",
       "2020-10-01 04:00:00+00:00                                   22.592863   \n",
       "\n",
       "                           4th_agg_30th_agg_SUMARYCZNA MOC CIEPLNA ODEBRANA - CAŁKOWITA [MW]  \\\n",
       "czas                                                                                           \n",
       "2020-10-01 02:00:00+00:00                                          14.372126                   \n",
       "2020-10-01 03:00:00+00:00                                          14.981148                   \n",
       "2020-10-01 04:00:00+00:00                                          15.057486                   \n",
       "\n",
       "                           4th_agg_TEMP_ZUZ  \n",
       "czas                                         \n",
       "2020-10-01 02:00:00+00:00            1295.0  \n",
       "2020-10-01 03:00:00+00:00            1303.0  \n",
       "2020-10-01 04:00:00+00:00            1302.0  \n",
       "\n",
       "[3 rows x 1090 columns]"
      ]
     },
     "execution_count": 91,
     "metadata": {},
     "output_type": "execute_result"
    }
   ],
   "source": [
    "# Adding lagged featues\n",
    "\n",
    "lagged_df = agg_df.copy()\n",
    "\n",
    "for i in range(60 // AGGREGATE_INTERVAL):\n",
    "    lagged_df = pd.concat([lagged_df, agg_df.shift(i+1).add_prefix(f'{i+1}th_agg_')], axis=1)\n",
    "\n",
    "# delete rows with nans created by shifts\n",
    "lagged_df = lagged_df.iloc[(60 // AGGREGATE_INTERVAL):, :]\n",
    "    \n",
    "lagged_df.head(3)"
   ]
  },
  {
   "cell_type": "code",
   "execution_count": 92,
   "id": "8feeba6e",
   "metadata": {},
   "outputs": [
    {
     "data": {
      "text/plain": [
       "(8697, 1090)"
      ]
     },
     "execution_count": 92,
     "metadata": {},
     "output_type": "execute_result"
    }
   ],
   "source": [
    "lagged_df.shape"
   ]
  },
  {
   "cell_type": "code",
   "execution_count": 93,
   "id": "764454e8",
   "metadata": {},
   "outputs": [
    {
     "data": {
      "text/html": [
       "<div>\n",
       "<style scoped>\n",
       "    .dataframe tbody tr th:only-of-type {\n",
       "        vertical-align: middle;\n",
       "    }\n",
       "\n",
       "    .dataframe tbody tr th {\n",
       "        vertical-align: top;\n",
       "    }\n",
       "\n",
       "    .dataframe thead th {\n",
       "        text-align: right;\n",
       "    }\n",
       "</style>\n",
       "<table border=\"1\" class=\"dataframe\">\n",
       "  <thead>\n",
       "    <tr style=\"text-align: right;\">\n",
       "      <th></th>\n",
       "      <th>temp_zuz</th>\n",
       "    </tr>\n",
       "    <tr>\n",
       "      <th>Czas</th>\n",
       "      <th></th>\n",
       "    </tr>\n",
       "  </thead>\n",
       "  <tbody>\n",
       "    <tr>\n",
       "      <th>2020-09-30 22:00:00+00:00</th>\n",
       "      <td>1297</td>\n",
       "    </tr>\n",
       "    <tr>\n",
       "      <th>2020-09-30 23:00:00+00:00</th>\n",
       "      <td>1295</td>\n",
       "    </tr>\n",
       "    <tr>\n",
       "      <th>2020-10-01 00:00:00+00:00</th>\n",
       "      <td>1303</td>\n",
       "    </tr>\n",
       "    <tr>\n",
       "      <th>2020-10-01 00:30:00+00:00</th>\n",
       "      <td>1302</td>\n",
       "    </tr>\n",
       "    <tr>\n",
       "      <th>2020-10-01 01:00:00+00:00</th>\n",
       "      <td>1303</td>\n",
       "    </tr>\n",
       "  </tbody>\n",
       "</table>\n",
       "</div>"
      ],
      "text/plain": [
       "                           temp_zuz\n",
       "Czas                               \n",
       "2020-09-30 22:00:00+00:00      1297\n",
       "2020-09-30 23:00:00+00:00      1295\n",
       "2020-10-01 00:00:00+00:00      1303\n",
       "2020-10-01 00:30:00+00:00      1302\n",
       "2020-10-01 01:00:00+00:00      1303"
      ]
     },
     "execution_count": 93,
     "metadata": {},
     "output_type": "execute_result"
    }
   ],
   "source": [
    "temp_zuz.head(5)"
   ]
  },
  {
   "cell_type": "code",
   "execution_count": 94,
   "id": "9aafd3de",
   "metadata": {},
   "outputs": [
    {
     "data": {
      "text/html": [
       "<div>\n",
       "<style scoped>\n",
       "    .dataframe tbody tr th:only-of-type {\n",
       "        vertical-align: middle;\n",
       "    }\n",
       "\n",
       "    .dataframe tbody tr th {\n",
       "        vertical-align: top;\n",
       "    }\n",
       "\n",
       "    .dataframe thead th {\n",
       "        text-align: right;\n",
       "    }\n",
       "</style>\n",
       "<table border=\"1\" class=\"dataframe\">\n",
       "  <thead>\n",
       "    <tr style=\"text-align: right;\">\n",
       "      <th></th>\n",
       "      <th>TIX1</th>\n",
       "      <th>TIR</th>\n",
       "      <th>REG NADAWY KONCENTRATU LIW1 [Mg/h]</th>\n",
       "      <th>REG NADAWY KONCENTRATU LIW2 [Mg/h]</th>\n",
       "      <th>REG KONCENTRAT PRAZONY LIW3 [Mg/h]</th>\n",
       "      <th>REG PYL ZWROT LIW4 [Mg/h]</th>\n",
       "      <th>SUMARYCZNA MOC CIEPLNA ODEBRANA - CAŁKOWITA [MW]</th>\n",
       "      <th>1th_agg_TIX1</th>\n",
       "      <th>1th_agg_TIR</th>\n",
       "      <th>1th_agg_REG NADAWY KONCENTRATU LIW1 [Mg/h]</th>\n",
       "      <th>...</th>\n",
       "      <th>4th_agg_29th_agg_REG PYL ZWROT LIW4 [Mg/h]</th>\n",
       "      <th>4th_agg_29th_agg_SUMARYCZNA MOC CIEPLNA ODEBRANA - CAŁKOWITA [MW]</th>\n",
       "      <th>4th_agg_30th_agg_TIX1</th>\n",
       "      <th>4th_agg_30th_agg_TIR</th>\n",
       "      <th>4th_agg_30th_agg_REG NADAWY KONCENTRATU LIW1 [Mg/h]</th>\n",
       "      <th>4th_agg_30th_agg_REG NADAWY KONCENTRATU LIW2 [Mg/h]</th>\n",
       "      <th>4th_agg_30th_agg_REG KONCENTRAT PRAZONY LIW3 [Mg/h]</th>\n",
       "      <th>4th_agg_30th_agg_REG PYL ZWROT LIW4 [Mg/h]</th>\n",
       "      <th>4th_agg_30th_agg_SUMARYCZNA MOC CIEPLNA ODEBRANA - CAŁKOWITA [MW]</th>\n",
       "      <th>4th_agg_TEMP_ZUZ</th>\n",
       "    </tr>\n",
       "    <tr>\n",
       "      <th>czas</th>\n",
       "      <th></th>\n",
       "      <th></th>\n",
       "      <th></th>\n",
       "      <th></th>\n",
       "      <th></th>\n",
       "      <th></th>\n",
       "      <th></th>\n",
       "      <th></th>\n",
       "      <th></th>\n",
       "      <th></th>\n",
       "      <th></th>\n",
       "      <th></th>\n",
       "      <th></th>\n",
       "      <th></th>\n",
       "      <th></th>\n",
       "      <th></th>\n",
       "      <th></th>\n",
       "      <th></th>\n",
       "      <th></th>\n",
       "      <th></th>\n",
       "      <th></th>\n",
       "    </tr>\n",
       "  </thead>\n",
       "  <tbody>\n",
       "    <tr>\n",
       "      <th>2020-10-01 02:00:00+00:00</th>\n",
       "      <td>418.649147</td>\n",
       "      <td>29.096685</td>\n",
       "      <td>55.128463</td>\n",
       "      <td>54.859789</td>\n",
       "      <td>12.977070</td>\n",
       "      <td>20.988711</td>\n",
       "      <td>14.234579</td>\n",
       "      <td>418.652168</td>\n",
       "      <td>29.080250</td>\n",
       "      <td>54.657057</td>\n",
       "      <td>...</td>\n",
       "      <td>22.428933</td>\n",
       "      <td>14.359413</td>\n",
       "      <td>418.990512</td>\n",
       "      <td>29.087193</td>\n",
       "      <td>55.750510</td>\n",
       "      <td>54.729549</td>\n",
       "      <td>11.996658</td>\n",
       "      <td>22.543309</td>\n",
       "      <td>14.372126</td>\n",
       "      <td>1295.0</td>\n",
       "    </tr>\n",
       "    <tr>\n",
       "      <th>2020-10-01 03:00:00+00:00</th>\n",
       "      <td>418.568565</td>\n",
       "      <td>28.946375</td>\n",
       "      <td>54.579503</td>\n",
       "      <td>55.063420</td>\n",
       "      <td>12.976022</td>\n",
       "      <td>23.037937</td>\n",
       "      <td>13.733975</td>\n",
       "      <td>418.571018</td>\n",
       "      <td>28.948675</td>\n",
       "      <td>54.549533</td>\n",
       "      <td>...</td>\n",
       "      <td>22.641611</td>\n",
       "      <td>15.020728</td>\n",
       "      <td>418.911544</td>\n",
       "      <td>29.003188</td>\n",
       "      <td>55.366181</td>\n",
       "      <td>55.099881</td>\n",
       "      <td>11.553369</td>\n",
       "      <td>22.559934</td>\n",
       "      <td>14.981148</td>\n",
       "      <td>1303.0</td>\n",
       "    </tr>\n",
       "    <tr>\n",
       "      <th>2020-10-01 04:00:00+00:00</th>\n",
       "      <td>418.496678</td>\n",
       "      <td>28.886103</td>\n",
       "      <td>55.402461</td>\n",
       "      <td>54.960071</td>\n",
       "      <td>12.992828</td>\n",
       "      <td>22.935354</td>\n",
       "      <td>13.821118</td>\n",
       "      <td>418.498917</td>\n",
       "      <td>28.883079</td>\n",
       "      <td>54.975963</td>\n",
       "      <td>...</td>\n",
       "      <td>22.494455</td>\n",
       "      <td>15.075474</td>\n",
       "      <td>418.864860</td>\n",
       "      <td>28.950773</td>\n",
       "      <td>54.391634</td>\n",
       "      <td>54.912948</td>\n",
       "      <td>11.069167</td>\n",
       "      <td>22.592863</td>\n",
       "      <td>15.057486</td>\n",
       "      <td>1302.0</td>\n",
       "    </tr>\n",
       "    <tr>\n",
       "      <th>2020-10-01 05:00:00+00:00</th>\n",
       "      <td>418.446714</td>\n",
       "      <td>29.008270</td>\n",
       "      <td>54.832584</td>\n",
       "      <td>54.924843</td>\n",
       "      <td>13.025152</td>\n",
       "      <td>23.839429</td>\n",
       "      <td>14.523812</td>\n",
       "      <td>418.448100</td>\n",
       "      <td>28.996128</td>\n",
       "      <td>54.132036</td>\n",
       "      <td>...</td>\n",
       "      <td>20.012150</td>\n",
       "      <td>15.198132</td>\n",
       "      <td>418.820059</td>\n",
       "      <td>29.024466</td>\n",
       "      <td>54.831780</td>\n",
       "      <td>55.003218</td>\n",
       "      <td>10.996928</td>\n",
       "      <td>20.068758</td>\n",
       "      <td>15.194276</td>\n",
       "      <td>1303.0</td>\n",
       "    </tr>\n",
       "    <tr>\n",
       "      <th>2020-10-01 06:00:00+00:00</th>\n",
       "      <td>418.405872</td>\n",
       "      <td>29.166321</td>\n",
       "      <td>54.543309</td>\n",
       "      <td>54.956310</td>\n",
       "      <td>12.913086</td>\n",
       "      <td>24.023084</td>\n",
       "      <td>15.041514</td>\n",
       "      <td>418.407222</td>\n",
       "      <td>29.170246</td>\n",
       "      <td>56.319990</td>\n",
       "      <td>...</td>\n",
       "      <td>20.922734</td>\n",
       "      <td>14.612538</td>\n",
       "      <td>418.735368</td>\n",
       "      <td>29.092727</td>\n",
       "      <td>55.025156</td>\n",
       "      <td>54.940377</td>\n",
       "      <td>11.032230</td>\n",
       "      <td>21.095264</td>\n",
       "      <td>14.608455</td>\n",
       "      <td>1306.0</td>\n",
       "    </tr>\n",
       "  </tbody>\n",
       "</table>\n",
       "<p>5 rows × 1090 columns</p>\n",
       "</div>"
      ],
      "text/plain": [
       "                                 TIX1        TIR  \\\n",
       "czas                                               \n",
       "2020-10-01 02:00:00+00:00  418.649147  29.096685   \n",
       "2020-10-01 03:00:00+00:00  418.568565  28.946375   \n",
       "2020-10-01 04:00:00+00:00  418.496678  28.886103   \n",
       "2020-10-01 05:00:00+00:00  418.446714  29.008270   \n",
       "2020-10-01 06:00:00+00:00  418.405872  29.166321   \n",
       "\n",
       "                           REG NADAWY KONCENTRATU LIW1 [Mg/h]  \\\n",
       "czas                                                            \n",
       "2020-10-01 02:00:00+00:00                           55.128463   \n",
       "2020-10-01 03:00:00+00:00                           54.579503   \n",
       "2020-10-01 04:00:00+00:00                           55.402461   \n",
       "2020-10-01 05:00:00+00:00                           54.832584   \n",
       "2020-10-01 06:00:00+00:00                           54.543309   \n",
       "\n",
       "                           REG NADAWY KONCENTRATU LIW2 [Mg/h]  \\\n",
       "czas                                                            \n",
       "2020-10-01 02:00:00+00:00                           54.859789   \n",
       "2020-10-01 03:00:00+00:00                           55.063420   \n",
       "2020-10-01 04:00:00+00:00                           54.960071   \n",
       "2020-10-01 05:00:00+00:00                           54.924843   \n",
       "2020-10-01 06:00:00+00:00                           54.956310   \n",
       "\n",
       "                           REG KONCENTRAT PRAZONY LIW3 [Mg/h]  \\\n",
       "czas                                                            \n",
       "2020-10-01 02:00:00+00:00                           12.977070   \n",
       "2020-10-01 03:00:00+00:00                           12.976022   \n",
       "2020-10-01 04:00:00+00:00                           12.992828   \n",
       "2020-10-01 05:00:00+00:00                           13.025152   \n",
       "2020-10-01 06:00:00+00:00                           12.913086   \n",
       "\n",
       "                           REG PYL ZWROT LIW4 [Mg/h]  \\\n",
       "czas                                                   \n",
       "2020-10-01 02:00:00+00:00                  20.988711   \n",
       "2020-10-01 03:00:00+00:00                  23.037937   \n",
       "2020-10-01 04:00:00+00:00                  22.935354   \n",
       "2020-10-01 05:00:00+00:00                  23.839429   \n",
       "2020-10-01 06:00:00+00:00                  24.023084   \n",
       "\n",
       "                           SUMARYCZNA MOC CIEPLNA ODEBRANA - CAŁKOWITA [MW]  \\\n",
       "czas                                                                          \n",
       "2020-10-01 02:00:00+00:00                                         14.234579   \n",
       "2020-10-01 03:00:00+00:00                                         13.733975   \n",
       "2020-10-01 04:00:00+00:00                                         13.821118   \n",
       "2020-10-01 05:00:00+00:00                                         14.523812   \n",
       "2020-10-01 06:00:00+00:00                                         15.041514   \n",
       "\n",
       "                           1th_agg_TIX1  1th_agg_TIR  \\\n",
       "czas                                                   \n",
       "2020-10-01 02:00:00+00:00    418.652168    29.080250   \n",
       "2020-10-01 03:00:00+00:00    418.571018    28.948675   \n",
       "2020-10-01 04:00:00+00:00    418.498917    28.883079   \n",
       "2020-10-01 05:00:00+00:00    418.448100    28.996128   \n",
       "2020-10-01 06:00:00+00:00    418.407222    29.170246   \n",
       "\n",
       "                           1th_agg_REG NADAWY KONCENTRATU LIW1 [Mg/h]  ...  \\\n",
       "czas                                                                   ...   \n",
       "2020-10-01 02:00:00+00:00                                   54.657057  ...   \n",
       "2020-10-01 03:00:00+00:00                                   54.549533  ...   \n",
       "2020-10-01 04:00:00+00:00                                   54.975963  ...   \n",
       "2020-10-01 05:00:00+00:00                                   54.132036  ...   \n",
       "2020-10-01 06:00:00+00:00                                   56.319990  ...   \n",
       "\n",
       "                           4th_agg_29th_agg_REG PYL ZWROT LIW4 [Mg/h]  \\\n",
       "czas                                                                    \n",
       "2020-10-01 02:00:00+00:00                                   22.428933   \n",
       "2020-10-01 03:00:00+00:00                                   22.641611   \n",
       "2020-10-01 04:00:00+00:00                                   22.494455   \n",
       "2020-10-01 05:00:00+00:00                                   20.012150   \n",
       "2020-10-01 06:00:00+00:00                                   20.922734   \n",
       "\n",
       "                           4th_agg_29th_agg_SUMARYCZNA MOC CIEPLNA ODEBRANA - CAŁKOWITA [MW]  \\\n",
       "czas                                                                                           \n",
       "2020-10-01 02:00:00+00:00                                          14.359413                   \n",
       "2020-10-01 03:00:00+00:00                                          15.020728                   \n",
       "2020-10-01 04:00:00+00:00                                          15.075474                   \n",
       "2020-10-01 05:00:00+00:00                                          15.198132                   \n",
       "2020-10-01 06:00:00+00:00                                          14.612538                   \n",
       "\n",
       "                           4th_agg_30th_agg_TIX1  4th_agg_30th_agg_TIR  \\\n",
       "czas                                                                     \n",
       "2020-10-01 02:00:00+00:00             418.990512             29.087193   \n",
       "2020-10-01 03:00:00+00:00             418.911544             29.003188   \n",
       "2020-10-01 04:00:00+00:00             418.864860             28.950773   \n",
       "2020-10-01 05:00:00+00:00             418.820059             29.024466   \n",
       "2020-10-01 06:00:00+00:00             418.735368             29.092727   \n",
       "\n",
       "                           4th_agg_30th_agg_REG NADAWY KONCENTRATU LIW1 [Mg/h]  \\\n",
       "czas                                                                             \n",
       "2020-10-01 02:00:00+00:00                                          55.750510     \n",
       "2020-10-01 03:00:00+00:00                                          55.366181     \n",
       "2020-10-01 04:00:00+00:00                                          54.391634     \n",
       "2020-10-01 05:00:00+00:00                                          54.831780     \n",
       "2020-10-01 06:00:00+00:00                                          55.025156     \n",
       "\n",
       "                           4th_agg_30th_agg_REG NADAWY KONCENTRATU LIW2 [Mg/h]  \\\n",
       "czas                                                                             \n",
       "2020-10-01 02:00:00+00:00                                          54.729549     \n",
       "2020-10-01 03:00:00+00:00                                          55.099881     \n",
       "2020-10-01 04:00:00+00:00                                          54.912948     \n",
       "2020-10-01 05:00:00+00:00                                          55.003218     \n",
       "2020-10-01 06:00:00+00:00                                          54.940377     \n",
       "\n",
       "                           4th_agg_30th_agg_REG KONCENTRAT PRAZONY LIW3 [Mg/h]  \\\n",
       "czas                                                                             \n",
       "2020-10-01 02:00:00+00:00                                          11.996658     \n",
       "2020-10-01 03:00:00+00:00                                          11.553369     \n",
       "2020-10-01 04:00:00+00:00                                          11.069167     \n",
       "2020-10-01 05:00:00+00:00                                          10.996928     \n",
       "2020-10-01 06:00:00+00:00                                          11.032230     \n",
       "\n",
       "                           4th_agg_30th_agg_REG PYL ZWROT LIW4 [Mg/h]  \\\n",
       "czas                                                                    \n",
       "2020-10-01 02:00:00+00:00                                   22.543309   \n",
       "2020-10-01 03:00:00+00:00                                   22.559934   \n",
       "2020-10-01 04:00:00+00:00                                   22.592863   \n",
       "2020-10-01 05:00:00+00:00                                   20.068758   \n",
       "2020-10-01 06:00:00+00:00                                   21.095264   \n",
       "\n",
       "                           4th_agg_30th_agg_SUMARYCZNA MOC CIEPLNA ODEBRANA - CAŁKOWITA [MW]  \\\n",
       "czas                                                                                           \n",
       "2020-10-01 02:00:00+00:00                                          14.372126                   \n",
       "2020-10-01 03:00:00+00:00                                          14.981148                   \n",
       "2020-10-01 04:00:00+00:00                                          15.057486                   \n",
       "2020-10-01 05:00:00+00:00                                          15.194276                   \n",
       "2020-10-01 06:00:00+00:00                                          14.608455                   \n",
       "\n",
       "                           4th_agg_TEMP_ZUZ  \n",
       "czas                                         \n",
       "2020-10-01 02:00:00+00:00            1295.0  \n",
       "2020-10-01 03:00:00+00:00            1303.0  \n",
       "2020-10-01 04:00:00+00:00            1302.0  \n",
       "2020-10-01 05:00:00+00:00            1303.0  \n",
       "2020-10-01 06:00:00+00:00            1306.0  \n",
       "\n",
       "[5 rows x 1090 columns]"
      ]
     },
     "execution_count": 94,
     "metadata": {},
     "output_type": "execute_result"
    }
   ],
   "source": [
    "lagged_df.head(5)"
   ]
  },
  {
   "cell_type": "code",
   "execution_count": 95,
   "id": "85099184",
   "metadata": {
    "pycharm": {
     "name": "#%%\n"
    }
   },
   "outputs": [],
   "source": [
    "lagged_df = lagged_df.join(temp_zuz['temp_zuz'])\n",
    "\n",
    "# dodanie temperatury żużla\n",
    "lagged_df = lagged_df.rename(columns={'temp_zuz': 'TEMP_ZUZ'})"
   ]
  },
  {
   "cell_type": "code",
   "execution_count": 96,
   "id": "a5a44b58",
   "metadata": {},
   "outputs": [],
   "source": [
    "df = lagged_df.copy()"
   ]
  },
  {
   "cell_type": "code",
   "execution_count": 97,
   "id": "13ca0cab",
   "metadata": {
    "pycharm": {
     "name": "#%%\n"
    }
   },
   "outputs": [
    {
     "data": {
      "text/plain": [
       "(8686, 1091)"
      ]
     },
     "execution_count": 97,
     "metadata": {},
     "output_type": "execute_result"
    }
   ],
   "source": [
    "pr_df = df.copy()\n",
    "df = df.dropna(axis=0)\n",
    "df.shape"
   ]
  },
  {
   "cell_type": "code",
   "execution_count": 98,
   "id": "37dcdc86",
   "metadata": {
    "pycharm": {
     "name": "#%%\n"
    }
   },
   "outputs": [
    {
     "data": {
      "text/html": [
       "<div>\n",
       "<style scoped>\n",
       "    .dataframe tbody tr th:only-of-type {\n",
       "        vertical-align: middle;\n",
       "    }\n",
       "\n",
       "    .dataframe tbody tr th {\n",
       "        vertical-align: top;\n",
       "    }\n",
       "\n",
       "    .dataframe thead th {\n",
       "        text-align: right;\n",
       "    }\n",
       "</style>\n",
       "<table border=\"1\" class=\"dataframe\">\n",
       "  <thead>\n",
       "    <tr style=\"text-align: right;\">\n",
       "      <th></th>\n",
       "      <th>TIX1</th>\n",
       "      <th>TIR</th>\n",
       "      <th>REG NADAWY KONCENTRATU LIW1 [Mg/h]</th>\n",
       "      <th>REG NADAWY KONCENTRATU LIW2 [Mg/h]</th>\n",
       "      <th>REG KONCENTRAT PRAZONY LIW3 [Mg/h]</th>\n",
       "      <th>REG PYL ZWROT LIW4 [Mg/h]</th>\n",
       "      <th>SUMARYCZNA MOC CIEPLNA ODEBRANA - CAŁKOWITA [MW]</th>\n",
       "      <th>1th_agg_TIX1</th>\n",
       "      <th>1th_agg_TIR</th>\n",
       "      <th>1th_agg_REG NADAWY KONCENTRATU LIW1 [Mg/h]</th>\n",
       "      <th>...</th>\n",
       "      <th>4th_agg_29th_agg_SUMARYCZNA MOC CIEPLNA ODEBRANA - CAŁKOWITA [MW]</th>\n",
       "      <th>4th_agg_30th_agg_TIX1</th>\n",
       "      <th>4th_agg_30th_agg_TIR</th>\n",
       "      <th>4th_agg_30th_agg_REG NADAWY KONCENTRATU LIW1 [Mg/h]</th>\n",
       "      <th>4th_agg_30th_agg_REG NADAWY KONCENTRATU LIW2 [Mg/h]</th>\n",
       "      <th>4th_agg_30th_agg_REG KONCENTRAT PRAZONY LIW3 [Mg/h]</th>\n",
       "      <th>4th_agg_30th_agg_REG PYL ZWROT LIW4 [Mg/h]</th>\n",
       "      <th>4th_agg_30th_agg_SUMARYCZNA MOC CIEPLNA ODEBRANA - CAŁKOWITA [MW]</th>\n",
       "      <th>4th_agg_TEMP_ZUZ</th>\n",
       "      <th>TEMP_ZUZ</th>\n",
       "    </tr>\n",
       "    <tr>\n",
       "      <th>czas</th>\n",
       "      <th></th>\n",
       "      <th></th>\n",
       "      <th></th>\n",
       "      <th></th>\n",
       "      <th></th>\n",
       "      <th></th>\n",
       "      <th></th>\n",
       "      <th></th>\n",
       "      <th></th>\n",
       "      <th></th>\n",
       "      <th></th>\n",
       "      <th></th>\n",
       "      <th></th>\n",
       "      <th></th>\n",
       "      <th></th>\n",
       "      <th></th>\n",
       "      <th></th>\n",
       "      <th></th>\n",
       "      <th></th>\n",
       "      <th></th>\n",
       "      <th></th>\n",
       "    </tr>\n",
       "  </thead>\n",
       "  <tbody>\n",
       "    <tr>\n",
       "      <th>2020-10-01 02:00:00+00:00</th>\n",
       "      <td>418.649147</td>\n",
       "      <td>29.096685</td>\n",
       "      <td>55.128463</td>\n",
       "      <td>54.859789</td>\n",
       "      <td>12.977070</td>\n",
       "      <td>20.988711</td>\n",
       "      <td>14.234579</td>\n",
       "      <td>418.652168</td>\n",
       "      <td>29.080250</td>\n",
       "      <td>54.657057</td>\n",
       "      <td>...</td>\n",
       "      <td>14.359413</td>\n",
       "      <td>418.990512</td>\n",
       "      <td>29.087193</td>\n",
       "      <td>55.750510</td>\n",
       "      <td>54.729549</td>\n",
       "      <td>11.996658</td>\n",
       "      <td>22.543309</td>\n",
       "      <td>14.372126</td>\n",
       "      <td>1295.0</td>\n",
       "      <td>1306.0</td>\n",
       "    </tr>\n",
       "    <tr>\n",
       "      <th>2020-10-01 03:00:00+00:00</th>\n",
       "      <td>418.568565</td>\n",
       "      <td>28.946375</td>\n",
       "      <td>54.579503</td>\n",
       "      <td>55.063420</td>\n",
       "      <td>12.976022</td>\n",
       "      <td>23.037937</td>\n",
       "      <td>13.733975</td>\n",
       "      <td>418.571018</td>\n",
       "      <td>28.948675</td>\n",
       "      <td>54.549533</td>\n",
       "      <td>...</td>\n",
       "      <td>15.020728</td>\n",
       "      <td>418.911544</td>\n",
       "      <td>29.003188</td>\n",
       "      <td>55.366181</td>\n",
       "      <td>55.099881</td>\n",
       "      <td>11.553369</td>\n",
       "      <td>22.559934</td>\n",
       "      <td>14.981148</td>\n",
       "      <td>1303.0</td>\n",
       "      <td>1303.0</td>\n",
       "    </tr>\n",
       "    <tr>\n",
       "      <th>2020-10-01 04:00:00+00:00</th>\n",
       "      <td>418.496678</td>\n",
       "      <td>28.886103</td>\n",
       "      <td>55.402461</td>\n",
       "      <td>54.960071</td>\n",
       "      <td>12.992828</td>\n",
       "      <td>22.935354</td>\n",
       "      <td>13.821118</td>\n",
       "      <td>418.498917</td>\n",
       "      <td>28.883079</td>\n",
       "      <td>54.975963</td>\n",
       "      <td>...</td>\n",
       "      <td>15.075474</td>\n",
       "      <td>418.864860</td>\n",
       "      <td>28.950773</td>\n",
       "      <td>54.391634</td>\n",
       "      <td>54.912948</td>\n",
       "      <td>11.069167</td>\n",
       "      <td>22.592863</td>\n",
       "      <td>15.057486</td>\n",
       "      <td>1302.0</td>\n",
       "      <td>1304.0</td>\n",
       "    </tr>\n",
       "    <tr>\n",
       "      <th>2020-10-01 05:00:00+00:00</th>\n",
       "      <td>418.446714</td>\n",
       "      <td>29.008270</td>\n",
       "      <td>54.832584</td>\n",
       "      <td>54.924843</td>\n",
       "      <td>13.025152</td>\n",
       "      <td>23.839429</td>\n",
       "      <td>14.523812</td>\n",
       "      <td>418.448100</td>\n",
       "      <td>28.996128</td>\n",
       "      <td>54.132036</td>\n",
       "      <td>...</td>\n",
       "      <td>15.198132</td>\n",
       "      <td>418.820059</td>\n",
       "      <td>29.024466</td>\n",
       "      <td>54.831780</td>\n",
       "      <td>55.003218</td>\n",
       "      <td>10.996928</td>\n",
       "      <td>20.068758</td>\n",
       "      <td>15.194276</td>\n",
       "      <td>1303.0</td>\n",
       "      <td>1302.0</td>\n",
       "    </tr>\n",
       "    <tr>\n",
       "      <th>2020-10-01 06:00:00+00:00</th>\n",
       "      <td>418.405872</td>\n",
       "      <td>29.166321</td>\n",
       "      <td>54.543309</td>\n",
       "      <td>54.956310</td>\n",
       "      <td>12.913086</td>\n",
       "      <td>24.023084</td>\n",
       "      <td>15.041514</td>\n",
       "      <td>418.407222</td>\n",
       "      <td>29.170246</td>\n",
       "      <td>56.319990</td>\n",
       "      <td>...</td>\n",
       "      <td>14.612538</td>\n",
       "      <td>418.735368</td>\n",
       "      <td>29.092727</td>\n",
       "      <td>55.025156</td>\n",
       "      <td>54.940377</td>\n",
       "      <td>11.032230</td>\n",
       "      <td>21.095264</td>\n",
       "      <td>14.608455</td>\n",
       "      <td>1306.0</td>\n",
       "      <td>1303.0</td>\n",
       "    </tr>\n",
       "    <tr>\n",
       "      <th>...</th>\n",
       "      <td>...</td>\n",
       "      <td>...</td>\n",
       "      <td>...</td>\n",
       "      <td>...</td>\n",
       "      <td>...</td>\n",
       "      <td>...</td>\n",
       "      <td>...</td>\n",
       "      <td>...</td>\n",
       "      <td>...</td>\n",
       "      <td>...</td>\n",
       "      <td>...</td>\n",
       "      <td>...</td>\n",
       "      <td>...</td>\n",
       "      <td>...</td>\n",
       "      <td>...</td>\n",
       "      <td>...</td>\n",
       "      <td>...</td>\n",
       "      <td>...</td>\n",
       "      <td>...</td>\n",
       "      <td>...</td>\n",
       "      <td>...</td>\n",
       "    </tr>\n",
       "    <tr>\n",
       "      <th>2021-10-11 01:00:00+00:00</th>\n",
       "      <td>417.603020</td>\n",
       "      <td>27.786007</td>\n",
       "      <td>61.917540</td>\n",
       "      <td>60.725406</td>\n",
       "      <td>13.053100</td>\n",
       "      <td>29.754868</td>\n",
       "      <td>19.926717</td>\n",
       "      <td>417.612902</td>\n",
       "      <td>27.761840</td>\n",
       "      <td>60.308508</td>\n",
       "      <td>...</td>\n",
       "      <td>19.723786</td>\n",
       "      <td>419.059106</td>\n",
       "      <td>28.215657</td>\n",
       "      <td>60.585661</td>\n",
       "      <td>61.103305</td>\n",
       "      <td>13.033626</td>\n",
       "      <td>30.036720</td>\n",
       "      <td>19.768953</td>\n",
       "      <td>1301.0</td>\n",
       "      <td>1299.0</td>\n",
       "    </tr>\n",
       "    <tr>\n",
       "      <th>2021-10-11 02:00:00+00:00</th>\n",
       "      <td>417.532874</td>\n",
       "      <td>27.092198</td>\n",
       "      <td>0.000000</td>\n",
       "      <td>0.000000</td>\n",
       "      <td>0.000000</td>\n",
       "      <td>0.000000</td>\n",
       "      <td>4.584276</td>\n",
       "      <td>417.534295</td>\n",
       "      <td>27.174123</td>\n",
       "      <td>0.000000</td>\n",
       "      <td>...</td>\n",
       "      <td>18.624423</td>\n",
       "      <td>418.841657</td>\n",
       "      <td>27.680251</td>\n",
       "      <td>60.718664</td>\n",
       "      <td>60.777577</td>\n",
       "      <td>12.998969</td>\n",
       "      <td>29.766971</td>\n",
       "      <td>18.353176</td>\n",
       "      <td>1303.0</td>\n",
       "      <td>1237.0</td>\n",
       "    </tr>\n",
       "    <tr>\n",
       "      <th>2021-10-11 04:00:00+00:00</th>\n",
       "      <td>417.500589</td>\n",
       "      <td>27.080442</td>\n",
       "      <td>56.110615</td>\n",
       "      <td>57.501761</td>\n",
       "      <td>0.081717</td>\n",
       "      <td>19.863183</td>\n",
       "      <td>17.766125</td>\n",
       "      <td>417.500483</td>\n",
       "      <td>27.046829</td>\n",
       "      <td>56.335515</td>\n",
       "      <td>...</td>\n",
       "      <td>18.402394</td>\n",
       "      <td>418.559242</td>\n",
       "      <td>27.344224</td>\n",
       "      <td>60.247578</td>\n",
       "      <td>61.027001</td>\n",
       "      <td>12.943016</td>\n",
       "      <td>26.859043</td>\n",
       "      <td>18.476355</td>\n",
       "      <td>1305.0</td>\n",
       "      <td>1306.0</td>\n",
       "    </tr>\n",
       "    <tr>\n",
       "      <th>2021-10-11 05:00:00+00:00</th>\n",
       "      <td>417.501186</td>\n",
       "      <td>28.032460</td>\n",
       "      <td>54.659948</td>\n",
       "      <td>54.714518</td>\n",
       "      <td>10.035885</td>\n",
       "      <td>27.806250</td>\n",
       "      <td>15.137661</td>\n",
       "      <td>417.501080</td>\n",
       "      <td>28.022392</td>\n",
       "      <td>54.528032</td>\n",
       "      <td>...</td>\n",
       "      <td>19.317906</td>\n",
       "      <td>418.264394</td>\n",
       "      <td>26.987053</td>\n",
       "      <td>61.771287</td>\n",
       "      <td>60.629018</td>\n",
       "      <td>12.981639</td>\n",
       "      <td>27.029179</td>\n",
       "      <td>18.981479</td>\n",
       "      <td>1310.0</td>\n",
       "      <td>1305.0</td>\n",
       "    </tr>\n",
       "    <tr>\n",
       "      <th>2021-10-11 06:00:00+00:00</th>\n",
       "      <td>417.490120</td>\n",
       "      <td>28.139460</td>\n",
       "      <td>54.331207</td>\n",
       "      <td>55.179134</td>\n",
       "      <td>9.962116</td>\n",
       "      <td>27.593549</td>\n",
       "      <td>14.831827</td>\n",
       "      <td>417.490546</td>\n",
       "      <td>28.111229</td>\n",
       "      <td>57.965704</td>\n",
       "      <td>...</td>\n",
       "      <td>17.767610</td>\n",
       "      <td>417.929553</td>\n",
       "      <td>27.083874</td>\n",
       "      <td>60.147826</td>\n",
       "      <td>61.044121</td>\n",
       "      <td>12.969730</td>\n",
       "      <td>26.959641</td>\n",
       "      <td>17.521938</td>\n",
       "      <td>1299.0</td>\n",
       "      <td>1299.0</td>\n",
       "    </tr>\n",
       "  </tbody>\n",
       "</table>\n",
       "<p>8686 rows × 1091 columns</p>\n",
       "</div>"
      ],
      "text/plain": [
       "                                 TIX1        TIR  \\\n",
       "czas                                               \n",
       "2020-10-01 02:00:00+00:00  418.649147  29.096685   \n",
       "2020-10-01 03:00:00+00:00  418.568565  28.946375   \n",
       "2020-10-01 04:00:00+00:00  418.496678  28.886103   \n",
       "2020-10-01 05:00:00+00:00  418.446714  29.008270   \n",
       "2020-10-01 06:00:00+00:00  418.405872  29.166321   \n",
       "...                               ...        ...   \n",
       "2021-10-11 01:00:00+00:00  417.603020  27.786007   \n",
       "2021-10-11 02:00:00+00:00  417.532874  27.092198   \n",
       "2021-10-11 04:00:00+00:00  417.500589  27.080442   \n",
       "2021-10-11 05:00:00+00:00  417.501186  28.032460   \n",
       "2021-10-11 06:00:00+00:00  417.490120  28.139460   \n",
       "\n",
       "                           REG NADAWY KONCENTRATU LIW1 [Mg/h]  \\\n",
       "czas                                                            \n",
       "2020-10-01 02:00:00+00:00                           55.128463   \n",
       "2020-10-01 03:00:00+00:00                           54.579503   \n",
       "2020-10-01 04:00:00+00:00                           55.402461   \n",
       "2020-10-01 05:00:00+00:00                           54.832584   \n",
       "2020-10-01 06:00:00+00:00                           54.543309   \n",
       "...                                                       ...   \n",
       "2021-10-11 01:00:00+00:00                           61.917540   \n",
       "2021-10-11 02:00:00+00:00                            0.000000   \n",
       "2021-10-11 04:00:00+00:00                           56.110615   \n",
       "2021-10-11 05:00:00+00:00                           54.659948   \n",
       "2021-10-11 06:00:00+00:00                           54.331207   \n",
       "\n",
       "                           REG NADAWY KONCENTRATU LIW2 [Mg/h]  \\\n",
       "czas                                                            \n",
       "2020-10-01 02:00:00+00:00                           54.859789   \n",
       "2020-10-01 03:00:00+00:00                           55.063420   \n",
       "2020-10-01 04:00:00+00:00                           54.960071   \n",
       "2020-10-01 05:00:00+00:00                           54.924843   \n",
       "2020-10-01 06:00:00+00:00                           54.956310   \n",
       "...                                                       ...   \n",
       "2021-10-11 01:00:00+00:00                           60.725406   \n",
       "2021-10-11 02:00:00+00:00                            0.000000   \n",
       "2021-10-11 04:00:00+00:00                           57.501761   \n",
       "2021-10-11 05:00:00+00:00                           54.714518   \n",
       "2021-10-11 06:00:00+00:00                           55.179134   \n",
       "\n",
       "                           REG KONCENTRAT PRAZONY LIW3 [Mg/h]  \\\n",
       "czas                                                            \n",
       "2020-10-01 02:00:00+00:00                           12.977070   \n",
       "2020-10-01 03:00:00+00:00                           12.976022   \n",
       "2020-10-01 04:00:00+00:00                           12.992828   \n",
       "2020-10-01 05:00:00+00:00                           13.025152   \n",
       "2020-10-01 06:00:00+00:00                           12.913086   \n",
       "...                                                       ...   \n",
       "2021-10-11 01:00:00+00:00                           13.053100   \n",
       "2021-10-11 02:00:00+00:00                            0.000000   \n",
       "2021-10-11 04:00:00+00:00                            0.081717   \n",
       "2021-10-11 05:00:00+00:00                           10.035885   \n",
       "2021-10-11 06:00:00+00:00                            9.962116   \n",
       "\n",
       "                           REG PYL ZWROT LIW4 [Mg/h]  \\\n",
       "czas                                                   \n",
       "2020-10-01 02:00:00+00:00                  20.988711   \n",
       "2020-10-01 03:00:00+00:00                  23.037937   \n",
       "2020-10-01 04:00:00+00:00                  22.935354   \n",
       "2020-10-01 05:00:00+00:00                  23.839429   \n",
       "2020-10-01 06:00:00+00:00                  24.023084   \n",
       "...                                              ...   \n",
       "2021-10-11 01:00:00+00:00                  29.754868   \n",
       "2021-10-11 02:00:00+00:00                   0.000000   \n",
       "2021-10-11 04:00:00+00:00                  19.863183   \n",
       "2021-10-11 05:00:00+00:00                  27.806250   \n",
       "2021-10-11 06:00:00+00:00                  27.593549   \n",
       "\n",
       "                           SUMARYCZNA MOC CIEPLNA ODEBRANA - CAŁKOWITA [MW]  \\\n",
       "czas                                                                          \n",
       "2020-10-01 02:00:00+00:00                                         14.234579   \n",
       "2020-10-01 03:00:00+00:00                                         13.733975   \n",
       "2020-10-01 04:00:00+00:00                                         13.821118   \n",
       "2020-10-01 05:00:00+00:00                                         14.523812   \n",
       "2020-10-01 06:00:00+00:00                                         15.041514   \n",
       "...                                                                     ...   \n",
       "2021-10-11 01:00:00+00:00                                         19.926717   \n",
       "2021-10-11 02:00:00+00:00                                          4.584276   \n",
       "2021-10-11 04:00:00+00:00                                         17.766125   \n",
       "2021-10-11 05:00:00+00:00                                         15.137661   \n",
       "2021-10-11 06:00:00+00:00                                         14.831827   \n",
       "\n",
       "                           1th_agg_TIX1  1th_agg_TIR  \\\n",
       "czas                                                   \n",
       "2020-10-01 02:00:00+00:00    418.652168    29.080250   \n",
       "2020-10-01 03:00:00+00:00    418.571018    28.948675   \n",
       "2020-10-01 04:00:00+00:00    418.498917    28.883079   \n",
       "2020-10-01 05:00:00+00:00    418.448100    28.996128   \n",
       "2020-10-01 06:00:00+00:00    418.407222    29.170246   \n",
       "...                                 ...          ...   \n",
       "2021-10-11 01:00:00+00:00    417.612902    27.761840   \n",
       "2021-10-11 02:00:00+00:00    417.534295    27.174123   \n",
       "2021-10-11 04:00:00+00:00    417.500483    27.046829   \n",
       "2021-10-11 05:00:00+00:00    417.501080    28.022392   \n",
       "2021-10-11 06:00:00+00:00    417.490546    28.111229   \n",
       "\n",
       "                           1th_agg_REG NADAWY KONCENTRATU LIW1 [Mg/h]  ...  \\\n",
       "czas                                                                   ...   \n",
       "2020-10-01 02:00:00+00:00                                   54.657057  ...   \n",
       "2020-10-01 03:00:00+00:00                                   54.549533  ...   \n",
       "2020-10-01 04:00:00+00:00                                   54.975963  ...   \n",
       "2020-10-01 05:00:00+00:00                                   54.132036  ...   \n",
       "2020-10-01 06:00:00+00:00                                   56.319990  ...   \n",
       "...                                                               ...  ...   \n",
       "2021-10-11 01:00:00+00:00                                   60.308508  ...   \n",
       "2021-10-11 02:00:00+00:00                                    0.000000  ...   \n",
       "2021-10-11 04:00:00+00:00                                   56.335515  ...   \n",
       "2021-10-11 05:00:00+00:00                                   54.528032  ...   \n",
       "2021-10-11 06:00:00+00:00                                   57.965704  ...   \n",
       "\n",
       "                           4th_agg_29th_agg_SUMARYCZNA MOC CIEPLNA ODEBRANA - CAŁKOWITA [MW]  \\\n",
       "czas                                                                                           \n",
       "2020-10-01 02:00:00+00:00                                          14.359413                   \n",
       "2020-10-01 03:00:00+00:00                                          15.020728                   \n",
       "2020-10-01 04:00:00+00:00                                          15.075474                   \n",
       "2020-10-01 05:00:00+00:00                                          15.198132                   \n",
       "2020-10-01 06:00:00+00:00                                          14.612538                   \n",
       "...                                                                      ...                   \n",
       "2021-10-11 01:00:00+00:00                                          19.723786                   \n",
       "2021-10-11 02:00:00+00:00                                          18.624423                   \n",
       "2021-10-11 04:00:00+00:00                                          18.402394                   \n",
       "2021-10-11 05:00:00+00:00                                          19.317906                   \n",
       "2021-10-11 06:00:00+00:00                                          17.767610                   \n",
       "\n",
       "                           4th_agg_30th_agg_TIX1  4th_agg_30th_agg_TIR  \\\n",
       "czas                                                                     \n",
       "2020-10-01 02:00:00+00:00             418.990512             29.087193   \n",
       "2020-10-01 03:00:00+00:00             418.911544             29.003188   \n",
       "2020-10-01 04:00:00+00:00             418.864860             28.950773   \n",
       "2020-10-01 05:00:00+00:00             418.820059             29.024466   \n",
       "2020-10-01 06:00:00+00:00             418.735368             29.092727   \n",
       "...                                          ...                   ...   \n",
       "2021-10-11 01:00:00+00:00             419.059106             28.215657   \n",
       "2021-10-11 02:00:00+00:00             418.841657             27.680251   \n",
       "2021-10-11 04:00:00+00:00             418.559242             27.344224   \n",
       "2021-10-11 05:00:00+00:00             418.264394             26.987053   \n",
       "2021-10-11 06:00:00+00:00             417.929553             27.083874   \n",
       "\n",
       "                           4th_agg_30th_agg_REG NADAWY KONCENTRATU LIW1 [Mg/h]  \\\n",
       "czas                                                                             \n",
       "2020-10-01 02:00:00+00:00                                          55.750510     \n",
       "2020-10-01 03:00:00+00:00                                          55.366181     \n",
       "2020-10-01 04:00:00+00:00                                          54.391634     \n",
       "2020-10-01 05:00:00+00:00                                          54.831780     \n",
       "2020-10-01 06:00:00+00:00                                          55.025156     \n",
       "...                                                                      ...     \n",
       "2021-10-11 01:00:00+00:00                                          60.585661     \n",
       "2021-10-11 02:00:00+00:00                                          60.718664     \n",
       "2021-10-11 04:00:00+00:00                                          60.247578     \n",
       "2021-10-11 05:00:00+00:00                                          61.771287     \n",
       "2021-10-11 06:00:00+00:00                                          60.147826     \n",
       "\n",
       "                           4th_agg_30th_agg_REG NADAWY KONCENTRATU LIW2 [Mg/h]  \\\n",
       "czas                                                                             \n",
       "2020-10-01 02:00:00+00:00                                          54.729549     \n",
       "2020-10-01 03:00:00+00:00                                          55.099881     \n",
       "2020-10-01 04:00:00+00:00                                          54.912948     \n",
       "2020-10-01 05:00:00+00:00                                          55.003218     \n",
       "2020-10-01 06:00:00+00:00                                          54.940377     \n",
       "...                                                                      ...     \n",
       "2021-10-11 01:00:00+00:00                                          61.103305     \n",
       "2021-10-11 02:00:00+00:00                                          60.777577     \n",
       "2021-10-11 04:00:00+00:00                                          61.027001     \n",
       "2021-10-11 05:00:00+00:00                                          60.629018     \n",
       "2021-10-11 06:00:00+00:00                                          61.044121     \n",
       "\n",
       "                           4th_agg_30th_agg_REG KONCENTRAT PRAZONY LIW3 [Mg/h]  \\\n",
       "czas                                                                             \n",
       "2020-10-01 02:00:00+00:00                                          11.996658     \n",
       "2020-10-01 03:00:00+00:00                                          11.553369     \n",
       "2020-10-01 04:00:00+00:00                                          11.069167     \n",
       "2020-10-01 05:00:00+00:00                                          10.996928     \n",
       "2020-10-01 06:00:00+00:00                                          11.032230     \n",
       "...                                                                      ...     \n",
       "2021-10-11 01:00:00+00:00                                          13.033626     \n",
       "2021-10-11 02:00:00+00:00                                          12.998969     \n",
       "2021-10-11 04:00:00+00:00                                          12.943016     \n",
       "2021-10-11 05:00:00+00:00                                          12.981639     \n",
       "2021-10-11 06:00:00+00:00                                          12.969730     \n",
       "\n",
       "                           4th_agg_30th_agg_REG PYL ZWROT LIW4 [Mg/h]  \\\n",
       "czas                                                                    \n",
       "2020-10-01 02:00:00+00:00                                   22.543309   \n",
       "2020-10-01 03:00:00+00:00                                   22.559934   \n",
       "2020-10-01 04:00:00+00:00                                   22.592863   \n",
       "2020-10-01 05:00:00+00:00                                   20.068758   \n",
       "2020-10-01 06:00:00+00:00                                   21.095264   \n",
       "...                                                               ...   \n",
       "2021-10-11 01:00:00+00:00                                   30.036720   \n",
       "2021-10-11 02:00:00+00:00                                   29.766971   \n",
       "2021-10-11 04:00:00+00:00                                   26.859043   \n",
       "2021-10-11 05:00:00+00:00                                   27.029179   \n",
       "2021-10-11 06:00:00+00:00                                   26.959641   \n",
       "\n",
       "                           4th_agg_30th_agg_SUMARYCZNA MOC CIEPLNA ODEBRANA - CAŁKOWITA [MW]  \\\n",
       "czas                                                                                           \n",
       "2020-10-01 02:00:00+00:00                                          14.372126                   \n",
       "2020-10-01 03:00:00+00:00                                          14.981148                   \n",
       "2020-10-01 04:00:00+00:00                                          15.057486                   \n",
       "2020-10-01 05:00:00+00:00                                          15.194276                   \n",
       "2020-10-01 06:00:00+00:00                                          14.608455                   \n",
       "...                                                                      ...                   \n",
       "2021-10-11 01:00:00+00:00                                          19.768953                   \n",
       "2021-10-11 02:00:00+00:00                                          18.353176                   \n",
       "2021-10-11 04:00:00+00:00                                          18.476355                   \n",
       "2021-10-11 05:00:00+00:00                                          18.981479                   \n",
       "2021-10-11 06:00:00+00:00                                          17.521938                   \n",
       "\n",
       "                           4th_agg_TEMP_ZUZ  TEMP_ZUZ  \n",
       "czas                                                   \n",
       "2020-10-01 02:00:00+00:00            1295.0    1306.0  \n",
       "2020-10-01 03:00:00+00:00            1303.0    1303.0  \n",
       "2020-10-01 04:00:00+00:00            1302.0    1304.0  \n",
       "2020-10-01 05:00:00+00:00            1303.0    1302.0  \n",
       "2020-10-01 06:00:00+00:00            1306.0    1303.0  \n",
       "...                                     ...       ...  \n",
       "2021-10-11 01:00:00+00:00            1301.0    1299.0  \n",
       "2021-10-11 02:00:00+00:00            1303.0    1237.0  \n",
       "2021-10-11 04:00:00+00:00            1305.0    1306.0  \n",
       "2021-10-11 05:00:00+00:00            1310.0    1305.0  \n",
       "2021-10-11 06:00:00+00:00            1299.0    1299.0  \n",
       "\n",
       "[8686 rows x 1091 columns]"
      ]
     },
     "execution_count": 98,
     "metadata": {},
     "output_type": "execute_result"
    }
   ],
   "source": [
    "df"
   ]
  },
  {
   "cell_type": "markdown",
   "id": "b0c46ef0",
   "metadata": {
    "pycharm": {
     "name": "#%% md\n"
    }
   },
   "source": [
    "## Split data"
   ]
  },
  {
   "cell_type": "code",
   "execution_count": 99,
   "id": "c9e27145",
   "metadata": {
    "pycharm": {
     "name": "#%%\n"
    }
   },
   "outputs": [],
   "source": [
    "train, val, test = split(df)"
   ]
  },
  {
   "cell_type": "code",
   "execution_count": 100,
   "id": "00a57016",
   "metadata": {
    "pycharm": {
     "name": "#%%\n"
    }
   },
   "outputs": [],
   "source": [
    "X_train, X_val, X_test = train.drop([\"TEMP_ZUZ\"], axis=1), val.drop([\"TEMP_ZUZ\"], axis=1), test.drop([\"TEMP_ZUZ\"], axis=1)\n",
    "y_train, y_val, y_test = train[\"TEMP_ZUZ\"], val[\"TEMP_ZUZ\"], test[\"TEMP_ZUZ\"]"
   ]
  },
  {
   "cell_type": "markdown",
   "id": "6c6ca2d1",
   "metadata": {
    "pycharm": {
     "name": "#%% md\n"
    }
   },
   "source": [
    "## Ridge Regression"
   ]
  },
  {
   "cell_type": "code",
   "execution_count": 101,
   "id": "f9c7063f",
   "metadata": {
    "pycharm": {
     "name": "#%%\n"
    }
   },
   "outputs": [
    {
     "data": {
      "text/plain": [
       "Pipeline(steps=[('normalization', StandardScaler()),\n",
       "                ('ridge', Ridge(alpha=1, solver='cholesky'))])"
      ]
     },
     "execution_count": 101,
     "metadata": {},
     "output_type": "execute_result"
    }
   ],
   "source": [
    "ridge_model = Pipeline([('normalization', preprocessing.StandardScaler()),\n",
    "                        ('ridge', linear_model.Ridge(alpha=1, solver='cholesky'))])\n",
    "ridge_model.fit(X_train, y_train)"
   ]
  },
  {
   "cell_type": "code",
   "execution_count": 102,
   "id": "327ed202",
   "metadata": {
    "pycharm": {
     "name": "#%%\n"
    }
   },
   "outputs": [
    {
     "data": {
      "text/plain": [
       "24.33033568964164"
      ]
     },
     "execution_count": 102,
     "metadata": {},
     "output_type": "execute_result"
    }
   ],
   "source": [
    "metrics.mean_squared_error(y_val, ridge_model.predict(X_val))"
   ]
  },
  {
   "cell_type": "markdown",
   "id": "677baf23",
   "metadata": {
    "pycharm": {
     "name": "#%% md\n"
    }
   },
   "source": [
    "## SGD Regressor"
   ]
  },
  {
   "cell_type": "code",
   "execution_count": 103,
   "id": "0690fc5e",
   "metadata": {
    "pycharm": {
     "name": "#%%\n"
    }
   },
   "outputs": [],
   "source": [
    "sgd_model1 = Pipeline([('normalization', preprocessing.StandardScaler()),\n",
    "                      ('sgd', linear_model.SGDRegressor(max_iter=100000, tol=1e-3, penalty='l2', learning_rate='adaptive'))])"
   ]
  },
  {
   "cell_type": "code",
   "execution_count": 104,
   "id": "a8447027",
   "metadata": {
    "pycharm": {
     "name": "#%%\n"
    }
   },
   "outputs": [
    {
     "ename": "ValueError",
     "evalue": "y should be a 1d array, got an array of shape (6080, 2) instead.",
     "output_type": "error",
     "traceback": [
      "\u001b[0;31m---------------------------------------------------------------------------\u001b[0m",
      "\u001b[0;31mValueError\u001b[0m                                Traceback (most recent call last)",
      "\u001b[0;32m/tmp/ipykernel_25297/691458581.py\u001b[0m in \u001b[0;36m<module>\u001b[0;34m\u001b[0m\n\u001b[0;32m----> 1\u001b[0;31m \u001b[0msgd_model1\u001b[0m \u001b[0;34m=\u001b[0m \u001b[0msgd_model1\u001b[0m\u001b[0;34m.\u001b[0m\u001b[0mfit\u001b[0m\u001b[0;34m(\u001b[0m\u001b[0mX_train\u001b[0m\u001b[0;34m,\u001b[0m \u001b[0my_train\u001b[0m\u001b[0;34m)\u001b[0m\u001b[0;34m\u001b[0m\u001b[0;34m\u001b[0m\u001b[0m\n\u001b[0m",
      "\u001b[0;32m~/.local/lib/python3.8/site-packages/sklearn/pipeline.py\u001b[0m in \u001b[0;36mfit\u001b[0;34m(self, X, y, **fit_params)\u001b[0m\n\u001b[1;32m    392\u001b[0m             \u001b[0;32mif\u001b[0m \u001b[0mself\u001b[0m\u001b[0;34m.\u001b[0m\u001b[0m_final_estimator\u001b[0m \u001b[0;34m!=\u001b[0m \u001b[0;34m\"passthrough\"\u001b[0m\u001b[0;34m:\u001b[0m\u001b[0;34m\u001b[0m\u001b[0;34m\u001b[0m\u001b[0m\n\u001b[1;32m    393\u001b[0m                 \u001b[0mfit_params_last_step\u001b[0m \u001b[0;34m=\u001b[0m \u001b[0mfit_params_steps\u001b[0m\u001b[0;34m[\u001b[0m\u001b[0mself\u001b[0m\u001b[0;34m.\u001b[0m\u001b[0msteps\u001b[0m\u001b[0;34m[\u001b[0m\u001b[0;34m-\u001b[0m\u001b[0;36m1\u001b[0m\u001b[0;34m]\u001b[0m\u001b[0;34m[\u001b[0m\u001b[0;36m0\u001b[0m\u001b[0;34m]\u001b[0m\u001b[0;34m]\u001b[0m\u001b[0;34m\u001b[0m\u001b[0;34m\u001b[0m\u001b[0m\n\u001b[0;32m--> 394\u001b[0;31m                 \u001b[0mself\u001b[0m\u001b[0;34m.\u001b[0m\u001b[0m_final_estimator\u001b[0m\u001b[0;34m.\u001b[0m\u001b[0mfit\u001b[0m\u001b[0;34m(\u001b[0m\u001b[0mXt\u001b[0m\u001b[0;34m,\u001b[0m \u001b[0my\u001b[0m\u001b[0;34m,\u001b[0m \u001b[0;34m**\u001b[0m\u001b[0mfit_params_last_step\u001b[0m\u001b[0;34m)\u001b[0m\u001b[0;34m\u001b[0m\u001b[0;34m\u001b[0m\u001b[0m\n\u001b[0m\u001b[1;32m    395\u001b[0m \u001b[0;34m\u001b[0m\u001b[0m\n\u001b[1;32m    396\u001b[0m         \u001b[0;32mreturn\u001b[0m \u001b[0mself\u001b[0m\u001b[0;34m\u001b[0m\u001b[0;34m\u001b[0m\u001b[0m\n",
      "\u001b[0;32m~/.local/lib/python3.8/site-packages/sklearn/linear_model/_stochastic_gradient.py\u001b[0m in \u001b[0;36mfit\u001b[0;34m(self, X, y, coef_init, intercept_init, sample_weight)\u001b[0m\n\u001b[1;32m   1535\u001b[0m             \u001b[0mFitted\u001b[0m\u001b[0;31m \u001b[0m\u001b[0;31m`\u001b[0m\u001b[0mSGDRegressor\u001b[0m\u001b[0;31m`\u001b[0m \u001b[0mestimator\u001b[0m\u001b[0;34m.\u001b[0m\u001b[0;34m\u001b[0m\u001b[0;34m\u001b[0m\u001b[0m\n\u001b[1;32m   1536\u001b[0m         \"\"\"\n\u001b[0;32m-> 1537\u001b[0;31m         return self._fit(\n\u001b[0m\u001b[1;32m   1538\u001b[0m             \u001b[0mX\u001b[0m\u001b[0;34m,\u001b[0m\u001b[0;34m\u001b[0m\u001b[0;34m\u001b[0m\u001b[0m\n\u001b[1;32m   1539\u001b[0m             \u001b[0my\u001b[0m\u001b[0;34m,\u001b[0m\u001b[0;34m\u001b[0m\u001b[0;34m\u001b[0m\u001b[0m\n",
      "\u001b[0;32m~/.local/lib/python3.8/site-packages/sklearn/linear_model/_stochastic_gradient.py\u001b[0m in \u001b[0;36m_fit\u001b[0;34m(self, X, y, alpha, C, loss, learning_rate, coef_init, intercept_init, sample_weight)\u001b[0m\n\u001b[1;32m   1483\u001b[0m         \u001b[0mself\u001b[0m\u001b[0;34m.\u001b[0m\u001b[0mt_\u001b[0m \u001b[0;34m=\u001b[0m \u001b[0;36m1.0\u001b[0m\u001b[0;34m\u001b[0m\u001b[0;34m\u001b[0m\u001b[0m\n\u001b[1;32m   1484\u001b[0m \u001b[0;34m\u001b[0m\u001b[0m\n\u001b[0;32m-> 1485\u001b[0;31m         self._partial_fit(\n\u001b[0m\u001b[1;32m   1486\u001b[0m             \u001b[0mX\u001b[0m\u001b[0;34m,\u001b[0m\u001b[0;34m\u001b[0m\u001b[0;34m\u001b[0m\u001b[0m\n\u001b[1;32m   1487\u001b[0m             \u001b[0my\u001b[0m\u001b[0;34m,\u001b[0m\u001b[0;34m\u001b[0m\u001b[0;34m\u001b[0m\u001b[0m\n",
      "\u001b[0;32m~/.local/lib/python3.8/site-packages/sklearn/linear_model/_stochastic_gradient.py\u001b[0m in \u001b[0;36m_partial_fit\u001b[0;34m(self, X, y, alpha, C, loss, learning_rate, max_iter, sample_weight, coef_init, intercept_init)\u001b[0m\n\u001b[1;32m   1390\u001b[0m     ):\n\u001b[1;32m   1391\u001b[0m         \u001b[0mfirst_call\u001b[0m \u001b[0;34m=\u001b[0m \u001b[0mgetattr\u001b[0m\u001b[0;34m(\u001b[0m\u001b[0mself\u001b[0m\u001b[0;34m,\u001b[0m \u001b[0;34m\"coef_\"\u001b[0m\u001b[0;34m,\u001b[0m \u001b[0;32mNone\u001b[0m\u001b[0;34m)\u001b[0m \u001b[0;32mis\u001b[0m \u001b[0;32mNone\u001b[0m\u001b[0;34m\u001b[0m\u001b[0;34m\u001b[0m\u001b[0m\n\u001b[0;32m-> 1392\u001b[0;31m         X, y = self._validate_data(\n\u001b[0m\u001b[1;32m   1393\u001b[0m             \u001b[0mX\u001b[0m\u001b[0;34m,\u001b[0m\u001b[0;34m\u001b[0m\u001b[0;34m\u001b[0m\u001b[0m\n\u001b[1;32m   1394\u001b[0m             \u001b[0my\u001b[0m\u001b[0;34m,\u001b[0m\u001b[0;34m\u001b[0m\u001b[0;34m\u001b[0m\u001b[0m\n",
      "\u001b[0;32m~/.local/lib/python3.8/site-packages/sklearn/base.py\u001b[0m in \u001b[0;36m_validate_data\u001b[0;34m(self, X, y, reset, validate_separately, **check_params)\u001b[0m\n\u001b[1;32m    574\u001b[0m                 \u001b[0my\u001b[0m \u001b[0;34m=\u001b[0m \u001b[0mcheck_array\u001b[0m\u001b[0;34m(\u001b[0m\u001b[0my\u001b[0m\u001b[0;34m,\u001b[0m \u001b[0;34m**\u001b[0m\u001b[0mcheck_y_params\u001b[0m\u001b[0;34m)\u001b[0m\u001b[0;34m\u001b[0m\u001b[0;34m\u001b[0m\u001b[0m\n\u001b[1;32m    575\u001b[0m             \u001b[0;32melse\u001b[0m\u001b[0;34m:\u001b[0m\u001b[0;34m\u001b[0m\u001b[0;34m\u001b[0m\u001b[0m\n\u001b[0;32m--> 576\u001b[0;31m                 \u001b[0mX\u001b[0m\u001b[0;34m,\u001b[0m \u001b[0my\u001b[0m \u001b[0;34m=\u001b[0m \u001b[0mcheck_X_y\u001b[0m\u001b[0;34m(\u001b[0m\u001b[0mX\u001b[0m\u001b[0;34m,\u001b[0m \u001b[0my\u001b[0m\u001b[0;34m,\u001b[0m \u001b[0;34m**\u001b[0m\u001b[0mcheck_params\u001b[0m\u001b[0;34m)\u001b[0m\u001b[0;34m\u001b[0m\u001b[0;34m\u001b[0m\u001b[0m\n\u001b[0m\u001b[1;32m    577\u001b[0m             \u001b[0mout\u001b[0m \u001b[0;34m=\u001b[0m \u001b[0mX\u001b[0m\u001b[0;34m,\u001b[0m \u001b[0my\u001b[0m\u001b[0;34m\u001b[0m\u001b[0;34m\u001b[0m\u001b[0m\n\u001b[1;32m    578\u001b[0m \u001b[0;34m\u001b[0m\u001b[0m\n",
      "\u001b[0;32m~/.local/lib/python3.8/site-packages/sklearn/utils/validation.py\u001b[0m in \u001b[0;36mcheck_X_y\u001b[0;34m(X, y, accept_sparse, accept_large_sparse, dtype, order, copy, force_all_finite, ensure_2d, allow_nd, multi_output, ensure_min_samples, ensure_min_features, y_numeric, estimator)\u001b[0m\n\u001b[1;32m    969\u001b[0m     )\n\u001b[1;32m    970\u001b[0m \u001b[0;34m\u001b[0m\u001b[0m\n\u001b[0;32m--> 971\u001b[0;31m     \u001b[0my\u001b[0m \u001b[0;34m=\u001b[0m \u001b[0m_check_y\u001b[0m\u001b[0;34m(\u001b[0m\u001b[0my\u001b[0m\u001b[0;34m,\u001b[0m \u001b[0mmulti_output\u001b[0m\u001b[0;34m=\u001b[0m\u001b[0mmulti_output\u001b[0m\u001b[0;34m,\u001b[0m \u001b[0my_numeric\u001b[0m\u001b[0;34m=\u001b[0m\u001b[0my_numeric\u001b[0m\u001b[0;34m)\u001b[0m\u001b[0;34m\u001b[0m\u001b[0;34m\u001b[0m\u001b[0m\n\u001b[0m\u001b[1;32m    972\u001b[0m \u001b[0;34m\u001b[0m\u001b[0m\n\u001b[1;32m    973\u001b[0m     \u001b[0mcheck_consistent_length\u001b[0m\u001b[0;34m(\u001b[0m\u001b[0mX\u001b[0m\u001b[0;34m,\u001b[0m \u001b[0my\u001b[0m\u001b[0;34m)\u001b[0m\u001b[0;34m\u001b[0m\u001b[0;34m\u001b[0m\u001b[0m\n",
      "\u001b[0;32m~/.local/lib/python3.8/site-packages/sklearn/utils/validation.py\u001b[0m in \u001b[0;36m_check_y\u001b[0;34m(y, multi_output, y_numeric)\u001b[0m\n\u001b[1;32m    983\u001b[0m         )\n\u001b[1;32m    984\u001b[0m     \u001b[0;32melse\u001b[0m\u001b[0;34m:\u001b[0m\u001b[0;34m\u001b[0m\u001b[0;34m\u001b[0m\u001b[0m\n\u001b[0;32m--> 985\u001b[0;31m         \u001b[0my\u001b[0m \u001b[0;34m=\u001b[0m \u001b[0mcolumn_or_1d\u001b[0m\u001b[0;34m(\u001b[0m\u001b[0my\u001b[0m\u001b[0;34m,\u001b[0m \u001b[0mwarn\u001b[0m\u001b[0;34m=\u001b[0m\u001b[0;32mTrue\u001b[0m\u001b[0;34m)\u001b[0m\u001b[0;34m\u001b[0m\u001b[0;34m\u001b[0m\u001b[0m\n\u001b[0m\u001b[1;32m    986\u001b[0m         \u001b[0m_assert_all_finite\u001b[0m\u001b[0;34m(\u001b[0m\u001b[0my\u001b[0m\u001b[0;34m)\u001b[0m\u001b[0;34m\u001b[0m\u001b[0;34m\u001b[0m\u001b[0m\n\u001b[1;32m    987\u001b[0m         \u001b[0m_ensure_no_complex_data\u001b[0m\u001b[0;34m(\u001b[0m\u001b[0my\u001b[0m\u001b[0;34m)\u001b[0m\u001b[0;34m\u001b[0m\u001b[0;34m\u001b[0m\u001b[0m\n",
      "\u001b[0;32m~/.local/lib/python3.8/site-packages/sklearn/utils/validation.py\u001b[0m in \u001b[0;36mcolumn_or_1d\u001b[0;34m(y, warn)\u001b[0m\n\u001b[1;32m   1022\u001b[0m         \u001b[0;32mreturn\u001b[0m \u001b[0mnp\u001b[0m\u001b[0;34m.\u001b[0m\u001b[0mravel\u001b[0m\u001b[0;34m(\u001b[0m\u001b[0my\u001b[0m\u001b[0;34m)\u001b[0m\u001b[0;34m\u001b[0m\u001b[0;34m\u001b[0m\u001b[0m\n\u001b[1;32m   1023\u001b[0m \u001b[0;34m\u001b[0m\u001b[0m\n\u001b[0;32m-> 1024\u001b[0;31m     raise ValueError(\n\u001b[0m\u001b[1;32m   1025\u001b[0m         \u001b[0;34m\"y should be a 1d array, got an array of shape {} instead.\"\u001b[0m\u001b[0;34m.\u001b[0m\u001b[0mformat\u001b[0m\u001b[0;34m(\u001b[0m\u001b[0mshape\u001b[0m\u001b[0;34m)\u001b[0m\u001b[0;34m\u001b[0m\u001b[0;34m\u001b[0m\u001b[0m\n\u001b[1;32m   1026\u001b[0m     )\n",
      "\u001b[0;31mValueError\u001b[0m: y should be a 1d array, got an array of shape (6080, 2) instead."
     ]
    }
   ],
   "source": [
    "sgd_model1 = sgd_model1.fit(X_train, y_train)"
   ]
  },
  {
   "cell_type": "code",
   "execution_count": 105,
   "id": "64dfbaa8",
   "metadata": {
    "pycharm": {
     "name": "#%%\n"
    }
   },
   "outputs": [
    {
     "ename": "AttributeError",
     "evalue": "'NoneType' object has no attribute 'T'",
     "output_type": "error",
     "traceback": [
      "\u001b[0;31m---------------------------------------------------------------------------\u001b[0m",
      "\u001b[0;31mAttributeError\u001b[0m                            Traceback (most recent call last)",
      "\u001b[0;32m/tmp/ipykernel_25297/1802726773.py\u001b[0m in \u001b[0;36m<module>\u001b[0;34m\u001b[0m\n\u001b[0;32m----> 1\u001b[0;31m \u001b[0mmetrics\u001b[0m\u001b[0;34m.\u001b[0m\u001b[0mmean_squared_error\u001b[0m\u001b[0;34m(\u001b[0m\u001b[0my_val\u001b[0m\u001b[0;34m,\u001b[0m \u001b[0msgd_model1\u001b[0m\u001b[0;34m.\u001b[0m\u001b[0mpredict\u001b[0m\u001b[0;34m(\u001b[0m\u001b[0mX_val\u001b[0m\u001b[0;34m)\u001b[0m\u001b[0;34m)\u001b[0m\u001b[0;34m\u001b[0m\u001b[0;34m\u001b[0m\u001b[0m\n\u001b[0m",
      "\u001b[0;32m~/.local/lib/python3.8/site-packages/sklearn/utils/metaestimators.py\u001b[0m in \u001b[0;36m<lambda>\u001b[0;34m(*args, **kwargs)\u001b[0m\n\u001b[1;32m    111\u001b[0m \u001b[0;34m\u001b[0m\u001b[0m\n\u001b[1;32m    112\u001b[0m             \u001b[0;31m# lambda, but not partial, allows help() to work with update_wrapper\u001b[0m\u001b[0;34m\u001b[0m\u001b[0;34m\u001b[0m\u001b[0;34m\u001b[0m\u001b[0m\n\u001b[0;32m--> 113\u001b[0;31m             \u001b[0mout\u001b[0m \u001b[0;34m=\u001b[0m \u001b[0;32mlambda\u001b[0m \u001b[0;34m*\u001b[0m\u001b[0margs\u001b[0m\u001b[0;34m,\u001b[0m \u001b[0;34m**\u001b[0m\u001b[0mkwargs\u001b[0m\u001b[0;34m:\u001b[0m \u001b[0mself\u001b[0m\u001b[0;34m.\u001b[0m\u001b[0mfn\u001b[0m\u001b[0;34m(\u001b[0m\u001b[0mobj\u001b[0m\u001b[0;34m,\u001b[0m \u001b[0;34m*\u001b[0m\u001b[0margs\u001b[0m\u001b[0;34m,\u001b[0m \u001b[0;34m**\u001b[0m\u001b[0mkwargs\u001b[0m\u001b[0;34m)\u001b[0m  \u001b[0;31m# noqa\u001b[0m\u001b[0;34m\u001b[0m\u001b[0;34m\u001b[0m\u001b[0m\n\u001b[0m\u001b[1;32m    114\u001b[0m         \u001b[0;32melse\u001b[0m\u001b[0;34m:\u001b[0m\u001b[0;34m\u001b[0m\u001b[0;34m\u001b[0m\u001b[0m\n\u001b[1;32m    115\u001b[0m \u001b[0;34m\u001b[0m\u001b[0m\n",
      "\u001b[0;32m~/.local/lib/python3.8/site-packages/sklearn/pipeline.py\u001b[0m in \u001b[0;36mpredict\u001b[0;34m(self, X, **predict_params)\u001b[0m\n\u001b[1;32m    468\u001b[0m         \u001b[0;32mfor\u001b[0m \u001b[0m_\u001b[0m\u001b[0;34m,\u001b[0m \u001b[0mname\u001b[0m\u001b[0;34m,\u001b[0m \u001b[0mtransform\u001b[0m \u001b[0;32min\u001b[0m \u001b[0mself\u001b[0m\u001b[0;34m.\u001b[0m\u001b[0m_iter\u001b[0m\u001b[0;34m(\u001b[0m\u001b[0mwith_final\u001b[0m\u001b[0;34m=\u001b[0m\u001b[0;32mFalse\u001b[0m\u001b[0;34m)\u001b[0m\u001b[0;34m:\u001b[0m\u001b[0;34m\u001b[0m\u001b[0;34m\u001b[0m\u001b[0m\n\u001b[1;32m    469\u001b[0m             \u001b[0mXt\u001b[0m \u001b[0;34m=\u001b[0m \u001b[0mtransform\u001b[0m\u001b[0;34m.\u001b[0m\u001b[0mtransform\u001b[0m\u001b[0;34m(\u001b[0m\u001b[0mXt\u001b[0m\u001b[0;34m)\u001b[0m\u001b[0;34m\u001b[0m\u001b[0;34m\u001b[0m\u001b[0m\n\u001b[0;32m--> 470\u001b[0;31m         \u001b[0;32mreturn\u001b[0m \u001b[0mself\u001b[0m\u001b[0;34m.\u001b[0m\u001b[0msteps\u001b[0m\u001b[0;34m[\u001b[0m\u001b[0;34m-\u001b[0m\u001b[0;36m1\u001b[0m\u001b[0;34m]\u001b[0m\u001b[0;34m[\u001b[0m\u001b[0;36m1\u001b[0m\u001b[0;34m]\u001b[0m\u001b[0;34m.\u001b[0m\u001b[0mpredict\u001b[0m\u001b[0;34m(\u001b[0m\u001b[0mXt\u001b[0m\u001b[0;34m,\u001b[0m \u001b[0;34m**\u001b[0m\u001b[0mpredict_params\u001b[0m\u001b[0;34m)\u001b[0m\u001b[0;34m\u001b[0m\u001b[0;34m\u001b[0m\u001b[0m\n\u001b[0m\u001b[1;32m    471\u001b[0m \u001b[0;34m\u001b[0m\u001b[0m\n\u001b[1;32m    472\u001b[0m     \u001b[0;34m@\u001b[0m\u001b[0mavailable_if\u001b[0m\u001b[0;34m(\u001b[0m\u001b[0m_final_estimator_has\u001b[0m\u001b[0;34m(\u001b[0m\u001b[0;34m\"fit_predict\"\u001b[0m\u001b[0;34m)\u001b[0m\u001b[0;34m)\u001b[0m\u001b[0;34m\u001b[0m\u001b[0;34m\u001b[0m\u001b[0m\n",
      "\u001b[0;32m~/.local/lib/python3.8/site-packages/sklearn/linear_model/_stochastic_gradient.py\u001b[0m in \u001b[0;36mpredict\u001b[0;34m(self, X)\u001b[0m\n\u001b[1;32m   1579\u001b[0m            \u001b[0mPredicted\u001b[0m \u001b[0mtarget\u001b[0m \u001b[0mvalues\u001b[0m \u001b[0mper\u001b[0m \u001b[0melement\u001b[0m \u001b[0;32min\u001b[0m \u001b[0mX\u001b[0m\u001b[0;34m.\u001b[0m\u001b[0;34m\u001b[0m\u001b[0;34m\u001b[0m\u001b[0m\n\u001b[1;32m   1580\u001b[0m         \"\"\"\n\u001b[0;32m-> 1581\u001b[0;31m         \u001b[0;32mreturn\u001b[0m \u001b[0mself\u001b[0m\u001b[0;34m.\u001b[0m\u001b[0m_decision_function\u001b[0m\u001b[0;34m(\u001b[0m\u001b[0mX\u001b[0m\u001b[0;34m)\u001b[0m\u001b[0;34m\u001b[0m\u001b[0;34m\u001b[0m\u001b[0m\n\u001b[0m\u001b[1;32m   1582\u001b[0m \u001b[0;34m\u001b[0m\u001b[0m\n\u001b[1;32m   1583\u001b[0m     def _fit_regressor(\n",
      "\u001b[0;32m~/.local/lib/python3.8/site-packages/sklearn/linear_model/_stochastic_gradient.py\u001b[0m in \u001b[0;36m_decision_function\u001b[0;34m(self, X)\u001b[0m\n\u001b[1;32m   1563\u001b[0m         \u001b[0mX\u001b[0m \u001b[0;34m=\u001b[0m \u001b[0mself\u001b[0m\u001b[0;34m.\u001b[0m\u001b[0m_validate_data\u001b[0m\u001b[0;34m(\u001b[0m\u001b[0mX\u001b[0m\u001b[0;34m,\u001b[0m \u001b[0maccept_sparse\u001b[0m\u001b[0;34m=\u001b[0m\u001b[0;34m\"csr\"\u001b[0m\u001b[0;34m,\u001b[0m \u001b[0mreset\u001b[0m\u001b[0;34m=\u001b[0m\u001b[0;32mFalse\u001b[0m\u001b[0;34m)\u001b[0m\u001b[0;34m\u001b[0m\u001b[0;34m\u001b[0m\u001b[0m\n\u001b[1;32m   1564\u001b[0m \u001b[0;34m\u001b[0m\u001b[0m\n\u001b[0;32m-> 1565\u001b[0;31m         \u001b[0mscores\u001b[0m \u001b[0;34m=\u001b[0m \u001b[0msafe_sparse_dot\u001b[0m\u001b[0;34m(\u001b[0m\u001b[0mX\u001b[0m\u001b[0;34m,\u001b[0m \u001b[0mself\u001b[0m\u001b[0;34m.\u001b[0m\u001b[0mcoef_\u001b[0m\u001b[0;34m.\u001b[0m\u001b[0mT\u001b[0m\u001b[0;34m,\u001b[0m \u001b[0mdense_output\u001b[0m\u001b[0;34m=\u001b[0m\u001b[0;32mTrue\u001b[0m\u001b[0;34m)\u001b[0m \u001b[0;34m+\u001b[0m \u001b[0mself\u001b[0m\u001b[0;34m.\u001b[0m\u001b[0mintercept_\u001b[0m\u001b[0;34m\u001b[0m\u001b[0;34m\u001b[0m\u001b[0m\n\u001b[0m\u001b[1;32m   1566\u001b[0m         \u001b[0;32mreturn\u001b[0m \u001b[0mscores\u001b[0m\u001b[0;34m.\u001b[0m\u001b[0mravel\u001b[0m\u001b[0;34m(\u001b[0m\u001b[0;34m)\u001b[0m\u001b[0;34m\u001b[0m\u001b[0;34m\u001b[0m\u001b[0m\n\u001b[1;32m   1567\u001b[0m \u001b[0;34m\u001b[0m\u001b[0m\n",
      "\u001b[0;31mAttributeError\u001b[0m: 'NoneType' object has no attribute 'T'"
     ]
    }
   ],
   "source": [
    "metrics.mean_squared_error(y_val, sgd_model1.predict(X_val))"
   ]
  },
  {
   "cell_type": "code",
   "execution_count": 82,
   "id": "5670a813",
   "metadata": {
    "pycharm": {
     "name": "#%%\n"
    }
   },
   "outputs": [
    {
     "data": {
      "text/plain": [
       "2.0273438394156803e+18"
      ]
     },
     "execution_count": 82,
     "metadata": {},
     "output_type": "execute_result"
    }
   ],
   "source": [
    "sgd_model2 = Pipeline([('normalization', preprocessing.StandardScaler()),\n",
    "                      ('sgd', linear_model.SGDRegressor(max_iter=100000, tol=1e-3, penalty='l1', learning_rate='adaptive'))])\n",
    "sgd_model2 = sgd_model2.fit(X_train, y_train)\n",
    "metrics.mean_squared_error(y_val, sgd_model2.predict(X_val))"
   ]
  },
  {
   "cell_type": "code",
   "execution_count": 83,
   "id": "e063bdfe",
   "metadata": {
    "pycharm": {
     "name": "#%%\n"
    }
   },
   "outputs": [
    {
     "data": {
      "text/plain": [
       "5.598571093454587e+26"
      ]
     },
     "execution_count": 83,
     "metadata": {},
     "output_type": "execute_result"
    }
   ],
   "source": [
    "sgd_model3 = Pipeline([('sgd', linear_model.SGDRegressor(max_iter=100000, tol=1e-3, penalty='l1', learning_rate='adaptive'))])\n",
    "sgd_model3 = sgd_model3.fit(X_train, y_train)\n",
    "metrics.mean_squared_error(y_val, sgd_model3.predict(X_val))"
   ]
  },
  {
   "cell_type": "markdown",
   "id": "c11e1503",
   "metadata": {
    "pycharm": {
     "name": "#%% md\n"
    }
   },
   "source": [
    "## Spline + Ridge Regression"
   ]
  },
  {
   "cell_type": "code",
   "execution_count": 86,
   "id": "ad092610",
   "metadata": {
    "pycharm": {
     "name": "#%%\n"
    }
   },
   "outputs": [
    {
     "data": {
      "text/plain": [
       "99.09126415472883"
      ]
     },
     "execution_count": 86,
     "metadata": {},
     "output_type": "execute_result"
    }
   ],
   "source": [
    "ridge_spline_model1 = Pipeline([('spline', preprocessing.SplineTransformer(n_knots=3)),\n",
    "                            ('normalization', preprocessing.StandardScaler()),\n",
    "                            ('ridge', linear_model.Ridge(alpha=.5, solver='svd'))])\n",
    "ridge_spline_model1 = ridge_spline_model1.fit(X_train, y_train)\n",
    "metrics.mean_squared_error(y_val, ridge_spline_model1.predict(X_val))"
   ]
  },
  {
   "cell_type": "code",
   "execution_count": 87,
   "id": "336c3630",
   "metadata": {
    "pycharm": {
     "name": "#%%\n"
    }
   },
   "outputs": [
    {
     "data": {
      "text/plain": [
       "145.73859217654993"
      ]
     },
     "execution_count": 87,
     "metadata": {},
     "output_type": "execute_result"
    }
   ],
   "source": [
    "ridge_spline_model2 = Pipeline([('spline', preprocessing.SplineTransformer(n_knots=3, knots='quantile')),\n",
    "                            ('normalization', preprocessing.StandardScaler()),\n",
    "                            ('ridge', linear_model.Ridge(alpha=.5, solver='svd'))])\n",
    "ridge_spline_model2 = ridge_spline_model2.fit(X_train, y_train)\n",
    "metrics.mean_squared_error(y_val, ridge_spline_model2.predict(X_val))"
   ]
  },
  {
   "cell_type": "markdown",
   "id": "8a0e8349",
   "metadata": {
    "pycharm": {
     "name": "#%% md\n"
    }
   },
   "source": [
    "## ElasticNet Regression"
   ]
  },
  {
   "cell_type": "code",
   "execution_count": 88,
   "id": "6ad90f14",
   "metadata": {
    "pycharm": {
     "name": "#%%\n"
    }
   },
   "outputs": [
    {
     "data": {
      "text/plain": [
       "43.93836929530888"
      ]
     },
     "execution_count": 88,
     "metadata": {},
     "output_type": "execute_result"
    }
   ],
   "source": [
    "elastic_model1 = Pipeline([('normalization', preprocessing.StandardScaler()),\n",
    "                           ('elasitc', linear_model.ElasticNet(max_iter=10000))])\n",
    "elastic_model1 = elastic_model1.fit(X_train, y_train)\n",
    "metrics.mean_squared_error(y_val, elastic_model1.predict(X_val))"
   ]
  },
  {
   "cell_type": "markdown",
   "id": "e5e2d3fa",
   "metadata": {
    "pycharm": {
     "name": "#%% md\n"
    }
   },
   "source": [
    "# Using all features, without average"
   ]
  },
  {
   "cell_type": "markdown",
   "id": "0bc39c33",
   "metadata": {
    "pycharm": {
     "name": "#%% md\n"
    }
   },
   "source": [
    "### Split data"
   ]
  },
  {
   "cell_type": "code",
   "execution_count": null,
   "id": "5e2ddc4e",
   "metadata": {
    "pycharm": {
     "name": "#%%\n"
    }
   },
   "outputs": [],
   "source": [
    "all_df = org_df.dropna()\n",
    "all_df"
   ]
  },
  {
   "cell_type": "code",
   "execution_count": null,
   "id": "c074f26b",
   "metadata": {
    "pycharm": {
     "name": "#%%\n"
    }
   },
   "outputs": [],
   "source": [
    "train_a, val_a, test_a = split(all_df)"
   ]
  },
  {
   "cell_type": "code",
   "execution_count": null,
   "id": "e00452e4",
   "metadata": {
    "pycharm": {
     "name": "#%%\n"
    }
   },
   "outputs": [],
   "source": [
    "X_train_a, X_val_a, X_test_a = train_a.drop([\"temp_zuz\"], axis=1), val_a.drop([\"temp_zuz\"], axis=1), test_a.drop([\"temp_zuz\"], axis=1)\n",
    "y_train_a, y_val_a, y_test_a = train_a[\"temp_zuz\"], val_a[\"temp_zuz\"], test_a[\"temp_zuz\"]"
   ]
  },
  {
   "cell_type": "markdown",
   "id": "258898b9",
   "metadata": {
    "pycharm": {
     "name": "#%% md\n"
    }
   },
   "source": [
    "### Polynomial Regression"
   ]
  },
  {
   "cell_type": "code",
   "execution_count": null,
   "id": "b9c02494",
   "metadata": {
    "pycharm": {
     "name": "#%%\n"
    }
   },
   "outputs": [],
   "source": [
    "poly_model_all = Pipeline([('poly', preprocessing.PolynomialFeatures(degree=2)),\n",
    "                          ('linear', linear_model.LinearRegression(fit_intercept=False))])\n",
    "poly_model_all = poly_model_all.fit(X_train_a, y_train_a)\n",
    "metrics.mean_squared_error(y_val_a, poly_model_all.predict(X_val_a))"
   ]
  },
  {
   "cell_type": "markdown",
   "id": "5d7d4ba6",
   "metadata": {
    "pycharm": {
     "name": "#%% md\n"
    }
   },
   "source": [
    "### Poly + SGD Regression"
   ]
  },
  {
   "cell_type": "code",
   "execution_count": null,
   "id": "6a6b6181",
   "metadata": {
    "pycharm": {
     "name": "#%%\n"
    }
   },
   "outputs": [],
   "source": [
    "sgd_poly_model_all = Pipeline([('poly', preprocessing.PolynomialFeatures(degree=2)),\n",
    "                            ('normalization', preprocessing.StandardScaler()),\n",
    "                            ('sgd', linear_model.SGDRegressor(max_iter=100000, tol=1e-3, penalty='elasticnet', learning_rate='adaptive'))])\n",
    "sgd_poly_model_all = sgd_poly_model_all.fit(X_train_a, y_train_a)\n",
    "metrics.mean_squared_error(y_val_a, sgd_poly_model_all.predict(X_val_a))"
   ]
  },
  {
   "cell_type": "markdown",
   "id": "db8f70a5",
   "metadata": {
    "pycharm": {
     "name": "#%% md\n"
    }
   },
   "source": [
    "Wniosek: zdecydowanie nie chcemy brać wszystkich feauterów"
   ]
  },
  {
   "cell_type": "markdown",
   "id": "171dc380",
   "metadata": {
    "pycharm": {
     "name": "#%% md\n"
    }
   },
   "source": [
    "# Adding PR to features"
   ]
  },
  {
   "cell_type": "code",
   "execution_count": null,
   "id": "572548ed",
   "metadata": {
    "pycharm": {
     "name": "#%%\n"
    }
   },
   "outputs": [],
   "source": [
    "# wrzucam o prażonkach i prob\n",
    "PR = org_df.columns[org_df.columns.str.contains('pr')].values\n",
    "pr_df[PR] = org_df[PR]"
   ]
  },
  {
   "cell_type": "code",
   "execution_count": null,
   "id": "148a2966",
   "metadata": {
    "pycharm": {
     "name": "#%%\n"
    }
   },
   "outputs": [],
   "source": [
    "# split data\n",
    "pr_df = pr_df.dropna(axis=0)\n",
    "train, val, test = split(pr_df)\n",
    "X_train, X_val, X_test = train.drop([\"TEMP_ZUZ\"], axis=1), val.drop([\"TEMP_ZUZ\"], axis=1), test.drop([\"TEMP_ZUZ\"], axis=1)\n",
    "y_train, y_val, y_test = train[\"TEMP_ZUZ\"], val[\"TEMP_ZUZ\"], test[\"TEMP_ZUZ\"]"
   ]
  },
  {
   "cell_type": "code",
   "execution_count": null,
   "id": "003b817a",
   "metadata": {
    "pycharm": {
     "name": "#%%\n"
    }
   },
   "outputs": [],
   "source": [
    "X_train"
   ]
  },
  {
   "cell_type": "code",
   "execution_count": null,
   "id": "5bfab3fe",
   "metadata": {
    "pycharm": {
     "name": "#%%\n"
    }
   },
   "outputs": [],
   "source": [
    "y_train"
   ]
  },
  {
   "cell_type": "markdown",
   "id": "829136a8",
   "metadata": {
    "pycharm": {
     "name": "#%% md\n"
    }
   },
   "source": [
    "### Poly + SGD Regression"
   ]
  },
  {
   "cell_type": "code",
   "execution_count": null,
   "id": "afc9c77a",
   "metadata": {
    "pycharm": {
     "name": "#%%\n"
    }
   },
   "outputs": [],
   "source": [
    "sgd_poly_model_pr = Pipeline([('poly', preprocessing.PolynomialFeatures(degree=2)),\n",
    "                            ('normalization', preprocessing.StandardScaler()),\n",
    "                            ('sgd', linear_model.SGDRegressor(max_iter=100000, tol=1e-3, penalty='l2', learning_rate='adaptive'))])\n",
    "sgd_poly_model_pr = sgd_poly_model_pr.fit(X_train, y_train)\n",
    "metrics.mean_squared_error(y_val, sgd_poly_model_pr.predict(X_val))"
   ]
  },
  {
   "cell_type": "markdown",
   "id": "d4ac0ea7",
   "metadata": {
    "pycharm": {
     "name": "#%% md\n"
    }
   },
   "source": [
    "### SGD Regression"
   ]
  },
  {
   "cell_type": "code",
   "execution_count": null,
   "id": "37c13fa9",
   "metadata": {
    "pycharm": {
     "name": "#%%\n"
    }
   },
   "outputs": [],
   "source": [
    "sgd_model_pr = Pipeline([('normalization', preprocessing.StandardScaler()),\n",
    "                       ('sgd', linear_model.SGDRegressor(max_iter=100000, tol=1e-3, penalty='l2', learning_rate='adaptive'))])\n",
    "sgd_model_pr = sgd_model_pr.fit(X_train, y_train)\n",
    "metrics.mean_squared_error(y_val, sgd_model_pr.predict(X_val))"
   ]
  },
  {
   "cell_type": "markdown",
   "id": "51e116cd",
   "metadata": {
    "pycharm": {
     "name": "#%% md\n"
    }
   },
   "source": [
    "### Poly + Ridge Regression"
   ]
  },
  {
   "cell_type": "code",
   "execution_count": null,
   "id": "4157b334",
   "metadata": {
    "pycharm": {
     "name": "#%%\n"
    }
   },
   "outputs": [],
   "source": [
    "ridge_poly_model_pr = Pipeline([('poly', preprocessing.PolynomialFeatures(degree=3)),\n",
    "                            ('normalization', preprocessing.StandardScaler()),\n",
    "                            ('ridge', linear_model.Ridge(alpha=.5, solver='sag'))])\n",
    "ridge_poly_model_pr = ridge_poly_model_pr.fit(X_train, y_train)\n",
    "metrics.mean_squared_error(y_val, ridge_poly_model_pr.predict(X_val))"
   ]
  },
  {
   "cell_type": "code",
   "execution_count": null,
   "id": "2a99d3a2",
   "metadata": {
    "pycharm": {
     "name": "#%%\n"
    }
   },
   "outputs": [],
   "source": [
    "ridge_poly_model_pr1 = Pipeline([('poly', preprocessing.PolynomialFeatures(degree=3)),\n",
    "                            ('normalization', preprocessing.StandardScaler()),\n",
    "                            ('ridge', linear_model.Ridge(alpha=.5, solver='svd'))])\n",
    "ridge_poly_model_pr1 = ridge_poly_model_pr1.fit(X_train, y_train)\n",
    "metrics.mean_squared_error(y_val, ridge_poly_model_pr1.predict(X_val))"
   ]
  },
  {
   "cell_type": "code",
   "execution_count": null,
   "id": "4baac596",
   "metadata": {
    "pycharm": {
     "name": "#%%\n"
    }
   },
   "outputs": [],
   "source": [
    "ridge_poly_model_pr2 = Pipeline([('poly', preprocessing.PolynomialFeatures(degree=3)),\n",
    "                            ('normalization', preprocessing.StandardScaler()),\n",
    "                            ('ridge', linear_model.Ridge(alpha=.5, solver='saga'))])\n",
    "ridge_poly_model_pr2 = ridge_poly_model_pr2.fit(X_train, y_train)\n",
    "metrics.mean_squared_error(y_val, ridge_poly_model_pr2.predict(X_val))"
   ]
  },
  {
   "cell_type": "markdown",
   "id": "20da838f",
   "metadata": {
    "pycharm": {
     "name": "#%% md\n"
    }
   },
   "source": [
    "### Ridge Regression"
   ]
  },
  {
   "cell_type": "code",
   "execution_count": null,
   "id": "f390b76b",
   "metadata": {
    "pycharm": {
     "name": "#%%\n"
    }
   },
   "outputs": [],
   "source": [
    "ridge_model_pr1 = Pipeline([('normalization', preprocessing.StandardScaler()),\n",
    "                            ('ridge', linear_model.Ridge(alpha=1, solver='cholesky'))])\n",
    "ridge_model_pr1 = ridge_model_pr1.fit(X_train, y_train)\n",
    "metrics.mean_squared_error(y_val, ridge_model_pr1.predict(X_val))"
   ]
  },
  {
   "cell_type": "code",
   "execution_count": null,
   "id": "0a133e4d",
   "metadata": {
    "pycharm": {
     "name": "#%%\n"
    }
   },
   "outputs": [],
   "source": [
    "ridge_model_pr2 = Pipeline([('normalization', preprocessing.StandardScaler()),\n",
    "                            ('ridge', linear_model.Ridge(alpha=1, solver='sag'))])\n",
    "ridge_model_pr2 = ridge_model_pr2.fit(X_train, y_train)\n",
    "metrics.mean_squared_error(y_val, ridge_model_pr2.predict(X_val))"
   ]
  },
  {
   "cell_type": "code",
   "execution_count": null,
   "id": "2bb8eb60",
   "metadata": {
    "pycharm": {
     "name": "#%%\n"
    }
   },
   "outputs": [],
   "source": [
    "ridge_model_pr3 = Pipeline([('normalization', preprocessing.StandardScaler()),\n",
    "                            ('ridge', linear_model.Ridge(alpha=1, solver='svd'))])\n",
    "ridge_model_pr3 = ridge_model_pr3.fit(X_train, y_train)\n",
    "metrics.mean_squared_error(y_val, ridge_model_pr3.predict(X_val))"
   ]
  },
  {
   "cell_type": "code",
   "execution_count": null,
   "id": "d636a326",
   "metadata": {
    "pycharm": {
     "name": "#%%\n"
    }
   },
   "outputs": [],
   "source": []
  },
  {
   "cell_type": "code",
   "execution_count": null,
   "id": "d199d611",
   "metadata": {},
   "outputs": [],
   "source": []
  },
  {
   "cell_type": "code",
   "execution_count": null,
   "id": "34a4768c",
   "metadata": {},
   "outputs": [],
   "source": []
  }
 ],
 "metadata": {
  "kernelspec": {
   "display_name": "Python 3 (ipykernel)",
   "language": "python",
   "name": "python3"
  },
  "language_info": {
   "codemirror_mode": {
    "name": "ipython",
    "version": 3
   },
   "file_extension": ".py",
   "mimetype": "text/x-python",
   "name": "python",
   "nbconvert_exporter": "python",
   "pygments_lexer": "ipython3",
   "version": "3.8.10"
  }
 },
 "nbformat": 4,
 "nbformat_minor": 5
}
