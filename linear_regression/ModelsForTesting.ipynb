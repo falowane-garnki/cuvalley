{
 "cells": [
  {
   "cell_type": "code",
   "execution_count": 2,
   "metadata": {},
   "outputs": [],
   "source": [
    "from pathlib import Path\n",
    "import os\n",
    "\n",
    "import pandas as pd\n",
    "import numpy as np\n",
    "import matplotlib.pyplot as plt\n",
    "from data_processing.data_processing import *\n",
    "\n",
    "from sklearn import preprocessing\n",
    "from sklearn import linear_model\n",
    "from sklearn import metrics\n",
    "from sklearn import ensemble\n",
    "from sklearn.pipeline import Pipeline\n",
    "\n",
    "from pygam import LinearGAM, s, f, te, l"
   ]
  },
  {
   "cell_type": "code",
   "execution_count": 3,
   "metadata": {
    "pycharm": {
     "name": "#%%\n"
    }
   },
   "outputs": [],
   "source": [
    "MAIN_PATH = Path(os.getcwd()).parent"
   ]
  },
  {
   "cell_type": "markdown",
   "metadata": {
    "pycharm": {
     "name": "#%% md\n"
    }
   },
   "source": [
    "# Load data"
   ]
  },
  {
   "cell_type": "code",
   "execution_count": 4,
   "metadata": {
    "pycharm": {
     "name": "#%%\n"
    }
   },
   "outputs": [
    {
     "data": {
      "text/html": [
       "<div>\n",
       "<style scoped>\n",
       "    .dataframe tbody tr th:only-of-type {\n",
       "        vertical-align: middle;\n",
       "    }\n",
       "\n",
       "    .dataframe tbody tr th {\n",
       "        vertical-align: top;\n",
       "    }\n",
       "\n",
       "    .dataframe thead th {\n",
       "        text-align: right;\n",
       "    }\n",
       "</style>\n",
       "<table border=\"1\" class=\"dataframe\">\n",
       "  <thead>\n",
       "    <tr style=\"text-align: right;\">\n",
       "      <th></th>\n",
       "      <th>001fcx00211.pv</th>\n",
       "      <th>001fcx00221.pv</th>\n",
       "      <th>001fcx00231.pv</th>\n",
       "      <th>001fcx00241.pv</th>\n",
       "      <th>001fir01307.daca.pv</th>\n",
       "      <th>001fir01308.daca.pv</th>\n",
       "      <th>001fir01309.daca.pv</th>\n",
       "      <th>001fir01310.daca.pv</th>\n",
       "      <th>001fir01311.daca.pv</th>\n",
       "      <th>001fir01312.daca.pv</th>\n",
       "      <th>...</th>\n",
       "      <th>001uxm0rf02.daca.pv</th>\n",
       "      <th>001uxm0rf03.daca.pv</th>\n",
       "      <th>037tix00254.daca.pv</th>\n",
       "      <th>037tix00264.daca.pv</th>\n",
       "      <th>prazonka_fe</th>\n",
       "      <th>prazonka_s</th>\n",
       "      <th>prob_corg</th>\n",
       "      <th>prob_fe</th>\n",
       "      <th>prob_s</th>\n",
       "      <th>temp_zuz</th>\n",
       "    </tr>\n",
       "  </thead>\n",
       "  <tbody>\n",
       "    <tr>\n",
       "      <th>2020-09-30 22:00:00+00:00</th>\n",
       "      <td>56.729077</td>\n",
       "      <td>54.724422</td>\n",
       "      <td>11.966905</td>\n",
       "      <td>22.493207</td>\n",
       "      <td>108.702362</td>\n",
       "      <td>112.280388</td>\n",
       "      <td>110.013796</td>\n",
       "      <td>108.761583</td>\n",
       "      <td>110.604901</td>\n",
       "      <td>104.500427</td>\n",
       "      <td>...</td>\n",
       "      <td>92.024078</td>\n",
       "      <td>92.405281</td>\n",
       "      <td>24.665309</td>\n",
       "      <td>24.526161</td>\n",
       "      <td>4.48</td>\n",
       "      <td>8.98</td>\n",
       "      <td>8.6</td>\n",
       "      <td>4.55</td>\n",
       "      <td>9.87</td>\n",
       "      <td>1297.0</td>\n",
       "    </tr>\n",
       "    <tr>\n",
       "      <th>2020-09-30 22:01:00+00:00</th>\n",
       "      <td>54.771942</td>\n",
       "      <td>54.734675</td>\n",
       "      <td>12.026410</td>\n",
       "      <td>22.593412</td>\n",
       "      <td>108.846612</td>\n",
       "      <td>112.334600</td>\n",
       "      <td>109.906645</td>\n",
       "      <td>108.879083</td>\n",
       "      <td>110.644046</td>\n",
       "      <td>104.371977</td>\n",
       "      <td>...</td>\n",
       "      <td>92.024206</td>\n",
       "      <td>92.405239</td>\n",
       "      <td>24.663982</td>\n",
       "      <td>24.526161</td>\n",
       "      <td>4.48</td>\n",
       "      <td>8.98</td>\n",
       "      <td>8.6</td>\n",
       "      <td>4.55</td>\n",
       "      <td>9.87</td>\n",
       "      <td>NaN</td>\n",
       "    </tr>\n",
       "    <tr>\n",
       "      <th>2020-09-30 22:02:00+00:00</th>\n",
       "      <td>54.695816</td>\n",
       "      <td>54.774163</td>\n",
       "      <td>11.953671</td>\n",
       "      <td>22.428933</td>\n",
       "      <td>108.827640</td>\n",
       "      <td>112.362508</td>\n",
       "      <td>109.970932</td>\n",
       "      <td>108.844765</td>\n",
       "      <td>110.621665</td>\n",
       "      <td>104.387912</td>\n",
       "      <td>...</td>\n",
       "      <td>92.024334</td>\n",
       "      <td>92.405196</td>\n",
       "      <td>24.662656</td>\n",
       "      <td>24.526161</td>\n",
       "      <td>4.48</td>\n",
       "      <td>8.98</td>\n",
       "      <td>8.6</td>\n",
       "      <td>4.55</td>\n",
       "      <td>9.87</td>\n",
       "      <td>NaN</td>\n",
       "    </tr>\n",
       "    <tr>\n",
       "      <th>2020-09-30 22:03:00+00:00</th>\n",
       "      <td>54.154394</td>\n",
       "      <td>54.985713</td>\n",
       "      <td>12.052065</td>\n",
       "      <td>22.335388</td>\n",
       "      <td>108.623473</td>\n",
       "      <td>112.386061</td>\n",
       "      <td>109.836948</td>\n",
       "      <td>108.717994</td>\n",
       "      <td>110.464245</td>\n",
       "      <td>104.418573</td>\n",
       "      <td>...</td>\n",
       "      <td>92.024462</td>\n",
       "      <td>92.405153</td>\n",
       "      <td>24.661329</td>\n",
       "      <td>24.526161</td>\n",
       "      <td>4.48</td>\n",
       "      <td>8.98</td>\n",
       "      <td>8.6</td>\n",
       "      <td>4.55</td>\n",
       "      <td>9.87</td>\n",
       "      <td>NaN</td>\n",
       "    </tr>\n",
       "    <tr>\n",
       "      <th>2020-09-30 22:04:00+00:00</th>\n",
       "      <td>54.693184</td>\n",
       "      <td>54.490742</td>\n",
       "      <td>12.027310</td>\n",
       "      <td>22.412620</td>\n",
       "      <td>108.746784</td>\n",
       "      <td>112.396792</td>\n",
       "      <td>109.966910</td>\n",
       "      <td>108.978605</td>\n",
       "      <td>110.603660</td>\n",
       "      <td>104.464328</td>\n",
       "      <td>...</td>\n",
       "      <td>92.024590</td>\n",
       "      <td>92.405110</td>\n",
       "      <td>24.660003</td>\n",
       "      <td>24.525475</td>\n",
       "      <td>4.48</td>\n",
       "      <td>8.98</td>\n",
       "      <td>8.6</td>\n",
       "      <td>4.55</td>\n",
       "      <td>9.87</td>\n",
       "      <td>NaN</td>\n",
       "    </tr>\n",
       "    <tr>\n",
       "      <th>...</th>\n",
       "      <td>...</td>\n",
       "      <td>...</td>\n",
       "      <td>...</td>\n",
       "      <td>...</td>\n",
       "      <td>...</td>\n",
       "      <td>...</td>\n",
       "      <td>...</td>\n",
       "      <td>...</td>\n",
       "      <td>...</td>\n",
       "      <td>...</td>\n",
       "      <td>...</td>\n",
       "      <td>...</td>\n",
       "      <td>...</td>\n",
       "      <td>...</td>\n",
       "      <td>...</td>\n",
       "      <td>...</td>\n",
       "      <td>...</td>\n",
       "      <td>...</td>\n",
       "      <td>...</td>\n",
       "      <td>...</td>\n",
       "      <td>...</td>\n",
       "    </tr>\n",
       "    <tr>\n",
       "      <th>2022-01-31 22:55:00+00:00</th>\n",
       "      <td>57.882366</td>\n",
       "      <td>58.080133</td>\n",
       "      <td>10.056829</td>\n",
       "      <td>30.486496</td>\n",
       "      <td>101.111263</td>\n",
       "      <td>98.338021</td>\n",
       "      <td>102.332506</td>\n",
       "      <td>101.967828</td>\n",
       "      <td>100.651891</td>\n",
       "      <td>97.071359</td>\n",
       "      <td>...</td>\n",
       "      <td>98.121880</td>\n",
       "      <td>98.225985</td>\n",
       "      <td>24.460338</td>\n",
       "      <td>24.320295</td>\n",
       "      <td>6.18</td>\n",
       "      <td>8.89</td>\n",
       "      <td>7.8</td>\n",
       "      <td>6.65</td>\n",
       "      <td>12.47</td>\n",
       "      <td>NaN</td>\n",
       "    </tr>\n",
       "    <tr>\n",
       "      <th>2022-01-31 22:56:00+00:00</th>\n",
       "      <td>57.953225</td>\n",
       "      <td>57.931008</td>\n",
       "      <td>9.935828</td>\n",
       "      <td>29.830075</td>\n",
       "      <td>101.034501</td>\n",
       "      <td>98.362465</td>\n",
       "      <td>102.332450</td>\n",
       "      <td>101.981035</td>\n",
       "      <td>100.575884</td>\n",
       "      <td>97.066000</td>\n",
       "      <td>...</td>\n",
       "      <td>98.121319</td>\n",
       "      <td>98.226027</td>\n",
       "      <td>24.464324</td>\n",
       "      <td>24.322539</td>\n",
       "      <td>6.18</td>\n",
       "      <td>8.89</td>\n",
       "      <td>7.8</td>\n",
       "      <td>6.65</td>\n",
       "      <td>12.47</td>\n",
       "      <td>NaN</td>\n",
       "    </tr>\n",
       "    <tr>\n",
       "      <th>2022-01-31 22:57:00+00:00</th>\n",
       "      <td>58.186232</td>\n",
       "      <td>57.291012</td>\n",
       "      <td>10.014864</td>\n",
       "      <td>29.350514</td>\n",
       "      <td>101.251020</td>\n",
       "      <td>98.353221</td>\n",
       "      <td>102.312023</td>\n",
       "      <td>102.017297</td>\n",
       "      <td>100.621084</td>\n",
       "      <td>97.223686</td>\n",
       "      <td>...</td>\n",
       "      <td>98.120757</td>\n",
       "      <td>98.226070</td>\n",
       "      <td>24.468310</td>\n",
       "      <td>24.324782</td>\n",
       "      <td>6.18</td>\n",
       "      <td>8.89</td>\n",
       "      <td>7.8</td>\n",
       "      <td>6.65</td>\n",
       "      <td>12.47</td>\n",
       "      <td>NaN</td>\n",
       "    </tr>\n",
       "    <tr>\n",
       "      <th>2022-01-31 22:58:00+00:00</th>\n",
       "      <td>59.016838</td>\n",
       "      <td>58.014325</td>\n",
       "      <td>10.048125</td>\n",
       "      <td>29.496899</td>\n",
       "      <td>101.073264</td>\n",
       "      <td>98.354741</td>\n",
       "      <td>102.336123</td>\n",
       "      <td>101.967655</td>\n",
       "      <td>100.596174</td>\n",
       "      <td>97.050953</td>\n",
       "      <td>...</td>\n",
       "      <td>98.120196</td>\n",
       "      <td>98.226113</td>\n",
       "      <td>24.472296</td>\n",
       "      <td>24.327025</td>\n",
       "      <td>6.18</td>\n",
       "      <td>8.89</td>\n",
       "      <td>7.8</td>\n",
       "      <td>6.65</td>\n",
       "      <td>12.47</td>\n",
       "      <td>NaN</td>\n",
       "    </tr>\n",
       "    <tr>\n",
       "      <th>2022-01-31 22:59:00+00:00</th>\n",
       "      <td>57.503406</td>\n",
       "      <td>57.757832</td>\n",
       "      <td>9.909967</td>\n",
       "      <td>29.537882</td>\n",
       "      <td>101.171321</td>\n",
       "      <td>98.336003</td>\n",
       "      <td>102.331086</td>\n",
       "      <td>101.969703</td>\n",
       "      <td>100.690806</td>\n",
       "      <td>97.067359</td>\n",
       "      <td>...</td>\n",
       "      <td>98.119783</td>\n",
       "      <td>98.226155</td>\n",
       "      <td>24.476282</td>\n",
       "      <td>24.329269</td>\n",
       "      <td>6.18</td>\n",
       "      <td>8.89</td>\n",
       "      <td>7.8</td>\n",
       "      <td>6.65</td>\n",
       "      <td>12.47</td>\n",
       "      <td>NaN</td>\n",
       "    </tr>\n",
       "  </tbody>\n",
       "</table>\n",
       "<p>702780 rows × 58 columns</p>\n",
       "</div>"
      ],
      "text/plain": [
       "                           001fcx00211.pv  001fcx00221.pv  001fcx00231.pv  \\\n",
       "2020-09-30 22:00:00+00:00       56.729077       54.724422       11.966905   \n",
       "2020-09-30 22:01:00+00:00       54.771942       54.734675       12.026410   \n",
       "2020-09-30 22:02:00+00:00       54.695816       54.774163       11.953671   \n",
       "2020-09-30 22:03:00+00:00       54.154394       54.985713       12.052065   \n",
       "2020-09-30 22:04:00+00:00       54.693184       54.490742       12.027310   \n",
       "...                                   ...             ...             ...   \n",
       "2022-01-31 22:55:00+00:00       57.882366       58.080133       10.056829   \n",
       "2022-01-31 22:56:00+00:00       57.953225       57.931008        9.935828   \n",
       "2022-01-31 22:57:00+00:00       58.186232       57.291012       10.014864   \n",
       "2022-01-31 22:58:00+00:00       59.016838       58.014325       10.048125   \n",
       "2022-01-31 22:59:00+00:00       57.503406       57.757832        9.909967   \n",
       "\n",
       "                           001fcx00241.pv  001fir01307.daca.pv  \\\n",
       "2020-09-30 22:00:00+00:00       22.493207           108.702362   \n",
       "2020-09-30 22:01:00+00:00       22.593412           108.846612   \n",
       "2020-09-30 22:02:00+00:00       22.428933           108.827640   \n",
       "2020-09-30 22:03:00+00:00       22.335388           108.623473   \n",
       "2020-09-30 22:04:00+00:00       22.412620           108.746784   \n",
       "...                                   ...                  ...   \n",
       "2022-01-31 22:55:00+00:00       30.486496           101.111263   \n",
       "2022-01-31 22:56:00+00:00       29.830075           101.034501   \n",
       "2022-01-31 22:57:00+00:00       29.350514           101.251020   \n",
       "2022-01-31 22:58:00+00:00       29.496899           101.073264   \n",
       "2022-01-31 22:59:00+00:00       29.537882           101.171321   \n",
       "\n",
       "                           001fir01308.daca.pv  001fir01309.daca.pv  \\\n",
       "2020-09-30 22:00:00+00:00           112.280388           110.013796   \n",
       "2020-09-30 22:01:00+00:00           112.334600           109.906645   \n",
       "2020-09-30 22:02:00+00:00           112.362508           109.970932   \n",
       "2020-09-30 22:03:00+00:00           112.386061           109.836948   \n",
       "2020-09-30 22:04:00+00:00           112.396792           109.966910   \n",
       "...                                        ...                  ...   \n",
       "2022-01-31 22:55:00+00:00            98.338021           102.332506   \n",
       "2022-01-31 22:56:00+00:00            98.362465           102.332450   \n",
       "2022-01-31 22:57:00+00:00            98.353221           102.312023   \n",
       "2022-01-31 22:58:00+00:00            98.354741           102.336123   \n",
       "2022-01-31 22:59:00+00:00            98.336003           102.331086   \n",
       "\n",
       "                           001fir01310.daca.pv  001fir01311.daca.pv  \\\n",
       "2020-09-30 22:00:00+00:00           108.761583           110.604901   \n",
       "2020-09-30 22:01:00+00:00           108.879083           110.644046   \n",
       "2020-09-30 22:02:00+00:00           108.844765           110.621665   \n",
       "2020-09-30 22:03:00+00:00           108.717994           110.464245   \n",
       "2020-09-30 22:04:00+00:00           108.978605           110.603660   \n",
       "...                                        ...                  ...   \n",
       "2022-01-31 22:55:00+00:00           101.967828           100.651891   \n",
       "2022-01-31 22:56:00+00:00           101.981035           100.575884   \n",
       "2022-01-31 22:57:00+00:00           102.017297           100.621084   \n",
       "2022-01-31 22:58:00+00:00           101.967655           100.596174   \n",
       "2022-01-31 22:59:00+00:00           101.969703           100.690806   \n",
       "\n",
       "                           001fir01312.daca.pv  ...  001uxm0rf02.daca.pv  \\\n",
       "2020-09-30 22:00:00+00:00           104.500427  ...            92.024078   \n",
       "2020-09-30 22:01:00+00:00           104.371977  ...            92.024206   \n",
       "2020-09-30 22:02:00+00:00           104.387912  ...            92.024334   \n",
       "2020-09-30 22:03:00+00:00           104.418573  ...            92.024462   \n",
       "2020-09-30 22:04:00+00:00           104.464328  ...            92.024590   \n",
       "...                                        ...  ...                  ...   \n",
       "2022-01-31 22:55:00+00:00            97.071359  ...            98.121880   \n",
       "2022-01-31 22:56:00+00:00            97.066000  ...            98.121319   \n",
       "2022-01-31 22:57:00+00:00            97.223686  ...            98.120757   \n",
       "2022-01-31 22:58:00+00:00            97.050953  ...            98.120196   \n",
       "2022-01-31 22:59:00+00:00            97.067359  ...            98.119783   \n",
       "\n",
       "                           001uxm0rf03.daca.pv  037tix00254.daca.pv  \\\n",
       "2020-09-30 22:00:00+00:00            92.405281            24.665309   \n",
       "2020-09-30 22:01:00+00:00            92.405239            24.663982   \n",
       "2020-09-30 22:02:00+00:00            92.405196            24.662656   \n",
       "2020-09-30 22:03:00+00:00            92.405153            24.661329   \n",
       "2020-09-30 22:04:00+00:00            92.405110            24.660003   \n",
       "...                                        ...                  ...   \n",
       "2022-01-31 22:55:00+00:00            98.225985            24.460338   \n",
       "2022-01-31 22:56:00+00:00            98.226027            24.464324   \n",
       "2022-01-31 22:57:00+00:00            98.226070            24.468310   \n",
       "2022-01-31 22:58:00+00:00            98.226113            24.472296   \n",
       "2022-01-31 22:59:00+00:00            98.226155            24.476282   \n",
       "\n",
       "                           037tix00264.daca.pv  prazonka_fe  prazonka_s  \\\n",
       "2020-09-30 22:00:00+00:00            24.526161         4.48        8.98   \n",
       "2020-09-30 22:01:00+00:00            24.526161         4.48        8.98   \n",
       "2020-09-30 22:02:00+00:00            24.526161         4.48        8.98   \n",
       "2020-09-30 22:03:00+00:00            24.526161         4.48        8.98   \n",
       "2020-09-30 22:04:00+00:00            24.525475         4.48        8.98   \n",
       "...                                        ...          ...         ...   \n",
       "2022-01-31 22:55:00+00:00            24.320295         6.18        8.89   \n",
       "2022-01-31 22:56:00+00:00            24.322539         6.18        8.89   \n",
       "2022-01-31 22:57:00+00:00            24.324782         6.18        8.89   \n",
       "2022-01-31 22:58:00+00:00            24.327025         6.18        8.89   \n",
       "2022-01-31 22:59:00+00:00            24.329269         6.18        8.89   \n",
       "\n",
       "                           prob_corg  prob_fe  prob_s  temp_zuz  \n",
       "2020-09-30 22:00:00+00:00        8.6     4.55    9.87    1297.0  \n",
       "2020-09-30 22:01:00+00:00        8.6     4.55    9.87       NaN  \n",
       "2020-09-30 22:02:00+00:00        8.6     4.55    9.87       NaN  \n",
       "2020-09-30 22:03:00+00:00        8.6     4.55    9.87       NaN  \n",
       "2020-09-30 22:04:00+00:00        8.6     4.55    9.87       NaN  \n",
       "...                              ...      ...     ...       ...  \n",
       "2022-01-31 22:55:00+00:00        7.8     6.65   12.47       NaN  \n",
       "2022-01-31 22:56:00+00:00        7.8     6.65   12.47       NaN  \n",
       "2022-01-31 22:57:00+00:00        7.8     6.65   12.47       NaN  \n",
       "2022-01-31 22:58:00+00:00        7.8     6.65   12.47       NaN  \n",
       "2022-01-31 22:59:00+00:00        7.8     6.65   12.47       NaN  \n",
       "\n",
       "[702780 rows x 58 columns]"
      ]
     },
     "execution_count": 4,
     "metadata": {},
     "output_type": "execute_result"
    }
   ],
   "source": [
    "org_df = pd.read_csv(os.path.join(MAIN_PATH, \"data\", \"data.csv\"))\n",
    "org_df = load(org_df)\n",
    "org_df"
   ]
  },
  {
   "cell_type": "code",
   "execution_count": 5,
   "metadata": {
    "pycharm": {
     "name": "#%%\n"
    }
   },
   "outputs": [],
   "source": [
    "df = pd.DataFrame(index=org_df.index)"
   ]
  },
  {
   "cell_type": "code",
   "execution_count": 6,
   "metadata": {
    "pycharm": {
     "name": "#%%\n"
    }
   },
   "outputs": [
    {
     "name": "stdout",
     "output_type": "stream",
     "text": [
      "(11377, 7)\n"
     ]
    },
    {
     "data": {
      "text/html": [
       "<div>\n",
       "<style scoped>\n",
       "    .dataframe tbody tr th:only-of-type {\n",
       "        vertical-align: middle;\n",
       "    }\n",
       "\n",
       "    .dataframe tbody tr th {\n",
       "        vertical-align: top;\n",
       "    }\n",
       "\n",
       "    .dataframe thead th {\n",
       "        text-align: right;\n",
       "    }\n",
       "</style>\n",
       "<table border=\"1\" class=\"dataframe\">\n",
       "  <thead>\n",
       "    <tr style=\"text-align: right;\">\n",
       "      <th></th>\n",
       "      <th>TIX1</th>\n",
       "      <th>TIR</th>\n",
       "      <th>LIW</th>\n",
       "      <th>001fcx00231.pv</th>\n",
       "      <th>001fcx00241.pv</th>\n",
       "      <th>001nir0szr0.daca.pv</th>\n",
       "      <th>TEMP_ZUZ</th>\n",
       "    </tr>\n",
       "  </thead>\n",
       "  <tbody>\n",
       "    <tr>\n",
       "      <th>2020-09-30 22:00:00+00:00</th>\n",
       "      <td>418.990965</td>\n",
       "      <td>29.086390</td>\n",
       "      <td>55.726750</td>\n",
       "      <td>11.966905</td>\n",
       "      <td>22.493207</td>\n",
       "      <td>14.362428</td>\n",
       "      <td>1297.0</td>\n",
       "    </tr>\n",
       "    <tr>\n",
       "      <th>2020-09-30 23:00:00+00:00</th>\n",
       "      <td>418.911544</td>\n",
       "      <td>29.000256</td>\n",
       "      <td>55.318554</td>\n",
       "      <td>11.544775</td>\n",
       "      <td>22.702118</td>\n",
       "      <td>14.978720</td>\n",
       "      <td>1295.0</td>\n",
       "    </tr>\n",
       "    <tr>\n",
       "      <th>2020-10-01 00:00:00+00:00</th>\n",
       "      <td>418.820059</td>\n",
       "      <td>29.021386</td>\n",
       "      <td>54.830731</td>\n",
       "      <td>11.053689</td>\n",
       "      <td>20.013150</td>\n",
       "      <td>15.199544</td>\n",
       "      <td>1303.0</td>\n",
       "    </tr>\n",
       "    <tr>\n",
       "      <th>2020-10-01 00:30:00+00:00</th>\n",
       "      <td>418.777284</td>\n",
       "      <td>29.064571</td>\n",
       "      <td>55.112358</td>\n",
       "      <td>10.980221</td>\n",
       "      <td>19.902115</td>\n",
       "      <td>14.815123</td>\n",
       "      <td>1302.0</td>\n",
       "    </tr>\n",
       "    <tr>\n",
       "      <th>2020-10-01 01:00:00+00:00</th>\n",
       "      <td>418.735368</td>\n",
       "      <td>29.092727</td>\n",
       "      <td>55.378319</td>\n",
       "      <td>11.057164</td>\n",
       "      <td>21.069357</td>\n",
       "      <td>14.617263</td>\n",
       "      <td>1303.0</td>\n",
       "    </tr>\n",
       "    <tr>\n",
       "      <th>...</th>\n",
       "      <td>...</td>\n",
       "      <td>...</td>\n",
       "      <td>...</td>\n",
       "      <td>...</td>\n",
       "      <td>...</td>\n",
       "      <td>...</td>\n",
       "      <td>...</td>\n",
       "    </tr>\n",
       "    <tr>\n",
       "      <th>2022-01-31 18:00:00+00:00</th>\n",
       "      <td>418.284737</td>\n",
       "      <td>27.694067</td>\n",
       "      <td>59.040197</td>\n",
       "      <td>10.019018</td>\n",
       "      <td>32.147630</td>\n",
       "      <td>15.607105</td>\n",
       "      <td>1300.0</td>\n",
       "    </tr>\n",
       "    <tr>\n",
       "      <th>2022-01-31 19:00:00+00:00</th>\n",
       "      <td>418.138199</td>\n",
       "      <td>27.760225</td>\n",
       "      <td>58.903828</td>\n",
       "      <td>10.013093</td>\n",
       "      <td>31.719701</td>\n",
       "      <td>14.846545</td>\n",
       "      <td>1305.0</td>\n",
       "    </tr>\n",
       "    <tr>\n",
       "      <th>2022-01-31 20:00:00+00:00</th>\n",
       "      <td>418.012402</td>\n",
       "      <td>27.761558</td>\n",
       "      <td>59.333633</td>\n",
       "      <td>10.064700</td>\n",
       "      <td>30.158128</td>\n",
       "      <td>15.967954</td>\n",
       "      <td>1304.0</td>\n",
       "    </tr>\n",
       "    <tr>\n",
       "      <th>2022-01-31 21:00:00+00:00</th>\n",
       "      <td>417.939267</td>\n",
       "      <td>27.704117</td>\n",
       "      <td>58.256581</td>\n",
       "      <td>9.989189</td>\n",
       "      <td>28.000376</td>\n",
       "      <td>16.147269</td>\n",
       "      <td>1308.0</td>\n",
       "    </tr>\n",
       "    <tr>\n",
       "      <th>2022-01-31 22:00:00+00:00</th>\n",
       "      <td>417.865419</td>\n",
       "      <td>27.812696</td>\n",
       "      <td>57.764675</td>\n",
       "      <td>10.145746</td>\n",
       "      <td>27.917341</td>\n",
       "      <td>16.379607</td>\n",
       "      <td>1309.0</td>\n",
       "    </tr>\n",
       "  </tbody>\n",
       "</table>\n",
       "<p>11377 rows × 7 columns</p>\n",
       "</div>"
      ],
      "text/plain": [
       "                                 TIX1        TIR        LIW  001fcx00231.pv  \\\n",
       "2020-09-30 22:00:00+00:00  418.990965  29.086390  55.726750       11.966905   \n",
       "2020-09-30 23:00:00+00:00  418.911544  29.000256  55.318554       11.544775   \n",
       "2020-10-01 00:00:00+00:00  418.820059  29.021386  54.830731       11.053689   \n",
       "2020-10-01 00:30:00+00:00  418.777284  29.064571  55.112358       10.980221   \n",
       "2020-10-01 01:00:00+00:00  418.735368  29.092727  55.378319       11.057164   \n",
       "...                               ...        ...        ...             ...   \n",
       "2022-01-31 18:00:00+00:00  418.284737  27.694067  59.040197       10.019018   \n",
       "2022-01-31 19:00:00+00:00  418.138199  27.760225  58.903828       10.013093   \n",
       "2022-01-31 20:00:00+00:00  418.012402  27.761558  59.333633       10.064700   \n",
       "2022-01-31 21:00:00+00:00  417.939267  27.704117  58.256581        9.989189   \n",
       "2022-01-31 22:00:00+00:00  417.865419  27.812696  57.764675       10.145746   \n",
       "\n",
       "                           001fcx00241.pv  001nir0szr0.daca.pv  TEMP_ZUZ  \n",
       "2020-09-30 22:00:00+00:00       22.493207            14.362428    1297.0  \n",
       "2020-09-30 23:00:00+00:00       22.702118            14.978720    1295.0  \n",
       "2020-10-01 00:00:00+00:00       20.013150            15.199544    1303.0  \n",
       "2020-10-01 00:30:00+00:00       19.902115            14.815123    1302.0  \n",
       "2020-10-01 01:00:00+00:00       21.069357            14.617263    1303.0  \n",
       "...                                   ...                  ...       ...  \n",
       "2022-01-31 18:00:00+00:00       32.147630            15.607105    1300.0  \n",
       "2022-01-31 19:00:00+00:00       31.719701            14.846545    1305.0  \n",
       "2022-01-31 20:00:00+00:00       30.158128            15.967954    1304.0  \n",
       "2022-01-31 21:00:00+00:00       28.000376            16.147269    1308.0  \n",
       "2022-01-31 22:00:00+00:00       27.917341            16.379607    1309.0  \n",
       "\n",
       "[11377 rows x 7 columns]"
      ]
     },
     "execution_count": 6,
     "metadata": {},
     "output_type": "execute_result"
    }
   ],
   "source": [
    "# srednia po 'TEMP POD 2 WARSTWĄ WYMURÓWKI [°C]'\n",
    "TIX1 = org_df.columns[org_df.columns.str.contains('001tix')].values\n",
    "df['TIX1'] = org_df[TIX1].mean(axis='columns')\n",
    "# srednia po 'WODY POWROTNE KOLEKTORÓW [°C]'\n",
    "TIR = org_df.columns[org_df.columns.str.contains('tir')].values\n",
    "df['TIR'] = org_df[TIR].mean(axis='columns')\n",
    "# dodanie reg nadawy koncentratu liw i uśrednienie\n",
    "LIW = org_df.get(['001fcx00211.pv', '001fcx00221.pv'])\n",
    "df['LIW'] = LIW.mean(axis='columns')\n",
    "# dodanie pozostałych reg nadawy\n",
    "df['001fcx00231.pv'] = org_df['001fcx00231.pv']\n",
    "df['001fcx00241.pv'] = org_df['001fcx00241.pv']\n",
    "# sumaryczna moc cieplna\n",
    "NIR = org_df.columns[org_df.columns.str.contains('nir')].values\n",
    "df[NIR] = org_df[NIR]\n",
    "# dodanie temp żużla\n",
    "df[\"TEMP_ZUZ\"] = org_df[\"temp_zuz\"]\n",
    "df = df.dropna(axis=0)\n",
    "print(df.shape)\n",
    "df"
   ]
  },
  {
   "cell_type": "markdown",
   "metadata": {
    "pycharm": {
     "name": "#%% md\n"
    }
   },
   "source": [
    "# Split dataset"
   ]
  },
  {
   "cell_type": "code",
   "execution_count": 7,
   "metadata": {
    "pycharm": {
     "name": "#%%\n"
    }
   },
   "outputs": [],
   "source": [
    "train, val, test = split(df)\n",
    "X_train, X_val, X_test = train.drop([\"TEMP_ZUZ\"], axis=1), val.drop([\"TEMP_ZUZ\"], axis=1), test.drop([\"TEMP_ZUZ\"],\n",
    "                                                                                                     axis=1)\n",
    "y_train, y_val, y_test = train[\"TEMP_ZUZ\"], val[\"TEMP_ZUZ\"], test[\"TEMP_ZUZ\"]"
   ]
  },
  {
   "cell_type": "markdown",
   "metadata": {
    "pycharm": {
     "name": "#%% md\n"
    }
   },
   "source": [
    "# Ridge regression"
   ]
  },
  {
   "cell_type": "code",
   "execution_count": 14,
   "metadata": {
    "pycharm": {
     "name": "#%%\n"
    }
   },
   "outputs": [
    {
     "name": "stdout",
     "output_type": "stream",
     "text": [
      "svd 0.1 74.99438774660148 [1.04762165 0.30772092 0.57339082 0.42184525 0.72730472 0.96905781]\n",
      "svd 0.5 74.99446192014945 [1.04753609 0.3077011  0.57341069 0.42174708 0.72727997 0.96900992]\n",
      "svd 1 74.99455470419592 [1.04742917 0.30767634 0.5734355  0.42162442 0.72724903 0.96895008]\n",
      "cholesky 0.1 74.99438774660148 [1.04762165 0.30772092 0.57339082 0.42184525 0.72730472 0.96905781]\n",
      "cholesky 0.5 74.99446192014945 [1.04753609 0.3077011  0.57341069 0.42174708 0.72727997 0.96900992]\n",
      "cholesky 1 74.99455470419595 [1.04742917 0.30767634 0.5734355  0.42162442 0.72724903 0.96895008]\n",
      "lsqr 0.1 74.98217603875321 [1.04430362 0.30682037 0.57741248 0.42256738 0.72013707 0.97505024]\n",
      "lsqr 0.5 74.98225787437232 [1.04421995 0.30680109 0.57742973 0.42246901 0.72011657 0.97499904]\n",
      "lsqr 1 74.98236022742431 [1.04411539 0.30677699 0.57745127 0.42234612 0.72009095 0.97493506]\n",
      "sparse_cg 0.1 74.99438774660148 [1.04762165 0.30772092 0.57339082 0.42184525 0.72730472 0.96905781]\n",
      "sparse_cg 0.5 74.99446192014945 [1.04753609 0.3077011  0.57341069 0.42174708 0.72727997 0.96900992]\n",
      "sparse_cg 1 74.99455470419592 [1.04742917 0.30767634 0.5734355  0.42162442 0.72724903 0.96895008]\n",
      "sag 0.1 74.99421920301523 [1.04757218 0.30761285 0.57314535 0.4220605  0.72743069 0.96934382]\n",
      "sag 0.5 74.99570530965639 [1.04803475 0.30755216 0.57312827 0.42161788 0.72763624 0.96849956]\n",
      "sag 1 74.99350003640654 [1.047419   0.30775831 0.57342883 0.42144502 0.72708423 0.96941969]\n",
      "saga 0.1 74.99531124856135 [1.04751631 0.30759457 0.57304351 0.42181148 0.72711042 0.96895116]\n",
      "saga 0.5 74.99501249566228 [1.04765903 0.30774888 0.5730217  0.42176946 0.72755545 0.96889641]\n",
      "saga 1 74.99265038066217 [1.0474146  0.30772539 0.57348874 0.42142466 0.72803187 0.96950811]\n"
     ]
    }
   ],
   "source": [
    "solvers = ['svd', 'cholesky', 'lsqr', 'sparse_cg', 'sag', 'saga']\n",
    "alphas = [.1, .5, 1]\n",
    "\n",
    "for solver in solvers:\n",
    "    for alpha in alphas:\n",
    "        ridge_model = Pipeline([('normalization', preprocessing.StandardScaler()),\n",
    "                                ('ridge', linear_model.Ridge(alpha=alpha, solver=solver))])\n",
    "        ridge_model.fit(X_train, y_train)\n",
    "        mse = metrics.mean_squared_error(y_val, ridge_model.predict(X_val))\n",
    "        print(solver, alpha, mse, ridge_model.named_steps['ridge'].coef_)"
   ]
  },
  {
   "cell_type": "markdown",
   "metadata": {
    "pycharm": {
     "name": "#%% md\n"
    }
   },
   "source": [
    "# Ridge Regression + Polynomial Features"
   ]
  },
  {
   "cell_type": "code",
   "execution_count": 15,
   "metadata": {
    "pycharm": {
     "name": "#%%\n"
    }
   },
   "outputs": [
    {
     "name": "stdout",
     "output_type": "stream",
     "text": [
      "solver, alpha, degree, mse\n",
      "svd 0.1 2 68.40305457254732\n",
      "svd 0.1 3 64.70314672421581\n",
      "svd 0.1 4 66.40785343203846\n",
      "svd 0.5 2 68.45935609599246\n",
      "svd 0.5 3 65.14348801192071\n",
      "svd 0.5 4 64.92807359911265\n",
      "svd 1 2 68.40122985712314\n",
      "svd 1 3 65.75674701410641\n",
      "svd 1 4 64.7301667617553\n",
      "cholesky 0.1 2 68.40305457251513\n",
      "cholesky 0.1 3 64.70314672400585\n",
      "cholesky 0.1 4 66.40785343217476\n",
      "cholesky 0.5 2 68.4593560959898\n",
      "cholesky 0.5 3 65.14348801187221\n",
      "cholesky 0.5 4 64.92807359911653\n",
      "cholesky 1 2 68.4012298571233\n",
      "cholesky 1 3 65.75674701407938\n",
      "cholesky 1 4 64.73016676175963\n",
      "lsqr 0.1 2 69.15252091750936\n",
      "lsqr 0.1 3 70.58312292246853\n",
      "lsqr 0.1 4 70.55841548226576\n",
      "lsqr 0.5 2 68.91371426289231\n",
      "lsqr 0.5 3 70.53640775546668\n",
      "lsqr 0.5 4 70.54878465440278\n",
      "lsqr 1 2 68.66669508652821\n",
      "lsqr 1 3 70.4800810232168\n",
      "lsqr 1 4 70.53690786643219\n",
      "sparse_cg 0.1 2 69.25780058230411\n",
      "sparse_cg 0.1 3 64.81195902632635\n",
      "sparse_cg 0.1 4 64.07335495602491\n",
      "sparse_cg 0.5 2 69.3211490609048\n",
      "sparse_cg 0.5 3 66.41472399779049\n",
      "sparse_cg 0.5 4 64.18921938097128\n",
      "sparse_cg 1 2 68.86201855106408\n",
      "sparse_cg 1 3 66.54434877713015\n",
      "sparse_cg 1 4 64.6188510530694\n",
      "sag 0.1 2 69.22049875178482\n",
      "sag 0.1 3 66.50322744174798\n",
      "sag 0.1 4 65.27619563090622\n",
      "sag 0.5 2 69.0060529688898\n",
      "sag 0.5 3 66.7131330565393\n",
      "sag 0.5 4 65.37639721639874\n",
      "sag 1 2 68.73892450891594\n",
      "sag 1 3 66.92327721147316\n",
      "sag 1 4 65.49374898228997\n",
      "saga 0.1 2 69.1401048286121\n",
      "saga 0.1 3 67.30951478397444\n",
      "saga 0.1 4 65.98539874812961\n",
      "saga 0.5 2 68.8008702573747\n",
      "saga 0.5 3 67.423490724356\n",
      "saga 0.5 4 66.05697057343781\n",
      "saga 1 2 68.4966856795088\n",
      "saga 1 3 67.54366474765685\n",
      "saga 1 4 66.15195224803533\n"
     ]
    }
   ],
   "source": [
    "solvers = ['svd', 'cholesky', 'lsqr', 'sparse_cg', 'sag', 'saga']\n",
    "alphas = [.1, .5, 1]\n",
    "degrees = [2, 3, 4]\n",
    "\n",
    "print(\"solver, alpha, degree, mse\")\n",
    "for solver in solvers:\n",
    "    for alpha in alphas:\n",
    "        for degree in degrees:\n",
    "            ridge_model = Pipeline([('poly', preprocessing.PolynomialFeatures(degree=degree)),\n",
    "                                    ('normalization', preprocessing.StandardScaler()),\n",
    "                                    ('ridge', linear_model.Ridge(alpha=alpha, solver=solver))])\n",
    "            ridge_model.fit(X_train, y_train)\n",
    "            mse = metrics.mean_squared_error(y_val, ridge_model.predict(X_val))\n",
    "            print(solver, alpha, degree, mse)"
   ]
  },
  {
   "cell_type": "markdown",
   "metadata": {
    "pycharm": {
     "name": "#%% md\n"
    }
   },
   "source": [
    "# SGD Regression"
   ]
  },
  {
   "cell_type": "code",
   "execution_count": 16,
   "metadata": {
    "pycharm": {
     "name": "#%%\n"
    }
   },
   "outputs": [
    {
     "name": "stdout",
     "output_type": "stream",
     "text": [
      "penalty, mse\n",
      "l1 74.98970510241956\n",
      "l2 74.97676232990167\n",
      "elasticnet 74.97703343689182\n"
     ]
    }
   ],
   "source": [
    "penalties = ['l1', 'l2', 'elasticnet']\n",
    "\n",
    "print(\"penalty, mse\")\n",
    "for penalty in penalties:\n",
    "    sgd_model = Pipeline([('normalization', preprocessing.StandardScaler()),\n",
    "                      ('sgd', linear_model.SGDRegressor(max_iter=100000, tol=1e-3, penalty=penalty, learning_rate='adaptive'))])\n",
    "    sgd_model.fit(X_train, y_train)\n",
    "    mse = metrics.mean_squared_error(y_val, sgd_model.predict(X_val))\n",
    "    print(penalty, mse)"
   ]
  },
  {
   "cell_type": "markdown",
   "metadata": {
    "pycharm": {
     "name": "#%% md\n"
    }
   },
   "source": [
    "# SGD Regression + Polynomial"
   ]
  },
  {
   "cell_type": "code",
   "execution_count": 18,
   "metadata": {
    "pycharm": {
     "name": "#%%\n"
    }
   },
   "outputs": [
    {
     "name": "stdout",
     "output_type": "stream",
     "text": [
      "penalty, degree, mse\n",
      "l1 2 69.44432039551894\n",
      "l1 3 19439.303013506284\n",
      "l1 4 6.452432413289027e+18\n",
      "l2 2 67.98633213844053\n",
      "l2 3 87.37746501525875\n",
      "l2 4 7.743630883527502e+18\n",
      "elasticnet 2 67.76832106532045\n",
      "elasticnet 3 10436253.497692186\n",
      "elasticnet 4 5.082672738781665e+18\n"
     ]
    }
   ],
   "source": [
    "penalties = ['l1', 'l2', 'elasticnet']\n",
    "degrees = [2, 3, 4]\n",
    "\n",
    "print(\"penalty, degree, mse\")\n",
    "for penalty in penalties:\n",
    "    for degree in degrees:\n",
    "        sgd_model = Pipeline([('poly', preprocessing.PolynomialFeatures(degree=degree)),\n",
    "                            ('normalization', preprocessing.StandardScaler()),\n",
    "                          ('sgd', linear_model.SGDRegressor(max_iter=100000, tol=1e-3, penalty=penalty, learning_rate='adaptive'))])\n",
    "        sgd_model.fit(X_train, y_train)\n",
    "        mse = metrics.mean_squared_error(y_val, sgd_model.predict(X_val))\n",
    "        print(penalty, degree, mse)"
   ]
  },
  {
   "cell_type": "markdown",
   "metadata": {
    "pycharm": {
     "name": "#%% md\n"
    }
   },
   "source": [
    "# ElasticNet Regression"
   ]
  },
  {
   "cell_type": "code",
   "execution_count": 17,
   "metadata": {
    "pycharm": {
     "name": "#%%\n"
    }
   },
   "outputs": [
    {
     "data": {
      "text/plain": [
       "79.39085001063494"
      ]
     },
     "execution_count": 17,
     "metadata": {},
     "output_type": "execute_result"
    }
   ],
   "source": [
    "elastic_model1 = Pipeline([('normalization', preprocessing.StandardScaler()),\n",
    "                           ('elasitc', linear_model.ElasticNet(max_iter=1000))])\n",
    "elastic_model1 = elastic_model1.fit(X_train, y_train)\n",
    "metrics.mean_squared_error(y_val, elastic_model1.predict(X_val))"
   ]
  },
  {
   "cell_type": "markdown",
   "metadata": {
    "pycharm": {
     "name": "#%% md\n"
    }
   },
   "source": [
    "# BayesianRidge"
   ]
  },
  {
   "cell_type": "code",
   "execution_count": 19,
   "metadata": {
    "pycharm": {
     "name": "#%%\n"
    }
   },
   "outputs": [
    {
     "data": {
      "text/plain": [
       "75.01047167885115"
      ]
     },
     "execution_count": 19,
     "metadata": {},
     "output_type": "execute_result"
    }
   ],
   "source": [
    "bay_model = Pipeline([('normalization', preprocessing.StandardScaler()),\n",
    "                        ('bayessian', linear_model.BayesianRidge(n_iter=1000))])\n",
    "bay_model = bay_model.fit(X_train, y_train)\n",
    "metrics.mean_squared_error(y_val, bay_model.predict(X_val))"
   ]
  },
  {
   "cell_type": "markdown",
   "metadata": {
    "pycharm": {
     "name": "#%% md\n"
    }
   },
   "source": [
    "# Random Forest Regression"
   ]
  },
  {
   "cell_type": "code",
   "execution_count": 27,
   "metadata": {
    "pycharm": {
     "name": "#%%\n"
    }
   },
   "outputs": [
    {
     "name": "stdout",
     "output_type": "stream",
     "text": [
      "1 72.85296387801976\n",
      "2 67.7247492552449\n",
      "3 68.69142384711856\n",
      "4 70.90154513482338\n",
      "5 69.6974434587769\n",
      "6 70.28732573844434\n",
      "7 70.16463547152779\n",
      "8 69.5898263491302\n",
      "9 69.21660483484261\n"
     ]
    }
   ],
   "source": [
    "for i in range(1, 10):\n",
    "    rfg_model = Pipeline([('normalization', preprocessing.StandardScaler()),\n",
    "                            ('forest', ensemble.RandomForestRegressor(max_depth=i, random_state=42))])\n",
    "    rfg_model = rfg_model.fit(X_train, y_train)\n",
    "    mse = metrics.mean_squared_error(y_val, rfg_model.predict(X_val))\n",
    "    print(i, mse)"
   ]
  },
  {
   "cell_type": "markdown",
   "metadata": {
    "pycharm": {
     "name": "#%%\n"
    }
   },
   "source": [
    "# GAM\n"
   ]
  },
  {
   "cell_type": "code",
   "execution_count": 8,
   "metadata": {},
   "outputs": [],
   "source": [
    "scalar = preprocessing.StandardScaler()\n",
    "X_train_scaled = scalar.fit_transform(X_train)\n",
    "X_val_scaled = scalar.fit_transform(X_val)"
   ]
  },
  {
   "cell_type": "code",
   "execution_count": 29,
   "metadata": {},
   "outputs": [
    {
     "name": "stderr",
     "output_type": "stream",
     "text": [
      "100% (11 of 11) |########################| Elapsed Time: 0:00:00 Time:  0:00:00\n"
     ]
    },
    {
     "data": {
      "text/plain": [
       "LinearGAM(callbacks=[Deviance(), Diffs()], fit_intercept=True, \n",
       "   max_iter=100, scale=None, \n",
       "   terms=l(0) + l(1) + l(2) + l(3) + l(4) + l(5) + te(4, 5) + intercept,\n",
       "   tol=0.0001, verbose=False)"
      ]
     },
     "execution_count": 29,
     "metadata": {},
     "output_type": "execute_result"
    }
   ],
   "source": [
    "gam = LinearGAM(terms=l(0) + l(1) + l(2) + l(3) + l(4) + l(5) + te(4, 5))\n",
    "gam.gridsearch(X_train_scaled, y_train)"
   ]
  },
  {
   "cell_type": "code",
   "execution_count": 30,
   "metadata": {},
   "outputs": [
    {
     "data": {
      "text/plain": [
       "71.30469385250488"
      ]
     },
     "execution_count": 30,
     "metadata": {},
     "output_type": "execute_result"
    }
   ],
   "source": [
    "metrics.mean_squared_error(y_val, gam.predict(X_val_scaled))"
   ]
  },
  {
   "cell_type": "code",
   "execution_count": 31,
   "metadata": {},
   "outputs": [
    {
     "name": "stderr",
     "output_type": "stream",
     "text": [
      "100% (11 of 11) |########################| Elapsed Time: 0:00:00 Time:  0:00:00\n"
     ]
    },
    {
     "data": {
      "text/plain": [
       "LinearGAM(callbacks=[Deviance(), Diffs()], fit_intercept=True, \n",
       "   max_iter=100, scale=None, \n",
       "   terms=l(0) + l(1) + l(2) + l(3) + l(4) + l(5) + intercept, \n",
       "   tol=0.0001, verbose=False)"
      ]
     },
     "execution_count": 31,
     "metadata": {},
     "output_type": "execute_result"
    }
   ],
   "source": [
    "gam = LinearGAM(terms=l(0) + l(1) + l(2) + l(3) + l(4) + l(5))\n",
    "gam.gridsearch(X_train_scaled, y_train)"
   ]
  },
  {
   "cell_type": "code",
   "execution_count": 32,
   "metadata": {},
   "outputs": [
    {
     "data": {
      "text/plain": [
       "76.07477913217188"
      ]
     },
     "execution_count": 32,
     "metadata": {},
     "output_type": "execute_result"
    }
   ],
   "source": [
    "metrics.mean_squared_error(y_val, gam.predict(X_val_scaled))"
   ]
  },
  {
   "cell_type": "code",
   "execution_count": 46,
   "metadata": {},
   "outputs": [
    {
     "name": "stderr",
     "output_type": "stream",
     "text": [
      "100% (11 of 11) |########################| Elapsed Time: 0:00:01 Time:  0:00:01\n"
     ]
    },
    {
     "data": {
      "text/plain": [
       "LinearGAM(callbacks=[Deviance(), Diffs()], fit_intercept=True, \n",
       "   max_iter=100, scale=None, \n",
       "   terms=l(0) + l(1) + l(2) + l(3) + l(4) + l(5) + te(1, 4) + te(4, 5) + intercept,\n",
       "   tol=0.0001, verbose=False)"
      ]
     },
     "execution_count": 46,
     "metadata": {},
     "output_type": "execute_result"
    }
   ],
   "source": [
    "gam = LinearGAM(terms=l(0) + l(1) + l(2) + l(3) + l(4) + l(5) + te(1, 4) + te(4, 5))\n",
    "gam.gridsearch(X_train_scaled, y_train)"
   ]
  },
  {
   "cell_type": "code",
   "execution_count": 47,
   "metadata": {},
   "outputs": [
    {
     "data": {
      "text/plain": [
       "67.887476888358"
      ]
     },
     "execution_count": 47,
     "metadata": {},
     "output_type": "execute_result"
    }
   ],
   "source": [
    "metrics.mean_squared_error(y_val, gam.predict(X_val_scaled))"
   ]
  },
  {
   "cell_type": "code",
   "execution_count": 52,
   "metadata": {},
   "outputs": [
    {
     "name": "stderr",
     "output_type": "stream",
     "text": [
      "100% (11 of 11) |########################| Elapsed Time: 0:00:01 Time:  0:00:01\n"
     ]
    },
    {
     "data": {
      "text/plain": [
       "62.909557379500235"
      ]
     },
     "execution_count": 52,
     "metadata": {},
     "output_type": "execute_result"
    }
   ],
   "source": [
    "gam = LinearGAM(terms=l(0) + l(1) + l(2) + l(3) + l(4) + l(5) + te(2, 5))\n",
    "gam.gridsearch(X_train_scaled, y_train)\n",
    "metrics.mean_squared_error(y_val, gam.predict(X_val_scaled))"
   ]
  },
  {
   "cell_type": "code",
   "execution_count": 53,
   "metadata": {},
   "outputs": [
    {
     "name": "stderr",
     "output_type": "stream",
     "text": [
      "100% (11 of 11) |########################| Elapsed Time: 0:00:02 Time:  0:00:02\n"
     ]
    },
    {
     "data": {
      "text/plain": [
       "66.17179879422112"
      ]
     },
     "execution_count": 53,
     "metadata": {},
     "output_type": "execute_result"
    }
   ],
   "source": [
    "gam = LinearGAM(terms=l(0) + l(1) + l(2) + l(3) + l(4) + l(5) + te(2, 5) + te(1, 4) + te(4, 5))\n",
    "gam.gridsearch(X_train_scaled, y_train)\n",
    "metrics.mean_squared_error(y_val, gam.predict(X_val_scaled))"
   ]
  },
  {
   "cell_type": "code",
   "execution_count": 59,
   "metadata": {},
   "outputs": [
    {
     "name": "stderr",
     "output_type": "stream",
     "text": [
      "100% (11 of 11) |########################| Elapsed Time: 0:00:19 Time:  0:00:19\n"
     ]
    },
    {
     "data": {
      "text/plain": [
       "73.31575655515255"
      ]
     },
     "execution_count": 59,
     "metadata": {},
     "output_type": "execute_result"
    }
   ],
   "source": [
    "gam = LinearGAM(terms=l(0) + l(1) + l(2) + l(3) + l(4) + l(5) + te(3, 2, 5))\n",
    "gam.gridsearch(X_train_scaled, y_train)\n",
    "metrics.mean_squared_error(y_val, gam.predict(X_val_scaled))"
   ]
  },
  {
   "cell_type": "code",
   "execution_count": 60,
   "metadata": {},
   "outputs": [
    {
     "name": "stderr",
     "output_type": "stream",
     "text": [
      "100% (11 of 11) |########################| Elapsed Time: 0:00:20 Time:  0:00:20\n"
     ]
    },
    {
     "data": {
      "text/plain": [
       "78.06913320292207"
      ]
     },
     "execution_count": 60,
     "metadata": {},
     "output_type": "execute_result"
    }
   ],
   "source": [
    "gam = LinearGAM(terms=l(0) + l(1) + l(2) + l(3) + l(4) + l(5) + te(1, 4, 5))\n",
    "gam.gridsearch(X_train_scaled, y_train)\n",
    "metrics.mean_squared_error(y_val, gam.predict(X_val_scaled))"
   ]
  },
  {
   "cell_type": "code",
   "execution_count": null,
   "metadata": {},
   "outputs": [],
   "source": []
  }
 ],
 "metadata": {
  "kernelspec": {
   "display_name": "Python 3 (ipykernel)",
   "language": "python",
   "name": "python3"
  },
  "language_info": {
   "codemirror_mode": {
    "name": "ipython",
    "version": 3
   },
   "file_extension": ".py",
   "mimetype": "text/x-python",
   "name": "python",
   "nbconvert_exporter": "python",
   "pygments_lexer": "ipython3",
   "version": "3.9.7"
  }
 },
 "nbformat": 4,
 "nbformat_minor": 1
}
