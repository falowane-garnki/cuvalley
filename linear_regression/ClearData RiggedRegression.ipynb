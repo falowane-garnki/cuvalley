{
 "cells": [
  {
   "cell_type": "code",
   "execution_count": 1,
   "metadata": {},
   "outputs": [],
   "source": [
    "from pathlib import Path\n",
    "import os\n",
    "\n",
    "import pandas as pd\n",
    "import numpy as np\n",
    "\n",
    "from sklearn import preprocessing\n",
    "from sklearn import linear_model\n",
    "from sklearn import metrics\n",
    "from sklearn import utils\n",
    "from sklearn.pipeline import Pipeline\n",
    "from pygam import LinearGAM, s, f, te, l\n",
    "from sklearn import ensemble\n",
    "\n",
    "from data_processing import *"
   ]
  },
  {
   "cell_type": "markdown",
   "metadata": {},
   "source": [
    "## Load data"
   ]
  },
  {
   "cell_type": "code",
   "execution_count": 16,
   "metadata": {},
   "outputs": [],
   "source": [
    "# data is split into 15 min mean aggregates\n",
    "df = pd.read_csv(\"../data/clear.csv\")\n",
    "df['czas'] = pd.to_datetime(df['czas'], utc=True)\n",
    "df = utils.shuffle(df)\n",
    "\n",
    "df.set_index('czas', inplace=True)"
   ]
  },
  {
   "cell_type": "markdown",
   "metadata": {},
   "source": [
    "## Split data"
   ]
  },
  {
   "cell_type": "code",
   "execution_count": 18,
   "metadata": {},
   "outputs": [],
   "source": [
    "train, val, test = split(df)\n",
    "\n",
    "X_train, X_val, X_test = train.drop([\"temp_zuz\"], axis=1), val.drop([\"temp_zuz\"], axis=1), test.drop([\"temp_zuz\"], axis=1)\n",
    "y_train, y_val, y_test = train[\"temp_zuz\"], val[\"temp_zuz\"], test[\"temp_zuz\"]"
   ]
  },
  {
   "cell_type": "markdown",
   "metadata": {},
   "source": [
    "## Define a RiggedRegression model"
   ]
  },
  {
   "cell_type": "code",
   "execution_count": 19,
   "metadata": {},
   "outputs": [
    {
     "name": "stdout",
     "output_type": "stream",
     "text": [
      "svd 0.1 33.64620936208525\n",
      "cholesky 0.1 33.64620936208525\n",
      "lsqr 0.1 33.64378408831897\n",
      "sparse_cg 0.1 33.646219989059354\n",
      "sag 0.1 33.6460224471689\n",
      "saga 0.1 33.64606639555378\n",
      "svd 0.5 33.64622905791434\n",
      "cholesky 0.5 33.646229057914354\n",
      "lsqr 0.5 33.643805150239544\n",
      "sparse_cg 0.5 33.64623968120399\n",
      "sag 0.5 33.646286934897624\n",
      "saga 0.5 33.6463073333421\n",
      "svd 1 33.64625369185645\n",
      "cholesky 1 33.64625369185646\n",
      "lsqr 1 33.643831490461054\n",
      "sparse_cg 1 33.64626431054097\n",
      "sag 1 33.64568502494335\n",
      "saga 1 33.64609543423505\n"
     ]
    }
   ],
   "source": [
    "solvers = ['svd', 'cholesky', 'lsqr', 'sparse_cg', 'sag', 'saga']\n",
    "alphas = [.1, .5, 1]\n",
    "\n",
    "for alpha in alphas:\n",
    "    for solver in solvers:\n",
    "        ridge_model = Pipeline([('normalization', preprocessing.StandardScaler()),\n",
    "                        ('ridge', linear_model.Ridge(alpha=alpha, solver=solver))])\n",
    "        ridge_model.fit(X_train, y_train)\n",
    "        mse = metrics.mean_squared_error(y_val, ridge_model.predict(X_val))\n",
    "        print(solver, alpha, mse)"
   ]
  },
  {
   "cell_type": "markdown",
   "metadata": {},
   "source": [
    "## Train the model"
   ]
  },
  {
   "cell_type": "code",
   "execution_count": 20,
   "metadata": {},
   "outputs": [
    {
     "data": {
      "text/plain": [
       "33.6462223201496"
      ]
     },
     "execution_count": 20,
     "metadata": {},
     "output_type": "execute_result"
    }
   ],
   "source": [
    "ridge_model.fit(X_train, y_train)\n",
    "metrics.mean_squared_error(y_val, ridge_model.predict(X_val))"
   ]
  }
 ],
 "metadata": {
  "kernelspec": {
   "display_name": "Python 3",
   "language": "python",
   "name": "python3"
  },
  "language_info": {
   "codemirror_mode": {
    "name": "ipython",
    "version": 3
   },
   "file_extension": ".py",
   "mimetype": "text/x-python",
   "name": "python",
   "nbconvert_exporter": "python",
   "pygments_lexer": "ipython3",
   "version": "3.8.5"
  }
 },
 "nbformat": 4,
 "nbformat_minor": 4
}
