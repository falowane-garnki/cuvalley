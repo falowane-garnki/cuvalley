{
 "cells": [
  {
   "cell_type": "code",
   "execution_count": null,
   "id": "5a9545c9",
   "metadata": {},
   "outputs": [],
   "source": [
    "import pandas as pd\n",
    "import matplotlib.pyplot as plt\n",
    "import numpy as np\n",
    "import seaborn as sns"
   ]
  },
  {
   "cell_type": "markdown",
   "id": "4ed02383",
   "metadata": {},
   "source": [
    "**Read data**"
   ]
  },
  {
   "cell_type": "code",
   "execution_count": null,
   "id": "313c0067",
   "metadata": {},
   "outputs": [],
   "source": [
    "temp_zuz = pd.read_csv('data/temp_zuz.csv', delimiter=';')\n",
    "temp_zuz['Czas'] = pd.to_datetime(temp_zuz['Czas'])"
   ]
  },
  {
   "cell_type": "code",
   "execution_count": null,
   "id": "a38d9495",
   "metadata": {},
   "outputs": [],
   "source": [
    "df = pd.read_csv('data/data.csv')\n",
    "df['czas'] = df['czas'].apply(lambda x: x.split(\"+\")[0])\n",
    "df['czas'] = pd.to_datetime(df['czas'])"
   ]
  },
  {
   "cell_type": "markdown",
   "id": "695ead24",
   "metadata": {},
   "source": [
    "**Get hours from dates**"
   ]
  },
  {
   "cell_type": "code",
   "execution_count": null,
   "id": "09f7d13e",
   "metadata": {},
   "outputs": [],
   "source": [
    "# extract hours\n",
    "temp_zuz[\"godzina\"] = temp_zuz[\"Czas\"].dt.hour"
   ]
  },
  {
   "cell_type": "code",
   "execution_count": null,
   "id": "7369a753",
   "metadata": {},
   "outputs": [],
   "source": [
    "temp_zuz"
   ]
  },
  {
   "cell_type": "code",
   "execution_count": null,
   "id": "adcf29e8",
   "metadata": {},
   "outputs": [],
   "source": [
    "temp = temp_zuz.drop([\"Czas\"], axis=1)\n",
    "temp.corr()"
   ]
  },
  {
   "cell_type": "code",
   "execution_count": null,
   "id": "65d3f4ec",
   "metadata": {},
   "outputs": [],
   "source": [
    "df[\"godzina\"] = df[\"czas\"].dt.hour\n",
    "df"
   ]
  },
  {
   "cell_type": "code",
   "execution_count": null,
   "id": "9186374a",
   "metadata": {
    "scrolled": true
   },
   "outputs": [],
   "source": [
    "df.corr()"
   ]
  },
  {
   "cell_type": "markdown",
   "id": "38353978",
   "metadata": {},
   "source": [
    "# Hours and variation"
   ]
  },
  {
   "cell_type": "code",
   "execution_count": null,
   "id": "0f84b0e4",
   "metadata": {
    "scrolled": false
   },
   "outputs": [],
   "source": [
    "temp = df.loc[df['godzina'] == 0]\n",
    "first = temp.var()\n",
    "for i in range(1, 24):\n",
    "    temp = df.loc[df['godzina'] == i]\n",
    "    first = pd.concat([first, pd.Series(temp.var(), name=i)], axis=1)\n",
    "first"
   ]
  },
  {
   "cell_type": "code",
   "execution_count": null,
   "id": "34d3feeb",
   "metadata": {},
   "outputs": [],
   "source": [
    "hours = np.arange(24)"
   ]
  },
  {
   "cell_type": "code",
   "execution_count": null,
   "id": "7a823372",
   "metadata": {},
   "outputs": [],
   "source": [
    "for index, row in first.iterrows():\n",
    "    plt.plot(hours, row.values)\n",
    "    plt.title(index)\n",
    "    plt.show()"
   ]
  },
  {
   "cell_type": "markdown",
   "id": "a6b4934d",
   "metadata": {},
   "source": [
    "# Hours and averages"
   ]
  },
  {
   "cell_type": "code",
   "execution_count": null,
   "id": "cba4fcf4",
   "metadata": {
    "scrolled": false
   },
   "outputs": [],
   "source": [
    "temp = df.loc[df['godzina'] == 0]\n",
    "print(temp)\n",
    "first = temp.var()\n",
    "for i in range(1, 24):\n",
    "    temp = df.loc[df['godzina'] == i]\n",
    "    first = pd.concat([first, pd.Series(temp.mean(), name=i)], axis=1)\n",
    "first"
   ]
  },
  {
   "cell_type": "code",
   "execution_count": null,
   "id": "121e5601",
   "metadata": {},
   "outputs": [],
   "source": [
    "TIR = df.columns[df.columns.str.contains('tir')].values\n",
    "FIR = df.columns[df.columns.str.contains('fir')].values\n",
    "TIX1 = df.columns[df.columns.str.contains('001tix')].values\n",
    "UXM = df.columns[df.columns.str.contains('uxm')].values\n",
    "TXI = df.columns[df.columns.str.contains('txi')].values\n",
    "TIX37 = df.columns[df.columns.str.contains('037tix')].values\n",
    "FCX = df.columns[df.columns.str.contains('fcx')].values\n",
    "PR = df.columns[df.columns.str.contains('pr')].values\n",
    "NIR = df.columns[df.columns.str.contains('nir')].values\n",
    "\n",
    "group_names = {\n",
    "    'TIR':'WODY POWROTNE KOLEKTORÓW [°C]',\n",
    "    'FIR':'WODY CHŁODZĄCE KOLEKTORÓW [°C]',\n",
    "    'TIX1':'TEMP POD 2 WARSTWĄ WYMURÓWKI [°C]',\n",
    "    'UXM':'WENT. ODCZ_ZAD OBROTÓW [%]',\n",
    "    'TXI':'TEMP. NA KOL. [°C]',\n",
    "    'TIX37':'TEMP. WODY ZASIL.OBIEG PZ [°C]',\n",
    "    'FCX':'REG [Mg/h]',\n",
    "    'PR':'Prob i prazonka [%]',\n",
    "    'NIR':'SUMARYCZNA MOC CIEPLNA ODEBRANA - CAŁKOWITA [MW]'\n",
    "}   \n",
    "group_names"
   ]
  },
  {
   "cell_type": "code",
   "execution_count": null,
   "id": "a3faada1",
   "metadata": {
    "scrolled": false
   },
   "outputs": [],
   "source": [
    "for index, row in first.iterrows():\n",
    "    plt.plot(hours, row.values)\n",
    "    plt.title(index)\n",
    "    plt.show()"
   ]
  },
  {
   "cell_type": "code",
   "execution_count": null,
   "id": "552d37a3",
   "metadata": {},
   "outputs": [],
   "source": []
  }
 ],
 "metadata": {
  "kernelspec": {
   "display_name": "Python 3 (ipykernel)",
   "language": "python",
   "name": "python3"
  },
  "language_info": {
   "codemirror_mode": {
    "name": "ipython",
    "version": 3
   },
   "file_extension": ".py",
   "mimetype": "text/x-python",
   "name": "python",
   "nbconvert_exporter": "python",
   "pygments_lexer": "ipython3",
   "version": "3.8.10"
  }
 },
 "nbformat": 4,
 "nbformat_minor": 5
}