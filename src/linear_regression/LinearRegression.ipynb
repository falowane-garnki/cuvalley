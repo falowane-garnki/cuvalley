{
 "cells": [
  {
   "cell_type": "code",
   "execution_count": 5,
   "id": "32287049",
   "metadata": {},
   "outputs": [],
   "source": [
    "from pathlib import Path\n",
    "import os\n",
    "\n",
    "import pandas as pd\n",
    "import numpy as np\n",
    "from data_processing.data_processing import *\n",
    "\n",
    "from sklearn import preprocessing\n",
    "from sklearn import linear_model\n",
    "from sklearn import metrics\n",
    "from sklearn.pipeline import Pipeline"
   ]
  },
  {
   "cell_type": "code",
   "execution_count": 6,
   "id": "cc11cc0d",
   "metadata": {},
   "outputs": [],
   "source": [
    "MAIN_PATH = Path(os.getcwd()).parent"
   ]
  },
  {
   "cell_type": "markdown",
   "source": [
    "## Load data"
   ],
   "metadata": {
    "collapsed": false
   }
  },
  {
   "cell_type": "code",
   "execution_count": 168,
   "outputs": [
    {
     "data": {
      "text/plain": "                           001fcx00211.pv  001fcx00221.pv  001fcx00231.pv  \\\n2020-09-30 22:00:00+00:00       56.729077       54.724422       11.966905   \n2020-09-30 22:01:00+00:00       54.771942       54.734675       12.026410   \n2020-09-30 22:02:00+00:00       54.695816       54.774163       11.953671   \n2020-09-30 22:03:00+00:00       54.154394       54.985713       12.052065   \n2020-09-30 22:04:00+00:00       54.693184       54.490742       12.027310   \n...                                   ...             ...             ...   \n2022-01-31 22:55:00+00:00       57.882366       58.080133       10.056829   \n2022-01-31 22:56:00+00:00       57.953225       57.931008        9.935828   \n2022-01-31 22:57:00+00:00       58.186232       57.291012       10.014864   \n2022-01-31 22:58:00+00:00       59.016838       58.014325       10.048125   \n2022-01-31 22:59:00+00:00       57.503406       57.757832        9.909967   \n\n                           001fcx00241.pv  001fir01307.daca.pv  \\\n2020-09-30 22:00:00+00:00       22.493207           108.702362   \n2020-09-30 22:01:00+00:00       22.593412           108.846612   \n2020-09-30 22:02:00+00:00       22.428933           108.827640   \n2020-09-30 22:03:00+00:00       22.335388           108.623473   \n2020-09-30 22:04:00+00:00       22.412620           108.746784   \n...                                   ...                  ...   \n2022-01-31 22:55:00+00:00       30.486496           101.111263   \n2022-01-31 22:56:00+00:00       29.830075           101.034501   \n2022-01-31 22:57:00+00:00       29.350514           101.251020   \n2022-01-31 22:58:00+00:00       29.496899           101.073264   \n2022-01-31 22:59:00+00:00       29.537882           101.171321   \n\n                           001fir01308.daca.pv  001fir01309.daca.pv  \\\n2020-09-30 22:00:00+00:00           112.280388           110.013796   \n2020-09-30 22:01:00+00:00           112.334600           109.906645   \n2020-09-30 22:02:00+00:00           112.362508           109.970932   \n2020-09-30 22:03:00+00:00           112.386061           109.836948   \n2020-09-30 22:04:00+00:00           112.396792           109.966910   \n...                                        ...                  ...   \n2022-01-31 22:55:00+00:00            98.338021           102.332506   \n2022-01-31 22:56:00+00:00            98.362465           102.332450   \n2022-01-31 22:57:00+00:00            98.353221           102.312023   \n2022-01-31 22:58:00+00:00            98.354741           102.336123   \n2022-01-31 22:59:00+00:00            98.336003           102.331086   \n\n                           001fir01310.daca.pv  001fir01311.daca.pv  \\\n2020-09-30 22:00:00+00:00           108.761583           110.604901   \n2020-09-30 22:01:00+00:00           108.879083           110.644046   \n2020-09-30 22:02:00+00:00           108.844765           110.621665   \n2020-09-30 22:03:00+00:00           108.717994           110.464245   \n2020-09-30 22:04:00+00:00           108.978605           110.603660   \n...                                        ...                  ...   \n2022-01-31 22:55:00+00:00           101.967828           100.651891   \n2022-01-31 22:56:00+00:00           101.981035           100.575884   \n2022-01-31 22:57:00+00:00           102.017297           100.621084   \n2022-01-31 22:58:00+00:00           101.967655           100.596174   \n2022-01-31 22:59:00+00:00           101.969703           100.690806   \n\n                           001fir01312.daca.pv  ...  001uxm0rf02.daca.pv  \\\n2020-09-30 22:00:00+00:00           104.500427  ...            92.024078   \n2020-09-30 22:01:00+00:00           104.371977  ...            92.024206   \n2020-09-30 22:02:00+00:00           104.387912  ...            92.024334   \n2020-09-30 22:03:00+00:00           104.418573  ...            92.024462   \n2020-09-30 22:04:00+00:00           104.464328  ...            92.024590   \n...                                        ...  ...                  ...   \n2022-01-31 22:55:00+00:00            97.071359  ...            98.121880   \n2022-01-31 22:56:00+00:00            97.066000  ...            98.121319   \n2022-01-31 22:57:00+00:00            97.223686  ...            98.120757   \n2022-01-31 22:58:00+00:00            97.050953  ...            98.120196   \n2022-01-31 22:59:00+00:00            97.067359  ...            98.119783   \n\n                           001uxm0rf03.daca.pv  037tix00254.daca.pv  \\\n2020-09-30 22:00:00+00:00            92.405281            24.665309   \n2020-09-30 22:01:00+00:00            92.405239            24.663982   \n2020-09-30 22:02:00+00:00            92.405196            24.662656   \n2020-09-30 22:03:00+00:00            92.405153            24.661329   \n2020-09-30 22:04:00+00:00            92.405110            24.660003   \n...                                        ...                  ...   \n2022-01-31 22:55:00+00:00            98.225985            24.460338   \n2022-01-31 22:56:00+00:00            98.226027            24.464324   \n2022-01-31 22:57:00+00:00            98.226070            24.468310   \n2022-01-31 22:58:00+00:00            98.226113            24.472296   \n2022-01-31 22:59:00+00:00            98.226155            24.476282   \n\n                           037tix00264.daca.pv  prazonka_fe  prazonka_s  \\\n2020-09-30 22:00:00+00:00            24.526161         4.48        8.98   \n2020-09-30 22:01:00+00:00            24.526161         4.48        8.98   \n2020-09-30 22:02:00+00:00            24.526161         4.48        8.98   \n2020-09-30 22:03:00+00:00            24.526161         4.48        8.98   \n2020-09-30 22:04:00+00:00            24.525475         4.48        8.98   \n...                                        ...          ...         ...   \n2022-01-31 22:55:00+00:00            24.320295         6.18        8.89   \n2022-01-31 22:56:00+00:00            24.322539         6.18        8.89   \n2022-01-31 22:57:00+00:00            24.324782         6.18        8.89   \n2022-01-31 22:58:00+00:00            24.327025         6.18        8.89   \n2022-01-31 22:59:00+00:00            24.329269         6.18        8.89   \n\n                           prob_corg  prob_fe  prob_s  temp_zuz  \n2020-09-30 22:00:00+00:00        8.6     4.55    9.87    1297.0  \n2020-09-30 22:01:00+00:00        8.6     4.55    9.87       NaN  \n2020-09-30 22:02:00+00:00        8.6     4.55    9.87       NaN  \n2020-09-30 22:03:00+00:00        8.6     4.55    9.87       NaN  \n2020-09-30 22:04:00+00:00        8.6     4.55    9.87       NaN  \n...                              ...      ...     ...       ...  \n2022-01-31 22:55:00+00:00        7.8     6.65   12.47       NaN  \n2022-01-31 22:56:00+00:00        7.8     6.65   12.47       NaN  \n2022-01-31 22:57:00+00:00        7.8     6.65   12.47       NaN  \n2022-01-31 22:58:00+00:00        7.8     6.65   12.47       NaN  \n2022-01-31 22:59:00+00:00        7.8     6.65   12.47       NaN  \n\n[702780 rows x 58 columns]",
      "text/html": "<div>\n<style scoped>\n    .dataframe tbody tr th:only-of-type {\n        vertical-align: middle;\n    }\n\n    .dataframe tbody tr th {\n        vertical-align: top;\n    }\n\n    .dataframe thead th {\n        text-align: right;\n    }\n</style>\n<table border=\"1\" class=\"dataframe\">\n  <thead>\n    <tr style=\"text-align: right;\">\n      <th></th>\n      <th>001fcx00211.pv</th>\n      <th>001fcx00221.pv</th>\n      <th>001fcx00231.pv</th>\n      <th>001fcx00241.pv</th>\n      <th>001fir01307.daca.pv</th>\n      <th>001fir01308.daca.pv</th>\n      <th>001fir01309.daca.pv</th>\n      <th>001fir01310.daca.pv</th>\n      <th>001fir01311.daca.pv</th>\n      <th>001fir01312.daca.pv</th>\n      <th>...</th>\n      <th>001uxm0rf02.daca.pv</th>\n      <th>001uxm0rf03.daca.pv</th>\n      <th>037tix00254.daca.pv</th>\n      <th>037tix00264.daca.pv</th>\n      <th>prazonka_fe</th>\n      <th>prazonka_s</th>\n      <th>prob_corg</th>\n      <th>prob_fe</th>\n      <th>prob_s</th>\n      <th>temp_zuz</th>\n    </tr>\n  </thead>\n  <tbody>\n    <tr>\n      <th>2020-09-30 22:00:00+00:00</th>\n      <td>56.729077</td>\n      <td>54.724422</td>\n      <td>11.966905</td>\n      <td>22.493207</td>\n      <td>108.702362</td>\n      <td>112.280388</td>\n      <td>110.013796</td>\n      <td>108.761583</td>\n      <td>110.604901</td>\n      <td>104.500427</td>\n      <td>...</td>\n      <td>92.024078</td>\n      <td>92.405281</td>\n      <td>24.665309</td>\n      <td>24.526161</td>\n      <td>4.48</td>\n      <td>8.98</td>\n      <td>8.6</td>\n      <td>4.55</td>\n      <td>9.87</td>\n      <td>1297.0</td>\n    </tr>\n    <tr>\n      <th>2020-09-30 22:01:00+00:00</th>\n      <td>54.771942</td>\n      <td>54.734675</td>\n      <td>12.026410</td>\n      <td>22.593412</td>\n      <td>108.846612</td>\n      <td>112.334600</td>\n      <td>109.906645</td>\n      <td>108.879083</td>\n      <td>110.644046</td>\n      <td>104.371977</td>\n      <td>...</td>\n      <td>92.024206</td>\n      <td>92.405239</td>\n      <td>24.663982</td>\n      <td>24.526161</td>\n      <td>4.48</td>\n      <td>8.98</td>\n      <td>8.6</td>\n      <td>4.55</td>\n      <td>9.87</td>\n      <td>NaN</td>\n    </tr>\n    <tr>\n      <th>2020-09-30 22:02:00+00:00</th>\n      <td>54.695816</td>\n      <td>54.774163</td>\n      <td>11.953671</td>\n      <td>22.428933</td>\n      <td>108.827640</td>\n      <td>112.362508</td>\n      <td>109.970932</td>\n      <td>108.844765</td>\n      <td>110.621665</td>\n      <td>104.387912</td>\n      <td>...</td>\n      <td>92.024334</td>\n      <td>92.405196</td>\n      <td>24.662656</td>\n      <td>24.526161</td>\n      <td>4.48</td>\n      <td>8.98</td>\n      <td>8.6</td>\n      <td>4.55</td>\n      <td>9.87</td>\n      <td>NaN</td>\n    </tr>\n    <tr>\n      <th>2020-09-30 22:03:00+00:00</th>\n      <td>54.154394</td>\n      <td>54.985713</td>\n      <td>12.052065</td>\n      <td>22.335388</td>\n      <td>108.623473</td>\n      <td>112.386061</td>\n      <td>109.836948</td>\n      <td>108.717994</td>\n      <td>110.464245</td>\n      <td>104.418573</td>\n      <td>...</td>\n      <td>92.024462</td>\n      <td>92.405153</td>\n      <td>24.661329</td>\n      <td>24.526161</td>\n      <td>4.48</td>\n      <td>8.98</td>\n      <td>8.6</td>\n      <td>4.55</td>\n      <td>9.87</td>\n      <td>NaN</td>\n    </tr>\n    <tr>\n      <th>2020-09-30 22:04:00+00:00</th>\n      <td>54.693184</td>\n      <td>54.490742</td>\n      <td>12.027310</td>\n      <td>22.412620</td>\n      <td>108.746784</td>\n      <td>112.396792</td>\n      <td>109.966910</td>\n      <td>108.978605</td>\n      <td>110.603660</td>\n      <td>104.464328</td>\n      <td>...</td>\n      <td>92.024590</td>\n      <td>92.405110</td>\n      <td>24.660003</td>\n      <td>24.525475</td>\n      <td>4.48</td>\n      <td>8.98</td>\n      <td>8.6</td>\n      <td>4.55</td>\n      <td>9.87</td>\n      <td>NaN</td>\n    </tr>\n    <tr>\n      <th>...</th>\n      <td>...</td>\n      <td>...</td>\n      <td>...</td>\n      <td>...</td>\n      <td>...</td>\n      <td>...</td>\n      <td>...</td>\n      <td>...</td>\n      <td>...</td>\n      <td>...</td>\n      <td>...</td>\n      <td>...</td>\n      <td>...</td>\n      <td>...</td>\n      <td>...</td>\n      <td>...</td>\n      <td>...</td>\n      <td>...</td>\n      <td>...</td>\n      <td>...</td>\n      <td>...</td>\n    </tr>\n    <tr>\n      <th>2022-01-31 22:55:00+00:00</th>\n      <td>57.882366</td>\n      <td>58.080133</td>\n      <td>10.056829</td>\n      <td>30.486496</td>\n      <td>101.111263</td>\n      <td>98.338021</td>\n      <td>102.332506</td>\n      <td>101.967828</td>\n      <td>100.651891</td>\n      <td>97.071359</td>\n      <td>...</td>\n      <td>98.121880</td>\n      <td>98.225985</td>\n      <td>24.460338</td>\n      <td>24.320295</td>\n      <td>6.18</td>\n      <td>8.89</td>\n      <td>7.8</td>\n      <td>6.65</td>\n      <td>12.47</td>\n      <td>NaN</td>\n    </tr>\n    <tr>\n      <th>2022-01-31 22:56:00+00:00</th>\n      <td>57.953225</td>\n      <td>57.931008</td>\n      <td>9.935828</td>\n      <td>29.830075</td>\n      <td>101.034501</td>\n      <td>98.362465</td>\n      <td>102.332450</td>\n      <td>101.981035</td>\n      <td>100.575884</td>\n      <td>97.066000</td>\n      <td>...</td>\n      <td>98.121319</td>\n      <td>98.226027</td>\n      <td>24.464324</td>\n      <td>24.322539</td>\n      <td>6.18</td>\n      <td>8.89</td>\n      <td>7.8</td>\n      <td>6.65</td>\n      <td>12.47</td>\n      <td>NaN</td>\n    </tr>\n    <tr>\n      <th>2022-01-31 22:57:00+00:00</th>\n      <td>58.186232</td>\n      <td>57.291012</td>\n      <td>10.014864</td>\n      <td>29.350514</td>\n      <td>101.251020</td>\n      <td>98.353221</td>\n      <td>102.312023</td>\n      <td>102.017297</td>\n      <td>100.621084</td>\n      <td>97.223686</td>\n      <td>...</td>\n      <td>98.120757</td>\n      <td>98.226070</td>\n      <td>24.468310</td>\n      <td>24.324782</td>\n      <td>6.18</td>\n      <td>8.89</td>\n      <td>7.8</td>\n      <td>6.65</td>\n      <td>12.47</td>\n      <td>NaN</td>\n    </tr>\n    <tr>\n      <th>2022-01-31 22:58:00+00:00</th>\n      <td>59.016838</td>\n      <td>58.014325</td>\n      <td>10.048125</td>\n      <td>29.496899</td>\n      <td>101.073264</td>\n      <td>98.354741</td>\n      <td>102.336123</td>\n      <td>101.967655</td>\n      <td>100.596174</td>\n      <td>97.050953</td>\n      <td>...</td>\n      <td>98.120196</td>\n      <td>98.226113</td>\n      <td>24.472296</td>\n      <td>24.327025</td>\n      <td>6.18</td>\n      <td>8.89</td>\n      <td>7.8</td>\n      <td>6.65</td>\n      <td>12.47</td>\n      <td>NaN</td>\n    </tr>\n    <tr>\n      <th>2022-01-31 22:59:00+00:00</th>\n      <td>57.503406</td>\n      <td>57.757832</td>\n      <td>9.909967</td>\n      <td>29.537882</td>\n      <td>101.171321</td>\n      <td>98.336003</td>\n      <td>102.331086</td>\n      <td>101.969703</td>\n      <td>100.690806</td>\n      <td>97.067359</td>\n      <td>...</td>\n      <td>98.119783</td>\n      <td>98.226155</td>\n      <td>24.476282</td>\n      <td>24.329269</td>\n      <td>6.18</td>\n      <td>8.89</td>\n      <td>7.8</td>\n      <td>6.65</td>\n      <td>12.47</td>\n      <td>NaN</td>\n    </tr>\n  </tbody>\n</table>\n<p>702780 rows × 58 columns</p>\n</div>"
     },
     "execution_count": 168,
     "metadata": {},
     "output_type": "execute_result"
    }
   ],
   "source": [
    "org_df = pd.read_csv(os.path.join(MAIN_PATH, \"data\", \"data.csv\"))\n",
    "org_df = load(org_df)\n",
    "org_df"
   ],
   "metadata": {
    "collapsed": false,
    "pycharm": {
     "name": "#%%\n"
    }
   }
  },
  {
   "cell_type": "code",
   "execution_count": 277,
   "outputs": [],
   "source": [
    "df = pd.DataFrame(index=org_df.index)"
   ],
   "metadata": {
    "collapsed": false,
    "pycharm": {
     "name": "#%%\n"
    }
   }
  },
  {
   "cell_type": "markdown",
   "source": [
    "## Simple features based on correlation"
   ],
   "metadata": {
    "collapsed": false,
    "pycharm": {
     "name": "#%% md\n"
    }
   }
  },
  {
   "cell_type": "code",
   "execution_count": 278,
   "outputs": [],
   "source": [
    "# srednia po 'TEMP POD 2 WARSTWĄ WYMURÓWKI [°C]'\n",
    "TIX1 = org_df.columns[org_df.columns.str.contains('001tix')].values\n",
    "df['TIX1'] = org_df[TIX1].mean(axis='columns')"
   ],
   "metadata": {
    "collapsed": false,
    "pycharm": {
     "name": "#%%\n"
    }
   }
  },
  {
   "cell_type": "code",
   "execution_count": 279,
   "outputs": [],
   "source": [
    "# srednia po 'WODY POWROTNE KOLEKTORÓW [°C]'\n",
    "TIR = org_df.columns[org_df.columns.str.contains('tir')].values\n",
    "df['TIR'] = org_df[TIR].mean(axis='columns')"
   ],
   "metadata": {
    "collapsed": false,
    "pycharm": {
     "name": "#%%\n"
    }
   }
  },
  {
   "cell_type": "code",
   "execution_count": 280,
   "outputs": [],
   "source": [
    "# dodanie reg nadawy koncentratu liw i uśrednienie\n",
    "LIW = org_df.get(['001fcx00211.pv', '001fcx00221.pv'])\n",
    "df['LIW'] = LIW.mean(axis='columns')"
   ],
   "metadata": {
    "collapsed": false,
    "pycharm": {
     "name": "#%%\n"
    }
   }
  },
  {
   "cell_type": "code",
   "execution_count": 281,
   "outputs": [],
   "source": [
    "# dodanie pozostałych reg nadawy\n",
    "df['001fcx00231.pv'] = org_df['001fcx00231.pv']\n",
    "df['001fcx00241.pv'] = org_df['001fcx00241.pv']"
   ],
   "metadata": {
    "collapsed": false,
    "pycharm": {
     "name": "#%%\n"
    }
   }
  },
  {
   "cell_type": "code",
   "execution_count": 282,
   "outputs": [],
   "source": [
    "# sumaryczna moc cieplna\n",
    "NIR = org_df.columns[org_df.columns.str.contains('nir')].values\n",
    "df[NIR] = org_df[NIR]"
   ],
   "metadata": {
    "collapsed": false,
    "pycharm": {
     "name": "#%%\n"
    }
   }
  },
  {
   "cell_type": "code",
   "execution_count": 283,
   "outputs": [],
   "source": [
    "# dodanie temp żużla\n",
    "df[\"TEMP_ZUZ\"] = org_df[\"temp_zuz\"]"
   ],
   "metadata": {
    "collapsed": false,
    "pycharm": {
     "name": "#%%\n"
    }
   }
  },
  {
   "cell_type": "code",
   "execution_count": 284,
   "outputs": [
    {
     "data": {
      "text/plain": "(11377, 7)"
     },
     "execution_count": 284,
     "metadata": {},
     "output_type": "execute_result"
    }
   ],
   "source": [
    "pr_df = df.copy()\n",
    "prw_df = df.copy()\n",
    "df = df.dropna(axis=0)\n",
    "df.shape"
   ],
   "metadata": {
    "collapsed": false,
    "pycharm": {
     "name": "#%%\n"
    }
   }
  },
  {
   "cell_type": "code",
   "execution_count": 285,
   "outputs": [
    {
     "data": {
      "text/plain": "                                 TIX1        TIR        LIW  001fcx00231.pv  \\\n2020-09-30 22:00:00+00:00  418.990965  29.086390  55.726750       11.966905   \n2020-09-30 23:00:00+00:00  418.911544  29.000256  55.318554       11.544775   \n2020-10-01 00:00:00+00:00  418.820059  29.021386  54.830731       11.053689   \n2020-10-01 00:30:00+00:00  418.777284  29.064571  55.112358       10.980221   \n2020-10-01 01:00:00+00:00  418.735368  29.092727  55.378319       11.057164   \n...                               ...        ...        ...             ...   \n2022-01-31 18:00:00+00:00  418.284737  27.694067  59.040197       10.019018   \n2022-01-31 19:00:00+00:00  418.138199  27.760225  58.903828       10.013093   \n2022-01-31 20:00:00+00:00  418.012402  27.761558  59.333633       10.064700   \n2022-01-31 21:00:00+00:00  417.939267  27.704117  58.256581        9.989189   \n2022-01-31 22:00:00+00:00  417.865419  27.812696  57.764675       10.145746   \n\n                           001fcx00241.pv  001nir0szr0.daca.pv  TEMP_ZUZ  \n2020-09-30 22:00:00+00:00       22.493207            14.362428    1297.0  \n2020-09-30 23:00:00+00:00       22.702118            14.978720    1295.0  \n2020-10-01 00:00:00+00:00       20.013150            15.199544    1303.0  \n2020-10-01 00:30:00+00:00       19.902115            14.815123    1302.0  \n2020-10-01 01:00:00+00:00       21.069357            14.617263    1303.0  \n...                                   ...                  ...       ...  \n2022-01-31 18:00:00+00:00       32.147630            15.607105    1300.0  \n2022-01-31 19:00:00+00:00       31.719701            14.846545    1305.0  \n2022-01-31 20:00:00+00:00       30.158128            15.967954    1304.0  \n2022-01-31 21:00:00+00:00       28.000376            16.147269    1308.0  \n2022-01-31 22:00:00+00:00       27.917341            16.379607    1309.0  \n\n[11377 rows x 7 columns]",
      "text/html": "<div>\n<style scoped>\n    .dataframe tbody tr th:only-of-type {\n        vertical-align: middle;\n    }\n\n    .dataframe tbody tr th {\n        vertical-align: top;\n    }\n\n    .dataframe thead th {\n        text-align: right;\n    }\n</style>\n<table border=\"1\" class=\"dataframe\">\n  <thead>\n    <tr style=\"text-align: right;\">\n      <th></th>\n      <th>TIX1</th>\n      <th>TIR</th>\n      <th>LIW</th>\n      <th>001fcx00231.pv</th>\n      <th>001fcx00241.pv</th>\n      <th>001nir0szr0.daca.pv</th>\n      <th>TEMP_ZUZ</th>\n    </tr>\n  </thead>\n  <tbody>\n    <tr>\n      <th>2020-09-30 22:00:00+00:00</th>\n      <td>418.990965</td>\n      <td>29.086390</td>\n      <td>55.726750</td>\n      <td>11.966905</td>\n      <td>22.493207</td>\n      <td>14.362428</td>\n      <td>1297.0</td>\n    </tr>\n    <tr>\n      <th>2020-09-30 23:00:00+00:00</th>\n      <td>418.911544</td>\n      <td>29.000256</td>\n      <td>55.318554</td>\n      <td>11.544775</td>\n      <td>22.702118</td>\n      <td>14.978720</td>\n      <td>1295.0</td>\n    </tr>\n    <tr>\n      <th>2020-10-01 00:00:00+00:00</th>\n      <td>418.820059</td>\n      <td>29.021386</td>\n      <td>54.830731</td>\n      <td>11.053689</td>\n      <td>20.013150</td>\n      <td>15.199544</td>\n      <td>1303.0</td>\n    </tr>\n    <tr>\n      <th>2020-10-01 00:30:00+00:00</th>\n      <td>418.777284</td>\n      <td>29.064571</td>\n      <td>55.112358</td>\n      <td>10.980221</td>\n      <td>19.902115</td>\n      <td>14.815123</td>\n      <td>1302.0</td>\n    </tr>\n    <tr>\n      <th>2020-10-01 01:00:00+00:00</th>\n      <td>418.735368</td>\n      <td>29.092727</td>\n      <td>55.378319</td>\n      <td>11.057164</td>\n      <td>21.069357</td>\n      <td>14.617263</td>\n      <td>1303.0</td>\n    </tr>\n    <tr>\n      <th>...</th>\n      <td>...</td>\n      <td>...</td>\n      <td>...</td>\n      <td>...</td>\n      <td>...</td>\n      <td>...</td>\n      <td>...</td>\n    </tr>\n    <tr>\n      <th>2022-01-31 18:00:00+00:00</th>\n      <td>418.284737</td>\n      <td>27.694067</td>\n      <td>59.040197</td>\n      <td>10.019018</td>\n      <td>32.147630</td>\n      <td>15.607105</td>\n      <td>1300.0</td>\n    </tr>\n    <tr>\n      <th>2022-01-31 19:00:00+00:00</th>\n      <td>418.138199</td>\n      <td>27.760225</td>\n      <td>58.903828</td>\n      <td>10.013093</td>\n      <td>31.719701</td>\n      <td>14.846545</td>\n      <td>1305.0</td>\n    </tr>\n    <tr>\n      <th>2022-01-31 20:00:00+00:00</th>\n      <td>418.012402</td>\n      <td>27.761558</td>\n      <td>59.333633</td>\n      <td>10.064700</td>\n      <td>30.158128</td>\n      <td>15.967954</td>\n      <td>1304.0</td>\n    </tr>\n    <tr>\n      <th>2022-01-31 21:00:00+00:00</th>\n      <td>417.939267</td>\n      <td>27.704117</td>\n      <td>58.256581</td>\n      <td>9.989189</td>\n      <td>28.000376</td>\n      <td>16.147269</td>\n      <td>1308.0</td>\n    </tr>\n    <tr>\n      <th>2022-01-31 22:00:00+00:00</th>\n      <td>417.865419</td>\n      <td>27.812696</td>\n      <td>57.764675</td>\n      <td>10.145746</td>\n      <td>27.917341</td>\n      <td>16.379607</td>\n      <td>1309.0</td>\n    </tr>\n  </tbody>\n</table>\n<p>11377 rows × 7 columns</p>\n</div>"
     },
     "execution_count": 285,
     "metadata": {},
     "output_type": "execute_result"
    }
   ],
   "source": [
    "df"
   ],
   "metadata": {
    "collapsed": false,
    "pycharm": {
     "name": "#%%\n"
    }
   }
  },
  {
   "cell_type": "markdown",
   "source": [
    "## Split data"
   ],
   "metadata": {
    "collapsed": false,
    "pycharm": {
     "name": "#%% md\n"
    }
   }
  },
  {
   "cell_type": "code",
   "execution_count": 286,
   "outputs": [],
   "source": [
    "train, val, test = split(df)"
   ],
   "metadata": {
    "collapsed": false,
    "pycharm": {
     "name": "#%%\n"
    }
   }
  },
  {
   "cell_type": "code",
   "execution_count": 287,
   "outputs": [],
   "source": [
    "X_train, X_val, X_test = train.drop([\"TEMP_ZUZ\"], axis=1), val.drop([\"TEMP_ZUZ\"], axis=1), test.drop([\"TEMP_ZUZ\"], axis=1)\n",
    "y_train, y_val, y_test = train[\"TEMP_ZUZ\"], val[\"TEMP_ZUZ\"], test[\"TEMP_ZUZ\"]"
   ],
   "metadata": {
    "collapsed": false,
    "pycharm": {
     "name": "#%%\n"
    }
   }
  },
  {
   "cell_type": "markdown",
   "source": [
    "## Ridge Regression"
   ],
   "metadata": {
    "collapsed": false,
    "pycharm": {
     "name": "#%% md\n"
    }
   }
  },
  {
   "cell_type": "code",
   "execution_count": 288,
   "outputs": [
    {
     "data": {
      "text/plain": "74.99455470419595"
     },
     "execution_count": 288,
     "metadata": {},
     "output_type": "execute_result"
    }
   ],
   "source": [
    "ridge_model = Pipeline([('normalization', preprocessing.StandardScaler()),\n",
    "                        ('ridge', linear_model.Ridge(alpha=1, solver='cholesky'))])\n",
    "ridge_model.fit(X_train, y_train)\n",
    "metrics.mean_squared_error(y_val, ridge_model.predict(X_val))"
   ],
   "metadata": {
    "collapsed": false,
    "pycharm": {
     "name": "#%%\n"
    }
   }
  },
  {
   "cell_type": "code",
   "execution_count": 326,
   "outputs": [
    {
     "data": {
      "text/plain": "array([1.04742917, 0.30767634, 0.5734355 , 0.42162442, 0.72724903,\n       0.96895008])"
     },
     "execution_count": 326,
     "metadata": {},
     "output_type": "execute_result"
    }
   ],
   "source": [
    "ridge_model.named_steps['ridge'].coef_"
   ],
   "metadata": {
    "collapsed": false,
    "pycharm": {
     "name": "#%%\n"
    }
   }
  },
  {
   "cell_type": "markdown",
   "source": [
    "## Polynomial Regression"
   ],
   "metadata": {
    "collapsed": false,
    "pycharm": {
     "name": "#%% md\n"
    }
   }
  },
  {
   "cell_type": "code",
   "execution_count": 289,
   "outputs": [
    {
     "data": {
      "text/plain": "68.5341466351266"
     },
     "execution_count": 289,
     "metadata": {},
     "output_type": "execute_result"
    }
   ],
   "source": [
    "poly_model = Pipeline([('poly', preprocessing.PolynomialFeatures(degree=2)),\n",
    "                      ('linear', linear_model.LinearRegression(fit_intercept=False))])\n",
    "poly_model = poly_model.fit(X_train, y_train)\n",
    "metrics.mean_squared_error(y_val, poly_model.predict(X_val))"
   ],
   "metadata": {
    "collapsed": false,
    "pycharm": {
     "name": "#%%\n"
    }
   }
  },
  {
   "cell_type": "code",
   "execution_count": 290,
   "outputs": [
    {
     "data": {
      "text/plain": "72.87256470732088"
     },
     "execution_count": 290,
     "metadata": {},
     "output_type": "execute_result"
    }
   ],
   "source": [
    "poly_model2 = Pipeline([('poly', preprocessing.PolynomialFeatures(degree=3)),\n",
    "                      ('linear', linear_model.LinearRegression(fit_intercept=False))])\n",
    "poly_model2 = poly_model2.fit(X_train, y_train)\n",
    "metrics.mean_squared_error(y_val, poly_model2.predict(X_val))"
   ],
   "metadata": {
    "collapsed": false,
    "pycharm": {
     "name": "#%%\n"
    }
   }
  },
  {
   "cell_type": "code",
   "execution_count": 291,
   "outputs": [
    {
     "data": {
      "text/plain": "1698786.9091769422"
     },
     "execution_count": 291,
     "metadata": {},
     "output_type": "execute_result"
    }
   ],
   "source": [
    "poly_model3 = Pipeline([('poly', preprocessing.PolynomialFeatures(degree=3)),\n",
    "                        ('normalization', preprocessing.StandardScaler()),\n",
    "                        ('linear', linear_model.LinearRegression(fit_intercept=False))])\n",
    "poly_model3 = poly_model3.fit(X_train, y_train)\n",
    "metrics.mean_squared_error(y_val, poly_model3.predict(X_val))"
   ],
   "metadata": {
    "collapsed": false,
    "pycharm": {
     "name": "#%%\n"
    }
   }
  },
  {
   "cell_type": "markdown",
   "source": [
    "## SGD Regressor"
   ],
   "metadata": {
    "collapsed": false,
    "pycharm": {
     "name": "#%% md\n"
    }
   }
  },
  {
   "cell_type": "code",
   "execution_count": 292,
   "outputs": [],
   "source": [
    "sgd_model1 = Pipeline([('normalization', preprocessing.StandardScaler()),\n",
    "                      ('sgd', linear_model.SGDRegressor(max_iter=100000, tol=1e-3, penalty='l2', learning_rate='adaptive'))])"
   ],
   "metadata": {
    "collapsed": false,
    "pycharm": {
     "name": "#%%\n"
    }
   }
  },
  {
   "cell_type": "code",
   "execution_count": 293,
   "outputs": [],
   "source": [
    "sgd_model1 = sgd_model1.fit(X_train, y_train)"
   ],
   "metadata": {
    "collapsed": false,
    "pycharm": {
     "name": "#%%\n"
    }
   }
  },
  {
   "cell_type": "code",
   "source": [
    "metrics.mean_squared_error(y_val, sgd_model1.predict(X_val))"
   ],
   "metadata": {
    "collapsed": false,
    "pycharm": {
     "name": "#%%\n"
    }
   },
   "execution_count": 294,
   "outputs": [
    {
     "data": {
      "text/plain": "75.0421514196493"
     },
     "execution_count": 294,
     "metadata": {},
     "output_type": "execute_result"
    }
   ]
  },
  {
   "cell_type": "code",
   "execution_count": 295,
   "outputs": [
    {
     "data": {
      "text/plain": "75.01410573769674"
     },
     "execution_count": 295,
     "metadata": {},
     "output_type": "execute_result"
    }
   ],
   "source": [
    "sgd_model2 = Pipeline([('normalization', preprocessing.StandardScaler()),\n",
    "                      ('sgd', linear_model.SGDRegressor(max_iter=100000, tol=1e-3, penalty='l1', learning_rate='adaptive'))])\n",
    "sgd_model2 = sgd_model2.fit(X_train, y_train)\n",
    "metrics.mean_squared_error(y_val, sgd_model2.predict(X_val))"
   ],
   "metadata": {
    "collapsed": false,
    "pycharm": {
     "name": "#%%\n"
    }
   }
  },
  {
   "cell_type": "code",
   "execution_count": 296,
   "outputs": [
    {
     "data": {
      "text/plain": "3.814191173187635e+17"
     },
     "execution_count": 296,
     "metadata": {},
     "output_type": "execute_result"
    }
   ],
   "source": [
    "sgd_model3 = Pipeline([('sgd', linear_model.SGDRegressor(max_iter=100000, tol=1e-3, penalty='l1', learning_rate='adaptive'))])\n",
    "sgd_model3 = sgd_model3.fit(X_train, y_train)\n",
    "metrics.mean_squared_error(y_val, sgd_model3.predict(X_val))"
   ],
   "metadata": {
    "collapsed": false,
    "pycharm": {
     "name": "#%%\n"
    }
   }
  },
  {
   "cell_type": "markdown",
   "source": [
    "## SGD + Poly Regression"
   ],
   "metadata": {
    "collapsed": false,
    "pycharm": {
     "name": "#%% md\n"
    }
   }
  },
  {
   "cell_type": "code",
   "execution_count": 297,
   "outputs": [
    {
     "data": {
      "text/plain": "68.95916710291037"
     },
     "execution_count": 297,
     "metadata": {},
     "output_type": "execute_result"
    }
   ],
   "source": [
    "sgd_poly_model1 = Pipeline([('poly', preprocessing.PolynomialFeatures(degree=2)),\n",
    "                            ('normalization', preprocessing.StandardScaler()),\n",
    "                            ('sgd', linear_model.SGDRegressor(max_iter=100000, tol=1e-3, penalty='l2', learning_rate='adaptive'))])\n",
    "sgd_poly_model1 = sgd_poly_model1.fit(X_train, y_train)\n",
    "metrics.mean_squared_error(y_val, sgd_poly_model1.predict(X_val))"
   ],
   "metadata": {
    "collapsed": false,
    "pycharm": {
     "name": "#%%\n"
    }
   }
  },
  {
   "cell_type": "code",
   "execution_count": 298,
   "outputs": [
    {
     "data": {
      "text/plain": "67.34987898669688"
     },
     "execution_count": 298,
     "metadata": {},
     "output_type": "execute_result"
    }
   ],
   "source": [
    "sgd_poly_model2 = Pipeline([('poly', preprocessing.PolynomialFeatures(degree=3)),\n",
    "                            ('normalization', preprocessing.StandardScaler()),\n",
    "                            ('sgd', linear_model.SGDRegressor(max_iter=100000, tol=1e-3, penalty='l2', learning_rate='adaptive'))])\n",
    "sgd_poly_model2 = sgd_poly_model1.fit(X_train, y_train)\n",
    "metrics.mean_squared_error(y_val, sgd_poly_model1.predict(X_val))"
   ],
   "metadata": {
    "collapsed": false,
    "pycharm": {
     "name": "#%%\n"
    }
   }
  },
  {
   "cell_type": "code",
   "execution_count": 299,
   "outputs": [
    {
     "data": {
      "text/plain": "68.57640597569322"
     },
     "execution_count": 299,
     "metadata": {},
     "output_type": "execute_result"
    }
   ],
   "source": [
    "sgd_poly_model2 = Pipeline([('poly', preprocessing.PolynomialFeatures(degree=4)),\n",
    "                            ('normalization', preprocessing.StandardScaler()),\n",
    "                            ('sgd', linear_model.SGDRegressor(max_iter=100000, tol=1e-3, penalty='l2', learning_rate='adaptive'))])\n",
    "sgd_poly_model2 = sgd_poly_model1.fit(X_train, y_train)\n",
    "metrics.mean_squared_error(y_val, sgd_poly_model1.predict(X_val))"
   ],
   "metadata": {
    "collapsed": false,
    "pycharm": {
     "name": "#%%\n"
    }
   }
  },
  {
   "cell_type": "markdown",
   "source": [
    "## Poly + Ridge Regression"
   ],
   "metadata": {
    "collapsed": false,
    "pycharm": {
     "name": "#%% md\n"
    }
   }
  },
  {
   "cell_type": "code",
   "execution_count": 300,
   "outputs": [
    {
     "data": {
      "text/plain": "65.14348801187221"
     },
     "execution_count": 300,
     "metadata": {},
     "output_type": "execute_result"
    }
   ],
   "source": [
    "ridge_poly_model1 = Pipeline([('poly', preprocessing.PolynomialFeatures(degree=3)),\n",
    "                            ('normalization', preprocessing.StandardScaler()),\n",
    "                            ('ridge', linear_model.Ridge(alpha=.5, solver='cholesky'))])\n",
    "ridge_poly_model1 = ridge_poly_model1.fit(X_train, y_train)\n",
    "metrics.mean_squared_error(y_val, ridge_poly_model1.predict(X_val))"
   ],
   "metadata": {
    "collapsed": false,
    "pycharm": {
     "name": "#%%\n"
    }
   }
  },
  {
   "cell_type": "code",
   "execution_count": 301,
   "outputs": [
    {
     "data": {
      "text/plain": "array([ 0.00000000e+00,  4.52378443e+00, -3.34639251e+00, -1.46443514e+01,\n        6.54924183e+00,  8.06344187e+00,  7.29393133e+00, -3.45271545e+00,\n        4.62462115e+00,  2.08519068e+00, -3.23196353e+00,  4.90047130e-01,\n        6.26613504e+00, -2.61180529e+00, -9.70093319e+00,  4.45941194e+00,\n        2.44369455e+00,  3.40342934e+00, -1.11089381e+01,  1.85206721e+01,\n        1.15188009e+01, -6.50797412e-01,  6.73237876e+00,  7.63035925e-01,\n       -5.23864705e+00,  7.69326200e+00, -5.01917843e+00, -4.33534167e+00,\n       -1.21203056e+01,  3.01603696e+00,  1.97802970e+01, -1.08569431e+01,\n       -5.92569424e+00,  4.03401360e+00,  3.09834758e+00,  9.82259281e+00,\n       -5.03100070e+00, -4.78530247e+00,  2.97508501e+00, -2.55675742e+00,\n        5.96010352e+00,  3.19669564e+00,  5.51093237e+00, -2.93086124e+00,\n       -3.45176572e+00, -5.78871389e+00, -5.22350002e+00, -1.11626106e+01,\n       -8.85109585e+00, -4.71657526e-02, -4.47745189e+00,  4.87795036e+00,\n        4.49671914e-01, -2.93349657e-01, -1.42901368e+01,  1.75503946e+01,\n        5.56126484e+00,  1.93798614e+00, -2.52332546e+00, -6.40032241e+00,\n       -7.71471911e+00,  2.80479983e+00, -8.40238419e+00, -3.55009413e+00,\n        6.61016048e+00,  1.64020631e+01,  1.85542898e+00, -3.37750499e+00,\n       -8.63388924e+00, -2.16435965e+01, -1.78037343e+01, -3.52746066e+00,\n       -1.48675557e-02,  1.16493972e+01,  1.14040391e+00,  1.06986350e+00,\n       -1.67409265e+00, -3.04459176e+00,  2.14522304e+01,  2.95234690e+00,\n       -3.12248076e+00,  1.80168653e+00,  4.55139969e+00, -5.32848887e+00])"
     },
     "execution_count": 301,
     "metadata": {},
     "output_type": "execute_result"
    }
   ],
   "source": [
    "ridge_poly_model1.named_steps[\"ridge\"].coef_"
   ],
   "metadata": {
    "collapsed": false,
    "pycharm": {
     "name": "#%%\n"
    }
   }
  },
  {
   "cell_type": "code",
   "execution_count": 302,
   "outputs": [
    {
     "data": {
      "text/plain": "67.42240253383534"
     },
     "execution_count": 302,
     "metadata": {},
     "output_type": "execute_result"
    }
   ],
   "source": [
    "ridge_poly_model2 = Pipeline([('poly', preprocessing.PolynomialFeatures(degree=3)),\n",
    "                            ('normalization', preprocessing.StandardScaler()),\n",
    "                            ('ridge', linear_model.Ridge(alpha=.5, solver='saga'))])\n",
    "ridge_poly_model2 = ridge_poly_model2.fit(X_train, y_train)\n",
    "metrics.mean_squared_error(y_val, ridge_poly_model2.predict(X_val))"
   ],
   "metadata": {
    "collapsed": false,
    "pycharm": {
     "name": "#%%\n"
    }
   }
  },
  {
   "cell_type": "code",
   "execution_count": 303,
   "outputs": [
    {
     "data": {
      "text/plain": "66.0606248077321"
     },
     "execution_count": 303,
     "metadata": {},
     "output_type": "execute_result"
    }
   ],
   "source": [
    "ridge_poly_model3 = Pipeline([('poly', preprocessing.PolynomialFeatures(degree=4)),\n",
    "                            ('normalization', preprocessing.StandardScaler()),\n",
    "                            ('ridge', linear_model.Ridge(alpha=.5, solver='saga'))])\n",
    "ridge_poly_model3 = ridge_poly_model3.fit(X_train, y_train)\n",
    "metrics.mean_squared_error(y_val, ridge_poly_model3.predict(X_val))"
   ],
   "metadata": {
    "collapsed": false,
    "pycharm": {
     "name": "#%%\n"
    }
   }
  },
  {
   "cell_type": "code",
   "execution_count": 304,
   "outputs": [
    {
     "data": {
      "text/plain": "65.56136931059262"
     },
     "execution_count": 304,
     "metadata": {},
     "output_type": "execute_result"
    }
   ],
   "source": [
    "ridge_poly_model4 = Pipeline([('poly', preprocessing.PolynomialFeatures(degree=5)),\n",
    "                            ('normalization', preprocessing.StandardScaler()),\n",
    "                            ('ridge', linear_model.Ridge(alpha=1, solver='saga'))])\n",
    "ridge_poly_model4 = ridge_poly_model4.fit(X_train, y_train)\n",
    "metrics.mean_squared_error(y_val, ridge_poly_model4.predict(X_val))"
   ],
   "metadata": {
    "collapsed": false,
    "pycharm": {
     "name": "#%%\n"
    }
   }
  },
  {
   "cell_type": "markdown",
   "source": [
    "## Spline + Ridge Regression"
   ],
   "metadata": {
    "collapsed": false,
    "pycharm": {
     "name": "#%% md\n"
    }
   }
  },
  {
   "cell_type": "code",
   "execution_count": 305,
   "outputs": [
    {
     "data": {
      "text/plain": "63.21317123812843"
     },
     "execution_count": 305,
     "metadata": {},
     "output_type": "execute_result"
    }
   ],
   "source": [
    "ridge_spline_model1 = Pipeline([('spline', preprocessing.SplineTransformer(n_knots=3)),\n",
    "                            ('normalization', preprocessing.StandardScaler()),\n",
    "                            ('ridge', linear_model.Ridge(alpha=.5, solver='svd'))])\n",
    "ridge_spline_model1 = ridge_spline_model1.fit(X_train, y_train)\n",
    "metrics.mean_squared_error(y_val, ridge_spline_model1.predict(X_val))"
   ],
   "metadata": {
    "collapsed": false,
    "pycharm": {
     "name": "#%%\n"
    }
   }
  },
  {
   "cell_type": "code",
   "execution_count": 306,
   "outputs": [
    {
     "data": {
      "text/plain": "64.7297476479715"
     },
     "execution_count": 306,
     "metadata": {},
     "output_type": "execute_result"
    }
   ],
   "source": [
    "ridge_spline_model2 = Pipeline([('spline', preprocessing.SplineTransformer(n_knots=3, knots='quantile')),\n",
    "                            ('normalization', preprocessing.StandardScaler()),\n",
    "                            ('ridge', linear_model.Ridge(alpha=.5, solver='svd'))])\n",
    "ridge_spline_model2 = ridge_spline_model2.fit(X_train, y_train)\n",
    "metrics.mean_squared_error(y_val, ridge_spline_model2.predict(X_val))"
   ],
   "metadata": {
    "collapsed": false,
    "pycharm": {
     "name": "#%%\n"
    }
   }
  },
  {
   "cell_type": "markdown",
   "source": [
    "## ElasticNet Regression"
   ],
   "metadata": {
    "collapsed": false,
    "pycharm": {
     "name": "#%% md\n"
    }
   }
  },
  {
   "cell_type": "code",
   "execution_count": 307,
   "outputs": [
    {
     "data": {
      "text/plain": "79.39085001063494"
     },
     "execution_count": 307,
     "metadata": {},
     "output_type": "execute_result"
    }
   ],
   "source": [
    "elastic_model1 = Pipeline([('normalization', preprocessing.StandardScaler()),\n",
    "                           ('elasitc', linear_model.ElasticNet(max_iter=10000))])\n",
    "elastic_model1 = elastic_model1.fit(X_train, y_train)\n",
    "metrics.mean_squared_error(y_val, elastic_model1.predict(X_val))"
   ],
   "metadata": {
    "collapsed": false,
    "pycharm": {
     "name": "#%%\n"
    }
   }
  },
  {
   "cell_type": "code",
   "execution_count": 308,
   "outputs": [
    {
     "data": {
      "text/plain": "77.63034965431582"
     },
     "execution_count": 308,
     "metadata": {},
     "output_type": "execute_result"
    }
   ],
   "source": [
    "elastic_model2 = Pipeline([('poly', preprocessing.PolynomialFeatures(degree=4)),\n",
    "                           ('normalization', preprocessing.StandardScaler()),\n",
    "                           ('elasitc', linear_model.ElasticNet(max_iter=10000))])\n",
    "elastic_model2 = elastic_model2.fit(X_train, y_train)\n",
    "metrics.mean_squared_error(y_val, elastic_model2.predict(X_val))"
   ],
   "metadata": {
    "collapsed": false,
    "pycharm": {
     "name": "#%%\n"
    }
   }
  },
  {
   "cell_type": "markdown",
   "source": [
    "## Bayessian Regression"
   ],
   "metadata": {
    "collapsed": false,
    "pycharm": {
     "name": "#%% md\n"
    }
   }
  },
  {
   "cell_type": "code",
   "execution_count": 309,
   "outputs": [
    {
     "data": {
      "text/plain": "75.01047167885115"
     },
     "execution_count": 309,
     "metadata": {},
     "output_type": "execute_result"
    }
   ],
   "source": [
    "bay_model = Pipeline([('normalization', preprocessing.StandardScaler()),\n",
    "                        ('bayessian', linear_model.BayesianRidge(n_iter=1000))])\n",
    "bay_model = bay_model.fit(X_train, y_train)\n",
    "metrics.mean_squared_error(y_val, bay_model.predict(X_val))"
   ],
   "metadata": {
    "collapsed": false,
    "pycharm": {
     "name": "#%%\n"
    }
   }
  },
  {
   "cell_type": "code",
   "execution_count": 310,
   "outputs": [
    {
     "name": "stdout",
     "output_type": "stream",
     "text": [
      "Convergence after  78  iterations\n"
     ]
    },
    {
     "data": {
      "text/plain": "63.72758658722974"
     },
     "execution_count": 310,
     "metadata": {},
     "output_type": "execute_result"
    }
   ],
   "source": [
    "bay_poly_model = Pipeline([('poly', preprocessing.PolynomialFeatures(degree=3, interaction_only=True)),\n",
    "                           ('normalization', preprocessing.StandardScaler()),\n",
    "                            ('bayessian', linear_model.BayesianRidge(n_iter=1000, verbose=True, tol=1e-5))])\n",
    "bay_poly_model = bay_poly_model.fit(X_train, y_train)\n",
    "metrics.mean_squared_error(y_val, bay_poly_model.predict(X_val))"
   ],
   "metadata": {
    "collapsed": false,
    "pycharm": {
     "name": "#%%\n"
    }
   }
  },
  {
   "cell_type": "code",
   "execution_count": 311,
   "outputs": [
    {
     "data": {
      "text/plain": "array([ 1.10902839e-11, -2.49349616e+01, -2.08381609e+01, -4.04711376e+01,\n        1.22114798e+02, -3.01994000e+01,  4.95694392e+00,  3.17067357e+01,\n        4.41584024e+01, -5.48520705e+01,  5.11932567e+01,  3.18330943e+01,\n       -1.68196412e+02,  7.48579398e+01,  8.30916371e+01,  1.71717939e+01,\n        1.70133791e+02,  9.45279874e+01,  1.43650482e+02, -1.58501506e+02,\n       -2.42984038e+02, -1.10989518e+02,  1.54157811e+02, -1.43054055e+02,\n       -9.05412684e+01, -4.34770432e+01, -2.29866841e+02, -8.46941092e+01,\n       -1.41321665e+02,  1.65937394e+02,  2.19222222e+02,  7.05655899e+01,\n        9.31638599e+01, -1.11421647e+01, -5.71040696e+00, -3.13959432e+01,\n        2.37653244e+01,  2.12961193e+01, -2.09361380e+00, -2.19510870e+01,\n        8.82647646e+00,  1.64476518e+01])"
     },
     "execution_count": 311,
     "metadata": {},
     "output_type": "execute_result"
    }
   ],
   "source": [
    "bay_poly_model.named_steps[\"bayessian\"].coef_"
   ],
   "metadata": {
    "collapsed": false,
    "pycharm": {
     "name": "#%%\n"
    }
   }
  },
  {
   "cell_type": "markdown",
   "source": [
    "# Using all features, without average"
   ],
   "metadata": {
    "collapsed": false,
    "pycharm": {
     "name": "#%% md\n"
    }
   }
  },
  {
   "cell_type": "markdown",
   "source": [
    "### Split data"
   ],
   "metadata": {
    "collapsed": false,
    "pycharm": {
     "name": "#%% md\n"
    }
   }
  },
  {
   "cell_type": "code",
   "execution_count": 90,
   "outputs": [
    {
     "data": {
      "text/plain": "                           001fcx00211.pv  001fcx00221.pv  001fcx00231.pv  \\\n2020-09-30 22:00:00+00:00       56.729077       54.724422       11.966905   \n2020-09-30 23:00:00+00:00       55.309363       55.327746       11.544775   \n2020-10-01 00:00:00+00:00       54.703949       54.957514       11.053689   \n2020-10-01 00:30:00+00:00       55.000000       55.224717       10.980221   \n2020-10-01 01:00:00+00:00       55.886746       54.869892       11.057164   \n...                                   ...             ...             ...   \n2022-01-31 18:00:00+00:00       59.180029       58.900365       10.019018   \n2022-01-31 19:00:00+00:00       58.895968       58.911688       10.013093   \n2022-01-31 20:00:00+00:00       59.073501       59.593765       10.064700   \n2022-01-31 21:00:00+00:00       57.774647       58.738514        9.989189   \n2022-01-31 22:00:00+00:00       57.771875       57.757476       10.145746   \n\n                           001fcx00241.pv  001fir01307.daca.pv  \\\n2020-09-30 22:00:00+00:00       22.493207           108.702362   \n2020-09-30 23:00:00+00:00       22.702118           108.378922   \n2020-10-01 00:00:00+00:00       20.013150           109.861116   \n2020-10-01 00:30:00+00:00       19.902115           109.585113   \n2020-10-01 01:00:00+00:00       21.069357           109.757104   \n...                                   ...                  ...   \n2022-01-31 18:00:00+00:00       32.147630           103.049852   \n2022-01-31 19:00:00+00:00       31.719701           102.570421   \n2022-01-31 20:00:00+00:00       30.158128           102.197750   \n2022-01-31 21:00:00+00:00       28.000376           102.266821   \n2022-01-31 22:00:00+00:00       27.917341           101.391429   \n\n                           001fir01308.daca.pv  001fir01309.daca.pv  \\\n2020-09-30 22:00:00+00:00           112.280388           110.013796   \n2020-09-30 23:00:00+00:00           112.237887           109.862477   \n2020-10-01 00:00:00+00:00           112.517942           110.237388   \n2020-10-01 00:30:00+00:00           112.805842           110.151395   \n2020-10-01 01:00:00+00:00           112.602264           110.165194   \n...                                        ...                  ...   \n2022-01-31 18:00:00+00:00            98.548160           102.593229   \n2022-01-31 19:00:00+00:00            98.549435           102.571353   \n2022-01-31 20:00:00+00:00            98.577139           102.375469   \n2022-01-31 21:00:00+00:00            98.477571           102.374577   \n2022-01-31 22:00:00+00:00            98.412132           102.289610   \n\n                           001fir01310.daca.pv  001fir01311.daca.pv  \\\n2020-09-30 22:00:00+00:00           108.761583           110.604901   \n2020-09-30 23:00:00+00:00           109.128895           110.520359   \n2020-10-01 00:00:00+00:00           109.214988           110.434876   \n2020-10-01 00:30:00+00:00           108.958777           110.694621   \n2020-10-01 01:00:00+00:00           109.178997           110.596014   \n...                                        ...                  ...   \n2022-01-31 18:00:00+00:00           102.306346           100.762990   \n2022-01-31 19:00:00+00:00           102.108130           100.757045   \n2022-01-31 20:00:00+00:00           102.194845           100.746604   \n2022-01-31 21:00:00+00:00           102.107050           100.649014   \n2022-01-31 22:00:00+00:00           101.947733           100.557962   \n\n                           001fir01312.daca.pv  ...  001uxm0rf02.daca.pv  \\\n2020-09-30 22:00:00+00:00           104.500427  ...            92.024078   \n2020-09-30 23:00:00+00:00           104.410075  ...            92.033540   \n2020-10-01 00:00:00+00:00           104.657074  ...            92.056562   \n2020-10-01 00:30:00+00:00           104.680675  ...            92.068073   \n2020-10-01 01:00:00+00:00           104.695973  ...            92.076607   \n...                                        ...  ...                  ...   \n2022-01-31 18:00:00+00:00            97.234765  ...            98.130381   \n2022-01-31 19:00:00+00:00            97.183075  ...            98.131138   \n2022-01-31 20:00:00+00:00            97.138241  ...            98.130569   \n2022-01-31 21:00:00+00:00            97.129910  ...            98.130687   \n2022-01-31 22:00:00+00:00            97.115218  ...            98.125026   \n\n                           001uxm0rf03.daca.pv  037tix00254.daca.pv  \\\n2020-09-30 22:00:00+00:00            92.405281            24.665309   \n2020-09-30 23:00:00+00:00            92.402722            24.585718   \n2020-10-01 00:00:00+00:00            92.400504            24.564115   \n2020-10-01 00:30:00+00:00            92.403063            24.610243   \n2020-10-01 01:00:00+00:00            92.405623            24.605002   \n...                                        ...                  ...   \n2022-01-31 18:00:00+00:00            98.257987            24.401280   \n2022-01-31 19:00:00+00:00            98.234942            24.301374   \n2022-01-31 20:00:00+00:00            98.218519            24.326187   \n2022-01-31 21:00:00+00:00            98.221079            24.290438   \n2022-01-31 22:00:00+00:00            98.223638            24.343936   \n\n                           037tix00264.daca.pv  prazonka_fe  prazonka_s  \\\n2020-09-30 22:00:00+00:00            24.526161         4.48        8.98   \n2020-09-30 23:00:00+00:00            24.448561         4.48        8.98   \n2020-10-01 00:00:00+00:00            24.484372         4.48        8.98   \n2020-10-01 00:30:00+00:00            24.517869         4.48        8.98   \n2020-10-01 01:00:00+00:00            24.488603         4.30        7.84   \n...                                        ...          ...         ...   \n2022-01-31 18:00:00+00:00            24.226479         6.38        9.12   \n2022-01-31 19:00:00+00:00            24.145683         6.38        9.12   \n2022-01-31 20:00:00+00:00            24.222134         6.38        9.12   \n2022-01-31 21:00:00+00:00            24.144540         6.38        9.12   \n2022-01-31 22:00:00+00:00            24.183542         6.18        8.89   \n\n                           prob_corg  prob_fe  prob_s  temp_zuz  \n2020-09-30 22:00:00+00:00       8.60     4.55    9.87    1297.0  \n2020-09-30 23:00:00+00:00       8.60     4.55    9.87    1295.0  \n2020-10-01 00:00:00+00:00       8.60     4.55    9.87    1303.0  \n2020-10-01 00:30:00+00:00       8.60     4.55    9.87    1302.0  \n2020-10-01 01:00:00+00:00       8.61     4.58    9.74    1303.0  \n...                              ...      ...     ...       ...  \n2022-01-31 18:00:00+00:00       7.74     6.06   11.26    1300.0  \n2022-01-31 19:00:00+00:00       7.74     6.06   11.26    1305.0  \n2022-01-31 20:00:00+00:00       7.74     6.06   11.26    1304.0  \n2022-01-31 21:00:00+00:00       7.74     6.06   11.26    1308.0  \n2022-01-31 22:00:00+00:00       7.80     6.65   12.47    1309.0  \n\n[11377 rows x 58 columns]",
      "text/html": "<div>\n<style scoped>\n    .dataframe tbody tr th:only-of-type {\n        vertical-align: middle;\n    }\n\n    .dataframe tbody tr th {\n        vertical-align: top;\n    }\n\n    .dataframe thead th {\n        text-align: right;\n    }\n</style>\n<table border=\"1\" class=\"dataframe\">\n  <thead>\n    <tr style=\"text-align: right;\">\n      <th></th>\n      <th>001fcx00211.pv</th>\n      <th>001fcx00221.pv</th>\n      <th>001fcx00231.pv</th>\n      <th>001fcx00241.pv</th>\n      <th>001fir01307.daca.pv</th>\n      <th>001fir01308.daca.pv</th>\n      <th>001fir01309.daca.pv</th>\n      <th>001fir01310.daca.pv</th>\n      <th>001fir01311.daca.pv</th>\n      <th>001fir01312.daca.pv</th>\n      <th>...</th>\n      <th>001uxm0rf02.daca.pv</th>\n      <th>001uxm0rf03.daca.pv</th>\n      <th>037tix00254.daca.pv</th>\n      <th>037tix00264.daca.pv</th>\n      <th>prazonka_fe</th>\n      <th>prazonka_s</th>\n      <th>prob_corg</th>\n      <th>prob_fe</th>\n      <th>prob_s</th>\n      <th>temp_zuz</th>\n    </tr>\n  </thead>\n  <tbody>\n    <tr>\n      <th>2020-09-30 22:00:00+00:00</th>\n      <td>56.729077</td>\n      <td>54.724422</td>\n      <td>11.966905</td>\n      <td>22.493207</td>\n      <td>108.702362</td>\n      <td>112.280388</td>\n      <td>110.013796</td>\n      <td>108.761583</td>\n      <td>110.604901</td>\n      <td>104.500427</td>\n      <td>...</td>\n      <td>92.024078</td>\n      <td>92.405281</td>\n      <td>24.665309</td>\n      <td>24.526161</td>\n      <td>4.48</td>\n      <td>8.98</td>\n      <td>8.60</td>\n      <td>4.55</td>\n      <td>9.87</td>\n      <td>1297.0</td>\n    </tr>\n    <tr>\n      <th>2020-09-30 23:00:00+00:00</th>\n      <td>55.309363</td>\n      <td>55.327746</td>\n      <td>11.544775</td>\n      <td>22.702118</td>\n      <td>108.378922</td>\n      <td>112.237887</td>\n      <td>109.862477</td>\n      <td>109.128895</td>\n      <td>110.520359</td>\n      <td>104.410075</td>\n      <td>...</td>\n      <td>92.033540</td>\n      <td>92.402722</td>\n      <td>24.585718</td>\n      <td>24.448561</td>\n      <td>4.48</td>\n      <td>8.98</td>\n      <td>8.60</td>\n      <td>4.55</td>\n      <td>9.87</td>\n      <td>1295.0</td>\n    </tr>\n    <tr>\n      <th>2020-10-01 00:00:00+00:00</th>\n      <td>54.703949</td>\n      <td>54.957514</td>\n      <td>11.053689</td>\n      <td>20.013150</td>\n      <td>109.861116</td>\n      <td>112.517942</td>\n      <td>110.237388</td>\n      <td>109.214988</td>\n      <td>110.434876</td>\n      <td>104.657074</td>\n      <td>...</td>\n      <td>92.056562</td>\n      <td>92.400504</td>\n      <td>24.564115</td>\n      <td>24.484372</td>\n      <td>4.48</td>\n      <td>8.98</td>\n      <td>8.60</td>\n      <td>4.55</td>\n      <td>9.87</td>\n      <td>1303.0</td>\n    </tr>\n    <tr>\n      <th>2020-10-01 00:30:00+00:00</th>\n      <td>55.000000</td>\n      <td>55.224717</td>\n      <td>10.980221</td>\n      <td>19.902115</td>\n      <td>109.585113</td>\n      <td>112.805842</td>\n      <td>110.151395</td>\n      <td>108.958777</td>\n      <td>110.694621</td>\n      <td>104.680675</td>\n      <td>...</td>\n      <td>92.068073</td>\n      <td>92.403063</td>\n      <td>24.610243</td>\n      <td>24.517869</td>\n      <td>4.48</td>\n      <td>8.98</td>\n      <td>8.60</td>\n      <td>4.55</td>\n      <td>9.87</td>\n      <td>1302.0</td>\n    </tr>\n    <tr>\n      <th>2020-10-01 01:00:00+00:00</th>\n      <td>55.886746</td>\n      <td>54.869892</td>\n      <td>11.057164</td>\n      <td>21.069357</td>\n      <td>109.757104</td>\n      <td>112.602264</td>\n      <td>110.165194</td>\n      <td>109.178997</td>\n      <td>110.596014</td>\n      <td>104.695973</td>\n      <td>...</td>\n      <td>92.076607</td>\n      <td>92.405623</td>\n      <td>24.605002</td>\n      <td>24.488603</td>\n      <td>4.30</td>\n      <td>7.84</td>\n      <td>8.61</td>\n      <td>4.58</td>\n      <td>9.74</td>\n      <td>1303.0</td>\n    </tr>\n    <tr>\n      <th>...</th>\n      <td>...</td>\n      <td>...</td>\n      <td>...</td>\n      <td>...</td>\n      <td>...</td>\n      <td>...</td>\n      <td>...</td>\n      <td>...</td>\n      <td>...</td>\n      <td>...</td>\n      <td>...</td>\n      <td>...</td>\n      <td>...</td>\n      <td>...</td>\n      <td>...</td>\n      <td>...</td>\n      <td>...</td>\n      <td>...</td>\n      <td>...</td>\n      <td>...</td>\n      <td>...</td>\n    </tr>\n    <tr>\n      <th>2022-01-31 18:00:00+00:00</th>\n      <td>59.180029</td>\n      <td>58.900365</td>\n      <td>10.019018</td>\n      <td>32.147630</td>\n      <td>103.049852</td>\n      <td>98.548160</td>\n      <td>102.593229</td>\n      <td>102.306346</td>\n      <td>100.762990</td>\n      <td>97.234765</td>\n      <td>...</td>\n      <td>98.130381</td>\n      <td>98.257987</td>\n      <td>24.401280</td>\n      <td>24.226479</td>\n      <td>6.38</td>\n      <td>9.12</td>\n      <td>7.74</td>\n      <td>6.06</td>\n      <td>11.26</td>\n      <td>1300.0</td>\n    </tr>\n    <tr>\n      <th>2022-01-31 19:00:00+00:00</th>\n      <td>58.895968</td>\n      <td>58.911688</td>\n      <td>10.013093</td>\n      <td>31.719701</td>\n      <td>102.570421</td>\n      <td>98.549435</td>\n      <td>102.571353</td>\n      <td>102.108130</td>\n      <td>100.757045</td>\n      <td>97.183075</td>\n      <td>...</td>\n      <td>98.131138</td>\n      <td>98.234942</td>\n      <td>24.301374</td>\n      <td>24.145683</td>\n      <td>6.38</td>\n      <td>9.12</td>\n      <td>7.74</td>\n      <td>6.06</td>\n      <td>11.26</td>\n      <td>1305.0</td>\n    </tr>\n    <tr>\n      <th>2022-01-31 20:00:00+00:00</th>\n      <td>59.073501</td>\n      <td>59.593765</td>\n      <td>10.064700</td>\n      <td>30.158128</td>\n      <td>102.197750</td>\n      <td>98.577139</td>\n      <td>102.375469</td>\n      <td>102.194845</td>\n      <td>100.746604</td>\n      <td>97.138241</td>\n      <td>...</td>\n      <td>98.130569</td>\n      <td>98.218519</td>\n      <td>24.326187</td>\n      <td>24.222134</td>\n      <td>6.38</td>\n      <td>9.12</td>\n      <td>7.74</td>\n      <td>6.06</td>\n      <td>11.26</td>\n      <td>1304.0</td>\n    </tr>\n    <tr>\n      <th>2022-01-31 21:00:00+00:00</th>\n      <td>57.774647</td>\n      <td>58.738514</td>\n      <td>9.989189</td>\n      <td>28.000376</td>\n      <td>102.266821</td>\n      <td>98.477571</td>\n      <td>102.374577</td>\n      <td>102.107050</td>\n      <td>100.649014</td>\n      <td>97.129910</td>\n      <td>...</td>\n      <td>98.130687</td>\n      <td>98.221079</td>\n      <td>24.290438</td>\n      <td>24.144540</td>\n      <td>6.38</td>\n      <td>9.12</td>\n      <td>7.74</td>\n      <td>6.06</td>\n      <td>11.26</td>\n      <td>1308.0</td>\n    </tr>\n    <tr>\n      <th>2022-01-31 22:00:00+00:00</th>\n      <td>57.771875</td>\n      <td>57.757476</td>\n      <td>10.145746</td>\n      <td>27.917341</td>\n      <td>101.391429</td>\n      <td>98.412132</td>\n      <td>102.289610</td>\n      <td>101.947733</td>\n      <td>100.557962</td>\n      <td>97.115218</td>\n      <td>...</td>\n      <td>98.125026</td>\n      <td>98.223638</td>\n      <td>24.343936</td>\n      <td>24.183542</td>\n      <td>6.18</td>\n      <td>8.89</td>\n      <td>7.80</td>\n      <td>6.65</td>\n      <td>12.47</td>\n      <td>1309.0</td>\n    </tr>\n  </tbody>\n</table>\n<p>11377 rows × 58 columns</p>\n</div>"
     },
     "execution_count": 90,
     "metadata": {},
     "output_type": "execute_result"
    }
   ],
   "source": [
    "all_df = org_df.dropna()\n",
    "all_df"
   ],
   "metadata": {
    "collapsed": false,
    "pycharm": {
     "name": "#%%\n"
    }
   }
  },
  {
   "cell_type": "code",
   "execution_count": 91,
   "outputs": [],
   "source": [
    "train_a, val_a, test_a = split(all_df)"
   ],
   "metadata": {
    "collapsed": false,
    "pycharm": {
     "name": "#%%\n"
    }
   }
  },
  {
   "cell_type": "code",
   "execution_count": 92,
   "outputs": [],
   "source": [
    "X_train_a, X_val_a, X_test_a = train_a.drop([\"temp_zuz\"], axis=1), val_a.drop([\"temp_zuz\"], axis=1), test_a.drop([\"temp_zuz\"], axis=1)\n",
    "y_train_a, y_val_a, y_test_a = train_a[\"temp_zuz\"], val_a[\"temp_zuz\"], test_a[\"temp_zuz\"]"
   ],
   "metadata": {
    "collapsed": false,
    "pycharm": {
     "name": "#%%\n"
    }
   }
  },
  {
   "cell_type": "markdown",
   "source": [
    "### Polynomial Regression"
   ],
   "metadata": {
    "collapsed": false,
    "pycharm": {
     "name": "#%% md\n"
    }
   }
  },
  {
   "cell_type": "code",
   "execution_count": 93,
   "outputs": [
    {
     "data": {
      "text/plain": "3668115.416767741"
     },
     "execution_count": 93,
     "metadata": {},
     "output_type": "execute_result"
    }
   ],
   "source": [
    "poly_model_all = Pipeline([('poly', preprocessing.PolynomialFeatures(degree=2)),\n",
    "                          ('linear', linear_model.LinearRegression(fit_intercept=False))])\n",
    "poly_model_all = poly_model_all.fit(X_train_a, y_train_a)\n",
    "metrics.mean_squared_error(y_val_a, poly_model_all.predict(X_val_a))"
   ],
   "metadata": {
    "collapsed": false,
    "pycharm": {
     "name": "#%%\n"
    }
   }
  },
  {
   "cell_type": "markdown",
   "source": [
    "### Poly + SGD Regression"
   ],
   "metadata": {
    "collapsed": false,
    "pycharm": {
     "name": "#%% md\n"
    }
   }
  },
  {
   "cell_type": "code",
   "execution_count": 94,
   "outputs": [
    {
     "data": {
      "text/plain": "6.053012405180626e+21"
     },
     "execution_count": 94,
     "metadata": {},
     "output_type": "execute_result"
    }
   ],
   "source": [
    "sgd_poly_model_all = Pipeline([('poly', preprocessing.PolynomialFeatures(degree=2)),\n",
    "                            ('normalization', preprocessing.StandardScaler()),\n",
    "                            ('sgd', linear_model.SGDRegressor(max_iter=100000, tol=1e-3, penalty='elasticnet', learning_rate='adaptive'))])\n",
    "sgd_poly_model_all = sgd_poly_model_all.fit(X_train_a, y_train_a)\n",
    "metrics.mean_squared_error(y_val_a, sgd_poly_model_all.predict(X_val_a))"
   ],
   "metadata": {
    "collapsed": false,
    "pycharm": {
     "name": "#%%\n"
    }
   }
  },
  {
   "cell_type": "markdown",
   "source": [
    "Wniosek: zdecydowanie nie chcemy brać wszystkich feauterów"
   ],
   "metadata": {
    "collapsed": false,
    "pycharm": {
     "name": "#%% md\n"
    }
   }
  },
  {
   "cell_type": "markdown",
   "source": [
    "# Adding PR to features"
   ],
   "metadata": {
    "collapsed": false,
    "pycharm": {
     "name": "#%% md\n"
    }
   }
  },
  {
   "cell_type": "code",
   "execution_count": 312,
   "outputs": [],
   "source": [
    "# wrzucam o prażonkach i prob\n",
    "PR = org_df.columns[org_df.columns.str.contains('pr')].values\n",
    "pr_df[PR] = org_df[PR]"
   ],
   "metadata": {
    "collapsed": false,
    "pycharm": {
     "name": "#%%\n"
    }
   }
  },
  {
   "cell_type": "code",
   "execution_count": 313,
   "outputs": [],
   "source": [
    "# split data\n",
    "pr_df = pr_df.dropna(axis=0)\n",
    "train, val, test = split(pr_df)\n",
    "X_train, X_val, X_test = train.drop([\"TEMP_ZUZ\"], axis=1), val.drop([\"TEMP_ZUZ\"], axis=1), test.drop([\"TEMP_ZUZ\"], axis=1)\n",
    "y_train, y_val, y_test = train[\"TEMP_ZUZ\"], val[\"TEMP_ZUZ\"], test[\"TEMP_ZUZ\"]"
   ],
   "metadata": {
    "collapsed": false,
    "pycharm": {
     "name": "#%%\n"
    }
   }
  },
  {
   "cell_type": "markdown",
   "source": [
    "X_train"
   ],
   "metadata": {
    "collapsed": false,
    "pycharm": {
     "name": "#%% md\n"
    }
   }
  },
  {
   "cell_type": "code",
   "execution_count": 314,
   "outputs": [
    {
     "data": {
      "text/plain": "2020-09-30 22:00:00+00:00    1297.0\n2020-09-30 23:00:00+00:00    1295.0\n2020-10-01 00:00:00+00:00    1303.0\n2020-10-01 00:30:00+00:00    1302.0\n2020-10-01 01:00:00+00:00    1303.0\n                              ...  \n2021-09-05 20:00:00+00:00    1306.0\n2021-09-05 21:00:00+00:00    1303.0\n2021-09-05 22:00:00+00:00    1301.0\n2021-09-05 23:00:00+00:00    1304.0\n2021-09-06 00:00:00+00:00    1306.0\nName: TEMP_ZUZ, Length: 7963, dtype: float64"
     },
     "execution_count": 314,
     "metadata": {},
     "output_type": "execute_result"
    }
   ],
   "source": [
    "y_train"
   ],
   "metadata": {
    "collapsed": false,
    "pycharm": {
     "name": "#%%\n"
    }
   }
  },
  {
   "cell_type": "markdown",
   "source": [
    "### Poly + SGD Regression"
   ],
   "metadata": {
    "collapsed": false,
    "pycharm": {
     "name": "#%% md\n"
    }
   }
  },
  {
   "cell_type": "code",
   "execution_count": 315,
   "outputs": [
    {
     "data": {
      "text/plain": "94.25600288606293"
     },
     "execution_count": 315,
     "metadata": {},
     "output_type": "execute_result"
    }
   ],
   "source": [
    "sgd_poly_model_pr = Pipeline([('poly', preprocessing.PolynomialFeatures(degree=2)),\n",
    "                            ('normalization', preprocessing.StandardScaler()),\n",
    "                            ('sgd', linear_model.SGDRegressor(max_iter=100000, tol=1e-3, penalty='l2', learning_rate='adaptive'))])\n",
    "sgd_poly_model_pr = sgd_poly_model_pr.fit(X_train, y_train)\n",
    "metrics.mean_squared_error(y_val, sgd_poly_model_pr.predict(X_val))"
   ],
   "metadata": {
    "collapsed": false,
    "pycharm": {
     "name": "#%%\n"
    }
   }
  },
  {
   "cell_type": "code",
   "execution_count": 316,
   "outputs": [
    {
     "data": {
      "text/plain": "array([  0.        ,  -3.10613098,   0.30544907,  11.08469911,\n         7.13402769,  11.24981217,   7.37633354,   4.29377554,\n         1.48101844,   8.60200021,   4.81222876,  -5.0078236 ,\n        -8.57638121,  10.96059648,  12.36970553,  -5.59630135,\n        -1.93962344,  10.19524644,  -2.28892481,   3.80005669,\n         8.1086176 ,   1.83468592,  -1.15824709,  -7.52129456,\n        -4.94580548,  10.82970587,  -4.67746896,   2.73090886,\n        -6.48474231,  -2.54818013,  -7.1349323 ,  13.68647583,\n         1.02622193, -11.16532513,  17.17525192,   8.75462355,\n        14.81431277,  -1.67325248,   4.64417534, -22.94270281,\n       -15.48630106,  13.72568428,  -5.25806877,  -6.30521415,\n       -17.1470121 ,   6.73134894,   2.16096639, -17.93743213,\n        -3.70379152,  14.09304809,  -0.92586856,  -8.65846471,\n        -3.07615467,  -0.6261515 , -11.55718184,  -7.16447792,\n        17.80279701, -14.1305293 ,   1.42814811,   3.81161773,\n        -6.85721205, -11.12887326,   5.59373276,   5.78529211,\n        -2.99259155,  10.61119503,   0.77120868,  -8.05410525,\n        -8.05839928,  -0.17690172,   0.15843742,   1.84565833,\n         5.99963415,  -9.60860504,  -6.81612369,   5.72637279,\n         4.23053743,  -0.27670368])"
     },
     "execution_count": 316,
     "metadata": {},
     "output_type": "execute_result"
    }
   ],
   "source": [
    "sgd_poly_model_pr.named_steps[\"sgd\"].coef_"
   ],
   "metadata": {
    "collapsed": false,
    "pycharm": {
     "name": "#%%\n"
    }
   }
  },
  {
   "cell_type": "markdown",
   "source": [
    "### SGD Regression"
   ],
   "metadata": {
    "collapsed": false,
    "pycharm": {
     "name": "#%% md\n"
    }
   }
  },
  {
   "cell_type": "code",
   "execution_count": 317,
   "outputs": [
    {
     "data": {
      "text/plain": "78.15621104536906"
     },
     "execution_count": 317,
     "metadata": {},
     "output_type": "execute_result"
    }
   ],
   "source": [
    "sgd_model_pr = Pipeline([('normalization', preprocessing.StandardScaler()),\n",
    "                       ('sgd', linear_model.SGDRegressor(max_iter=100000, tol=1e-3, penalty='l2', learning_rate='adaptive'))])\n",
    "sgd_model_pr = sgd_model_pr.fit(X_train, y_train)\n",
    "metrics.mean_squared_error(y_val, sgd_model_pr.predict(X_val))"
   ],
   "metadata": {
    "collapsed": false,
    "pycharm": {
     "name": "#%%\n"
    }
   }
  },
  {
   "cell_type": "code",
   "execution_count": 318,
   "outputs": [
    {
     "data": {
      "text/plain": "array([ 1.08162723,  0.37484071,  0.87534352,  0.31390239,  0.55041121,\n        0.67919064,  0.10870552, -0.05558672,  0.30574434,  0.06184773,\n        0.49825389])"
     },
     "execution_count": 318,
     "metadata": {},
     "output_type": "execute_result"
    }
   ],
   "source": [
    "sgd_model_pr.named_steps[\"sgd\"].coef_"
   ],
   "metadata": {
    "collapsed": false,
    "pycharm": {
     "name": "#%%\n"
    }
   }
  },
  {
   "cell_type": "markdown",
   "source": [
    "### Poly + Ridge Regression"
   ],
   "metadata": {
    "collapsed": false,
    "pycharm": {
     "name": "#%% md\n"
    }
   }
  },
  {
   "cell_type": "code",
   "execution_count": 319,
   "outputs": [
    {
     "data": {
      "text/plain": "79.30627179608496"
     },
     "execution_count": 319,
     "metadata": {},
     "output_type": "execute_result"
    }
   ],
   "source": [
    "ridge_poly_model_pr = Pipeline([('poly', preprocessing.PolynomialFeatures(degree=3)),\n",
    "                            ('normalization', preprocessing.StandardScaler()),\n",
    "                            ('ridge', linear_model.Ridge(alpha=.5, solver='sag'))])\n",
    "ridge_poly_model_pr = ridge_poly_model_pr.fit(X_train, y_train)\n",
    "metrics.mean_squared_error(y_val, ridge_poly_model_pr.predict(X_val))"
   ],
   "metadata": {
    "collapsed": false,
    "pycharm": {
     "name": "#%%\n"
    }
   }
  },
  {
   "cell_type": "code",
   "execution_count": 100,
   "outputs": [
    {
     "data": {
      "text/plain": "77.6476214726276"
     },
     "execution_count": 100,
     "metadata": {},
     "output_type": "execute_result"
    }
   ],
   "source": [
    "ridge_poly_model_pr1 = Pipeline([('poly', preprocessing.PolynomialFeatures(degree=3)),\n",
    "                            ('normalization', preprocessing.StandardScaler()),\n",
    "                            ('ridge', linear_model.Ridge(alpha=.5, solver='svd'))])\n",
    "ridge_poly_model_pr1 = ridge_poly_model_pr1.fit(X_train, y_train)\n",
    "metrics.mean_squared_error(y_val, ridge_poly_model_pr1.predict(X_val))"
   ],
   "metadata": {
    "collapsed": false,
    "pycharm": {
     "name": "#%%\n"
    }
   }
  },
  {
   "cell_type": "code",
   "execution_count": 103,
   "outputs": [
    {
     "data": {
      "text/plain": "79.4660965356888"
     },
     "execution_count": 103,
     "metadata": {},
     "output_type": "execute_result"
    }
   ],
   "source": [
    "ridge_poly_model_pr2 = Pipeline([('poly', preprocessing.PolynomialFeatures(degree=3)),\n",
    "                            ('normalization', preprocessing.StandardScaler()),\n",
    "                            ('ridge', linear_model.Ridge(alpha=.5, solver='saga'))])\n",
    "ridge_poly_model_pr2 = ridge_poly_model_pr2.fit(X_train, y_train)\n",
    "metrics.mean_squared_error(y_val, ridge_poly_model_pr2.predict(X_val))"
   ],
   "metadata": {
    "collapsed": false,
    "pycharm": {
     "name": "#%%\n"
    }
   }
  },
  {
   "cell_type": "markdown",
   "source": [
    "### Ridge Regression"
   ],
   "metadata": {
    "collapsed": false,
    "pycharm": {
     "name": "#%% md\n"
    }
   }
  },
  {
   "cell_type": "code",
   "execution_count": 104,
   "outputs": [
    {
     "data": {
      "text/plain": "78.15592482417102"
     },
     "execution_count": 104,
     "metadata": {},
     "output_type": "execute_result"
    }
   ],
   "source": [
    "ridge_model_pr1 = Pipeline([('normalization', preprocessing.StandardScaler()),\n",
    "                            ('ridge', linear_model.Ridge(alpha=1, solver='cholesky'))])\n",
    "ridge_model_pr1 = ridge_model_pr1.fit(X_train, y_train)\n",
    "metrics.mean_squared_error(y_val, ridge_model_pr1.predict(X_val))"
   ],
   "metadata": {
    "collapsed": false,
    "pycharm": {
     "name": "#%%\n"
    }
   }
  },
  {
   "cell_type": "code",
   "execution_count": 167,
   "outputs": [
    {
     "data": {
      "text/plain": "array([ 1.08209998,  0.3691561 , -0.7964524 ,  1.66777108,  0.25955482,\n        0.68953828,  0.60649385,  0.07767323, -0.0602534 ,  0.30672109,\n        0.08191634,  0.52413647])"
     },
     "execution_count": 167,
     "metadata": {},
     "output_type": "execute_result"
    }
   ],
   "source": [
    "ridge_model_pr1.named_steps[\"ridge\"].coef_"
   ],
   "metadata": {
    "collapsed": false,
    "pycharm": {
     "name": "#%%\n"
    }
   }
  },
  {
   "cell_type": "code",
   "execution_count": 105,
   "outputs": [
    {
     "data": {
      "text/plain": "78.15381925985238"
     },
     "execution_count": 105,
     "metadata": {},
     "output_type": "execute_result"
    }
   ],
   "source": [
    "ridge_model_pr2 = Pipeline([('normalization', preprocessing.StandardScaler()),\n",
    "                            ('ridge', linear_model.Ridge(alpha=1, solver='sag'))])\n",
    "ridge_model_pr2 = ridge_model_pr2.fit(X_train, y_train)\n",
    "metrics.mean_squared_error(y_val, ridge_model_pr2.predict(X_val))"
   ],
   "metadata": {
    "collapsed": false,
    "pycharm": {
     "name": "#%%\n"
    }
   }
  },
  {
   "cell_type": "code",
   "execution_count": 106,
   "outputs": [
    {
     "data": {
      "text/plain": "78.15592482417102"
     },
     "execution_count": 106,
     "metadata": {},
     "output_type": "execute_result"
    }
   ],
   "source": [
    "ridge_model_pr3 = Pipeline([('normalization', preprocessing.StandardScaler()),\n",
    "                            ('ridge', linear_model.Ridge(alpha=1, solver='svd'))])\n",
    "ridge_model_pr3 = ridge_model_pr3.fit(X_train, y_train)\n",
    "metrics.mean_squared_error(y_val, ridge_model_pr3.predict(X_val))"
   ],
   "metadata": {
    "collapsed": false,
    "pycharm": {
     "name": "#%%\n"
    }
   }
  },
  {
   "cell_type": "markdown",
   "source": [
    "# Add pr, wentylatory i moc cieplną"
   ],
   "metadata": {
    "collapsed": false,
    "pycharm": {
     "name": "#%% md\n"
    }
   }
  },
  {
   "cell_type": "code",
   "execution_count": 327,
   "outputs": [],
   "source": [
    "# wrzucam o prażonkach i prob\n",
    "PR = org_df.columns[org_df.columns.str.contains('pr')].values\n",
    "prw_df[PR] = org_df[PR]"
   ],
   "metadata": {
    "collapsed": false,
    "pycharm": {
     "name": "#%%\n"
    }
   }
  },
  {
   "cell_type": "code",
   "execution_count": 328,
   "outputs": [],
   "source": [
    "# wentylatory + uśrednienie\n",
    "UXM = org_df.columns[org_df.columns.str.contains('uxm')].values\n",
    "prw_df['UXM'] = org_df[UXM].mean(axis='columns')"
   ],
   "metadata": {
    "collapsed": false,
    "pycharm": {
     "name": "#%%\n"
    }
   }
  },
  {
   "cell_type": "code",
   "execution_count": 329,
   "outputs": [],
   "source": [
    "# dodać moc cieplną\n",
    "NIR = org_df.columns[org_df.columns.str.contains('nir')].values\n",
    "prw_df[NIR] = org_df[NIR]"
   ],
   "metadata": {
    "collapsed": false,
    "pycharm": {
     "name": "#%%\n"
    }
   }
  },
  {
   "cell_type": "code",
   "execution_count": 330,
   "outputs": [],
   "source": [
    "# dodać temp na kol\n",
    "TXI = org_df.columns[org_df.columns.str.contains('txi')].values\n",
    "prw_df[TXI] = org_df[TXI]"
   ],
   "metadata": {
    "collapsed": false,
    "pycharm": {
     "name": "#%%\n"
    }
   }
  },
  {
   "cell_type": "code",
   "execution_count": 331,
   "outputs": [],
   "source": [
    "# woda chłodząca\n",
    "FIR = org_df.columns[org_df.columns.str.contains('fir')].values\n",
    "prw_df['FIR'] = org_df[FIR].mean(axis='columns')"
   ],
   "metadata": {
    "collapsed": false,
    "pycharm": {
     "name": "#%%\n"
    }
   }
  },
  {
   "cell_type": "code",
   "execution_count": 332,
   "outputs": [
    {
     "data": {
      "text/plain": "                                 TIX1        TIR        LIW  001fcx00231.pv  \\\n2020-09-30 22:00:00+00:00  418.990965  29.086390  55.726750       11.966905   \n2020-09-30 22:01:00+00:00  418.990059  29.087996  54.753309       12.026410   \n2020-09-30 22:02:00+00:00  418.989153  29.094825  54.734990       11.953671   \n2020-09-30 22:03:00+00:00  418.988247  29.098936  54.570053       12.052065   \n2020-09-30 22:04:00+00:00  418.987341  29.096812  54.591963       12.027310   \n...                               ...        ...        ...             ...   \n2022-01-31 22:55:00+00:00  417.800499  27.868889  57.981250       10.056829   \n2022-01-31 22:56:00+00:00  417.799414  27.868535  57.942117        9.935828   \n2022-01-31 22:57:00+00:00  417.798330  27.859336  57.738622       10.014864   \n2022-01-31 22:58:00+00:00  417.797246  27.857374  58.515581       10.048125   \n2022-01-31 22:59:00+00:00  417.796162  27.862650  57.630619        9.909967   \n\n                           001fcx00241.pv  001nir0szr0.daca.pv  TEMP_ZUZ  \\\n2020-09-30 22:00:00+00:00       22.493207            14.362428    1297.0   \n2020-09-30 22:01:00+00:00       22.593412            14.381825       NaN   \n2020-09-30 22:02:00+00:00       22.428933            14.359413       NaN   \n2020-09-30 22:03:00+00:00       22.335388            14.353036       NaN   \n2020-09-30 22:04:00+00:00       22.412620            14.392053       NaN   \n...                                   ...                  ...       ...   \n2022-01-31 22:55:00+00:00       30.486496            18.381908       NaN   \n2022-01-31 22:56:00+00:00       29.830075            18.224828       NaN   \n2022-01-31 22:57:00+00:00       29.350514            18.105621       NaN   \n2022-01-31 22:58:00+00:00       29.496899            17.976463       NaN   \n2022-01-31 22:59:00+00:00       29.537882            17.847946       NaN   \n\n                           prazonka_fe  prazonka_s  prob_corg  prob_fe  \\\n2020-09-30 22:00:00+00:00         4.48        8.98        8.6     4.55   \n2020-09-30 22:01:00+00:00         4.48        8.98        8.6     4.55   \n2020-09-30 22:02:00+00:00         4.48        8.98        8.6     4.55   \n2020-09-30 22:03:00+00:00         4.48        8.98        8.6     4.55   \n2020-09-30 22:04:00+00:00         4.48        8.98        8.6     4.55   \n...                                ...         ...        ...      ...   \n2022-01-31 22:55:00+00:00         6.18        8.89        7.8     6.65   \n2022-01-31 22:56:00+00:00         6.18        8.89        7.8     6.65   \n2022-01-31 22:57:00+00:00         6.18        8.89        7.8     6.65   \n2022-01-31 22:58:00+00:00         6.18        8.89        7.8     6.65   \n2022-01-31 22:59:00+00:00         6.18        8.89        7.8     6.65   \n\n                           prob_s        UXM  001txi01153.daca.pv  \\\n2020-09-30 22:00:00+00:00    9.87  92.173271            19.126427   \n2020-09-30 22:01:00+00:00    9.87  92.173326            19.125526   \n2020-09-30 22:02:00+00:00    9.87  92.173381            19.124626   \n2020-09-30 22:03:00+00:00    9.87  92.173436            19.123726   \n2020-09-30 22:04:00+00:00    9.87  92.173490            19.122826   \n...                           ...        ...                  ...   \n2022-01-31 22:55:00+00:00   12.47  98.121336             9.249736   \n2022-01-31 22:56:00+00:00   12.47  98.121163             9.238108   \n2022-01-31 22:57:00+00:00   12.47  98.120990             9.226480   \n2022-01-31 22:58:00+00:00   12.47  98.120817             9.214853   \n2022-01-31 22:59:00+00:00   12.47  98.120694             9.203225   \n\n                           001txi01154.daca.pv         FIR  \n2020-09-30 22:00:00+00:00            19.929581  113.360791  \n2020-09-30 22:01:00+00:00            19.942439  113.354389  \n2020-09-30 22:02:00+00:00            19.919802  113.383070  \n2020-09-30 22:03:00+00:00            19.861671  113.281268  \n2020-09-30 22:04:00+00:00            19.803541  113.380821  \n...                                        ...         ...  \n2022-01-31 22:55:00+00:00             9.702534  104.704581  \n2022-01-31 22:56:00+00:00             9.698717  104.694446  \n2022-01-31 22:57:00+00:00             9.694900  104.756259  \n2022-01-31 22:58:00+00:00             9.691082  104.692785  \n2022-01-31 22:59:00+00:00             9.687265  104.731416  \n\n[702780 rows x 16 columns]",
      "text/html": "<div>\n<style scoped>\n    .dataframe tbody tr th:only-of-type {\n        vertical-align: middle;\n    }\n\n    .dataframe tbody tr th {\n        vertical-align: top;\n    }\n\n    .dataframe thead th {\n        text-align: right;\n    }\n</style>\n<table border=\"1\" class=\"dataframe\">\n  <thead>\n    <tr style=\"text-align: right;\">\n      <th></th>\n      <th>TIX1</th>\n      <th>TIR</th>\n      <th>LIW</th>\n      <th>001fcx00231.pv</th>\n      <th>001fcx00241.pv</th>\n      <th>001nir0szr0.daca.pv</th>\n      <th>TEMP_ZUZ</th>\n      <th>prazonka_fe</th>\n      <th>prazonka_s</th>\n      <th>prob_corg</th>\n      <th>prob_fe</th>\n      <th>prob_s</th>\n      <th>UXM</th>\n      <th>001txi01153.daca.pv</th>\n      <th>001txi01154.daca.pv</th>\n      <th>FIR</th>\n    </tr>\n  </thead>\n  <tbody>\n    <tr>\n      <th>2020-09-30 22:00:00+00:00</th>\n      <td>418.990965</td>\n      <td>29.086390</td>\n      <td>55.726750</td>\n      <td>11.966905</td>\n      <td>22.493207</td>\n      <td>14.362428</td>\n      <td>1297.0</td>\n      <td>4.48</td>\n      <td>8.98</td>\n      <td>8.6</td>\n      <td>4.55</td>\n      <td>9.87</td>\n      <td>92.173271</td>\n      <td>19.126427</td>\n      <td>19.929581</td>\n      <td>113.360791</td>\n    </tr>\n    <tr>\n      <th>2020-09-30 22:01:00+00:00</th>\n      <td>418.990059</td>\n      <td>29.087996</td>\n      <td>54.753309</td>\n      <td>12.026410</td>\n      <td>22.593412</td>\n      <td>14.381825</td>\n      <td>NaN</td>\n      <td>4.48</td>\n      <td>8.98</td>\n      <td>8.6</td>\n      <td>4.55</td>\n      <td>9.87</td>\n      <td>92.173326</td>\n      <td>19.125526</td>\n      <td>19.942439</td>\n      <td>113.354389</td>\n    </tr>\n    <tr>\n      <th>2020-09-30 22:02:00+00:00</th>\n      <td>418.989153</td>\n      <td>29.094825</td>\n      <td>54.734990</td>\n      <td>11.953671</td>\n      <td>22.428933</td>\n      <td>14.359413</td>\n      <td>NaN</td>\n      <td>4.48</td>\n      <td>8.98</td>\n      <td>8.6</td>\n      <td>4.55</td>\n      <td>9.87</td>\n      <td>92.173381</td>\n      <td>19.124626</td>\n      <td>19.919802</td>\n      <td>113.383070</td>\n    </tr>\n    <tr>\n      <th>2020-09-30 22:03:00+00:00</th>\n      <td>418.988247</td>\n      <td>29.098936</td>\n      <td>54.570053</td>\n      <td>12.052065</td>\n      <td>22.335388</td>\n      <td>14.353036</td>\n      <td>NaN</td>\n      <td>4.48</td>\n      <td>8.98</td>\n      <td>8.6</td>\n      <td>4.55</td>\n      <td>9.87</td>\n      <td>92.173436</td>\n      <td>19.123726</td>\n      <td>19.861671</td>\n      <td>113.281268</td>\n    </tr>\n    <tr>\n      <th>2020-09-30 22:04:00+00:00</th>\n      <td>418.987341</td>\n      <td>29.096812</td>\n      <td>54.591963</td>\n      <td>12.027310</td>\n      <td>22.412620</td>\n      <td>14.392053</td>\n      <td>NaN</td>\n      <td>4.48</td>\n      <td>8.98</td>\n      <td>8.6</td>\n      <td>4.55</td>\n      <td>9.87</td>\n      <td>92.173490</td>\n      <td>19.122826</td>\n      <td>19.803541</td>\n      <td>113.380821</td>\n    </tr>\n    <tr>\n      <th>...</th>\n      <td>...</td>\n      <td>...</td>\n      <td>...</td>\n      <td>...</td>\n      <td>...</td>\n      <td>...</td>\n      <td>...</td>\n      <td>...</td>\n      <td>...</td>\n      <td>...</td>\n      <td>...</td>\n      <td>...</td>\n      <td>...</td>\n      <td>...</td>\n      <td>...</td>\n      <td>...</td>\n    </tr>\n    <tr>\n      <th>2022-01-31 22:55:00+00:00</th>\n      <td>417.800499</td>\n      <td>27.868889</td>\n      <td>57.981250</td>\n      <td>10.056829</td>\n      <td>30.486496</td>\n      <td>18.381908</td>\n      <td>NaN</td>\n      <td>6.18</td>\n      <td>8.89</td>\n      <td>7.8</td>\n      <td>6.65</td>\n      <td>12.47</td>\n      <td>98.121336</td>\n      <td>9.249736</td>\n      <td>9.702534</td>\n      <td>104.704581</td>\n    </tr>\n    <tr>\n      <th>2022-01-31 22:56:00+00:00</th>\n      <td>417.799414</td>\n      <td>27.868535</td>\n      <td>57.942117</td>\n      <td>9.935828</td>\n      <td>29.830075</td>\n      <td>18.224828</td>\n      <td>NaN</td>\n      <td>6.18</td>\n      <td>8.89</td>\n      <td>7.8</td>\n      <td>6.65</td>\n      <td>12.47</td>\n      <td>98.121163</td>\n      <td>9.238108</td>\n      <td>9.698717</td>\n      <td>104.694446</td>\n    </tr>\n    <tr>\n      <th>2022-01-31 22:57:00+00:00</th>\n      <td>417.798330</td>\n      <td>27.859336</td>\n      <td>57.738622</td>\n      <td>10.014864</td>\n      <td>29.350514</td>\n      <td>18.105621</td>\n      <td>NaN</td>\n      <td>6.18</td>\n      <td>8.89</td>\n      <td>7.8</td>\n      <td>6.65</td>\n      <td>12.47</td>\n      <td>98.120990</td>\n      <td>9.226480</td>\n      <td>9.694900</td>\n      <td>104.756259</td>\n    </tr>\n    <tr>\n      <th>2022-01-31 22:58:00+00:00</th>\n      <td>417.797246</td>\n      <td>27.857374</td>\n      <td>58.515581</td>\n      <td>10.048125</td>\n      <td>29.496899</td>\n      <td>17.976463</td>\n      <td>NaN</td>\n      <td>6.18</td>\n      <td>8.89</td>\n      <td>7.8</td>\n      <td>6.65</td>\n      <td>12.47</td>\n      <td>98.120817</td>\n      <td>9.214853</td>\n      <td>9.691082</td>\n      <td>104.692785</td>\n    </tr>\n    <tr>\n      <th>2022-01-31 22:59:00+00:00</th>\n      <td>417.796162</td>\n      <td>27.862650</td>\n      <td>57.630619</td>\n      <td>9.909967</td>\n      <td>29.537882</td>\n      <td>17.847946</td>\n      <td>NaN</td>\n      <td>6.18</td>\n      <td>8.89</td>\n      <td>7.8</td>\n      <td>6.65</td>\n      <td>12.47</td>\n      <td>98.120694</td>\n      <td>9.203225</td>\n      <td>9.687265</td>\n      <td>104.731416</td>\n    </tr>\n  </tbody>\n</table>\n<p>702780 rows × 16 columns</p>\n</div>"
     },
     "execution_count": 332,
     "metadata": {},
     "output_type": "execute_result"
    }
   ],
   "source": [
    "prw_df"
   ],
   "metadata": {
    "collapsed": false,
    "pycharm": {
     "name": "#%%\n"
    }
   }
  },
  {
   "cell_type": "code",
   "execution_count": 333,
   "outputs": [
    {
     "name": "stdout",
     "output_type": "stream",
     "text": [
      "(7963, 16)\n"
     ]
    }
   ],
   "source": [
    "# split data\n",
    "prw_df = prw_df.dropna(axis=0)\n",
    "train, val, test = split(prw_df)\n",
    "print(train.shape)\n",
    "X_train, X_val, X_test = train.drop([\"TEMP_ZUZ\"], axis=1), val.drop([\"TEMP_ZUZ\"], axis=1), test.drop([\"TEMP_ZUZ\"], axis=1)\n",
    "y_train, y_val, y_test = train[\"TEMP_ZUZ\"], val[\"TEMP_ZUZ\"], test[\"TEMP_ZUZ\"]"
   ],
   "metadata": {
    "collapsed": false,
    "pycharm": {
     "name": "#%%\n"
    }
   }
  },
  {
   "cell_type": "code",
   "execution_count": 334,
   "outputs": [
    {
     "data": {
      "text/plain": "                                 TIX1        TIR        LIW  001fcx00231.pv  \\\n2020-09-30 22:00:00+00:00  418.990965  29.086390  55.726750       11.966905   \n2020-09-30 23:00:00+00:00  418.911544  29.000256  55.318554       11.544775   \n2020-10-01 00:00:00+00:00  418.820059  29.021386  54.830731       11.053689   \n2020-10-01 00:30:00+00:00  418.777284  29.064571  55.112358       10.980221   \n2020-10-01 01:00:00+00:00  418.735368  29.092727  55.378319       11.057164   \n...                               ...        ...        ...             ...   \n2021-09-05 20:00:00+00:00  427.223464  27.474773  54.550562        4.938091   \n2021-09-05 21:00:00+00:00  426.885975  27.742631  54.896322        4.930626   \n2021-09-05 22:00:00+00:00  426.514867  27.705729  55.738373        4.994519   \n2021-09-05 23:00:00+00:00  426.142533  27.594741  56.957987        4.999296   \n2021-09-06 00:00:00+00:00  425.765029  27.379872  57.681323        4.923448   \n\n                           001fcx00241.pv  001nir0szr0.daca.pv  prazonka_fe  \\\n2020-09-30 22:00:00+00:00       22.493207            14.362428         4.48   \n2020-09-30 23:00:00+00:00       22.702118            14.978720         4.48   \n2020-10-01 00:00:00+00:00       20.013150            15.199544         4.48   \n2020-10-01 00:30:00+00:00       19.902115            14.815123         4.48   \n2020-10-01 01:00:00+00:00       21.069357            14.617263         4.30   \n...                                   ...                  ...          ...   \n2021-09-05 20:00:00+00:00       24.345593            22.548988         4.11   \n2021-09-05 21:00:00+00:00       26.030218            23.326609         4.72   \n2021-09-05 22:00:00+00:00       25.914533            21.962930         4.72   \n2021-09-05 23:00:00+00:00       24.831633            21.440236         4.72   \n2021-09-06 00:00:00+00:00       24.850467            24.665253         4.72   \n\n                           prazonka_s  prob_corg  prob_fe  prob_s        UXM  \\\n2020-09-30 22:00:00+00:00        8.98       8.60     4.55    9.87  92.173271   \n2020-09-30 23:00:00+00:00        8.98       8.60     4.55    9.87  92.188524   \n2020-10-01 00:00:00+00:00        8.98       8.60     4.55    9.87  92.187308   \n2020-10-01 00:30:00+00:00        8.98       8.60     4.55    9.87  92.195284   \n2020-10-01 01:00:00+00:00        7.84       8.61     4.58    9.74  92.191375   \n...                               ...        ...      ...     ...        ...   \n2021-09-05 20:00:00+00:00        4.74       8.48     5.54   11.24  97.272127   \n2021-09-05 21:00:00+00:00        7.72       8.64     5.58   11.40  97.277412   \n2021-09-05 22:00:00+00:00        7.72       8.64     5.58   11.40  97.270984   \n2021-09-05 23:00:00+00:00        7.72       8.64     5.58   11.40  97.266249   \n2021-09-06 00:00:00+00:00        7.72       8.64     5.58   11.40  97.258531   \n\n                           001txi01153.daca.pv  001txi01154.daca.pv  \\\n2020-09-30 22:00:00+00:00            19.126427            19.929581   \n2020-09-30 23:00:00+00:00            18.885216            19.536727   \n2020-10-01 00:00:00+00:00            18.612499            19.254154   \n2020-10-01 00:30:00+00:00            18.455667            19.196964   \n2020-10-01 01:00:00+00:00            18.075895            18.785391   \n...                                        ...                  ...   \n2021-09-05 20:00:00+00:00            20.054366            20.598770   \n2021-09-05 21:00:00+00:00            19.182281            19.653056   \n2021-09-05 22:00:00+00:00            18.364518            18.825136   \n2021-09-05 23:00:00+00:00            17.437377            17.925498   \n2021-09-06 00:00:00+00:00            16.561949            17.055188   \n\n                                  FIR  \n2020-09-30 22:00:00+00:00  113.360791  \n2020-09-30 23:00:00+00:00  113.300487  \n2020-10-01 00:00:00+00:00  113.658312  \n2020-10-01 00:30:00+00:00  113.649439  \n2020-10-01 01:00:00+00:00  113.667926  \n...                               ...  \n2021-09-05 20:00:00+00:00  112.817374  \n2021-09-05 21:00:00+00:00  112.822626  \n2021-09-05 22:00:00+00:00  112.711963  \n2021-09-05 23:00:00+00:00  112.996533  \n2021-09-06 00:00:00+00:00  112.983346  \n\n[7963 rows x 15 columns]",
      "text/html": "<div>\n<style scoped>\n    .dataframe tbody tr th:only-of-type {\n        vertical-align: middle;\n    }\n\n    .dataframe tbody tr th {\n        vertical-align: top;\n    }\n\n    .dataframe thead th {\n        text-align: right;\n    }\n</style>\n<table border=\"1\" class=\"dataframe\">\n  <thead>\n    <tr style=\"text-align: right;\">\n      <th></th>\n      <th>TIX1</th>\n      <th>TIR</th>\n      <th>LIW</th>\n      <th>001fcx00231.pv</th>\n      <th>001fcx00241.pv</th>\n      <th>001nir0szr0.daca.pv</th>\n      <th>prazonka_fe</th>\n      <th>prazonka_s</th>\n      <th>prob_corg</th>\n      <th>prob_fe</th>\n      <th>prob_s</th>\n      <th>UXM</th>\n      <th>001txi01153.daca.pv</th>\n      <th>001txi01154.daca.pv</th>\n      <th>FIR</th>\n    </tr>\n  </thead>\n  <tbody>\n    <tr>\n      <th>2020-09-30 22:00:00+00:00</th>\n      <td>418.990965</td>\n      <td>29.086390</td>\n      <td>55.726750</td>\n      <td>11.966905</td>\n      <td>22.493207</td>\n      <td>14.362428</td>\n      <td>4.48</td>\n      <td>8.98</td>\n      <td>8.60</td>\n      <td>4.55</td>\n      <td>9.87</td>\n      <td>92.173271</td>\n      <td>19.126427</td>\n      <td>19.929581</td>\n      <td>113.360791</td>\n    </tr>\n    <tr>\n      <th>2020-09-30 23:00:00+00:00</th>\n      <td>418.911544</td>\n      <td>29.000256</td>\n      <td>55.318554</td>\n      <td>11.544775</td>\n      <td>22.702118</td>\n      <td>14.978720</td>\n      <td>4.48</td>\n      <td>8.98</td>\n      <td>8.60</td>\n      <td>4.55</td>\n      <td>9.87</td>\n      <td>92.188524</td>\n      <td>18.885216</td>\n      <td>19.536727</td>\n      <td>113.300487</td>\n    </tr>\n    <tr>\n      <th>2020-10-01 00:00:00+00:00</th>\n      <td>418.820059</td>\n      <td>29.021386</td>\n      <td>54.830731</td>\n      <td>11.053689</td>\n      <td>20.013150</td>\n      <td>15.199544</td>\n      <td>4.48</td>\n      <td>8.98</td>\n      <td>8.60</td>\n      <td>4.55</td>\n      <td>9.87</td>\n      <td>92.187308</td>\n      <td>18.612499</td>\n      <td>19.254154</td>\n      <td>113.658312</td>\n    </tr>\n    <tr>\n      <th>2020-10-01 00:30:00+00:00</th>\n      <td>418.777284</td>\n      <td>29.064571</td>\n      <td>55.112358</td>\n      <td>10.980221</td>\n      <td>19.902115</td>\n      <td>14.815123</td>\n      <td>4.48</td>\n      <td>8.98</td>\n      <td>8.60</td>\n      <td>4.55</td>\n      <td>9.87</td>\n      <td>92.195284</td>\n      <td>18.455667</td>\n      <td>19.196964</td>\n      <td>113.649439</td>\n    </tr>\n    <tr>\n      <th>2020-10-01 01:00:00+00:00</th>\n      <td>418.735368</td>\n      <td>29.092727</td>\n      <td>55.378319</td>\n      <td>11.057164</td>\n      <td>21.069357</td>\n      <td>14.617263</td>\n      <td>4.30</td>\n      <td>7.84</td>\n      <td>8.61</td>\n      <td>4.58</td>\n      <td>9.74</td>\n      <td>92.191375</td>\n      <td>18.075895</td>\n      <td>18.785391</td>\n      <td>113.667926</td>\n    </tr>\n    <tr>\n      <th>...</th>\n      <td>...</td>\n      <td>...</td>\n      <td>...</td>\n      <td>...</td>\n      <td>...</td>\n      <td>...</td>\n      <td>...</td>\n      <td>...</td>\n      <td>...</td>\n      <td>...</td>\n      <td>...</td>\n      <td>...</td>\n      <td>...</td>\n      <td>...</td>\n      <td>...</td>\n    </tr>\n    <tr>\n      <th>2021-09-05 20:00:00+00:00</th>\n      <td>427.223464</td>\n      <td>27.474773</td>\n      <td>54.550562</td>\n      <td>4.938091</td>\n      <td>24.345593</td>\n      <td>22.548988</td>\n      <td>4.11</td>\n      <td>4.74</td>\n      <td>8.48</td>\n      <td>5.54</td>\n      <td>11.24</td>\n      <td>97.272127</td>\n      <td>20.054366</td>\n      <td>20.598770</td>\n      <td>112.817374</td>\n    </tr>\n    <tr>\n      <th>2021-09-05 21:00:00+00:00</th>\n      <td>426.885975</td>\n      <td>27.742631</td>\n      <td>54.896322</td>\n      <td>4.930626</td>\n      <td>26.030218</td>\n      <td>23.326609</td>\n      <td>4.72</td>\n      <td>7.72</td>\n      <td>8.64</td>\n      <td>5.58</td>\n      <td>11.40</td>\n      <td>97.277412</td>\n      <td>19.182281</td>\n      <td>19.653056</td>\n      <td>112.822626</td>\n    </tr>\n    <tr>\n      <th>2021-09-05 22:00:00+00:00</th>\n      <td>426.514867</td>\n      <td>27.705729</td>\n      <td>55.738373</td>\n      <td>4.994519</td>\n      <td>25.914533</td>\n      <td>21.962930</td>\n      <td>4.72</td>\n      <td>7.72</td>\n      <td>8.64</td>\n      <td>5.58</td>\n      <td>11.40</td>\n      <td>97.270984</td>\n      <td>18.364518</td>\n      <td>18.825136</td>\n      <td>112.711963</td>\n    </tr>\n    <tr>\n      <th>2021-09-05 23:00:00+00:00</th>\n      <td>426.142533</td>\n      <td>27.594741</td>\n      <td>56.957987</td>\n      <td>4.999296</td>\n      <td>24.831633</td>\n      <td>21.440236</td>\n      <td>4.72</td>\n      <td>7.72</td>\n      <td>8.64</td>\n      <td>5.58</td>\n      <td>11.40</td>\n      <td>97.266249</td>\n      <td>17.437377</td>\n      <td>17.925498</td>\n      <td>112.996533</td>\n    </tr>\n    <tr>\n      <th>2021-09-06 00:00:00+00:00</th>\n      <td>425.765029</td>\n      <td>27.379872</td>\n      <td>57.681323</td>\n      <td>4.923448</td>\n      <td>24.850467</td>\n      <td>24.665253</td>\n      <td>4.72</td>\n      <td>7.72</td>\n      <td>8.64</td>\n      <td>5.58</td>\n      <td>11.40</td>\n      <td>97.258531</td>\n      <td>16.561949</td>\n      <td>17.055188</td>\n      <td>112.983346</td>\n    </tr>\n  </tbody>\n</table>\n<p>7963 rows × 15 columns</p>\n</div>"
     },
     "execution_count": 334,
     "metadata": {},
     "output_type": "execute_result"
    }
   ],
   "source": [
    "X_train"
   ],
   "metadata": {
    "collapsed": false,
    "pycharm": {
     "name": "#%%\n"
    }
   }
  },
  {
   "cell_type": "code",
   "execution_count": 335,
   "outputs": [
    {
     "data": {
      "text/plain": "74.56598971886858"
     },
     "execution_count": 335,
     "metadata": {},
     "output_type": "execute_result"
    }
   ],
   "source": [
    "ridge_model_prw1 = Pipeline([('normalization', preprocessing.StandardScaler()),\n",
    "                            ('ridge', linear_model.Ridge(alpha=1, solver='cholesky'))])\n",
    "ridge_model_prw1 = ridge_model_prw1.fit(X_train, y_train)\n",
    "metrics.mean_squared_error(y_val, ridge_model_prw1.predict(X_val))"
   ],
   "metadata": {
    "collapsed": false,
    "pycharm": {
     "name": "#%%\n"
    }
   }
  },
  {
   "cell_type": "code",
   "execution_count": 336,
   "outputs": [
    {
     "data": {
      "text/plain": "array([-0.12487341,  0.64812008,  1.35896191, -0.73396068,  0.38025117,\n        0.45904702,  0.04616988, -0.21504712,  0.59048814,  0.39728254,\n        0.28056458,  1.92339696, -2.79680812,  2.62442283, -0.28696775])"
     },
     "execution_count": 336,
     "metadata": {},
     "output_type": "execute_result"
    }
   ],
   "source": [
    "ridge_model_prw1.named_steps[\"ridge\"].coef_"
   ],
   "metadata": {
    "collapsed": false,
    "pycharm": {
     "name": "#%%\n"
    }
   }
  },
  {
   "cell_type": "code",
   "execution_count": 337,
   "outputs": [
    {
     "data": {
      "text/plain": "76.73303105083961"
     },
     "execution_count": 337,
     "metadata": {},
     "output_type": "execute_result"
    }
   ],
   "source": [
    "ridge_poly_model_prw1 = Pipeline([('poly', preprocessing.PolynomialFeatures(degree=2)),\n",
    "                            ('normalization', preprocessing.StandardScaler()),\n",
    "                            ('ridge', linear_model.Ridge(alpha=.5, solver='svd'))])\n",
    "ridge_poly_model_prw1 = ridge_poly_model_prw1.fit(X_train, y_train)\n",
    "metrics.mean_squared_error(y_val, ridge_poly_model_prw1.predict(X_val))"
   ],
   "metadata": {
    "collapsed": false,
    "pycharm": {
     "name": "#%%\n"
    }
   }
  },
  {
   "cell_type": "code",
   "execution_count": 338,
   "outputs": [
    {
     "data": {
      "text/plain": "array([-3.87842962e-13, -7.06506440e+00,  1.15470920e+01,  1.09843433e+01,\n       -4.19717658e+00,  1.04712722e+01,  4.81731820e+00, -1.70319709e+00,\n        2.50368669e+00, -3.33780197e-01,  5.29613468e+00, -2.02282797e+00,\n       -7.99850342e+00, -2.38503247e+00, -4.04970550e+00, -2.39144739e+00,\n       -3.24787221e+00,  4.35600262e+00,  7.89646722e+00, -4.59968394e+00,\n        1.69011047e+01, -5.50572433e+00, -3.88783520e+00,  7.33477282e+00,\n        5.15616281e+00, -2.34030159e+00,  2.24057469e+00,  1.03242293e+01,\n        5.12655618e-01, -4.79274519e-01,  1.50673620e+00, -5.11545698e+00,\n       -6.85364178e+00, -7.34839569e+00, -1.32674893e+01, -5.37240071e+00,\n        6.68363064e+00, -4.36499184e+00,  4.33602185e+00,  1.73186158e+00,\n       -3.19325782e+00, -1.66779293e+01,  6.57147635e+00,  2.99459368e+00,\n       -1.64682183e+00, -1.28669356e+01,  2.42279682e+01,  1.36586152e+01,\n        9.24444558e+00, -6.64305358e+00,  1.74002717e+00, -3.10635053e+00,\n       -1.16368829e+01,  5.72071909e-01,  1.03780772e+01, -6.90313321e-02,\n       -3.43440328e-01, -5.69118228e+00, -4.23093596e+00, -8.53448286e+00,\n       -1.16877481e+01,  4.26766072e+00,  3.02838854e-01, -1.09594342e+00,\n        2.88559173e+00,  8.86459862e+00, -3.03235280e+00,  5.43243799e+00,\n       -5.01993406e+00,  4.40362215e+00, -3.01214018e+00, -8.08900847e+00,\n       -2.90638819e-01, -1.75049429e+00, -5.28953267e+00,  2.70877224e+00,\n       -1.52315863e+00, -1.43451639e+01,  1.33213760e+00, -5.78023271e-01,\n        4.02777518e+00, -1.27433472e+01,  3.23431069e+00,  7.86829307e+00,\n        3.82638057e+00, -3.05986707e+00,  7.66527660e+00, -1.00037312e+01,\n        2.62510125e-01,  2.04916388e+00,  1.47531116e+01, -2.32837541e+00,\n       -1.82484542e-02,  6.49949320e+00, -5.09308543e+00, -3.70301283e+00,\n        1.26363255e+01, -1.31148380e+00, -3.22224016e-01, -6.13591150e+00,\n        2.58201788e-02, -3.11751759e+00, -1.43097976e+00, -1.14215710e+01,\n        6.86978523e+00, -4.35514224e+00, -1.06274687e+00, -5.45642607e-01,\n       -3.22844896e+00,  9.07781166e+00, -1.02772803e+01,  2.27045907e+00,\n       -3.89791420e+00, -4.73630528e+00,  7.53067944e-02,  9.20403667e+00,\n       -2.87887640e+00, -1.90911132e+01, -7.15563195e+00, -3.62855158e+00,\n        4.92318610e+00,  8.70122551e-01,  3.83009462e+01,  1.70604852e+00,\n        2.82043000e+00, -6.81531973e+00, -5.43942666e+00,  7.00825139e+00,\n        7.89293781e+00, -3.61855883e+00, -3.28554482e+00,  1.23607102e-01,\n       -8.02993765e-01,  4.14012051e+00, -1.53219926e+00,  4.41380766e+00])"
     },
     "execution_count": 338,
     "metadata": {},
     "output_type": "execute_result"
    }
   ],
   "source": [
    "ridge_poly_model_prw1.named_steps[\"ridge\"].coef_"
   ],
   "metadata": {
    "collapsed": false,
    "pycharm": {
     "name": "#%%\n"
    }
   }
  },
  {
   "cell_type": "code",
   "execution_count": null,
   "outputs": [],
   "source": [],
   "metadata": {
    "collapsed": false,
    "pycharm": {
     "name": "#%%\n"
    }
   }
  }
 ],
 "metadata": {
  "kernelspec": {
   "display_name": "Python 3 (ipykernel)",
   "language": "python",
   "name": "python3"
  },
  "language_info": {
   "codemirror_mode": {
    "name": "ipython",
    "version": 3
   },
   "file_extension": ".py",
   "mimetype": "text/x-python",
   "name": "python",
   "nbconvert_exporter": "python",
   "pygments_lexer": "ipython3",
   "version": "3.9.7"
  }
 },
 "nbformat": 4,
 "nbformat_minor": 5
}