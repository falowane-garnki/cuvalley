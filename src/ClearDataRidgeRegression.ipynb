{
 "cells": [
  {
   "cell_type": "code",
   "execution_count": 1,
   "metadata": {},
   "outputs": [],
   "source": [
    "from pathlib import Path\n",
    "import os\n",
    "\n",
    "import pandas as pd\n",
    "import numpy as np\n",
    "\n",
    "from sklearn import preprocessing\n",
    "from sklearn import linear_model\n",
    "from sklearn import metrics\n",
    "from sklearn import utils\n",
    "from sklearn.pipeline import Pipeline\n",
    "from pygam import LinearGAM, s, f, te, l\n",
    "from sklearn import ensemble\n",
    "import pickle\n",
    "import joblib\n",
    "\n",
    "from data_processing import *"
   ]
  },
  {
   "cell_type": "markdown",
   "metadata": {},
   "source": [
    "## Load data"
   ]
  },
  {
   "cell_type": "code",
   "execution_count": 35,
   "metadata": {},
   "outputs": [],
   "source": [
    "# data is split into 15 min mean aggregates\n",
    "df = pd.read_csv(\"./data/clear.csv\")\n",
    "df['czas'] = pd.to_datetime(df['czas'], utc=True)\n",
    "df = utils.shuffle(df)\n",
    "\n",
    "df.set_index('czas', inplace=True)"
   ]
  },
  {
   "cell_type": "markdown",
   "metadata": {},
   "source": [
    "## Split data"
   ]
  },
  {
   "cell_type": "code",
   "execution_count": 36,
   "metadata": {},
   "outputs": [],
   "source": [
    "train, val, test = split(df)\n",
    "\n",
    "X_train, X_val, X_test = train.drop([\"temp_zuz\"], axis=1), val.drop([\"temp_zuz\"], axis=1), test.drop([\"temp_zuz\"], axis=1)\n",
    "y_train, y_val, y_test = train[\"temp_zuz\"], val[\"temp_zuz\"], test[\"temp_zuz\"]"
   ]
  },
  {
   "cell_type": "code",
   "execution_count": 37,
   "metadata": {},
   "outputs": [],
   "source": [
    "y_val.to_csv(\"y_val.csv\")\n",
    "X_val.to_csv(\"x_val.csv\")"
   ]
  },
  {
   "cell_type": "markdown",
   "metadata": {},
   "source": [
    "## Define a RiggedRegression model"
   ]
  },
  {
   "cell_type": "code",
   "execution_count": 38,
   "metadata": {},
   "outputs": [
    {
     "name": "stdout",
     "output_type": "stream",
     "text": [
      "svd 0.1 32.45390484269221\n",
      "cholesky 0.1 32.45390484269221\n",
      "lsqr 0.1 32.455496793097\n",
      "sparse_cg 0.1 32.45390473827349\n",
      "sag 0.1 32.45359010509\n",
      "saga 0.1 32.45400421125648\n",
      "svd 0.5 32.45387887172684\n",
      "cholesky 0.5 32.453878871726864\n",
      "lsqr 0.5 32.45547054703305\n",
      "sparse_cg 0.5 32.4538787707022\n",
      "sag 0.5 32.45389408816396\n",
      "saga 0.5 32.45396746475847\n",
      "svd 1 32.45384642954925\n",
      "cholesky 1 32.45384642954925\n",
      "lsqr 1 32.45543776084689\n",
      "sparse_cg 1 32.45384633276102\n",
      "sag 1 32.4538661451109\n",
      "saga 1 32.45396030279106\n"
     ]
    }
   ],
   "source": [
    "solvers = ['svd', 'cholesky', 'lsqr', 'sparse_cg', 'sag', 'saga']\n",
    "alphas = [.1, .5, 1]\n",
    "\n",
    "for alpha in alphas:\n",
    "    for solver in solvers:\n",
    "        ridge_model = Pipeline([('normalization', preprocessing.StandardScaler()),\n",
    "                        ('ridge', linear_model.Ridge(alpha=alpha, solver=solver))])\n",
    "        ridge_model.fit(X_train, y_train)\n",
    "        mse = metrics.mean_squared_error(y_val, ridge_model.predict(X_val))\n",
    "        print(solver, alpha, mse)"
   ]
  },
  {
   "cell_type": "markdown",
   "metadata": {},
   "source": [
    "## Train the model"
   ]
  },
  {
   "cell_type": "code",
   "execution_count": 39,
   "metadata": {},
   "outputs": [
    {
     "data": {
      "text/plain": [
       "32.45386467042702"
      ]
     },
     "execution_count": 39,
     "metadata": {},
     "output_type": "execute_result"
    }
   ],
   "source": [
    "ridge_model.fit(X_train, y_train)\n",
    "metrics.mean_squared_error(y_val, ridge_model.predict(X_val))"
   ]
  },
  {
   "cell_type": "code",
   "execution_count": 40,
   "metadata": {},
   "outputs": [],
   "source": [
    "filename = 'finalized_model.sav'\n",
    "pickle.dump(ridge_model, open(filename, 'wb'))"
   ]
  },
  {
   "cell_type": "code",
   "execution_count": 41,
   "metadata": {},
   "outputs": [],
   "source": [
    "model = pickle.load(open(filename, 'rb'))"
   ]
  },
  {
   "cell_type": "code",
   "execution_count": 16,
   "metadata": {},
   "outputs": [
    {
     "data": {
      "text/plain": [
       "33.58157706334468"
      ]
     },
     "execution_count": 16,
     "metadata": {},
     "output_type": "execute_result"
    }
   ],
   "source": [
    "metrics.mean_squared_error(y_val, model.predict(X_val))"
   ]
  }
 ],
 "metadata": {
  "kernelspec": {
   "display_name": "Python 3 (ipykernel)",
   "language": "python",
   "name": "python3"
  },
  "language_info": {
   "codemirror_mode": {
    "name": "ipython",
    "version": 3
   },
   "file_extension": ".py",
   "mimetype": "text/x-python",
   "name": "python",
   "nbconvert_exporter": "python",
   "pygments_lexer": "ipython3",
   "version": "3.8.10"
  }
 },
 "nbformat": 4,
 "nbformat_minor": 4
}
