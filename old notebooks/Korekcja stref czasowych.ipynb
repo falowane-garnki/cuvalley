{
 "cells": [
  {
   "cell_type": "code",
   "execution_count": 91,
   "id": "519cc7e0-ebb1-434a-8604-2802461838c2",
   "metadata": {},
   "outputs": [],
   "source": [
    "import pandas as pd"
   ]
  },
  {
   "cell_type": "code",
   "execution_count": 101,
   "id": "17532069-3273-463e-8c9c-0f0c2c6f36a2",
   "metadata": {},
   "outputs": [],
   "source": [
    "path = '../data/'"
   ]
  },
  {
   "cell_type": "code",
   "execution_count": 92,
   "id": "e427fc47-2ecd-4cd0-a084-9f323ff76f20",
   "metadata": {},
   "outputs": [],
   "source": [
    "temp_zuz = pd.read_csv(path + 'temp_zuz.csv', delimiter=';')"
   ]
  },
  {
   "cell_type": "code",
   "execution_count": 93,
   "id": "5f35a523-13db-4302-b8ed-76b9d63256a3",
   "metadata": {},
   "outputs": [],
   "source": [
    "temp_zuz['Czas'] = pd.to_datetime(temp_zuz['Czas'])\n",
    "temp_zuz.set_index('Czas', inplace=True)\n",
    "temp_zuz = temp_zuz.tz_localize('Europe/Warsaw', ambiguous='NaT')\n",
    "temp_zuz.reset_index(inplace=True)"
   ]
  },
  {
   "cell_type": "code",
   "execution_count": 95,
   "id": "f60e233a-73e0-490c-8d6a-1ee9fbbf68b3",
   "metadata": {},
   "outputs": [
    {
     "data": {
      "text/html": [
       "<div>\n",
       "<style scoped>\n",
       "    .dataframe tbody tr th:only-of-type {\n",
       "        vertical-align: middle;\n",
       "    }\n",
       "\n",
       "    .dataframe tbody tr th {\n",
       "        vertical-align: top;\n",
       "    }\n",
       "\n",
       "    .dataframe thead th {\n",
       "        text-align: right;\n",
       "    }\n",
       "</style>\n",
       "<table border=\"1\" class=\"dataframe\">\n",
       "  <thead>\n",
       "    <tr style=\"text-align: right;\">\n",
       "      <th></th>\n",
       "      <th>czas_converted</th>\n",
       "      <th>Czas</th>\n",
       "      <th>temp_zuz</th>\n",
       "    </tr>\n",
       "  </thead>\n",
       "  <tbody>\n",
       "    <tr>\n",
       "      <th>600</th>\n",
       "      <td>NaT</td>\n",
       "      <td>2020-10-25 02:00:00</td>\n",
       "      <td>1308</td>\n",
       "    </tr>\n",
       "    <tr>\n",
       "      <th>601</th>\n",
       "      <td>NaT</td>\n",
       "      <td>2020-10-25 02:01:00</td>\n",
       "      <td>1299</td>\n",
       "    </tr>\n",
       "    <tr>\n",
       "      <th>9220</th>\n",
       "      <td>NaT</td>\n",
       "      <td>2021-10-31 02:00:00</td>\n",
       "      <td>1305</td>\n",
       "    </tr>\n",
       "    <tr>\n",
       "      <th>9221</th>\n",
       "      <td>NaT</td>\n",
       "      <td>2021-10-31 02:01:00</td>\n",
       "      <td>1294</td>\n",
       "    </tr>\n",
       "    <tr>\n",
       "      <th>9222</th>\n",
       "      <td>NaT</td>\n",
       "      <td>2021-10-31 02:05:00</td>\n",
       "      <td>1294</td>\n",
       "    </tr>\n",
       "  </tbody>\n",
       "</table>\n",
       "</div>"
      ],
      "text/plain": [
       "     czas_converted                 Czas  temp_zuz\n",
       "600             NaT  2020-10-25 02:00:00      1308\n",
       "601             NaT  2020-10-25 02:01:00      1299\n",
       "9220            NaT  2021-10-31 02:00:00      1305\n",
       "9221            NaT  2021-10-31 02:01:00      1294\n",
       "9222            NaT  2021-10-31 02:05:00      1294"
      ]
     },
     "execution_count": 95,
     "metadata": {},
     "output_type": "execute_result"
    }
   ],
   "source": [
    "holes = temp_zuz['czas_converted'].isnull()\n",
    "temp_zuz[holes]"
   ]
  },
  {
   "cell_type": "code",
   "execution_count": 96,
   "id": "6199df24-6c4f-4583-b7e5-6cffd8cafc0a",
   "metadata": {},
   "outputs": [],
   "source": [
    "fills = {\n",
    "    600: '2020-10-25 02:00:00+02:00',\n",
    "    601: '2020-10-25 02:01:00+01:00',\n",
    "    9220: '2021-10-31 02:00:00+02:00',\n",
    "    9221: '2021-10-31 02:01:00+01:00',\n",
    "    9222: '2021-10-31 02:05:00+01:00'\n",
    "}"
   ]
  },
  {
   "cell_type": "code",
   "execution_count": 97,
   "id": "293001ab-67ba-4b2b-9e2b-7b07f416965f",
   "metadata": {},
   "outputs": [],
   "source": [
    "for i in fills:\n",
    "    temp_zuz.loc[i, 'czas_converted'] = fills[i]"
   ]
  },
  {
   "cell_type": "code",
   "execution_count": 98,
   "id": "a42aae7c-9170-4597-8cd6-2a7181e6ea26",
   "metadata": {},
   "outputs": [
    {
     "data": {
      "text/html": [
       "<div>\n",
       "<style scoped>\n",
       "    .dataframe tbody tr th:only-of-type {\n",
       "        vertical-align: middle;\n",
       "    }\n",
       "\n",
       "    .dataframe tbody tr th {\n",
       "        vertical-align: top;\n",
       "    }\n",
       "\n",
       "    .dataframe thead th {\n",
       "        text-align: right;\n",
       "    }\n",
       "</style>\n",
       "<table border=\"1\" class=\"dataframe\">\n",
       "  <thead>\n",
       "    <tr style=\"text-align: right;\">\n",
       "      <th></th>\n",
       "      <th>czas_converted</th>\n",
       "      <th>Czas</th>\n",
       "      <th>temp_zuz</th>\n",
       "    </tr>\n",
       "  </thead>\n",
       "  <tbody>\n",
       "    <tr>\n",
       "      <th>600</th>\n",
       "      <td>2020-10-25 02:00:00+02:00</td>\n",
       "      <td>2020-10-25 02:00:00</td>\n",
       "      <td>1308</td>\n",
       "    </tr>\n",
       "    <tr>\n",
       "      <th>601</th>\n",
       "      <td>2020-10-25 02:01:00+01:00</td>\n",
       "      <td>2020-10-25 02:01:00</td>\n",
       "      <td>1299</td>\n",
       "    </tr>\n",
       "    <tr>\n",
       "      <th>9220</th>\n",
       "      <td>2021-10-31 02:00:00+02:00</td>\n",
       "      <td>2021-10-31 02:00:00</td>\n",
       "      <td>1305</td>\n",
       "    </tr>\n",
       "    <tr>\n",
       "      <th>9221</th>\n",
       "      <td>2021-10-31 02:01:00+01:00</td>\n",
       "      <td>2021-10-31 02:01:00</td>\n",
       "      <td>1294</td>\n",
       "    </tr>\n",
       "    <tr>\n",
       "      <th>9222</th>\n",
       "      <td>2021-10-31 02:05:00+01:00</td>\n",
       "      <td>2021-10-31 02:05:00</td>\n",
       "      <td>1294</td>\n",
       "    </tr>\n",
       "  </tbody>\n",
       "</table>\n",
       "</div>"
      ],
      "text/plain": [
       "                czas_converted                 Czas  temp_zuz\n",
       "600  2020-10-25 02:00:00+02:00  2020-10-25 02:00:00      1308\n",
       "601  2020-10-25 02:01:00+01:00  2020-10-25 02:01:00      1299\n",
       "9220 2021-10-31 02:00:00+02:00  2021-10-31 02:00:00      1305\n",
       "9221 2021-10-31 02:01:00+01:00  2021-10-31 02:01:00      1294\n",
       "9222 2021-10-31 02:05:00+01:00  2021-10-31 02:05:00      1294"
      ]
     },
     "execution_count": 98,
     "metadata": {},
     "output_type": "execute_result"
    }
   ],
   "source": [
    "temp_zuz[holes]"
   ]
  },
  {
   "cell_type": "code",
   "execution_count": 103,
   "id": "8322d985-a5eb-4810-a8c2-88bbcd2efcc6",
   "metadata": {},
   "outputs": [],
   "source": [
    "temp_zuz.to_csv(path + 'temp_zuz_fixed.csv', index=None)"
   ]
  },
  {
   "cell_type": "code",
   "execution_count": null,
   "id": "eddd993a-0170-4aca-8b8e-23fb909c4bc3",
   "metadata": {},
   "outputs": [],
   "source": []
  }
 ],
 "metadata": {
  "kernelspec": {
   "display_name": "Python 3 (ipykernel)",
   "language": "python",
   "name": "python3"
  },
  "language_info": {
   "codemirror_mode": {
    "name": "ipython",
    "version": 3
   },
   "file_extension": ".py",
   "mimetype": "text/x-python",
   "name": "python",
   "nbconvert_exporter": "python",
   "pygments_lexer": "ipython3",
   "version": "3.10.1"
  }
 },
 "nbformat": 4,
 "nbformat_minor": 5
}
