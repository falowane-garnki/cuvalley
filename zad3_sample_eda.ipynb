{
 "cells": [
  {
   "cell_type": "code",
   "execution_count": null,
   "id": "6e529cca",
   "metadata": {},
   "outputs": [],
   "source": [
    "import pandas as pd\n",
    "import numpy as np\n",
    "import seaborn as sns\n",
    "import matplotlib.pyplot as plt\n",
    "\n",
    "import plotly.express as px\n",
    "from sklearn.decomposition import PCA\n",
    "from sklearn.preprocessing import StandardScaler"
   ]
  },
  {
   "cell_type": "markdown",
   "id": "650b170f",
   "metadata": {},
   "source": [
    "### Read"
   ]
  },
  {
   "cell_type": "code",
   "execution_count": null,
   "id": "a8e70ff1",
   "metadata": {
    "scrolled": true
   },
   "outputs": [],
   "source": [
    "temp_zuz = pd.read_csv('sample_data/temp_zuz.csv', delimiter=';')\n",
    "temp_zuz['Czas'] = pd.to_datetime(temp_zuz['Czas'])"
   ]
  },
  {
   "cell_type": "code",
   "execution_count": null,
   "id": "401134f0",
   "metadata": {},
   "outputs": [],
   "source": [
    "df = pd.read_csv('sample_data/avg_from_2020_10_01_00_00_00_to_2020_10_01_23_59_00')\n",
    "df['czas'] = pd.to_datetime(df['czas'])"
   ]
  },
  {
   "cell_type": "code",
   "execution_count": null,
   "id": "ce385c32-1208-4b96-a4fc-fbac21ae3665",
   "metadata": {},
   "outputs": [],
   "source": [
    "df.set_index('czas')"
   ]
  },
  {
   "cell_type": "code",
   "execution_count": null,
   "id": "7735c889-440f-4f47-a92b-620b0a3b9238",
   "metadata": {},
   "outputs": [],
   "source": [
    "df.index"
   ]
  },
  {
   "cell_type": "code",
   "execution_count": null,
   "id": "d05b7a85-8b51-4533-ad3b-075c8dc2b2b3",
   "metadata": {},
   "outputs": [],
   "source": [
    "df"
   ]
  },
  {
   "cell_type": "code",
   "execution_count": null,
   "id": "12bbadd9-c442-4358-8fb3-b278590b5ef3",
   "metadata": {},
   "outputs": [],
   "source": [
    "df.tz_convert(None)"
   ]
  },
  {
   "cell_type": "code",
   "execution_count": null,
   "id": "07cc6a13",
   "metadata": {},
   "outputs": [],
   "source": [
    "feature_desc_df = pd.read_csv('feature_desc.csv', index_col='name')\n",
    "def feature_desc(name):\n",
    "    if type(name)==str:\n",
    "        return feature_desc_df.loc[name]['desc']\n",
    "    else:\n",
    "        return feature_desc_df.loc[name]['desc'].values"
   ]
  },
  {
   "cell_type": "markdown",
   "id": "d2ee8b9f",
   "metadata": {
    "tags": []
   },
   "source": [
    "### Group"
   ]
  },
  {
   "cell_type": "code",
   "execution_count": null,
   "id": "c0cab365",
   "metadata": {},
   "outputs": [],
   "source": [
    "TIR = df.columns[df.columns.str.contains('tir')].values\n",
    "FIR = df.columns[df.columns.str.contains('fir')].values\n",
    "TIX1 = df.columns[df.columns.str.contains('001tix')].values\n",
    "UXM = df.columns[df.columns.str.contains('uxm')].values\n",
    "TXI = df.columns[df.columns.str.contains('txi')].values\n",
    "TIX37 = df.columns[df.columns.str.contains('037tix')].values\n",
    "FCX = df.columns[df.columns.str.contains('fcx')].values\n",
    "PR = df.columns[df.columns.str.contains('pr')].values\n",
    "NIR = df.columns[df.columns.str.contains('nir')].values\n",
    "\n",
    "group_names = {\n",
    "    'TIR':'WODY POWROTNE KOLEKTORÓW [°C]',\n",
    "    'FIR':'WODY CHŁODZĄCE KOLEKTORÓW [°C]',\n",
    "    'TIX1':'TEMP POD 2 WARSTWĄ WYMURÓWKI [°C]',\n",
    "    'UXM':'WENT. ODCZ_ZAD OBROTÓW [%]',\n",
    "    'TXI':'TEMP. NA KOL. [°C]',\n",
    "    'TIX37':'TEMP. WODY ZASIL.OBIEG PZ [°C]',\n",
    "    'FCX':'REG [Mg/h]',\n",
    "    'PR':'Prob i prazonka [%]',\n",
    "    'NIR':'SUMARYCZNA MOC CIEPLNA ODEBRANA - CAŁKOWITA [MW]'\n",
    "}   \n",
    "group_names"
   ]
  },
  {
   "cell_type": "markdown",
   "id": "d112714a",
   "metadata": {
    "tags": []
   },
   "source": [
    "### Distributions"
   ]
  },
  {
   "cell_type": "code",
   "execution_count": null,
   "id": "b3bde1cb-0255-4004-8ec6-0ee442c962be",
   "metadata": {},
   "outputs": [],
   "source": [
    "def plot_histograms(columns, ncols=3):\n",
    "    n = len(columns)\n",
    "    if n<ncols:\n",
    "        ncols=n\n",
    "        nrows=1\n",
    "    else:\n",
    "        nrows = int(np.ceil(n/ncols))\n",
    "        \n",
    "    f, axes = plt.subplots(figsize=(14, (8*nrows)//ncols), nrows=nrows, ncols=ncols)\n",
    "    plt.subplots_adjust(wspace=0.2, hspace=0.6)\n",
    "    for col, ax in zip(columns, axes.flatten()):\n",
    "        sns.histplot(df[col], ax=ax, kde=True)\n",
    "        ax.set_title(feature_desc(col), {'fontsize':10})"
   ]
  },
  {
   "cell_type": "code",
   "execution_count": null,
   "id": "1fbe1aff-3f60-4335-ac7a-8a558824b596",
   "metadata": {},
   "outputs": [],
   "source": [
    "plot_histograms(TIR)"
   ]
  },
  {
   "cell_type": "code",
   "execution_count": null,
   "id": "90e5b4fd-b2c8-4c63-ae97-65e036ec5c68",
   "metadata": {},
   "outputs": [],
   "source": [
    "plot_histograms(FIR)"
   ]
  },
  {
   "cell_type": "code",
   "execution_count": null,
   "id": "120f40c5-4fe6-4294-8f50-47b5988af6fb",
   "metadata": {},
   "outputs": [],
   "source": [
    "plot_histograms(TIX1)"
   ]
  },
  {
   "cell_type": "code",
   "execution_count": null,
   "id": "5eae7d39-9cf3-4544-9cb5-6e5498000846",
   "metadata": {},
   "outputs": [],
   "source": [
    "plot_histograms(UXM)"
   ]
  },
  {
   "cell_type": "code",
   "execution_count": null,
   "id": "1891b86a-1b22-4b8c-bb62-2f63512896cc",
   "metadata": {},
   "outputs": [],
   "source": [
    "plot_histograms(TXI)"
   ]
  },
  {
   "cell_type": "code",
   "execution_count": null,
   "id": "460b0945-a7aa-4d5e-b47b-7d9713a3b9bd",
   "metadata": {},
   "outputs": [],
   "source": [
    "plot_histograms(TIX37)"
   ]
  },
  {
   "cell_type": "code",
   "execution_count": null,
   "id": "aa8fed7f-7e16-4611-a391-019c2eb99fcc",
   "metadata": {},
   "outputs": [],
   "source": [
    "plot_histograms(FCX, ncols=2)"
   ]
  },
  {
   "cell_type": "code",
   "execution_count": null,
   "id": "54cb7d78-9e11-4d77-abb4-72f7b966c106",
   "metadata": {},
   "outputs": [],
   "source": [
    "plot_histograms(np.append(PR, NIR))"
   ]
  },
  {
   "cell_type": "markdown",
   "id": "b96b6c75",
   "metadata": {
    "tags": []
   },
   "source": [
    "### Correlations"
   ]
  },
  {
   "cell_type": "code",
   "execution_count": null,
   "id": "58444c47",
   "metadata": {},
   "outputs": [],
   "source": [
    "def corr_plots(*dfs, titles=None, ncols=2, size=14):\n",
    "    n = len(dfs)\n",
    "    if n<ncols:\n",
    "        ncols=n\n",
    "        nrows=1\n",
    "    else:\n",
    "        nrows = int(np.ceil(n/ncols))     \n",
    "    \n",
    "    f, axes = plt.subplots(figsize=(size, (size*nrows)//ncols), nrows=nrows, ncols=ncols, squeeze=False)\n",
    "    plt.subplots_adjust(wspace=0.4, hspace=0.2)\n",
    "    \n",
    "    for df, ax, i in zip(dfs, axes.flatten(), range(n)):\n",
    "        corr = df.corr()\n",
    "        cmap = sns.diverging_palette(230, 20, as_cmap=True)\n",
    "        sns.heatmap(corr, cmap=cmap, center=0,\n",
    "                square=True, linewidths=.5, ax=ax, annot=(len(df.columns)*ncols<25))\n",
    "        if titles:\n",
    "            ax.set_title(titles[i])"
   ]
  },
  {
   "cell_type": "code",
   "execution_count": null,
   "id": "4a3977e8-b120-4159-a096-ab91403e4e20",
   "metadata": {},
   "outputs": [],
   "source": [
    "corr_plots(df, titles=[\"All features\"])"
   ]
  },
  {
   "cell_type": "code",
   "execution_count": null,
   "id": "041824ae-3b64-44ba-ace1-272669ee46f3",
   "metadata": {},
   "outputs": [],
   "source": [
    "corr_plots(df[TIR], \n",
    "           df[FIR], \n",
    "           titles=[\"WODY POWROTNE KOLEKTORÓW [°C]\", \n",
    "                   \"WODY CHŁODZĄCE KOLEKTORÓW [°C]\"]\n",
    "          )"
   ]
  },
  {
   "cell_type": "code",
   "execution_count": null,
   "id": "831c90d1-21a8-4f0b-bcdf-7365e41feb05",
   "metadata": {},
   "outputs": [],
   "source": [
    "corr_plots(df[TIX1],\n",
    "           size=14,\n",
    "           titles=[group_names['TIX1']]\n",
    "          )"
   ]
  },
  {
   "cell_type": "code",
   "execution_count": null,
   "id": "052ade88-88bf-455d-b8cb-79b1096039c1",
   "metadata": {},
   "outputs": [],
   "source": [
    "corr_plots(df[np.concatenate([UXM, TXI, TIX37])],\n",
    "           df[np.concatenate([FCX, PR, NIR])],\n",
    "          titles=[group_names['UXM'] + '\\n' + group_names['TXI'] + '\\n' + group_names['TIX37'],\n",
    "                  group_names['FCX'] + '\\n' + group_names['PR'] + '\\n' + group_names['NIR']]\n",
    "                  )"
   ]
  },
  {
   "cell_type": "markdown",
   "id": "720f35ab",
   "metadata": {
    "tags": []
   },
   "source": [
    "### PCA"
   ]
  },
  {
   "cell_type": "code",
   "execution_count": null,
   "id": "4144a12f",
   "metadata": {},
   "outputs": [],
   "source": [
    "scaler = StandardScaler()\n",
    "data  = scaler.fit_transform(df[df.columns[1:]])\n",
    "\n",
    "pca = PCA(n_components=3)\n",
    "components = pca.fit_transform(data)\n",
    "\n",
    "total_var = pca.explained_variance_ratio_.sum() * 100\n",
    "\n",
    "fig = px.scatter_3d(\n",
    "    components, x=0, y=1, z=2,\n",
    "    title=f'Total Explained Variance: {total_var:.2f}%',\n",
    "    labels={'0': 'PC 1', '1': 'PC 2', '2': 'PC 3'},\n",
    "    height=500\n",
    ")\n",
    "fig.show()"
   ]
  },
  {
   "cell_type": "markdown",
   "id": "7929b2c9-9b30-4e04-9b19-90181857053b",
   "metadata": {
    "tags": []
   },
   "source": [
    "### Simple Hourly Aggregates"
   ]
  },
  {
   "cell_type": "code",
   "execution_count": null,
   "id": "01cd0518-8c63-4118-81fb-9b29cc28c374",
   "metadata": {},
   "outputs": [],
   "source": [
    "df_agg = df[:]\n",
    "df_agg['czas'] = df_agg['czas'].dt.floor(\"H\")\n",
    "df_agg.groupby('czas')['001fcx00211.pv'].mean()\n",
    "# tbc"
   ]
  },
  {
   "cell_type": "markdown",
   "id": "1a50cbfd",
   "metadata": {},
   "source": [
    "### Features vs temp_zuzel"
   ]
  },
  {
   "cell_type": "code",
   "execution_count": null,
   "id": "dc4ef62a",
   "metadata": {},
   "outputs": [],
   "source": [
    "def plot_histograms_zuzlel(columns, ncols=3):\n",
    "    n = len(columns)\n",
    "    if n<ncols:\n",
    "        ncols=n\n",
    "        nrows=1\n",
    "    else:\n",
    "        nrows = int(np.ceil(n/ncols))\n",
    "        \n",
    "    f, axes = plt.subplots(figsize=(14, (8*nrows)//ncols), nrows=nrows, ncols=ncols)\n",
    "    plt.subplots_adjust(wspace=0.2, hspace=0.6)\n",
    "    for col, ax in zip(columns, axes.flatten()):\n",
    "        sns.histplot(df[col], ax=ax, kde=True)\n",
    "        ax.set_title(feature_desc(col), {'fontsize':10})"
   ]
  },
  {
   "cell_type": "code",
   "execution_count": null,
   "id": "064e75bc",
   "metadata": {},
   "outputs": [],
   "source": [
    "def get_corr_zuzel(col_name):\n",
    "    return round(df[col_name].corr(temp_zuz['temp_zuz']), 2)"
   ]
  },
  {
   "cell_type": "code",
   "execution_count": null,
   "id": "61c7ec77",
   "metadata": {},
   "outputs": [],
   "source": [
    "def plot_with_zuzel(columns, ncols=3):\n",
    "    n = len(columns)\n",
    "    if n<ncols:\n",
    "        ncols=n\n",
    "        nrows=1\n",
    "    else:\n",
    "        nrows = int(np.ceil(n/ncols))\n",
    "        \n",
    "    f, axes = plt.subplots(figsize=(14, (8*nrows)//ncols), nrows=nrows, ncols=ncols)\n",
    "    plt.subplots_adjust(wspace=0.2, hspace=0.6)\n",
    "    for col_name, ax in zip(columns, axes.flatten()):\n",
    "        corr = get_corr_zuzel(col_name)\n",
    "        sns.scatterplot(x=temp_zuz['temp_zuz'], y=df[col_name], ax=ax)\n",
    "        ax.set_title(feature_desc(col_name), {'fontsize':10})\n",
    "        ax.set(ylabel='', xlabel=(\"temp_zuz \" + str(corr)))"
   ]
  },
  {
   "cell_type": "code",
   "execution_count": null,
   "id": "23c0484f",
   "metadata": {},
   "outputs": [],
   "source": [
    "plot_with_zuzel(TIR)"
   ]
  },
  {
   "cell_type": "code",
   "execution_count": null,
   "id": "b7c6e96a",
   "metadata": {},
   "outputs": [],
   "source": [
    "plot_with_zuzel(TIX1)"
   ]
  },
  {
   "cell_type": "code",
   "execution_count": null,
   "id": "ea13a865",
   "metadata": {},
   "outputs": [],
   "source": [
    "plot_with_zuzel(UXM)"
   ]
  },
  {
   "cell_type": "code",
   "execution_count": null,
   "id": "f9742ced",
   "metadata": {},
   "outputs": [],
   "source": [
    "plot_with_zuzel(TXI)"
   ]
  },
  {
   "cell_type": "code",
   "execution_count": null,
   "id": "2a3a8d3b",
   "metadata": {},
   "outputs": [],
   "source": [
    "plot_with_zuzel(TIX37)"
   ]
  },
  {
   "cell_type": "code",
   "execution_count": null,
   "id": "57045166",
   "metadata": {},
   "outputs": [],
   "source": [
    "plot_with_zuzel(np.append(PR, NIR))"
   ]
  },
  {
   "cell_type": "code",
   "execution_count": null,
   "id": "cbc31ba5",
   "metadata": {
    "scrolled": true
   },
   "outputs": [],
   "source": [
    "plot_with_zuzel(FIR)"
   ]
  },
  {
   "cell_type": "code",
   "execution_count": null,
   "id": "ea177b63",
   "metadata": {},
   "outputs": [],
   "source": [
    "plot_with_zuzel(FCX, ncols=2)"
   ]
  }
 ],
 "metadata": {
  "kernelspec": {
   "display_name": "Python 3",
   "language": "python",
   "name": "python3"
  },
  "language_info": {
   "codemirror_mode": {
    "name": "ipython",
    "version": 3
   },
   "file_extension": ".py",
   "mimetype": "text/x-python",
   "name": "python",
   "nbconvert_exporter": "python",
   "pygments_lexer": "ipython3",
   "version": "3.8.5"
  }
 },
 "nbformat": 4,
 "nbformat_minor": 5
}
