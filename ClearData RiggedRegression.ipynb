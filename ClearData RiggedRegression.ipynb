{
 "cells": [
  {
   "cell_type": "code",
   "execution_count": 17,
   "metadata": {},
   "outputs": [],
   "source": [
    "from pathlib import Path\n",
    "import os\n",
    "\n",
    "import pandas as pd\n",
    "import numpy as np\n",
    "\n",
    "from sklearn import preprocessing\n",
    "from sklearn import linear_model\n",
    "from sklearn import metrics\n",
    "from sklearn import utils\n",
    "from sklearn.pipeline import Pipeline\n",
    "from pygam import LinearGAM, s, f, te, l\n",
    "from sklearn import ensemble\n",
    "import pickle\n",
    "import joblib\n",
    "\n",
    "from data_processing import *"
   ]
  },
  {
   "cell_type": "markdown",
   "metadata": {},
   "source": [
    "## Load data"
   ]
  },
  {
   "cell_type": "code",
   "execution_count": 30,
   "metadata": {},
   "outputs": [],
   "source": [
    "# data is split into 15 min mean aggregates\n",
    "df = pd.read_csv(\"../data/clear.csv\")\n",
    "df['czas'] = pd.to_datetime(df['czas'], utc=True)\n",
    "df = utils.shuffle(df)\n",
    "\n",
    "df.set_index('czas', inplace=True)"
   ]
  },
  {
   "cell_type": "markdown",
   "metadata": {},
   "source": [
    "## Split data"
   ]
  },
  {
   "cell_type": "code",
   "execution_count": 31,
   "metadata": {},
   "outputs": [],
   "source": [
    "train, val, test = split(df)\n",
    "\n",
    "X_train, X_val, X_test = train.drop([\"temp_zuz\"], axis=1), val.drop([\"temp_zuz\"], axis=1), test.drop([\"temp_zuz\"], axis=1)\n",
    "y_train, y_val, y_test = train[\"temp_zuz\"], val[\"temp_zuz\"], test[\"temp_zuz\"]"
   ]
  },
  {
   "cell_type": "markdown",
   "metadata": {},
   "source": [
    "## Define a RiggedRegression model"
   ]
  },
  {
   "cell_type": "code",
   "execution_count": 32,
   "metadata": {},
   "outputs": [
    {
     "name": "stdout",
     "output_type": "stream",
     "text": [
      "svd 0.1 32.33896642208612\n",
      "cholesky 0.1 32.338966422086145\n",
      "lsqr 0.1 32.34230317011682\n",
      "sparse_cg 0.1 32.339110883191076\n",
      "sag 0.1 32.33877487883606\n",
      "saga 0.1 32.339169390969474\n",
      "svd 0.5 32.33891452308105\n",
      "cholesky 0.5 32.33891452308104\n",
      "lsqr 0.5 32.34225003597736\n",
      "sparse_cg 0.5 32.339058905013715\n",
      "sag 0.5 32.33912828123795\n",
      "saga 0.5 32.33927113404872\n",
      "svd 1 32.338849675679356\n",
      "cholesky 1 32.338849675679356\n",
      "lsqr 1 32.34218364535858\n",
      "sparse_cg 1 32.33899395871959\n",
      "sag 1 32.33900481873822\n",
      "saga 1 32.33886281495525\n"
     ]
    }
   ],
   "source": [
    "solvers = ['svd', 'cholesky', 'lsqr', 'sparse_cg', 'sag', 'saga']\n",
    "alphas = [.1, .5, 1]\n",
    "\n",
    "for alpha in alphas:\n",
    "    for solver in solvers:\n",
    "        ridge_model = Pipeline([('normalization', preprocessing.StandardScaler()),\n",
    "                        ('ridge', linear_model.Ridge(alpha=alpha, solver=solver))])\n",
    "        ridge_model.fit(X_train, y_train)\n",
    "        mse = metrics.mean_squared_error(y_val, ridge_model.predict(X_val))\n",
    "        print(solver, alpha, mse)"
   ]
  },
  {
   "cell_type": "markdown",
   "metadata": {},
   "source": [
    "## Train the model"
   ]
  },
  {
   "cell_type": "code",
   "execution_count": 33,
   "metadata": {},
   "outputs": [
    {
     "data": {
      "text/plain": [
       "32.338824457803064"
      ]
     },
     "execution_count": 33,
     "metadata": {},
     "output_type": "execute_result"
    }
   ],
   "source": [
    "ridge_model.fit(X_train, y_train)\n",
    "metrics.mean_squared_error(y_val, ridge_model.predict(X_val))"
   ]
  },
  {
   "cell_type": "code",
   "execution_count": 34,
   "metadata": {},
   "outputs": [],
   "source": [
    "filename = 'finalized_model.sav'\n",
    "pickle.dump(ridge_model, open(filename, 'wb'))"
   ]
  },
  {
   "cell_type": "code",
   "execution_count": 35,
   "metadata": {},
   "outputs": [],
   "source": [
    "model = pickle.load(open(filename, 'rb'))"
   ]
  },
  {
   "cell_type": "code",
   "execution_count": 36,
   "metadata": {},
   "outputs": [
    {
     "data": {
      "text/plain": [
       "32.338824457803064"
      ]
     },
     "execution_count": 36,
     "metadata": {},
     "output_type": "execute_result"
    }
   ],
   "source": [
    "metrics.mean_squared_error(y_val, model.predict(X_val))"
   ]
  }
 ],
 "metadata": {
  "kernelspec": {
   "display_name": "Python 3",
   "language": "python",
   "name": "python3"
  },
  "language_info": {
   "codemirror_mode": {
    "name": "ipython",
    "version": 3
   },
   "file_extension": ".py",
   "mimetype": "text/x-python",
   "name": "python",
   "nbconvert_exporter": "python",
   "pygments_lexer": "ipython3",
   "version": "3.8.5"
  }
 },
 "nbformat": 4,
 "nbformat_minor": 4
}
