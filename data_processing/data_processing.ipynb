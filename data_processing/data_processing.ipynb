{
 "cells": [
  {
   "cell_type": "code",
   "execution_count": 20,
   "id": "f2ac9980-515c-4f69-8cd5-69bab7fbb42f",
   "metadata": {},
   "outputs": [],
   "source": [
    "import pandas as pd\n",
    "import numpy as np\n",
    "\n",
    "from sklearn.preprocessing import StandardScaler"
   ]
  },
  {
   "cell_type": "markdown",
   "id": "66aebf23-4136-402c-85a4-0e4a4510dfee",
   "metadata": {
    "tags": []
   },
   "source": [
    "#### Load data"
   ]
  },
  {
   "cell_type": "code",
   "execution_count": 37,
   "id": "4b4059c1-e1e4-4039-aa94-2fdba59b62c0",
   "metadata": {},
   "outputs": [
    {
     "data": {
      "text/plain": [
       "0         2020-10-01 00:00:00+02:00\n",
       "1         2020-10-01 00:01:00+02:00\n",
       "2         2020-10-01 00:02:00+02:00\n",
       "3         2020-10-01 00:03:00+02:00\n",
       "4         2020-10-01 00:04:00+02:00\n",
       "                    ...            \n",
       "702775    2022-01-31 23:55:00+01:00\n",
       "702776    2022-01-31 23:56:00+01:00\n",
       "702777    2022-01-31 23:57:00+01:00\n",
       "702778    2022-01-31 23:58:00+01:00\n",
       "702779    2022-01-31 23:59:00+01:00\n",
       "Name: czas, Length: 702780, dtype: object"
      ]
     },
     "execution_count": 37,
     "metadata": {},
     "output_type": "execute_result"
    }
   ],
   "source": [
    "df_og = pd.read_csv('../data/merged.csv')\n",
    "df_og['czas'] = pd.to_datetime(df_og['czas'])\n",
    "# df_og['czas'].tz_co\n",
    "#df_og.set_index('czas', inplace=True)"
   ]
  },
  {
   "cell_type": "code",
   "execution_count": 42,
   "id": "ca680da8-4ee1-48c1-8c7d-dc3820cb0eed",
   "metadata": {},
   "outputs": [
    {
     "data": {
      "text/plain": [
       "0        2020-09-30 22:00:00+00:00\n",
       "1        2020-09-30 22:01:00+00:00\n",
       "2        2020-09-30 22:02:00+00:00\n",
       "3        2020-09-30 22:03:00+00:00\n",
       "4        2020-09-30 22:04:00+00:00\n",
       "                    ...           \n",
       "702775   2022-01-31 22:55:00+00:00\n",
       "702776   2022-01-31 22:56:00+00:00\n",
       "702777   2022-01-31 22:57:00+00:00\n",
       "702778   2022-01-31 22:58:00+00:00\n",
       "702779   2022-01-31 22:59:00+00:00\n",
       "Name: czas, Length: 702780, dtype: datetime64[ns, UTC]"
      ]
     },
     "execution_count": 42,
     "metadata": {},
     "output_type": "execute_result"
    }
   ],
   "source": [
    "pd.to_datetime(df_og['czas'], utc=True)"
   ]
  },
  {
   "cell_type": "code",
   "execution_count": 40,
   "id": "6cd84b19-1963-4a73-9e70-05fe68d2dccc",
   "metadata": {},
   "outputs": [
    {
     "ename": "TypeError",
     "evalue": "index is not a valid DatetimeIndex or PeriodIndex",
     "output_type": "error",
     "traceback": [
      "\u001B[1;31m---------------------------------------------------------------------------\u001B[0m",
      "\u001B[1;31mTypeError\u001B[0m                                 Traceback (most recent call last)",
      "Input \u001B[1;32mIn [40]\u001B[0m, in \u001B[0;36m<module>\u001B[1;34m\u001B[0m\n\u001B[1;32m----> 1\u001B[0m \u001B[43mdf_og\u001B[49m\u001B[43m[\u001B[49m\u001B[38;5;124;43m'\u001B[39;49m\u001B[38;5;124;43mczas\u001B[39;49m\u001B[38;5;124;43m'\u001B[39;49m\u001B[43m]\u001B[49m\u001B[38;5;241;43m.\u001B[39;49m\u001B[43mtz_convert\u001B[49m\u001B[43m(\u001B[49m\u001B[38;5;28;43;01mNone\u001B[39;49;00m\u001B[43m)\u001B[49m\n",
      "File \u001B[1;32mC:\\Python310\\lib\\site-packages\\pandas\\core\\generic.py:9808\u001B[0m, in \u001B[0;36mNDFrame.tz_convert\u001B[1;34m(self, tz, axis, level, copy)\u001B[0m\n\u001B[0;32m   9806\u001B[0m     \u001B[38;5;28;01mif\u001B[39;00m level \u001B[38;5;129;01mnot\u001B[39;00m \u001B[38;5;129;01min\u001B[39;00m (\u001B[38;5;28;01mNone\u001B[39;00m, \u001B[38;5;241m0\u001B[39m, ax\u001B[38;5;241m.\u001B[39mname):\n\u001B[0;32m   9807\u001B[0m         \u001B[38;5;28;01mraise\u001B[39;00m \u001B[38;5;167;01mValueError\u001B[39;00m(\u001B[38;5;124mf\u001B[39m\u001B[38;5;124m\"\u001B[39m\u001B[38;5;124mThe level \u001B[39m\u001B[38;5;132;01m{\u001B[39;00mlevel\u001B[38;5;132;01m}\u001B[39;00m\u001B[38;5;124m is not valid\u001B[39m\u001B[38;5;124m\"\u001B[39m)\n\u001B[1;32m-> 9808\u001B[0m     ax \u001B[38;5;241m=\u001B[39m \u001B[43m_tz_convert\u001B[49m\u001B[43m(\u001B[49m\u001B[43max\u001B[49m\u001B[43m,\u001B[49m\u001B[43m \u001B[49m\u001B[43mtz\u001B[49m\u001B[43m)\u001B[49m\n\u001B[0;32m   9810\u001B[0m result \u001B[38;5;241m=\u001B[39m \u001B[38;5;28mself\u001B[39m\u001B[38;5;241m.\u001B[39mcopy(deep\u001B[38;5;241m=\u001B[39mcopy)\n\u001B[0;32m   9811\u001B[0m result \u001B[38;5;241m=\u001B[39m result\u001B[38;5;241m.\u001B[39mset_axis(ax, axis\u001B[38;5;241m=\u001B[39maxis, inplace\u001B[38;5;241m=\u001B[39m\u001B[38;5;28;01mFalse\u001B[39;00m)\n",
      "File \u001B[1;32mC:\\Python310\\lib\\site-packages\\pandas\\core\\generic.py:9790\u001B[0m, in \u001B[0;36mNDFrame.tz_convert.<locals>._tz_convert\u001B[1;34m(ax, tz)\u001B[0m\n\u001B[0;32m   9788\u001B[0m \u001B[38;5;28;01mif\u001B[39;00m \u001B[38;5;28mlen\u001B[39m(ax) \u001B[38;5;241m>\u001B[39m \u001B[38;5;241m0\u001B[39m:\n\u001B[0;32m   9789\u001B[0m     ax_name \u001B[38;5;241m=\u001B[39m \u001B[38;5;28mself\u001B[39m\u001B[38;5;241m.\u001B[39m_get_axis_name(axis)\n\u001B[1;32m-> 9790\u001B[0m     \u001B[38;5;28;01mraise\u001B[39;00m \u001B[38;5;167;01mTypeError\u001B[39;00m(\n\u001B[0;32m   9791\u001B[0m         \u001B[38;5;124mf\u001B[39m\u001B[38;5;124m\"\u001B[39m\u001B[38;5;132;01m{\u001B[39;00max_name\u001B[38;5;132;01m}\u001B[39;00m\u001B[38;5;124m is not a valid DatetimeIndex or PeriodIndex\u001B[39m\u001B[38;5;124m\"\u001B[39m\n\u001B[0;32m   9792\u001B[0m     )\n\u001B[0;32m   9793\u001B[0m \u001B[38;5;28;01melse\u001B[39;00m:\n\u001B[0;32m   9794\u001B[0m     ax \u001B[38;5;241m=\u001B[39m DatetimeIndex([], tz\u001B[38;5;241m=\u001B[39mtz)\n",
      "\u001B[1;31mTypeError\u001B[0m: index is not a valid DatetimeIndex or PeriodIndex"
     ]
    }
   ],
   "source": [
    "df_og['czas'].tz_convert(None)"
   ]
  },
  {
   "cell_type": "markdown",
   "id": "77552bce-4f22-400b-80cc-ba1f16e9f51d",
   "metadata": {},
   "source": [
    "### Proste featury wybieram albo tworze agregując\n"
   ]
  },
  {
   "cell_type": "code",
   "execution_count": 23,
   "id": "e9a29e81-b4aa-4767-aac9-2c6b2074261e",
   "metadata": {},
   "outputs": [],
   "source": [
    "df = pd.DataFrame(index=df_og.index)"
   ]
  },
  {
   "cell_type": "code",
   "execution_count": 24,
   "id": "5d838b8f-f743-4997-89a2-de23de70ef92",
   "metadata": {},
   "outputs": [],
   "source": [
    "# srednia po 'WODY POWROTNE KOLEKTORÓW [°C]'\n",
    "TIR = df_og.columns[df_og.columns.str.contains('tir')].values\n",
    "df['TIR'] = df_og[TIR].mean(axis='columns')"
   ]
  },
  {
   "cell_type": "code",
   "execution_count": 25,
   "id": "c6412e41-fe07-41b3-9d1e-bad59e2527d5",
   "metadata": {},
   "outputs": [],
   "source": [
    "# srednia po 'TEMP POD 2 WARSTWĄ WYMURÓWKI [°C]'\n",
    "TIX1 = df_og.columns[df_og.columns.str.contains('001tix')].values\n",
    "df['TIX1'] = df_og[TIX1].mean(axis='columns')"
   ]
  },
  {
   "cell_type": "code",
   "execution_count": 26,
   "id": "e9f5b299-30b2-4d58-a338-0c524008b998",
   "metadata": {},
   "outputs": [],
   "source": [
    "# wrzucam o prażonkach i prob\n",
    "PR = df_og.columns[df_og.columns.str.contains('pr')].values\n",
    "df[PR] = df_og[PR]"
   ]
  },
  {
   "cell_type": "code",
   "execution_count": 33,
   "id": "19980c31-8d2a-4308-bdb2-f1fecb4f2758",
   "metadata": {},
   "outputs": [
    {
     "data": {
      "text/html": [
       "<div>\n",
       "<style scoped>\n",
       "    .dataframe tbody tr th:only-of-type {\n",
       "        vertical-align: middle;\n",
       "    }\n",
       "\n",
       "    .dataframe tbody tr th {\n",
       "        vertical-align: top;\n",
       "    }\n",
       "\n",
       "    .dataframe thead th {\n",
       "        text-align: right;\n",
       "    }\n",
       "</style>\n",
       "<table border=\"1\" class=\"dataframe\">\n",
       "  <thead>\n",
       "    <tr style=\"text-align: right;\">\n",
       "      <th></th>\n",
       "      <th>TIR</th>\n",
       "      <th>TIX1</th>\n",
       "      <th>prazonka_fe</th>\n",
       "      <th>prazonka_s</th>\n",
       "      <th>prob_corg</th>\n",
       "      <th>prob_fe</th>\n",
       "      <th>prob_s</th>\n",
       "    </tr>\n",
       "    <tr>\n",
       "      <th>czas</th>\n",
       "      <th></th>\n",
       "      <th></th>\n",
       "      <th></th>\n",
       "      <th></th>\n",
       "      <th></th>\n",
       "      <th></th>\n",
       "      <th></th>\n",
       "    </tr>\n",
       "  </thead>\n",
       "  <tbody>\n",
       "    <tr>\n",
       "      <th>2020-10-01 00:00:00+02:00</th>\n",
       "      <td>29.086390</td>\n",
       "      <td>418.990965</td>\n",
       "      <td>4.48</td>\n",
       "      <td>8.98</td>\n",
       "      <td>8.6</td>\n",
       "      <td>4.55</td>\n",
       "      <td>9.87</td>\n",
       "    </tr>\n",
       "    <tr>\n",
       "      <th>2020-10-01 00:01:00+02:00</th>\n",
       "      <td>29.087996</td>\n",
       "      <td>418.990059</td>\n",
       "      <td>4.48</td>\n",
       "      <td>8.98</td>\n",
       "      <td>8.6</td>\n",
       "      <td>4.55</td>\n",
       "      <td>9.87</td>\n",
       "    </tr>\n",
       "    <tr>\n",
       "      <th>2020-10-01 00:02:00+02:00</th>\n",
       "      <td>29.094825</td>\n",
       "      <td>418.989153</td>\n",
       "      <td>4.48</td>\n",
       "      <td>8.98</td>\n",
       "      <td>8.6</td>\n",
       "      <td>4.55</td>\n",
       "      <td>9.87</td>\n",
       "    </tr>\n",
       "    <tr>\n",
       "      <th>2020-10-01 00:03:00+02:00</th>\n",
       "      <td>29.098936</td>\n",
       "      <td>418.988247</td>\n",
       "      <td>4.48</td>\n",
       "      <td>8.98</td>\n",
       "      <td>8.6</td>\n",
       "      <td>4.55</td>\n",
       "      <td>9.87</td>\n",
       "    </tr>\n",
       "    <tr>\n",
       "      <th>2020-10-01 00:04:00+02:00</th>\n",
       "      <td>29.096812</td>\n",
       "      <td>418.987341</td>\n",
       "      <td>4.48</td>\n",
       "      <td>8.98</td>\n",
       "      <td>8.6</td>\n",
       "      <td>4.55</td>\n",
       "      <td>9.87</td>\n",
       "    </tr>\n",
       "    <tr>\n",
       "      <th>...</th>\n",
       "      <td>...</td>\n",
       "      <td>...</td>\n",
       "      <td>...</td>\n",
       "      <td>...</td>\n",
       "      <td>...</td>\n",
       "      <td>...</td>\n",
       "      <td>...</td>\n",
       "    </tr>\n",
       "    <tr>\n",
       "      <th>2022-01-31 23:55:00+01:00</th>\n",
       "      <td>27.868889</td>\n",
       "      <td>417.800499</td>\n",
       "      <td>6.18</td>\n",
       "      <td>8.89</td>\n",
       "      <td>7.8</td>\n",
       "      <td>6.65</td>\n",
       "      <td>12.47</td>\n",
       "    </tr>\n",
       "    <tr>\n",
       "      <th>2022-01-31 23:56:00+01:00</th>\n",
       "      <td>27.868535</td>\n",
       "      <td>417.799414</td>\n",
       "      <td>6.18</td>\n",
       "      <td>8.89</td>\n",
       "      <td>7.8</td>\n",
       "      <td>6.65</td>\n",
       "      <td>12.47</td>\n",
       "    </tr>\n",
       "    <tr>\n",
       "      <th>2022-01-31 23:57:00+01:00</th>\n",
       "      <td>27.859336</td>\n",
       "      <td>417.798330</td>\n",
       "      <td>6.18</td>\n",
       "      <td>8.89</td>\n",
       "      <td>7.8</td>\n",
       "      <td>6.65</td>\n",
       "      <td>12.47</td>\n",
       "    </tr>\n",
       "    <tr>\n",
       "      <th>2022-01-31 23:58:00+01:00</th>\n",
       "      <td>27.857374</td>\n",
       "      <td>417.797246</td>\n",
       "      <td>6.18</td>\n",
       "      <td>8.89</td>\n",
       "      <td>7.8</td>\n",
       "      <td>6.65</td>\n",
       "      <td>12.47</td>\n",
       "    </tr>\n",
       "    <tr>\n",
       "      <th>2022-01-31 23:59:00+01:00</th>\n",
       "      <td>27.862650</td>\n",
       "      <td>417.796162</td>\n",
       "      <td>6.18</td>\n",
       "      <td>8.89</td>\n",
       "      <td>7.8</td>\n",
       "      <td>6.65</td>\n",
       "      <td>12.47</td>\n",
       "    </tr>\n",
       "  </tbody>\n",
       "</table>\n",
       "<p>702780 rows × 7 columns</p>\n",
       "</div>"
      ],
      "text/plain": [
       "                                 TIR        TIX1  prazonka_fe  prazonka_s  \\\n",
       "czas                                                                        \n",
       "2020-10-01 00:00:00+02:00  29.086390  418.990965         4.48        8.98   \n",
       "2020-10-01 00:01:00+02:00  29.087996  418.990059         4.48        8.98   \n",
       "2020-10-01 00:02:00+02:00  29.094825  418.989153         4.48        8.98   \n",
       "2020-10-01 00:03:00+02:00  29.098936  418.988247         4.48        8.98   \n",
       "2020-10-01 00:04:00+02:00  29.096812  418.987341         4.48        8.98   \n",
       "...                              ...         ...          ...         ...   \n",
       "2022-01-31 23:55:00+01:00  27.868889  417.800499         6.18        8.89   \n",
       "2022-01-31 23:56:00+01:00  27.868535  417.799414         6.18        8.89   \n",
       "2022-01-31 23:57:00+01:00  27.859336  417.798330         6.18        8.89   \n",
       "2022-01-31 23:58:00+01:00  27.857374  417.797246         6.18        8.89   \n",
       "2022-01-31 23:59:00+01:00  27.862650  417.796162         6.18        8.89   \n",
       "\n",
       "                           prob_corg  prob_fe  prob_s  \n",
       "czas                                                   \n",
       "2020-10-01 00:00:00+02:00        8.6     4.55    9.87  \n",
       "2020-10-01 00:01:00+02:00        8.6     4.55    9.87  \n",
       "2020-10-01 00:02:00+02:00        8.6     4.55    9.87  \n",
       "2020-10-01 00:03:00+02:00        8.6     4.55    9.87  \n",
       "2020-10-01 00:04:00+02:00        8.6     4.55    9.87  \n",
       "...                              ...      ...     ...  \n",
       "2022-01-31 23:55:00+01:00        7.8     6.65   12.47  \n",
       "2022-01-31 23:56:00+01:00        7.8     6.65   12.47  \n",
       "2022-01-31 23:57:00+01:00        7.8     6.65   12.47  \n",
       "2022-01-31 23:58:00+01:00        7.8     6.65   12.47  \n",
       "2022-01-31 23:59:00+01:00        7.8     6.65   12.47  \n",
       "\n",
       "[702780 rows x 7 columns]"
      ]
     },
     "execution_count": 33,
     "metadata": {},
     "output_type": "execute_result"
    }
   ],
   "source": [
    "df"
   ]
  },
  {
   "cell_type": "code",
   "execution_count": null,
   "id": "858c67ed-8112-48d1-b146-6402893a3f1b",
   "metadata": {},
   "outputs": [],
   "source": []
  }
 ],
 "metadata": {
  "kernelspec": {
   "display_name": "Python 3 (ipykernel)",
   "language": "python",
   "name": "python3"
  },
  "language_info": {
   "codemirror_mode": {
    "name": "ipython",
    "version": 3
   },
   "file_extension": ".py",
   "mimetype": "text/x-python",
   "name": "python",
   "nbconvert_exporter": "python",
   "pygments_lexer": "ipython3",
   "version": "3.10.1"
  }
 },
 "nbformat": 4,
 "nbformat_minor": 5
}