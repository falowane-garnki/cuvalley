{
 "cells": [
  {
   "cell_type": "code",
   "execution_count": 1,
   "id": "f2ac9980-515c-4f69-8cd5-69bab7fbb42f",
   "metadata": {},
   "outputs": [],
   "source": [
    "import pandas as pd\n",
    "import numpy as np\n",
    "\n",
    "from data_processing import *\n",
    "from utils import feature_desc\n",
    "\n",
    "from sklearn.preprocessing import StandardScaler"
   ]
  },
  {
   "cell_type": "markdown",
   "id": "66aebf23-4136-402c-85a4-0e4a4510dfee",
   "metadata": {
    "tags": []
   },
   "source": [
    "#### Load data"
   ]
  },
  {
   "cell_type": "code",
   "execution_count": 2,
   "id": "4b4059c1-e1e4-4039-aa94-2fdba59b62c0",
   "metadata": {
    "scrolled": false
   },
   "outputs": [],
   "source": [
    "df_og = load(csv_path='../data/merged.csv')"
   ]
  },
  {
   "cell_type": "markdown",
   "id": "4db5dec1",
   "metadata": {},
   "source": [
    "#### Aggregate time into clusters of size k"
   ]
  },
  {
   "cell_type": "code",
   "execution_count": 3,
   "id": "2403c25e",
   "metadata": {},
   "outputs": [],
   "source": [
    "# k = 15\n",
    "# df_og = aggregate(df_og, k)"
   ]
  },
  {
   "cell_type": "markdown",
   "id": "77552bce-4f22-400b-80cc-ba1f16e9f51d",
   "metadata": {},
   "source": [
    "### Proste featury wybieram albo tworze agregując\n"
   ]
  },
  {
   "cell_type": "code",
   "execution_count": 4,
   "id": "e9a29e81-b4aa-4767-aac9-2c6b2074261e",
   "metadata": {},
   "outputs": [],
   "source": [
    "df = pd.DataFrame(index=df_og.index)"
   ]
  },
  {
   "cell_type": "code",
   "execution_count": 8,
   "id": "5d838b8f-f743-4997-89a2-de23de70ef92",
   "metadata": {},
   "outputs": [
    {
     "ename": "KeyError",
     "evalue": "\"None of [Index(['WODA POWROTNA KOLEKTORA KZ7 [°C]', 'WODA POWROTNA KOLEKTORA KZ8 [°C]',\\n       'WODA POWROTNA KOLEKTORA KZ9 [°C]', 'WODA POWROTNA KOLEKTORA KZ10 [°C]',\\n       'WODA POWROTNA KOLEKTORA KZ11 [°C]',\\n       'WODA POWROTNA KOLEKTORA KZ12 [°C]',\\n       'WODA POWROTNA KOLEKTORA KZ13 [°C]',\\n       'WODA POWROTNA KOLEKTORA KZ15 [°C]'],\\n      dtype='object')] are in the [columns]\"",
     "output_type": "error",
     "traceback": [
      "\u001b[0;31m---------------------------------------------------------------------------\u001b[0m",
      "\u001b[0;31mKeyError\u001b[0m                                  Traceback (most recent call last)",
      "\u001b[0;32m<ipython-input-8-9e929a03a66f>\u001b[0m in \u001b[0;36m<module>\u001b[0;34m\u001b[0m\n\u001b[1;32m      1\u001b[0m \u001b[0;31m# srednia po 'WODY POWROTNE KOLEKTORÓW [°C]'\u001b[0m\u001b[0;34m\u001b[0m\u001b[0;34m\u001b[0m\u001b[0;34m\u001b[0m\u001b[0m\n\u001b[1;32m      2\u001b[0m \u001b[0mTIR\u001b[0m \u001b[0;34m=\u001b[0m \u001b[0mdf_og\u001b[0m\u001b[0;34m.\u001b[0m\u001b[0mcolumns\u001b[0m\u001b[0;34m[\u001b[0m\u001b[0mdf_og\u001b[0m\u001b[0;34m.\u001b[0m\u001b[0mcolumns\u001b[0m\u001b[0;34m.\u001b[0m\u001b[0mstr\u001b[0m\u001b[0;34m.\u001b[0m\u001b[0mcontains\u001b[0m\u001b[0;34m(\u001b[0m\u001b[0;34m'tir'\u001b[0m\u001b[0;34m)\u001b[0m\u001b[0;34m]\u001b[0m\u001b[0;34m.\u001b[0m\u001b[0mmap\u001b[0m\u001b[0;34m(\u001b[0m\u001b[0;32mlambda\u001b[0m \u001b[0mx\u001b[0m\u001b[0;34m:\u001b[0m \u001b[0mfeature_desc\u001b[0m\u001b[0;34m(\u001b[0m\u001b[0mx\u001b[0m\u001b[0;34m)\u001b[0m\u001b[0;34m)\u001b[0m\u001b[0;34m.\u001b[0m\u001b[0mvalues\u001b[0m\u001b[0;34m\u001b[0m\u001b[0;34m\u001b[0m\u001b[0m\n\u001b[0;32m----> 3\u001b[0;31m \u001b[0mdf\u001b[0m\u001b[0;34m[\u001b[0m\u001b[0;34m'TIR'\u001b[0m\u001b[0;34m]\u001b[0m \u001b[0;34m=\u001b[0m \u001b[0mdf_og\u001b[0m\u001b[0;34m[\u001b[0m\u001b[0mTIR\u001b[0m\u001b[0;34m]\u001b[0m\u001b[0;34m.\u001b[0m\u001b[0mmean\u001b[0m\u001b[0;34m(\u001b[0m\u001b[0maxis\u001b[0m\u001b[0;34m=\u001b[0m\u001b[0;34m'columns'\u001b[0m\u001b[0;34m)\u001b[0m\u001b[0;34m\u001b[0m\u001b[0;34m\u001b[0m\u001b[0m\n\u001b[0m",
      "\u001b[0;32m~/anaconda3/lib/python3.8/site-packages/pandas/core/frame.py\u001b[0m in \u001b[0;36m__getitem__\u001b[0;34m(self, key)\u001b[0m\n\u001b[1;32m   2906\u001b[0m             \u001b[0;32mif\u001b[0m \u001b[0mis_iterator\u001b[0m\u001b[0;34m(\u001b[0m\u001b[0mkey\u001b[0m\u001b[0;34m)\u001b[0m\u001b[0;34m:\u001b[0m\u001b[0;34m\u001b[0m\u001b[0;34m\u001b[0m\u001b[0m\n\u001b[1;32m   2907\u001b[0m                 \u001b[0mkey\u001b[0m \u001b[0;34m=\u001b[0m \u001b[0mlist\u001b[0m\u001b[0;34m(\u001b[0m\u001b[0mkey\u001b[0m\u001b[0;34m)\u001b[0m\u001b[0;34m\u001b[0m\u001b[0;34m\u001b[0m\u001b[0m\n\u001b[0;32m-> 2908\u001b[0;31m             \u001b[0mindexer\u001b[0m \u001b[0;34m=\u001b[0m \u001b[0mself\u001b[0m\u001b[0;34m.\u001b[0m\u001b[0mloc\u001b[0m\u001b[0;34m.\u001b[0m\u001b[0m_get_listlike_indexer\u001b[0m\u001b[0;34m(\u001b[0m\u001b[0mkey\u001b[0m\u001b[0;34m,\u001b[0m \u001b[0maxis\u001b[0m\u001b[0;34m=\u001b[0m\u001b[0;36m1\u001b[0m\u001b[0;34m,\u001b[0m \u001b[0mraise_missing\u001b[0m\u001b[0;34m=\u001b[0m\u001b[0;32mTrue\u001b[0m\u001b[0;34m)\u001b[0m\u001b[0;34m[\u001b[0m\u001b[0;36m1\u001b[0m\u001b[0;34m]\u001b[0m\u001b[0;34m\u001b[0m\u001b[0;34m\u001b[0m\u001b[0m\n\u001b[0m\u001b[1;32m   2909\u001b[0m \u001b[0;34m\u001b[0m\u001b[0m\n\u001b[1;32m   2910\u001b[0m         \u001b[0;31m# take() does not accept boolean indexers\u001b[0m\u001b[0;34m\u001b[0m\u001b[0;34m\u001b[0m\u001b[0;34m\u001b[0m\u001b[0m\n",
      "\u001b[0;32m~/anaconda3/lib/python3.8/site-packages/pandas/core/indexing.py\u001b[0m in \u001b[0;36m_get_listlike_indexer\u001b[0;34m(self, key, axis, raise_missing)\u001b[0m\n\u001b[1;32m   1252\u001b[0m             \u001b[0mkeyarr\u001b[0m\u001b[0;34m,\u001b[0m \u001b[0mindexer\u001b[0m\u001b[0;34m,\u001b[0m \u001b[0mnew_indexer\u001b[0m \u001b[0;34m=\u001b[0m \u001b[0max\u001b[0m\u001b[0;34m.\u001b[0m\u001b[0m_reindex_non_unique\u001b[0m\u001b[0;34m(\u001b[0m\u001b[0mkeyarr\u001b[0m\u001b[0;34m)\u001b[0m\u001b[0;34m\u001b[0m\u001b[0;34m\u001b[0m\u001b[0m\n\u001b[1;32m   1253\u001b[0m \u001b[0;34m\u001b[0m\u001b[0m\n\u001b[0;32m-> 1254\u001b[0;31m         \u001b[0mself\u001b[0m\u001b[0;34m.\u001b[0m\u001b[0m_validate_read_indexer\u001b[0m\u001b[0;34m(\u001b[0m\u001b[0mkeyarr\u001b[0m\u001b[0;34m,\u001b[0m \u001b[0mindexer\u001b[0m\u001b[0;34m,\u001b[0m \u001b[0maxis\u001b[0m\u001b[0;34m,\u001b[0m \u001b[0mraise_missing\u001b[0m\u001b[0;34m=\u001b[0m\u001b[0mraise_missing\u001b[0m\u001b[0;34m)\u001b[0m\u001b[0;34m\u001b[0m\u001b[0;34m\u001b[0m\u001b[0m\n\u001b[0m\u001b[1;32m   1255\u001b[0m         \u001b[0;32mreturn\u001b[0m \u001b[0mkeyarr\u001b[0m\u001b[0;34m,\u001b[0m \u001b[0mindexer\u001b[0m\u001b[0;34m\u001b[0m\u001b[0;34m\u001b[0m\u001b[0m\n\u001b[1;32m   1256\u001b[0m \u001b[0;34m\u001b[0m\u001b[0m\n",
      "\u001b[0;32m~/anaconda3/lib/python3.8/site-packages/pandas/core/indexing.py\u001b[0m in \u001b[0;36m_validate_read_indexer\u001b[0;34m(self, key, indexer, axis, raise_missing)\u001b[0m\n\u001b[1;32m   1296\u001b[0m             \u001b[0;32mif\u001b[0m \u001b[0mmissing\u001b[0m \u001b[0;34m==\u001b[0m \u001b[0mlen\u001b[0m\u001b[0;34m(\u001b[0m\u001b[0mindexer\u001b[0m\u001b[0;34m)\u001b[0m\u001b[0;34m:\u001b[0m\u001b[0;34m\u001b[0m\u001b[0;34m\u001b[0m\u001b[0m\n\u001b[1;32m   1297\u001b[0m                 \u001b[0maxis_name\u001b[0m \u001b[0;34m=\u001b[0m \u001b[0mself\u001b[0m\u001b[0;34m.\u001b[0m\u001b[0mobj\u001b[0m\u001b[0;34m.\u001b[0m\u001b[0m_get_axis_name\u001b[0m\u001b[0;34m(\u001b[0m\u001b[0maxis\u001b[0m\u001b[0;34m)\u001b[0m\u001b[0;34m\u001b[0m\u001b[0;34m\u001b[0m\u001b[0m\n\u001b[0;32m-> 1298\u001b[0;31m                 \u001b[0;32mraise\u001b[0m \u001b[0mKeyError\u001b[0m\u001b[0;34m(\u001b[0m\u001b[0;34mf\"None of [{key}] are in the [{axis_name}]\"\u001b[0m\u001b[0;34m)\u001b[0m\u001b[0;34m\u001b[0m\u001b[0;34m\u001b[0m\u001b[0m\n\u001b[0m\u001b[1;32m   1299\u001b[0m \u001b[0;34m\u001b[0m\u001b[0m\n\u001b[1;32m   1300\u001b[0m             \u001b[0;31m# We (temporarily) allow for some missing keys with .loc, except in\u001b[0m\u001b[0;34m\u001b[0m\u001b[0;34m\u001b[0m\u001b[0;34m\u001b[0m\u001b[0m\n",
      "\u001b[0;31mKeyError\u001b[0m: \"None of [Index(['WODA POWROTNA KOLEKTORA KZ7 [°C]', 'WODA POWROTNA KOLEKTORA KZ8 [°C]',\\n       'WODA POWROTNA KOLEKTORA KZ9 [°C]', 'WODA POWROTNA KOLEKTORA KZ10 [°C]',\\n       'WODA POWROTNA KOLEKTORA KZ11 [°C]',\\n       'WODA POWROTNA KOLEKTORA KZ12 [°C]',\\n       'WODA POWROTNA KOLEKTORA KZ13 [°C]',\\n       'WODA POWROTNA KOLEKTORA KZ15 [°C]'],\\n      dtype='object')] are in the [columns]\""
     ]
    }
   ],
   "source": [
    "# srednia po 'WODY POWROTNE KOLEKTORÓW [°C]'\n",
    "TIR = df_og.columns[df_og.columns.str.contains('tir')].map(lambda x: feature_desc(x)).values\n",
    "df['TIR'] = df_og[TIR].mean(axis='columns')"
   ]
  },
  {
   "cell_type": "code",
   "execution_count": 7,
   "id": "c6412e41-fe07-41b3-9d1e-bad59e2527d5",
   "metadata": {},
   "outputs": [
    {
     "ename": "KeyError",
     "evalue": "\"None of [Index(['TEMP.1 POD 2 WARSTWĄ WYMURÓWKI [°C]',\\n       'TEMP.2 POD 2 WARSTWĄ WYMURÓWKI [°C]',\\n       'TEMP.3 POD 2 WARSTWĄ WYMURÓWKI [°C]',\\n       'TEMP.4 POD 2 WARSTWĄ WYMURÓWKI [°C]',\\n       'TEMP.5 POD 2 WARSTWĄ WYMURÓWKI [°C]',\\n       'TEMP.6 POD 2 WARSTWĄ WYMURÓWKI [°C]',\\n       'TEMP.7 POD 2 WARSTWĄ WYMURÓWKI [°C]',\\n       'TEMP.8 POD 2 WARSTWĄ WYMURÓWKI [°C]',\\n       'TEMP.9 POD 2 WARSTWĄ WYMURÓWKI [°C]',\\n       'TEMP.10 POD 2 WARSTWĄ WYMURÓWKI [°C]',\\n       'TEMP.11 POD 2 WARSTWĄ WYMURÓWKI [°C]',\\n       'TEMP.12 POD 2 WARSTWĄ WYMURÓWKI [°C]',\\n       'TEMP.13 POD 2 WARSTWĄ WYMURÓWKI [°C]',\\n       'TEMP.14 POD 2 WARSTWĄ WYMURÓWKI [°C]',\\n       'TEMP.15 POD 2 WARSTWĄ WYMURÓWKI [°C]',\\n       'TEMP.16 POD 2 WARSTWĄ WYMURÓWKI [°C]',\\n       'TEMP.17 POD 2 WARSTWĄ WYMURÓWKI [°C]',\\n       'TEMP.18 POD 2 WARSTWĄ WYMURÓWKI [°C]',\\n       'TEMP.19 POD 2 WARSTWĄ WYMURÓWKI [°C]',\\n       'TEMP.20 POD 2 WARSTWĄ WYMURÓWKI [°C]',\\n       'TEMP.21 POD 2 WARSTWĄ WYMURÓWKI [°C]',\\n       'TEMP22 POD 2 WARSTWĄ WYMURÓWKI [°C]',\\n       'TEMP.23 POD 2 WARSTWĄ WYMURÓWKI [°C]',\\n       'TEMP.24 POD 2 WARSTWĄ WYMURÓWKI [°C]'],\\n      dtype='object')] are in the [columns]\"",
     "output_type": "error",
     "traceback": [
      "\u001b[0;31m---------------------------------------------------------------------------\u001b[0m",
      "\u001b[0;31mKeyError\u001b[0m                                  Traceback (most recent call last)",
      "\u001b[0;32m<ipython-input-7-026d829ddefd>\u001b[0m in \u001b[0;36m<module>\u001b[0;34m\u001b[0m\n\u001b[1;32m      1\u001b[0m \u001b[0;31m# srednia po 'TEMP POD 2 WARSTWĄ WYMURÓWKI [°C]'\u001b[0m\u001b[0;34m\u001b[0m\u001b[0;34m\u001b[0m\u001b[0;34m\u001b[0m\u001b[0m\n\u001b[1;32m      2\u001b[0m \u001b[0mTIX1\u001b[0m \u001b[0;34m=\u001b[0m \u001b[0mdf_og\u001b[0m\u001b[0;34m.\u001b[0m\u001b[0mcolumns\u001b[0m\u001b[0;34m[\u001b[0m\u001b[0mdf_og\u001b[0m\u001b[0;34m.\u001b[0m\u001b[0mcolumns\u001b[0m\u001b[0;34m.\u001b[0m\u001b[0mstr\u001b[0m\u001b[0;34m.\u001b[0m\u001b[0mcontains\u001b[0m\u001b[0;34m(\u001b[0m\u001b[0;34m'001tix'\u001b[0m\u001b[0;34m)\u001b[0m\u001b[0;34m]\u001b[0m\u001b[0;34m.\u001b[0m\u001b[0mmap\u001b[0m\u001b[0;34m(\u001b[0m\u001b[0;32mlambda\u001b[0m \u001b[0mx\u001b[0m\u001b[0;34m:\u001b[0m \u001b[0mfeature_desc\u001b[0m\u001b[0;34m(\u001b[0m\u001b[0mx\u001b[0m\u001b[0;34m)\u001b[0m\u001b[0;34m)\u001b[0m\u001b[0;34m.\u001b[0m\u001b[0mvalues\u001b[0m\u001b[0;34m\u001b[0m\u001b[0;34m\u001b[0m\u001b[0m\n\u001b[0;32m----> 3\u001b[0;31m \u001b[0mdf\u001b[0m\u001b[0;34m[\u001b[0m\u001b[0;34m'TIX1'\u001b[0m\u001b[0;34m]\u001b[0m \u001b[0;34m=\u001b[0m \u001b[0mdf_og\u001b[0m\u001b[0;34m[\u001b[0m\u001b[0mTIX1\u001b[0m\u001b[0;34m]\u001b[0m\u001b[0;34m.\u001b[0m\u001b[0mmean\u001b[0m\u001b[0;34m(\u001b[0m\u001b[0maxis\u001b[0m\u001b[0;34m=\u001b[0m\u001b[0;34m'columns'\u001b[0m\u001b[0;34m)\u001b[0m\u001b[0;34m\u001b[0m\u001b[0;34m\u001b[0m\u001b[0m\n\u001b[0m",
      "\u001b[0;32m~/anaconda3/lib/python3.8/site-packages/pandas/core/frame.py\u001b[0m in \u001b[0;36m__getitem__\u001b[0;34m(self, key)\u001b[0m\n\u001b[1;32m   2906\u001b[0m             \u001b[0;32mif\u001b[0m \u001b[0mis_iterator\u001b[0m\u001b[0;34m(\u001b[0m\u001b[0mkey\u001b[0m\u001b[0;34m)\u001b[0m\u001b[0;34m:\u001b[0m\u001b[0;34m\u001b[0m\u001b[0;34m\u001b[0m\u001b[0m\n\u001b[1;32m   2907\u001b[0m                 \u001b[0mkey\u001b[0m \u001b[0;34m=\u001b[0m \u001b[0mlist\u001b[0m\u001b[0;34m(\u001b[0m\u001b[0mkey\u001b[0m\u001b[0;34m)\u001b[0m\u001b[0;34m\u001b[0m\u001b[0;34m\u001b[0m\u001b[0m\n\u001b[0;32m-> 2908\u001b[0;31m             \u001b[0mindexer\u001b[0m \u001b[0;34m=\u001b[0m \u001b[0mself\u001b[0m\u001b[0;34m.\u001b[0m\u001b[0mloc\u001b[0m\u001b[0;34m.\u001b[0m\u001b[0m_get_listlike_indexer\u001b[0m\u001b[0;34m(\u001b[0m\u001b[0mkey\u001b[0m\u001b[0;34m,\u001b[0m \u001b[0maxis\u001b[0m\u001b[0;34m=\u001b[0m\u001b[0;36m1\u001b[0m\u001b[0;34m,\u001b[0m \u001b[0mraise_missing\u001b[0m\u001b[0;34m=\u001b[0m\u001b[0;32mTrue\u001b[0m\u001b[0;34m)\u001b[0m\u001b[0;34m[\u001b[0m\u001b[0;36m1\u001b[0m\u001b[0;34m]\u001b[0m\u001b[0;34m\u001b[0m\u001b[0;34m\u001b[0m\u001b[0m\n\u001b[0m\u001b[1;32m   2909\u001b[0m \u001b[0;34m\u001b[0m\u001b[0m\n\u001b[1;32m   2910\u001b[0m         \u001b[0;31m# take() does not accept boolean indexers\u001b[0m\u001b[0;34m\u001b[0m\u001b[0;34m\u001b[0m\u001b[0;34m\u001b[0m\u001b[0m\n",
      "\u001b[0;32m~/anaconda3/lib/python3.8/site-packages/pandas/core/indexing.py\u001b[0m in \u001b[0;36m_get_listlike_indexer\u001b[0;34m(self, key, axis, raise_missing)\u001b[0m\n\u001b[1;32m   1252\u001b[0m             \u001b[0mkeyarr\u001b[0m\u001b[0;34m,\u001b[0m \u001b[0mindexer\u001b[0m\u001b[0;34m,\u001b[0m \u001b[0mnew_indexer\u001b[0m \u001b[0;34m=\u001b[0m \u001b[0max\u001b[0m\u001b[0;34m.\u001b[0m\u001b[0m_reindex_non_unique\u001b[0m\u001b[0;34m(\u001b[0m\u001b[0mkeyarr\u001b[0m\u001b[0;34m)\u001b[0m\u001b[0;34m\u001b[0m\u001b[0;34m\u001b[0m\u001b[0m\n\u001b[1;32m   1253\u001b[0m \u001b[0;34m\u001b[0m\u001b[0m\n\u001b[0;32m-> 1254\u001b[0;31m         \u001b[0mself\u001b[0m\u001b[0;34m.\u001b[0m\u001b[0m_validate_read_indexer\u001b[0m\u001b[0;34m(\u001b[0m\u001b[0mkeyarr\u001b[0m\u001b[0;34m,\u001b[0m \u001b[0mindexer\u001b[0m\u001b[0;34m,\u001b[0m \u001b[0maxis\u001b[0m\u001b[0;34m,\u001b[0m \u001b[0mraise_missing\u001b[0m\u001b[0;34m=\u001b[0m\u001b[0mraise_missing\u001b[0m\u001b[0;34m)\u001b[0m\u001b[0;34m\u001b[0m\u001b[0;34m\u001b[0m\u001b[0m\n\u001b[0m\u001b[1;32m   1255\u001b[0m         \u001b[0;32mreturn\u001b[0m \u001b[0mkeyarr\u001b[0m\u001b[0;34m,\u001b[0m \u001b[0mindexer\u001b[0m\u001b[0;34m\u001b[0m\u001b[0;34m\u001b[0m\u001b[0m\n\u001b[1;32m   1256\u001b[0m \u001b[0;34m\u001b[0m\u001b[0m\n",
      "\u001b[0;32m~/anaconda3/lib/python3.8/site-packages/pandas/core/indexing.py\u001b[0m in \u001b[0;36m_validate_read_indexer\u001b[0;34m(self, key, indexer, axis, raise_missing)\u001b[0m\n\u001b[1;32m   1296\u001b[0m             \u001b[0;32mif\u001b[0m \u001b[0mmissing\u001b[0m \u001b[0;34m==\u001b[0m \u001b[0mlen\u001b[0m\u001b[0;34m(\u001b[0m\u001b[0mindexer\u001b[0m\u001b[0;34m)\u001b[0m\u001b[0;34m:\u001b[0m\u001b[0;34m\u001b[0m\u001b[0;34m\u001b[0m\u001b[0m\n\u001b[1;32m   1297\u001b[0m                 \u001b[0maxis_name\u001b[0m \u001b[0;34m=\u001b[0m \u001b[0mself\u001b[0m\u001b[0;34m.\u001b[0m\u001b[0mobj\u001b[0m\u001b[0;34m.\u001b[0m\u001b[0m_get_axis_name\u001b[0m\u001b[0;34m(\u001b[0m\u001b[0maxis\u001b[0m\u001b[0;34m)\u001b[0m\u001b[0;34m\u001b[0m\u001b[0;34m\u001b[0m\u001b[0m\n\u001b[0;32m-> 1298\u001b[0;31m                 \u001b[0;32mraise\u001b[0m \u001b[0mKeyError\u001b[0m\u001b[0;34m(\u001b[0m\u001b[0;34mf\"None of [{key}] are in the [{axis_name}]\"\u001b[0m\u001b[0;34m)\u001b[0m\u001b[0;34m\u001b[0m\u001b[0;34m\u001b[0m\u001b[0m\n\u001b[0m\u001b[1;32m   1299\u001b[0m \u001b[0;34m\u001b[0m\u001b[0m\n\u001b[1;32m   1300\u001b[0m             \u001b[0;31m# We (temporarily) allow for some missing keys with .loc, except in\u001b[0m\u001b[0;34m\u001b[0m\u001b[0;34m\u001b[0m\u001b[0;34m\u001b[0m\u001b[0m\n",
      "\u001b[0;31mKeyError\u001b[0m: \"None of [Index(['TEMP.1 POD 2 WARSTWĄ WYMURÓWKI [°C]',\\n       'TEMP.2 POD 2 WARSTWĄ WYMURÓWKI [°C]',\\n       'TEMP.3 POD 2 WARSTWĄ WYMURÓWKI [°C]',\\n       'TEMP.4 POD 2 WARSTWĄ WYMURÓWKI [°C]',\\n       'TEMP.5 POD 2 WARSTWĄ WYMURÓWKI [°C]',\\n       'TEMP.6 POD 2 WARSTWĄ WYMURÓWKI [°C]',\\n       'TEMP.7 POD 2 WARSTWĄ WYMURÓWKI [°C]',\\n       'TEMP.8 POD 2 WARSTWĄ WYMURÓWKI [°C]',\\n       'TEMP.9 POD 2 WARSTWĄ WYMURÓWKI [°C]',\\n       'TEMP.10 POD 2 WARSTWĄ WYMURÓWKI [°C]',\\n       'TEMP.11 POD 2 WARSTWĄ WYMURÓWKI [°C]',\\n       'TEMP.12 POD 2 WARSTWĄ WYMURÓWKI [°C]',\\n       'TEMP.13 POD 2 WARSTWĄ WYMURÓWKI [°C]',\\n       'TEMP.14 POD 2 WARSTWĄ WYMURÓWKI [°C]',\\n       'TEMP.15 POD 2 WARSTWĄ WYMURÓWKI [°C]',\\n       'TEMP.16 POD 2 WARSTWĄ WYMURÓWKI [°C]',\\n       'TEMP.17 POD 2 WARSTWĄ WYMURÓWKI [°C]',\\n       'TEMP.18 POD 2 WARSTWĄ WYMURÓWKI [°C]',\\n       'TEMP.19 POD 2 WARSTWĄ WYMURÓWKI [°C]',\\n       'TEMP.20 POD 2 WARSTWĄ WYMURÓWKI [°C]',\\n       'TEMP.21 POD 2 WARSTWĄ WYMURÓWKI [°C]',\\n       'TEMP22 POD 2 WARSTWĄ WYMURÓWKI [°C]',\\n       'TEMP.23 POD 2 WARSTWĄ WYMURÓWKI [°C]',\\n       'TEMP.24 POD 2 WARSTWĄ WYMURÓWKI [°C]'],\\n      dtype='object')] are in the [columns]\""
     ]
    }
   ],
   "source": [
    "# srednia po 'TEMP POD 2 WARSTWĄ WYMURÓWKI [°C]'\n",
    "TIX1 = df_og.columns[df_og.columns.str.contains('001tix')].values\n",
    "df['TIX1'] = df_og[TIX1].mean(axis='columns')"
   ]
  },
  {
   "cell_type": "code",
   "execution_count": null,
   "id": "e9f5b299-30b2-4d58-a338-0c524008b998",
   "metadata": {},
   "outputs": [],
   "source": [
    "# prob_s i prob_corg\n",
    "PR = ['prob_s', 'prob_corg']\n",
    "df[PR] = df_og[PR]"
   ]
  },
  {
   "cell_type": "code",
   "execution_count": null,
   "id": "19980c31-8d2a-4308-bdb2-f1fecb4f2758",
   "metadata": {},
   "outputs": [],
   "source": [
    "# reg nadawy koncentratu\n",
    "FCX = df_og.columns[df_og.columns.str.contains('fcx')].map(lambda x: feature_desc(x)).values\n",
    "df[FCX] = df_og[FCX]"
   ]
  },
  {
   "cell_type": "code",
   "execution_count": null,
   "id": "ad1045c9",
   "metadata": {},
   "outputs": [],
   "source": [
    "# sumaryczna moc cieplna\n",
    "NIR = df_og.columns[df_og.columns.str.contains('nir')].map(lambda x: feature_desc(x)).values\n",
    "df[NIR] = df_og[NIR]"
   ]
  },
  {
   "cell_type": "code",
   "execution_count": null,
   "metadata": {},
   "outputs": [],
   "source": [
    "# WENT ODCZ ZAD OBROTÓW\n",
    "UXM = df_og.columns[df_og.columns.str.contains('uxm')].values\n",
    "df['UXM'] = df_og[UXM].mean(axis='columns')"
   ]
  },
  {
   "cell_type": "code",
   "execution_count": null,
   "id": "ad68c6ac",
   "metadata": {},
   "outputs": [],
   "source": [
    "# dodanie temperatury żużla\n",
    "df[\"TEMP_ZUZ\"] = df_og[\"temp_zuz\"]"
   ]
  },
  {
   "cell_type": "code",
   "execution_count": null,
   "id": "0c4a9908",
   "metadata": {},
   "outputs": [],
   "source": [
    "df"
   ]
  },
  {
   "cell_type": "markdown",
   "metadata": {},
   "source": [
    "## Data is now ready to do somthing with it idk"
   ]
  }
 ],
 "metadata": {
  "kernelspec": {
   "display_name": "Python 3",
   "language": "python",
   "name": "python3"
  },
  "language_info": {
   "codemirror_mode": {
    "name": "ipython",
    "version": 3
   },
   "file_extension": ".py",
   "mimetype": "text/x-python",
   "name": "python",
   "nbconvert_exporter": "python",
   "pygments_lexer": "ipython3",
   "version": "3.8.5"
  }
 },
 "nbformat": 4,
 "nbformat_minor": 5
}
