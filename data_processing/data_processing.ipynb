{
 "cells": [
  {
   "cell_type": "code",
   "execution_count": 1,
   "id": "f2ac9980-515c-4f69-8cd5-69bab7fbb42f",
   "metadata": {},
   "outputs": [],
   "source": [
    "import pandas as pd\n",
    "import numpy as np\n",
    "\n",
    "from data_processing import *\n",
    "from utils import feature_desc\n",
    "\n",
    "from sklearn.preprocessing import StandardScaler"
   ]
  },
  {
   "cell_type": "markdown",
   "id": "66aebf23-4136-402c-85a4-0e4a4510dfee",
   "metadata": {
    "tags": []
   },
   "source": [
    "#### Load data"
   ]
  },
  {
   "cell_type": "code",
   "execution_count": 2,
   "id": "4b4059c1-e1e4-4039-aa94-2fdba59b62c0",
   "metadata": {
    "scrolled": false
   },
   "outputs": [],
   "source": [
    "df_og = load(csv_path='../data/merged.csv')"
   ]
  },
  {
   "cell_type": "markdown",
   "id": "4db5dec1",
   "metadata": {},
   "source": [
    "#### Aggregate time into clusters of size k"
   ]
  },
  {
   "cell_type": "code",
   "execution_count": 3,
   "id": "2403c25e",
   "metadata": {},
   "outputs": [
    {
     "name": "stderr",
     "output_type": "stream",
     "text": [
      "/home/kacper/studia/cuvalley/data_processing/data_processing.py:124: FutureWarning: The pandas.datetime class is deprecated and will be removed from pandas in a future version. Import from datetime module instead.\n",
      "  if not type(agg_df['czas']) is pd.datetime:\n"
     ]
    }
   ],
   "source": [
    "k = 15\n",
    "df_og = aggregate(df_og, k)"
   ]
  },
  {
   "cell_type": "markdown",
   "id": "77552bce-4f22-400b-80cc-ba1f16e9f51d",
   "metadata": {},
   "source": [
    "### Proste featury wybieram albo tworze agregując\n"
   ]
  },
  {
   "cell_type": "code",
   "execution_count": 4,
   "id": "e9a29e81-b4aa-4767-aac9-2c6b2074261e",
   "metadata": {},
   "outputs": [],
   "source": [
    "df = pd.DataFrame(index=df_og.index)"
   ]
  },
  {
   "cell_type": "code",
   "execution_count": 5,
   "id": "5d838b8f-f743-4997-89a2-de23de70ef92",
   "metadata": {},
   "outputs": [],
   "source": [
    "# srednia po 'WODY POWROTNE KOLEKTORÓW [°C]'\n",
    "TIR = df_og.columns[df_og.columns.str.contains('tir')].values\n",
    "df['TIR'] = df_og[TIR].mean(axis='columns')"
   ]
  },
  {
   "cell_type": "code",
   "execution_count": 6,
   "id": "c6412e41-fe07-41b3-9d1e-bad59e2527d5",
   "metadata": {},
   "outputs": [],
   "source": [
    "# srednia po 'TEMP POD 2 WARSTWĄ WYMURÓWKI [°C]'\n",
    "TIX1 = df_og.columns[df_og.columns.str.contains('001tix')].values\n",
    "df['TIX1'] = df_og[TIX1].mean(axis='columns')"
   ]
  },
  {
   "cell_type": "code",
   "execution_count": 7,
   "id": "e9f5b299-30b2-4d58-a338-0c524008b998",
   "metadata": {},
   "outputs": [],
   "source": [
    "# prob_s i prob_corg\n",
    "PR = ['prob_s', 'prob_corg']\n",
    "df['prob_s'] = df_og['prob_s']\n",
    "df['prob_corg'] = df"
   ]
  },
  {
   "cell_type": "code",
   "execution_count": 8,
   "id": "19980c31-8d2a-4308-bdb2-f1fecb4f2758",
   "metadata": {},
   "outputs": [],
   "source": [
    "# reg nadawy koncentratu\n",
    "FCX = df_og.columns[df_og.columns.str.contains('fcx')].values\n",
    "df['FCX'] = df_og[FCX].mean(axis='columns')"
   ]
  },
  {
   "cell_type": "code",
   "execution_count": 9,
   "id": "ad1045c9",
   "metadata": {},
   "outputs": [],
   "source": [
    "# sumaryczna moc cieplna\n",
    "NIR = df_og.columns[df_og.columns.str.contains('nir')].values\n",
    "df['NIR'] = df_og[NIR]"
   ]
  },
  {
   "cell_type": "code",
   "execution_count": 10,
   "metadata": {},
   "outputs": [],
   "source": [
    "# WENT ODCZ ZAD OBROTÓW\n",
    "UXM = df_og.columns[df_og.columns.str.contains('uxm')].values\n",
    "df['UXM'] = df_og[UXM].mean(axis='columns')"
   ]
  },
  {
   "cell_type": "code",
   "execution_count": 11,
   "id": "ad68c6ac",
   "metadata": {},
   "outputs": [],
   "source": [
    "# dodanie temperatury żużla\n",
    "df[\"TEMP_ZUZ\"] = df_og[\"temp_zuz\"]"
   ]
  },
  {
   "cell_type": "code",
   "execution_count": 12,
   "id": "0c4a9908",
   "metadata": {},
   "outputs": [],
   "source": [
    "df1, df2, df3 = split(df, proportions=(0.7, 0.15, 0.15))"
   ]
  },
  {
   "cell_type": "markdown",
   "metadata": {},
   "source": [
    "## Data is now ready to do somthing with it\n",
    "## Eventually you can scale the data as follows"
   ]
  },
  {
   "cell_type": "code",
   "execution_count": 13,
   "metadata": {},
   "outputs": [
    {
     "data": {
      "text/html": [
       "<div>\n",
       "<style scoped>\n",
       "    .dataframe tbody tr th:only-of-type {\n",
       "        vertical-align: middle;\n",
       "    }\n",
       "\n",
       "    .dataframe tbody tr th {\n",
       "        vertical-align: top;\n",
       "    }\n",
       "\n",
       "    .dataframe thead th {\n",
       "        text-align: right;\n",
       "    }\n",
       "</style>\n",
       "<table border=\"1\" class=\"dataframe\">\n",
       "  <thead>\n",
       "    <tr style=\"text-align: right;\">\n",
       "      <th></th>\n",
       "      <th>TIR</th>\n",
       "      <th>TIX1</th>\n",
       "      <th>Prob</th>\n",
       "      <th>FCX</th>\n",
       "      <th>NIR</th>\n",
       "      <th>UXM</th>\n",
       "      <th>TEMP_ZUZ</th>\n",
       "    </tr>\n",
       "    <tr>\n",
       "      <th>czas</th>\n",
       "      <th></th>\n",
       "      <th></th>\n",
       "      <th></th>\n",
       "      <th></th>\n",
       "      <th></th>\n",
       "      <th></th>\n",
       "      <th></th>\n",
       "    </tr>\n",
       "  </thead>\n",
       "  <tbody>\n",
       "    <tr>\n",
       "      <th>2020-09-30 22:00:00+00:00</th>\n",
       "      <td>29.090193</td>\n",
       "      <td>418.987794</td>\n",
       "      <td>9.235</td>\n",
       "      <td>36.152944</td>\n",
       "      <td>14.384833</td>\n",
       "      <td>92.173463</td>\n",
       "      <td>1297.0</td>\n",
       "    </tr>\n",
       "    <tr>\n",
       "      <th>2020-09-30 22:15:00+00:00</th>\n",
       "      <td>29.054909</td>\n",
       "      <td>418.976831</td>\n",
       "      <td>9.235</td>\n",
       "      <td>36.037006</td>\n",
       "      <td>14.551195</td>\n",
       "      <td>92.173879</td>\n",
       "      <td>NaN</td>\n",
       "    </tr>\n",
       "    <tr>\n",
       "      <th>2020-09-30 22:30:00+00:00</th>\n",
       "      <td>29.013282</td>\n",
       "      <td>418.956943</td>\n",
       "      <td>9.235</td>\n",
       "      <td>36.102824</td>\n",
       "      <td>14.731094</td>\n",
       "      <td>92.173529</td>\n",
       "      <td>NaN</td>\n",
       "    </tr>\n",
       "  </tbody>\n",
       "</table>\n",
       "</div>"
      ],
      "text/plain": [
       "                                 TIR        TIX1   Prob        FCX        NIR  \\\n",
       "czas                                                                            \n",
       "2020-09-30 22:00:00+00:00  29.090193  418.987794  9.235  36.152944  14.384833   \n",
       "2020-09-30 22:15:00+00:00  29.054909  418.976831  9.235  36.037006  14.551195   \n",
       "2020-09-30 22:30:00+00:00  29.013282  418.956943  9.235  36.102824  14.731094   \n",
       "\n",
       "                                 UXM  TEMP_ZUZ  \n",
       "czas                                            \n",
       "2020-09-30 22:00:00+00:00  92.173463    1297.0  \n",
       "2020-09-30 22:15:00+00:00  92.173879       NaN  \n",
       "2020-09-30 22:30:00+00:00  92.173529       NaN  "
      ]
     },
     "execution_count": 13,
     "metadata": {},
     "output_type": "execute_result"
    }
   ],
   "source": [
    "df1.head(3)"
   ]
  },
  {
   "cell_type": "code",
   "execution_count": 14,
   "metadata": {
    "scrolled": true
   },
   "outputs": [
    {
     "name": "stderr",
     "output_type": "stream",
     "text": [
      "/home/kacper/anaconda3/lib/python3.8/site-packages/pandas/core/frame.py:3065: SettingWithCopyWarning: \n",
      "A value is trying to be set on a copy of a slice from a DataFrame.\n",
      "Try using .loc[row_indexer,col_indexer] = value instead\n",
      "\n",
      "See the caveats in the documentation: https://pandas.pydata.org/pandas-docs/stable/user_guide/indexing.html#returning-a-view-versus-a-copy\n",
      "  self[k1] = value[k2]\n"
     ]
    }
   ],
   "source": [
    "df1, df2, df3 = scale(df1, df2, df3)"
   ]
  },
  {
   "cell_type": "code",
   "execution_count": 15,
   "metadata": {},
   "outputs": [
    {
     "data": {
      "text/html": [
       "<div>\n",
       "<style scoped>\n",
       "    .dataframe tbody tr th:only-of-type {\n",
       "        vertical-align: middle;\n",
       "    }\n",
       "\n",
       "    .dataframe tbody tr th {\n",
       "        vertical-align: top;\n",
       "    }\n",
       "\n",
       "    .dataframe thead th {\n",
       "        text-align: right;\n",
       "    }\n",
       "</style>\n",
       "<table border=\"1\" class=\"dataframe\">\n",
       "  <thead>\n",
       "    <tr style=\"text-align: right;\">\n",
       "      <th></th>\n",
       "      <th>TIR</th>\n",
       "      <th>TIX1</th>\n",
       "      <th>Prob</th>\n",
       "      <th>FCX</th>\n",
       "      <th>NIR</th>\n",
       "      <th>UXM</th>\n",
       "      <th>TEMP_ZUZ</th>\n",
       "    </tr>\n",
       "    <tr>\n",
       "      <th>czas</th>\n",
       "      <th></th>\n",
       "      <th></th>\n",
       "      <th></th>\n",
       "      <th></th>\n",
       "      <th></th>\n",
       "      <th></th>\n",
       "      <th></th>\n",
       "    </tr>\n",
       "  </thead>\n",
       "  <tbody>\n",
       "    <tr>\n",
       "      <th>2020-09-30 22:00:00+00:00</th>\n",
       "      <td>0.517242</td>\n",
       "      <td>0.462989</td>\n",
       "      <td>-1.690271</td>\n",
       "      <td>0.142896</td>\n",
       "      <td>-1.242959</td>\n",
       "      <td>0.087291</td>\n",
       "      <td>-1.035249</td>\n",
       "    </tr>\n",
       "    <tr>\n",
       "      <th>2020-09-30 22:15:00+00:00</th>\n",
       "      <td>0.463288</td>\n",
       "      <td>0.461079</td>\n",
       "      <td>-1.690271</td>\n",
       "      <td>0.130519</td>\n",
       "      <td>-1.200510</td>\n",
       "      <td>0.087324</td>\n",
       "      <td>NaN</td>\n",
       "    </tr>\n",
       "    <tr>\n",
       "      <th>2020-09-30 22:30:00+00:00</th>\n",
       "      <td>0.399633</td>\n",
       "      <td>0.457614</td>\n",
       "      <td>-1.690271</td>\n",
       "      <td>0.137545</td>\n",
       "      <td>-1.154607</td>\n",
       "      <td>0.087296</td>\n",
       "      <td>NaN</td>\n",
       "    </tr>\n",
       "  </tbody>\n",
       "</table>\n",
       "</div>"
      ],
      "text/plain": [
       "                                TIR      TIX1      Prob       FCX       NIR  \\\n",
       "czas                                                                          \n",
       "2020-09-30 22:00:00+00:00  0.517242  0.462989 -1.690271  0.142896 -1.242959   \n",
       "2020-09-30 22:15:00+00:00  0.463288  0.461079 -1.690271  0.130519 -1.200510   \n",
       "2020-09-30 22:30:00+00:00  0.399633  0.457614 -1.690271  0.137545 -1.154607   \n",
       "\n",
       "                                UXM  TEMP_ZUZ  \n",
       "czas                                           \n",
       "2020-09-30 22:00:00+00:00  0.087291 -1.035249  \n",
       "2020-09-30 22:15:00+00:00  0.087324       NaN  \n",
       "2020-09-30 22:30:00+00:00  0.087296       NaN  "
      ]
     },
     "execution_count": 15,
     "metadata": {},
     "output_type": "execute_result"
    }
   ],
   "source": [
    "df1.head(3)"
   ]
  },
  {
   "cell_type": "code",
   "execution_count": null,
   "metadata": {},
   "outputs": [],
   "source": []
  }
 ],
 "metadata": {
  "kernelspec": {
   "display_name": "Python 3",
   "language": "python",
   "name": "python3"
  },
  "language_info": {
   "codemirror_mode": {
    "name": "ipython",
    "version": 3
   },
   "file_extension": ".py",
   "mimetype": "text/x-python",
   "name": "python",
   "nbconvert_exporter": "python",
   "pygments_lexer": "ipython3",
   "version": "3.8.5"
  }
 },
 "nbformat": 4,
 "nbformat_minor": 5
}
