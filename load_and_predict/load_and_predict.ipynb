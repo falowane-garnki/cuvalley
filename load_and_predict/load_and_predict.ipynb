{
 "cells": [
  {
   "cell_type": "code",
   "execution_count": 28,
   "id": "6d9ee1ba-30cf-4ea2-835e-ff64950fb31d",
   "metadata": {},
   "outputs": [],
   "source": [
    "from glob import glob\n",
    "import os\n",
    "import gzip\n",
    "import shutil\n",
    "import pandas as pd\n",
    "import matplotlib.pyplot as plt\n",
    "\n",
    "from data_processing import *\n",
    "\n",
    "import pickle"
   ]
  },
  {
   "cell_type": "code",
   "execution_count": 19,
   "id": "ebde7420-2065-4b00-b1f3-f131db07f380",
   "metadata": {},
   "outputs": [],
   "source": [
    "def unpack(dir_path = '../data/'):\n",
    "    list_of_files = glob(dir_path + '*.gz')\n",
    "    for f in glob(dir_path + '*.gz'):\n",
    "        with gzip.open(f, 'rb') as f_in:\n",
    "            with open(f[:-3] + '00.csv', 'wb') as f_out:\n",
    "                shutil.copyfileobj(f_in, f_out)\n",
    "            \n",
    "unpack()"
   ]
  },
  {
   "cell_type": "code",
   "execution_count": 20,
   "id": "9923843c-2fcc-4595-8572-ce504d959756",
   "metadata": {},
   "outputs": [],
   "source": [
    "def merge(dir_path = '../data/'):\n",
    "    files = sorted([f for f in os.listdir(dir_path) if f[-6:] == '00.csv'])\n",
    "    merged_df = pd.concat([pd.read_csv(dir_path + f) for f in files])\n",
    "\n",
    "    merged_df['czas'] = pd.to_datetime(merged_df['czas'])\n",
    "    assert merged_df['czas'].is_monotonic_increasing\n",
    "\n",
    "    merged_df.to_csv(dir_path + 'merged.csv', index=False)\n",
    "    \n",
    "    return merged_df\n",
    "df_og = merge()"
   ]
  },
  {
   "cell_type": "code",
   "execution_count": 21,
   "id": "15b2af29-c884-4205-9621-5c1c8169a510",
   "metadata": {},
   "outputs": [
    {
     "name": "stderr",
     "output_type": "stream",
     "text": [
      "/home/weronika/University/cuvalley/load_and_predict/data_processing.py:129: FutureWarning: The pandas.datetime class is deprecated and will be removed from pandas in a future version. Import from datetime module instead.\n",
      "  if not type(agg_df['czas']) is pd.datetime:\n"
     ]
    }
   ],
   "source": [
    "k = 15 # number of minutes in cluster\n",
    "df_og = aggregate(df_og, k)"
   ]
  },
  {
   "cell_type": "markdown",
   "metadata": {},
   "source": [
    "### Proste featury wybieram albo tworze agregując"
   ]
  },
  {
   "cell_type": "code",
   "execution_count": 22,
   "metadata": {},
   "outputs": [],
   "source": [
    "df = pd.DataFrame(index=df_og.index)\n",
    "\n",
    "# srednia po 'WODY POWROTNE KOLEKTORÓW [°C]'\n",
    "TIR = df_og.columns[df_og.columns.str.contains('tir')].values\n",
    "df['TIR'] = df_og[TIR].mean(axis='columns')\n",
    "\n",
    "# srednia po 'TEMP POD 2 WARSTWĄ WYMURÓWKI [°C]'\n",
    "TIX1 = df_og.columns[df_og.columns.str.contains('001tix')].values\n",
    "df['TIX1'] = df_og[TIX1].mean(axis='columns')\n",
    "\n",
    "# prob_s i prob_corg\n",
    "PR = ['prob_s', 'prob_corg']\n",
    "df[PR] = df_og[PR]\n",
    "\n",
    "# reg nadawy koncentratu\n",
    "FCX = df_og.columns[df_og.columns.str.contains('fcx')].values\n",
    "df['FCX'] = df_og[FCX].mean(axis='columns')\n",
    "\n",
    "# sumaryczna moc cieplna\n",
    "NIR = df_og.columns[df_og.columns.str.contains('nir')].values\n",
    "df['NIR'] = df_og[NIR]\n",
    "\n",
    "# WENT ODCZ ZAD OBROTÓW\n",
    "UXM = df_og.columns[df_og.columns.str.contains('uxm')].values\n",
    "df['UXM'] = df_og[UXM].mean(axis='columns')"
   ]
  },
  {
   "cell_type": "markdown",
   "metadata": {},
   "source": [
    "### Loading mean and scale from historical data to standarize features"
   ]
  },
  {
   "cell_type": "code",
   "execution_count": 23,
   "metadata": {},
   "outputs": [],
   "source": [
    "mean = pickle.load(open('mean.sav', 'rb'))\n",
    "scl = pickle.load(open('scale.sav', 'rb'))"
   ]
  },
  {
   "cell_type": "markdown",
   "metadata": {},
   "source": [
    "### Standarizing data "
   ]
  },
  {
   "cell_type": "code",
   "execution_count": 24,
   "metadata": {
    "scrolled": true
   },
   "outputs": [],
   "source": [
    "df = df.sub(mean).div(scl)"
   ]
  },
  {
   "cell_type": "markdown",
   "metadata": {},
   "source": [
    "### Loading pre-trained model"
   ]
  },
  {
   "cell_type": "code",
   "execution_count": 25,
   "metadata": {},
   "outputs": [
    {
     "name": "stderr",
     "output_type": "stream",
     "text": [
      "/home/weronika/anaconda3/envs/cuvalleyhack/lib/python3.9/site-packages/sklearn/base.py:329: UserWarning: Trying to unpickle estimator StandardScaler from version 0.23.2 when using version 1.0.2. This might lead to breaking code or invalid results. Use at your own risk. For more info please refer to:\n",
      "https://scikit-learn.org/stable/modules/model_persistence.html#security-maintainability-limitations\n",
      "  warnings.warn(\n",
      "/home/weronika/anaconda3/envs/cuvalleyhack/lib/python3.9/site-packages/sklearn/base.py:329: UserWarning: Trying to unpickle estimator Ridge from version 0.23.2 when using version 1.0.2. This might lead to breaking code or invalid results. Use at your own risk. For more info please refer to:\n",
      "https://scikit-learn.org/stable/modules/model_persistence.html#security-maintainability-limitations\n",
      "  warnings.warn(\n",
      "/home/weronika/anaconda3/envs/cuvalleyhack/lib/python3.9/site-packages/sklearn/base.py:329: UserWarning: Trying to unpickle estimator Pipeline from version 0.23.2 when using version 1.0.2. This might lead to breaking code or invalid results. Use at your own risk. For more info please refer to:\n",
      "https://scikit-learn.org/stable/modules/model_persistence.html#security-maintainability-limitations\n",
      "  warnings.warn(\n"
     ]
    }
   ],
   "source": [
    "filename = 'finalized_model.sav'\n",
    "model = pickle.load(open(filename, 'rb'))"
   ]
  },
  {
   "cell_type": "markdown",
   "metadata": {},
   "source": [
    "### Predicting: "
   ]
  },
  {
   "cell_type": "code",
   "execution_count": 26,
   "metadata": {},
   "outputs": [
    {
     "name": "stderr",
     "output_type": "stream",
     "text": [
      "/home/weronika/anaconda3/envs/cuvalleyhack/lib/python3.9/site-packages/sklearn/base.py:443: UserWarning: X has feature names, but StandardScaler was fitted without feature names\n",
      "  warnings.warn(\n"
     ]
    },
    {
     "data": {
      "text/plain": "                              temp_zuz\nczas                                  \n2022-01-27 00:00:00+01:00  1301.813721\n2022-01-27 00:15:00+01:00  1301.862632\n2022-01-27 00:30:00+01:00  1301.500538\n2022-01-27 00:45:00+01:00  1301.577167\n2022-01-27 01:00:00+01:00  1301.207197\n...                                ...\n2022-01-30 23:00:00+01:00  1298.491263\n2022-01-30 23:15:00+01:00  1298.174553\n2022-01-30 23:30:00+01:00  1298.066945\n2022-01-30 23:45:00+01:00  1297.990246\n2022-01-31 00:00:00+01:00  1297.830530\n\n[385 rows x 1 columns]",
      "text/html": "<div>\n<style scoped>\n    .dataframe tbody tr th:only-of-type {\n        vertical-align: middle;\n    }\n\n    .dataframe tbody tr th {\n        vertical-align: top;\n    }\n\n    .dataframe thead th {\n        text-align: right;\n    }\n</style>\n<table border=\"1\" class=\"dataframe\">\n  <thead>\n    <tr style=\"text-align: right;\">\n      <th></th>\n      <th>temp_zuz</th>\n    </tr>\n    <tr>\n      <th>czas</th>\n      <th></th>\n    </tr>\n  </thead>\n  <tbody>\n    <tr>\n      <th>2022-01-27 00:00:00+01:00</th>\n      <td>1301.813721</td>\n    </tr>\n    <tr>\n      <th>2022-01-27 00:15:00+01:00</th>\n      <td>1301.862632</td>\n    </tr>\n    <tr>\n      <th>2022-01-27 00:30:00+01:00</th>\n      <td>1301.500538</td>\n    </tr>\n    <tr>\n      <th>2022-01-27 00:45:00+01:00</th>\n      <td>1301.577167</td>\n    </tr>\n    <tr>\n      <th>2022-01-27 01:00:00+01:00</th>\n      <td>1301.207197</td>\n    </tr>\n    <tr>\n      <th>...</th>\n      <td>...</td>\n    </tr>\n    <tr>\n      <th>2022-01-30 23:00:00+01:00</th>\n      <td>1298.491263</td>\n    </tr>\n    <tr>\n      <th>2022-01-30 23:15:00+01:00</th>\n      <td>1298.174553</td>\n    </tr>\n    <tr>\n      <th>2022-01-30 23:30:00+01:00</th>\n      <td>1298.066945</td>\n    </tr>\n    <tr>\n      <th>2022-01-30 23:45:00+01:00</th>\n      <td>1297.990246</td>\n    </tr>\n    <tr>\n      <th>2022-01-31 00:00:00+01:00</th>\n      <td>1297.830530</td>\n    </tr>\n  </tbody>\n</table>\n<p>385 rows × 1 columns</p>\n</div>"
     },
     "execution_count": 26,
     "metadata": {},
     "output_type": "execute_result"
    }
   ],
   "source": [
    "y_pred = pd.DataFrame(model.predict(df))\n",
    "y_pred.index = df.index\n",
    "y_pred.columns = ['temp_zuz']\n",
    "y_pred"
   ]
  },
  {
   "cell_type": "markdown",
   "source": [
    "### Plot predicted values"
   ],
   "metadata": {
    "collapsed": false,
    "pycharm": {
     "name": "#%% md\n"
    }
   }
  },
  {
   "cell_type": "code",
   "execution_count": 29,
   "outputs": [
    {
     "data": {
      "text/plain": "<Figure size 432x288 with 1 Axes>",
      "image/png": "[encoded data removed]"
     },
     "metadata": {
      "needs_background": "light"
     },
     "output_type": "display_data"
    }
   ],
   "source": [
    "plt.scatter(y_pred.index, y_pred['temp_zuz'])\n",
    "plt.show()"
   ],
   "metadata": {
    "collapsed": false,
    "pycharm": {
     "name": "#%%\n"
    }
   }
  },
  {
   "cell_type": "code",
   "execution_count": 30,
   "outputs": [
    {
     "data": {
      "text/plain": "<Figure size 432x288 with 1 Axes>",
      "image/png": "[encoded data removed]"
     },
     "metadata": {
      "needs_background": "light"
     },
     "output_type": "display_data"
    }
   ],
   "source": [
    "plt.plot(y_pred.index, y_pred['temp_zuz'])\n",
    "plt.show()"
   ],
   "metadata": {
    "collapsed": false,
    "pycharm": {
     "name": "#%%\n"
    }
   }
  },
  {
   "cell_type": "code",
   "execution_count": null,
   "outputs": [],
   "source": [],
   "metadata": {
    "collapsed": false,
    "pycharm": {
     "name": "#%%\n"
    }
   }
  }
 ],
 "metadata": {
  "kernelspec": {
   "display_name": "Python 3",
   "language": "python",
   "name": "python3"
  },
  "language_info": {
   "codemirror_mode": {
    "name": "ipython",
    "version": 3
   },
   "file_extension": ".py",
   "mimetype": "text/x-python",
   "name": "python",
   "nbconvert_exporter": "python",
   "pygments_lexer": "ipython3",
   "version": "3.8.5"
  }
 },
 "nbformat": 4,
 "nbformat_minor": 5
}