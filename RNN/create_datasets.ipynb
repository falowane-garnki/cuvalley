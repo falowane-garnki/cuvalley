{
 "cells": [
  {
   "cell_type": "code",
   "execution_count": 42,
   "id": "f2ac9980-515c-4f69-8cd5-69bab7fbb42f",
   "metadata": {},
   "outputs": [],
   "source": [
    "import pandas as pd\n",
    "import numpy as np"
   ]
  },
  {
   "cell_type": "markdown",
   "id": "66aebf23-4136-402c-85a4-0e4a4510dfee",
   "metadata": {
    "tags": []
   },
   "source": [
    "#### Load data"
   ]
  },
  {
   "cell_type": "code",
   "execution_count": 43,
   "id": "4b4059c1-e1e4-4039-aa94-2fdba59b62c0",
   "metadata": {},
   "outputs": [],
   "source": [
    "df_og = pd.read_csv('../data/merged.csv')\n",
    "df_og['czas'] = pd.to_datetime(df_og['czas'], utc=True)"
   ]
  },
  {
   "cell_type": "markdown",
   "id": "77552bce-4f22-400b-80cc-ba1f16e9f51d",
   "metadata": {
    "tags": []
   },
   "source": [
    "### Proste featury wybieram albo tworze agregując"
   ]
  },
  {
   "cell_type": "code",
   "execution_count": 44,
   "id": "e9a29e81-b4aa-4767-aac9-2c6b2074261e",
   "metadata": {},
   "outputs": [],
   "source": [
    "df = pd.DataFrame(index=df_og.index)"
   ]
  },
  {
   "cell_type": "code",
   "execution_count": 45,
   "id": "d1b19aea-3808-4d45-938b-704e4ed29aa3",
   "metadata": {},
   "outputs": [],
   "source": [
    "df['czas'] = df_og['czas'] "
   ]
  },
  {
   "cell_type": "code",
   "execution_count": 46,
   "id": "5d838b8f-f743-4997-89a2-de23de70ef92",
   "metadata": {},
   "outputs": [],
   "source": [
    "# srednia po 'WODY POWROTNE KOLEKTORÓW [°C]'\n",
    "TIR = df_og.columns[df_og.columns.str.contains('tir')].values\n",
    "TIX37 = df_og.columns[df_og.columns.str.contains('037tix')].values\n",
    "\n",
    "df['wody_powrotne_kol_delta'] = df_og[TIR].mean(axis='columns') - df_og[TIX37].mean(axis='columns')"
   ]
  },
  {
   "cell_type": "code",
   "execution_count": 47,
   "id": "c6412e41-fe07-41b3-9d1e-bad59e2527d5",
   "metadata": {},
   "outputs": [],
   "source": [
    "# srednia po 'TEMP POD 2 WARSTWĄ WYMURÓWKI [°C]'\n",
    "TIX1 = df_og.columns[df_og.columns.str.contains('001tix')].values\n",
    "df['temp_wymurowka'] = df_og[TIX1].mean(axis='columns')"
   ]
  },
  {
   "cell_type": "code",
   "execution_count": 48,
   "id": "085c4dd7-1c0b-4430-a7db-9651a0c3e0f2",
   "metadata": {},
   "outputs": [],
   "source": [
    "# dodanie reg nadawy koncentratu liw i uśrednienie\n",
    "LIW = df_og.get(['001fcx00211.pv', '001fcx00221.pv'])\n",
    "df['reg_nadawy'] = LIW.mean(axis='columns')\n",
    "\n",
    "# dodanie pozostałych reg nadawy\n",
    "df['reg_koncentrat_prazony'] = df_og['001fcx00231.pv']\n",
    "df['reg_pyl'] = df_og['001fcx00241.pv']"
   ]
  },
  {
   "cell_type": "code",
   "execution_count": 49,
   "id": "29998412-180f-4180-9b2e-eb60469e2954",
   "metadata": {},
   "outputs": [],
   "source": [
    "# srednia WENT [%]'\n",
    "UXM = df_og.columns[df_og.columns.str.contains('uxm')].values\n",
    "df['wentylatory'] = df_og[UXM].mean(axis='columns')"
   ]
  },
  {
   "cell_type": "code",
   "execution_count": 50,
   "id": "569ff913-7ee1-407b-8afd-c01dd38c2779",
   "metadata": {},
   "outputs": [],
   "source": [
    "# sumaryczna moc cieplna\n",
    "NIR = df_og.columns[df_og.columns.str.contains('nir')].values\n",
    "df['moc'] = df_og[NIR]"
   ]
  },
  {
   "cell_type": "code",
   "execution_count": 51,
   "id": "e9f5b299-30b2-4d58-a338-0c524008b998",
   "metadata": {},
   "outputs": [],
   "source": [
    "# wrzucam o prażonkach i prob\n",
    "PR = df_og.columns[df_og.columns.str.contains('pr')].values\n",
    "df[PR] = df_og[PR]"
   ]
  },
  {
   "cell_type": "code",
   "execution_count": 52,
   "id": "a19bcf2a-7134-4cfe-9e67-e6c08b976edb",
   "metadata": {},
   "outputs": [],
   "source": [
    "df.to_csv('features_df.csv', index=False)"
   ]
  },
  {
   "cell_type": "markdown",
   "id": "6de1fff2-2b6e-4834-a3ab-cb63caa62860",
   "metadata": {
    "tags": []
   },
   "source": [
    "### Create sequence dataset"
   ]
  },
  {
   "cell_type": "code",
   "execution_count": 3,
   "id": "01f6f65c-8ff8-4e6c-8f47-a80f26a20732",
   "metadata": {},
   "outputs": [
    {
     "ename": "ModuleNotFoundError",
     "evalue": "No module named 'data_processing'",
     "output_type": "error",
     "traceback": [
      "\u001b[1;31m---------------------------------------------------------------------------\u001b[0m",
      "\u001b[1;31mModuleNotFoundError\u001b[0m                       Traceback (most recent call last)",
      "Input \u001b[1;32mIn [3]\u001b[0m, in \u001b[0;36m<module>\u001b[1;34m\u001b[0m\n\u001b[1;32m----> 1\u001b[0m \u001b[38;5;28;01mfrom\u001b[39;00m \u001b[38;5;21;01mdata_processing\u001b[39;00m\u001b[38;5;21;01m.\u001b[39;00m\u001b[38;5;21;01mdata_processing\u001b[39;00m \u001b[38;5;28;01mimport\u001b[39;00m \u001b[38;5;241m*\u001b[39m\n",
      "\u001b[1;31mModuleNotFoundError\u001b[0m: No module named 'data_processing'"
     ]
    }
   ],
   "source": [
    "from data_processing.data_processing import *"
   ]
  },
  {
   "cell_type": "code",
   "execution_count": null,
   "id": "3488e349-ed46-416d-a1b4-b3a30586be41",
   "metadata": {},
   "outputs": [],
   "source": []
  }
 ],
 "metadata": {
  "kernelspec": {
   "display_name": "Python 3 (ipykernel)",
   "language": "python",
   "name": "python3"
  },
  "language_info": {
   "codemirror_mode": {
    "name": "ipython",
    "version": 3
   },
   "file_extension": ".py",
   "mimetype": "text/x-python",
   "name": "python",
   "nbconvert_exporter": "python",
   "pygments_lexer": "ipython3",
   "version": "3.10.1"
  }
 },
 "nbformat": 4,
 "nbformat_minor": 5
}
