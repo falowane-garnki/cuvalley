{
 "cells": [
  {
   "cell_type": "code",
   "execution_count": null,
   "id": "f2ac9980-515c-4f69-8cd5-69bab7fbb42f",
   "metadata": {},
   "outputs": [],
   "source": [
    "import pandas as pd\n",
    "import numpy as np\n",
    "\n",
    "from sklearn.preprocessing import StandardScaler"
   ]
  },
  {
   "cell_type": "code",
   "execution_count": null,
   "id": "b4705f84-064f-4bcf-b6a9-b97467380fcd",
   "metadata": {},
   "outputs": [],
   "source": [
    "SEQ_LEN = 30\n",
    "INTERVAL = 5\n",
    "assert 0 < INTERVAL < 60 "
   ]
  },
  {
   "cell_type": "code",
   "execution_count": null,
   "id": "8d009ed5-a1f1-45fe-9bac-2fc017da793b",
   "metadata": {},
   "outputs": [],
   "source": [
    "TRAIN = 0.7\n",
    "VAL = 0.15\n",
    "TEST = 0.15\n",
    "assert TRAIN + VAL + TEST == 1"
   ]
  },
  {
   "cell_type": "markdown",
   "id": "66aebf23-4136-402c-85a4-0e4a4510dfee",
   "metadata": {},
   "source": [
    "#### Load data"
   ]
  },
  {
   "cell_type": "code",
   "execution_count": null,
   "id": "903956c1-1e1d-49fa-baea-836f7a222226",
   "metadata": {
    "tags": []
   },
   "outputs": [],
   "source": [
    "df_og = pd.read_csv('../sample_data/avg_from_2020_10_01_00_00_00_to_2020_10_01_23_59_00')\n",
    "df_og['czas'] = pd.to_datetime(df_og['czas'])\n",
    "df_og.set_index('czas', inplace=True)\n",
    "\n",
    "temp_zuz = pd.read_csv('../sample_data/temp_zuz_fixed.csv', delimiter=',')\n",
    "temp_zuz['czas_converted'] = pd.to_datetime(temp_zuz['czas_converted'])\n",
    "temp_zuz.set_index('czas_converted', inplace=True)"
   ]
  },
  {
   "cell_type": "code",
   "execution_count": null,
   "id": "9533d142-25ba-4e64-bf2e-eed84b9b3e8e",
   "metadata": {},
   "outputs": [],
   "source": [
    "temp_zuz.head()"
   ]
  },
  {
   "cell_type": "code",
   "execution_count": null,
   "id": "6cd84b19-1963-4a73-9e70-05fe68d2dccc",
   "metadata": {},
   "outputs": [],
   "source": [
    "df_og.head()"
   ]
  },
  {
   "cell_type": "markdown",
   "id": "77552bce-4f22-400b-80cc-ba1f16e9f51d",
   "metadata": {},
   "source": [
    "### Proste featury wybieram albo tworze agregując\n"
   ]
  },
  {
   "cell_type": "code",
   "execution_count": null,
   "id": "e9a29e81-b4aa-4767-aac9-2c6b2074261e",
   "metadata": {},
   "outputs": [],
   "source": [
    "df = pd.DataFrame(index=df_og.index)"
   ]
  },
  {
   "cell_type": "code",
   "execution_count": null,
   "id": "5d838b8f-f743-4997-89a2-de23de70ef92",
   "metadata": {},
   "outputs": [],
   "source": [
    "# srednia po 'WODY POWROTNE KOLEKTORÓW [°C]'\n",
    "TIR = df_og.columns[df_og.columns.str.contains('tir')].values\n",
    "df['TIR'] = df_og[TIR].mean(axis='columns')"
   ]
  },
  {
   "cell_type": "code",
   "execution_count": null,
   "id": "c6412e41-fe07-41b3-9d1e-bad59e2527d5",
   "metadata": {},
   "outputs": [],
   "source": [
    "# srednia po 'TEMP POD 2 WARSTWĄ WYMURÓWKI [°C]'\n",
    "TIX1 = df_og.columns[df_og.columns.str.contains('001tix')].values\n",
    "df['TIX1'] = df_og[TIX1].mean(axis='columns')"
   ]
  },
  {
   "cell_type": "code",
   "execution_count": null,
   "id": "e9f5b299-30b2-4d58-a338-0c524008b998",
   "metadata": {},
   "outputs": [],
   "source": [
    "# wrzucam o prażonkach i prob\n",
    "PR = df_og.columns[df_og.columns.str.contains('pr')].values\n",
    "df[PR] = df_og[PR]"
   ]
  },
  {
   "cell_type": "markdown",
   "id": "2fd9f792-9996-4013-b2ed-d7ac8c0c49a3",
   "metadata": {
    "tags": []
   },
   "source": [
    "### Features to pct change"
   ]
  },
  {
   "cell_type": "code",
   "execution_count": null,
   "id": "ae122a85-0d5e-4554-bb18-b990f5a3a129",
   "metadata": {},
   "outputs": [],
   "source": [
    "df = df.pct_change()"
   ]
  },
  {
   "cell_type": "code",
   "execution_count": null,
   "id": "5c76c947-d39d-4737-9bc0-301499e3e063",
   "metadata": {},
   "outputs": [],
   "source": [
    "df"
   ]
  },
  {
   "cell_type": "markdown",
   "id": "20886e67-4c81-4e4c-aa94-b05336853653",
   "metadata": {
    "tags": []
   },
   "source": [
    "### Dołaczam temp_zuz i wywalam "
   ]
  },
  {
   "cell_type": "code",
   "execution_count": null,
   "id": "afc4e69c-3c14-4a81-bbf3-8460791e3c45",
   "metadata": {},
   "outputs": [],
   "source": [
    "df.join(temp_zuz['temp_zuz'])"
   ]
  },
  {
   "cell_type": "markdown",
   "id": "e4e2e66d-43b0-4694-a1fb-1614c331acb0",
   "metadata": {
    "tags": []
   },
   "source": [
    "### Rozdzielam datasety"
   ]
  },
  {
   "cell_type": "code",
   "execution_count": null,
   "id": "86ffcbb8-3286-4be8-9603-bc57e447176b",
   "metadata": {},
   "outputs": [],
   "source": [
    "df"
   ]
  },
  {
   "cell_type": "code",
   "execution_count": null,
   "id": "ac6f20b0-6978-480c-ad51-ee470ba9a5b4",
   "metadata": {},
   "outputs": [],
   "source": [
    "df_train_X = iloc"
   ]
  },
  {
   "cell_type": "markdown",
   "id": "756efd53-2c22-435b-8caa-fbc0e6645a69",
   "metadata": {},
   "source": [
    "### Scale"
   ]
  },
  {
   "cell_type": "code",
   "execution_count": null,
   "id": "664507e0-5ea4-4185-ba4b-3d5cefe1b3f9",
   "metadata": {},
   "outputs": [],
   "source": [
    "scaler = StandardScaler().fit(df.values)\n",
    "\n",
    "scaler \n",
    "\n",
    "scaler.mean_, scaler.scale_"
   ]
  },
  {
   "cell_type": "code",
   "execution_count": null,
   "id": "858c67ed-8112-48d1-b146-6402893a3f1b",
   "metadata": {},
   "outputs": [],
   "source": []
  }
 ],
 "metadata": {
  "kernelspec": {
   "display_name": "Python 3 (ipykernel)",
   "language": "python",
   "name": "python3"
  },
  "language_info": {
   "codemirror_mode": {
    "name": "ipython",
    "version": 3
   },
   "file_extension": ".py",
   "mimetype": "text/x-python",
   "name": "python",
   "nbconvert_exporter": "python",
   "pygments_lexer": "ipython3",
   "version": "3.10.1"
  }
 },
 "nbformat": 4,
 "nbformat_minor": 5
}
