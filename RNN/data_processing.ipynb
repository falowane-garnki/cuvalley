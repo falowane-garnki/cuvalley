{
 "cells": [
  {
   "cell_type": "code",
   "execution_count": null,
   "id": "f2ac9980-515c-4f69-8cd5-69bab7fbb42f",
   "metadata": {},
   "outputs": [],
   "source": [
    "import pandas as pd\n",
    "import numpy as np\n",
    "\n",
    "from sklearn.preprocessing import StandardScaler"
   ]
  },
  {
   "cell_type": "markdown",
   "id": "66aebf23-4136-402c-85a4-0e4a4510dfee",
   "metadata": {
    "tags": []
   },
   "source": [
    "#### Load data"
   ]
  },
  {
   "cell_type": "code",
   "execution_count": null,
   "id": "4b4059c1-e1e4-4039-aa94-2fdba59b62c0",
   "metadata": {},
   "outputs": [],
   "source": [
    "df_og = pd.read_csv('../data/merged.csv')\n",
    "df_og['czas'] = pd.to_datetime(df_og['czas'])\n",
    "# df_og['czas'].tz_co\n",
    "#df_og.set_index('czas', inplace=True)"
   ]
  },
  {
   "cell_type": "code",
   "execution_count": null,
   "id": "ca680da8-4ee1-48c1-8c7d-dc3820cb0eed",
   "metadata": {},
   "outputs": [],
   "source": [
    "pd.to_datetime(df_og['czas'], utc=True)"
   ]
  },
  {
   "cell_type": "code",
   "execution_count": null,
   "id": "6cd84b19-1963-4a73-9e70-05fe68d2dccc",
   "metadata": {},
   "outputs": [],
   "source": [
    "df_og['czas'].tz_convert(None)"
   ]
  },
  {
   "cell_type": "markdown",
   "id": "77552bce-4f22-400b-80cc-ba1f16e9f51d",
   "metadata": {},
   "source": [
    "### Proste featury wybieram albo tworze agregując\n"
   ]
  },
  {
   "cell_type": "code",
   "execution_count": null,
   "id": "e9a29e81-b4aa-4767-aac9-2c6b2074261e",
   "metadata": {},
   "outputs": [],
   "source": [
    "df = pd.DataFrame(index=df_og.index)"
   ]
  },
  {
   "cell_type": "code",
   "execution_count": null,
   "id": "5d838b8f-f743-4997-89a2-de23de70ef92",
   "metadata": {},
   "outputs": [],
   "source": [
    "# srednia po 'WODY POWROTNE KOLEKTORÓW [°C]'\n",
    "TIR = df_og.columns[df_og.columns.str.contains('tir')].values\n",
    "df['TIR'] = df_og[TIR].mean(axis='columns')"
   ]
  },
  {
   "cell_type": "code",
   "execution_count": null,
   "id": "c6412e41-fe07-41b3-9d1e-bad59e2527d5",
   "metadata": {},
   "outputs": [],
   "source": [
    "# srednia po 'TEMP POD 2 WARSTWĄ WYMURÓWKI [°C]'\n",
    "TIX1 = df_og.columns[df_og.columns.str.contains('001tix')].values\n",
    "df['TIX1'] = df_og[TIX1].mean(axis='columns')"
   ]
  },
  {
   "cell_type": "code",
   "execution_count": null,
   "id": "e9f5b299-30b2-4d58-a338-0c524008b998",
   "metadata": {},
   "outputs": [],
   "source": [
    "# wrzucam o prażonkach i prob\n",
    "PR = df_og.columns[df_og.columns.str.contains('pr')].values\n",
    "df[PR] = df_og[PR]"
   ]
  },
  {
   "cell_type": "code",
   "execution_count": null,
   "id": "19980c31-8d2a-4308-bdb2-f1fecb4f2758",
   "metadata": {},
   "outputs": [],
   "source": [
    "df"
   ]
  },
  {
   "cell_type": "code",
   "execution_count": null,
   "id": "858c67ed-8112-48d1-b146-6402893a3f1b",
   "metadata": {},
   "outputs": [],
   "source": []
  }
 ],
 "metadata": {
  "kernelspec": {
   "display_name": "Python 3 (ipykernel)",
   "language": "python",
   "name": "python3"
  },
  "language_info": {
   "codemirror_mode": {
    "name": "ipython",
    "version": 3
   },
   "file_extension": ".py",
   "mimetype": "text/x-python",
   "name": "python",
   "nbconvert_exporter": "python",
   "pygments_lexer": "ipython3",
   "version": "3.8.10"
  }
 },
 "nbformat": 4,
 "nbformat_minor": 5
}