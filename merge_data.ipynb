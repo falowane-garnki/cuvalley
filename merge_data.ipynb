{
 "cells": [
  {
   "cell_type": "code",
   "execution_count": 7,
   "id": "fa32d49b",
   "metadata": {},
   "outputs": [],
   "source": [
    "import os\n",
    "from functools import reduce\n",
    "# load, sort and cut two useless\n",
    "filenames = list(filter(lambda x: x[0:3] == 'avg', sorted(os.listdir('data'))))\n",
    "\n",
    "data = \"\"\n",
    "\n",
    "with open(f'data/{filenames[0]}') as f:\n",
    "    data += f.readline()\n",
    "\n",
    "for filename in filenames:\n",
    "    with open(f'data/{filename}') as f:\n",
    "        raw = f.read()\n",
    "        data += raw[raw.find('\\n') + 1:]\n",
    "        \n",
    "with open(\"data/data.csv\", \"w\") as f:\n",
    "    f.write(data)\n"
   ]
  },
  {
   "cell_type": "code",
   "execution_count": null,
   "metadata": {},
   "outputs": [],
   "source": []
  }
 ],
 "metadata": {
  "kernelspec": {
   "display_name": "Python 3",
   "language": "python",
   "name": "python3"
  },
  "language_info": {
   "codemirror_mode": {
    "name": "ipython",
    "version": 3
   },
   "file_extension": ".py",
   "mimetype": "text/x-python",
   "name": "python",
   "nbconvert_exporter": "python",
   "pygments_lexer": "ipython3",
   "version": "3.8.5"
  }
 },
 "nbformat": 4,
 "nbformat_minor": 5
}
