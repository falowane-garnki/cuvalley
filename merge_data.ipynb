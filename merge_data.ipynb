{
 "cells": [
  {
   "cell_type": "code",
   "execution_count": 21,
   "id": "fa32d49b",
   "metadata": {},
   "outputs": [],
   "source": [
    "import os\n",
    "from functools import reduce\n",
    "# load, sort and cut two useless\n",
    "filenames = sorted(os.listdir('data'))[:-2]\n",
    "\n",
    "data = \"\"\n",
    "\n",
    "with open(f'data/{filenames[0]}') as f:\n",
    "    data += f.readline() + '\\n'\n",
    "\n",
    "for filename in filenames:\n",
    "    with open(f'data/{filename}') as f:\n",
    "        raw = f.read()\n",
    "        data += raw[raw.find('\\n') + 1:]\n",
    "        \n",
    "with open(\"data/data.csv\", \"w\") as f:\n",
    "    f.write(data)\n"
   ]
  }
 ],
 "metadata": {
  "kernelspec": {
   "display_name": "Python 3.8.10 64-bit",
   "language": "python",
   "name": "python3810jvsc74a57bd0916dbcbb3f70747c44a77c7bcd40155683ae19c65e1c03b4aa3499c5328201f1"
  },
  "language_info": {
   "codemirror_mode": {
    "name": "ipython",
    "version": 3
   },
   "file_extension": ".py",
   "mimetype": "text/x-python",
   "name": "python",
   "nbconvert_exporter": "python",
   "pygments_lexer": "ipython3",
   "version": "3.8.10"
  }
 },
 "nbformat": 4,
 "nbformat_minor": 5
}
