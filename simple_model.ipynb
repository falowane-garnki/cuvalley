{
 "cells": [
  {
   "cell_type": "code",
   "execution_count": null,
   "id": "8b074cd8",
   "metadata": {},
   "outputs": [],
   "source": [
    "import pandas as pd\n",
    "import matplotlib.pyplot as plt\n",
    "import numpy as np\n",
    "import seaborn as sns\n",
    "\n",
    "import tensorflow as tf\n",
    "\n",
    "from sklearn import datasets, linear_model\n",
    "from sklearn.metrics import mean_squared_error, r2_score"
   ]
  },
  {
   "cell_type": "markdown",
   "id": "90851e9e",
   "metadata": {},
   "source": [
    "**Read data**"
   ]
  },
  {
   "cell_type": "code",
   "execution_count": null,
   "id": "f2f089a5",
   "metadata": {},
   "outputs": [],
   "source": [
    "temp_zuz = pd.read_csv('data/temp_zuz.csv', delimiter=';')\n",
    "temp_zuz['Czas'] = pd.to_datetime(temp_zuz['Czas'])"
   ]
  },
  {
   "cell_type": "code",
   "execution_count": null,
   "id": "d39ccf3d",
   "metadata": {},
   "outputs": [],
   "source": [
    "df = pd.read_csv('data/data.csv')\n",
    "df['czas'] = pd.to_datetime(df['czas'])"
   ]
  },
  {
   "cell_type": "code",
   "execution_count": null,
   "id": "d8cb2f6a",
   "metadata": {},
   "outputs": [],
   "source": [
    "df.shape"
   ]
  },
  {
   "cell_type": "code",
   "execution_count": null,
   "id": "9ea6d981",
   "metadata": {},
   "outputs": [],
   "source": [
    "temp_zuz.shape"
   ]
  },
  {
   "cell_type": "code",
   "execution_count": null,
   "id": "5ee4bc9b",
   "metadata": {
    "scrolled": true
   },
   "outputs": [],
   "source": [
    "df.head()"
   ]
  },
  {
   "cell_type": "code",
   "execution_count": null,
   "id": "8f0d33e1",
   "metadata": {},
   "outputs": [],
   "source": [
    "temp_zuz.head()"
   ]
  },
  {
   "cell_type": "markdown",
   "id": "276602cb",
   "metadata": {},
   "source": [
    "**Simple feature engineering**"
   ]
  },
  {
   "cell_type": "code",
   "execution_count": null,
   "id": "11f43835",
   "metadata": {},
   "outputs": [],
   "source": [
    "# średnia woda powrotna kolektora\n",
    "TIR = df.columns[df.columns.str.contains('tir')].values\n",
    "df[\"avg_woda_powrotna\"] = df[TIR].mean(axis=1)\n",
    "df = df.drop(TIR, axis=1)\n",
    "df.head()"
   ]
  },
  {
   "cell_type": "code",
   "execution_count": null,
   "id": "bdd164eb",
   "metadata": {},
   "outputs": [],
   "source": [
    "# średnia woda chłodząca kolektora\n",
    "FIR = df.columns[df.columns.str.contains('fir')].values\n",
    "df[\"avg_woda_chlodzaca\"] = df[FIR].mean(axis=1)\n",
    "df = df.drop(FIR, axis=1)\n",
    "df.head()"
   ]
  },
  {
   "cell_type": "code",
   "execution_count": null,
   "id": "1172e012",
   "metadata": {},
   "outputs": [],
   "source": [
    "# średnia temperatura pod warstwą wymurówki\n",
    "TIX = df.columns[df.columns.str.contains('tix')].values\n",
    "df[\"avg_temp_pod\"] = df[TIX].mean(axis=1)\n",
    "df = df.drop(TIX, axis=1)\n",
    "df.head()"
   ]
  },
  {
   "cell_type": "code",
   "execution_count": null,
   "id": "4fa33f65",
   "metadata": {},
   "outputs": [],
   "source": [
    "df.shape"
   ]
  },
  {
   "cell_type": "markdown",
   "id": "d3f5d0a6",
   "metadata": {},
   "source": [
    "**Shuffle data and split**"
   ]
  },
  {
   "cell_type": "code",
   "execution_count": null,
   "id": "7895c2ad",
   "metadata": {},
   "outputs": [],
   "source": [
    "new_df = pd.concat([df, temp_zuz], axis=1)\n",
    "new_df = new_df.drop([\"czas\"], axis=1)\n",
    "new_df = new_df.dropna(axis=0)\n",
    "new_df = new_df.sample(frac=1)"
   ]
  },
  {
   "cell_type": "code",
   "execution_count": null,
   "id": "32e7075b",
   "metadata": {},
   "outputs": [],
   "source": [
    "new_df"
   ]
  },
  {
   "cell_type": "code",
   "execution_count": null,
   "id": "5151381c",
   "metadata": {},
   "outputs": [],
   "source": [
    "new_df.shape"
   ]
  },
  {
   "cell_type": "markdown",
   "id": "e67ce088",
   "metadata": {},
   "source": [
    "### Correlation matrix"
   ]
  },
  {
   "cell_type": "code",
   "execution_count": null,
   "id": "69b1e716",
   "metadata": {},
   "outputs": [],
   "source": [
    "feature_desc_df = pd.read_csv('data_processing/feature_desc.csv', index_col='name')\n",
    "def feature_desc(name):\n",
    "        try:\n",
    "            if type(name)==str:\n",
    "                return feature_desc_df.loc[name]['desc']\n",
    "            else:\n",
    "                return feature_desc_df.loc[name]['desc'].values\n",
    "        except:\n",
    "            return name"
   ]
  },
  {
   "cell_type": "code",
   "execution_count": null,
   "id": "c151d9bc",
   "metadata": {},
   "outputs": [],
   "source": [
    "col_names = list(new_df.columns.values)\n",
    "\n",
    "for col_name in col_names:\n",
    "    new_df = new_df.rename(columns={col_name: feature_desc(col_name)})\n"
   ]
  },
  {
   "cell_type": "code",
   "execution_count": null,
   "id": "b3eefefe",
   "metadata": {},
   "outputs": [],
   "source": [
    "import seaborn as sns\n",
    "\n",
    "# calculate the correlation matrix\n",
    "corr = new_df.corr()\n",
    "\n",
    "# plot the heatmap\n",
    "sns.heatmap(corr, \n",
    "        xticklabels=corr.columns,\n",
    "        yticklabels=corr.columns)"
   ]
  },
  {
   "cell_type": "code",
   "execution_count": null,
   "id": "17efdf58",
   "metadata": {},
   "outputs": [],
   "source": [
    "new_df.head"
   ]
  },
  {
   "cell_type": "markdown",
   "id": "5e378b5f",
   "metadata": {},
   "source": [
    "### Splitting data"
   ]
  },
  {
   "cell_type": "code",
   "execution_count": null,
   "id": "9aba7279",
   "metadata": {},
   "outputs": [],
   "source": [
    "train = new_df.iloc[:int(new_df.shape[0] * 0.9)]\n",
    "test = new_df.iloc[int(new_df.shape[0] * 0.9):]"
   ]
  },
  {
   "cell_type": "code",
   "execution_count": null,
   "id": "18e9bfa7",
   "metadata": {},
   "outputs": [],
   "source": [
    "train_X = np.asarray(train.drop([\"temp_zuz\", \"Czas\"], axis=1)).astype(np.float32)\n",
    "test_X = test.drop([\"temp_zuz\", \"Czas\"], axis=1)\n",
    "train_Y = np.asarray(train[\"temp_zuz\"]).astype(np.float32)\n",
    "test_Y = np.asarray(test[\"temp_zuz\"]).astype(np.float32)"
   ]
  },
  {
   "cell_type": "code",
   "execution_count": null,
   "id": "98856123",
   "metadata": {},
   "outputs": [],
   "source": [
    "train_Y"
   ]
  },
  {
   "cell_type": "markdown",
   "id": "3971a7c1",
   "metadata": {},
   "source": [
    "**A very simple neural network**"
   ]
  },
  {
   "cell_type": "code",
   "execution_count": null,
   "id": "29d75a4b",
   "metadata": {},
   "outputs": [],
   "source": [
    "model = tf.keras.Sequential([\n",
    "                             tf.keras.layers.Dense(8),\n",
    "                             tf.keras.layers.Dense(4),\n",
    "                             tf.keras.layers.Dense(2),\n",
    "                             tf.keras.layers.Dense(1)\n",
    "])\n",
    "model.compile( loss = tf.keras.losses.mae, #mae stands for mean absolute error\n",
    "              optimizer = tf.keras.optimizers.Adam(), #stochastic GD\n",
    "              metrics = ['mae'])\n",
    "model.fit(train_X, train_Y, epochs = 100)"
   ]
  },
  {
   "cell_type": "code",
   "execution_count": null,
   "id": "a0c606d8",
   "metadata": {},
   "outputs": [],
   "source": [
    "# test data\n",
    "pred = model.predict(test_X)\n",
    "mae = tf.metrics.mean_absolute_error(y_true=test_Y, \n",
    "                                     y_pred=pred.squeeze()).numpy()\n",
    "mse = tf.metrics.mean_squared_error(y_true = test_Y,\n",
    "                                      y_pred=pred.squeeze()).numpy()\n",
    "print(mae, mse)"
   ]
  },
  {
   "cell_type": "markdown",
   "id": "5b3f6a92",
   "metadata": {},
   "source": [
    "**Linear Regression**"
   ]
  },
  {
   "cell_type": "code",
   "execution_count": null,
   "id": "43fa756b",
   "metadata": {},
   "outputs": [],
   "source": [
    "regr = linear_model.LinearRegression()"
   ]
  },
  {
   "cell_type": "code",
   "execution_count": null,
   "id": "16145572",
   "metadata": {},
   "outputs": [],
   "source": [
    "regr.fit(train_X, train_Y)"
   ]
  },
  {
   "cell_type": "code",
   "execution_count": null,
   "id": "40cbcfdb",
   "metadata": {},
   "outputs": [],
   "source": [
    "y_pred = regr.predict(test_X)"
   ]
  },
  {
   "cell_type": "code",
   "execution_count": null,
   "id": "71f659e5",
   "metadata": {},
   "outputs": [],
   "source": [
    "# The coefficients\n",
    "print(\"Coefficients: \\n\", regr.coef_)\n",
    "# The mean squared error\n",
    "print(\"Mean squared error: %.2f\" % mean_squared_error(test_Y, y_pred))\n",
    "# The coefficient of determination: 1 is perfect prediction\n",
    "print(\"Coefficient of determination: %.2f\" % r2_score(test_Y, y_pred))"
   ]
  }
 ],
 "metadata": {
  "kernelspec": {
   "display_name": "Python 3 (ipykernel)",
   "language": "python",
   "name": "python3"
  },
  "language_info": {
   "codemirror_mode": {
    "name": "ipython",
    "version": 3
   },
   "file_extension": ".py",
   "mimetype": "text/x-python",
   "name": "python",
   "nbconvert_exporter": "python",
   "pygments_lexer": "ipython3",
   "version": "3.8.10"
  }
 },
 "nbformat": 4,
 "nbformat_minor": 5
}
